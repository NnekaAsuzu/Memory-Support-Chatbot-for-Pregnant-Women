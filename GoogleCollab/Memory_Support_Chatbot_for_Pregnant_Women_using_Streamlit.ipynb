{
  "cells": [
    {
      "cell_type": "markdown",
      "metadata": {
        "id": "view-in-github",
        "colab_type": "text"
      },
      "source": [
        "<a href=\"https://colab.research.google.com/github/NnekaAsuzu/Memory-Support-Chatbot-for-Pregnant-Women/blob/main/Memory_Support_Chatbot_for_Pregnant_Women_using_Streamlit.ipynb\" target=\"_parent\"><img src=\"https://colab.research.google.com/assets/colab-badge.svg\" alt=\"Open In Colab\"/></a>"
      ]
    },
    {
      "cell_type": "markdown",
      "metadata": {
        "id": "Jurq77ydFzIP"
      },
      "source": [
        "#Proposal Title: Memory Support Chatbot for Pregnant Women."
      ]
    },
    {
      "cell_type": "markdown",
      "metadata": {
        "id": "29pn9EaJGG-2"
      },
      "source": [
        "Project Summary:\n",
        "The proposed project is to develop a Memory Support Chatbox for Pregnant Women using the GPT-2 language model. The chatbox aims to provide support, solutions, tips, and advice for pregnant women experiencing cognitive memory issues. The goal is to offer a personalized and accessible resource for pregnant women to manage their cognitive memory challenges effectively.\n",
        "\n",
        "\n"
      ]
    },
    {
      "cell_type": "markdown",
      "metadata": {
        "id": "SXlTl__5GNo-"
      },
      "source": [
        "Proposed Project and Reasoning:\n",
        "The project is proposed to address the lack of easily accessible and personalized support for pregnant women facing cognitive memory issues. By leveraging the capabilities of the GPT-2 language model, the chatbox can provide instant responses and guidance, complementing the advice of healthcare professionals."
      ]
    },
    {
      "cell_type": "markdown",
      "metadata": {
        "id": "Y9Ik0BBfkS4Z"
      },
      "source": [
        "*Dictionary-Based DataFrame creation method: This method reads the text files into a list of dictionaries and then creates a pandas DataFrame from these dictionaries using streamlit as the User Interface. Model is fine-tuned*"
      ]
    },
    {
      "cell_type": "markdown",
      "metadata": {
        "id": "HJs_AhSQW2iy"
      },
      "source": [
        "Install Required Libraries"
      ]
    },
    {
      "cell_type": "code",
      "execution_count": null,
      "metadata": {
        "id": "RvGXNabAW0g6",
        "colab": {
          "base_uri": "https://localhost:8080/"
        },
        "outputId": "5f821804-74e4-458a-8466-5861c5093c48"
      },
      "outputs": [
        {
          "output_type": "stream",
          "name": "stdout",
          "text": [
            "Collecting streamlit\n",
            "  Downloading streamlit-1.32.0-py2.py3-none-any.whl (8.1 MB)\n",
            "\u001b[2K     \u001b[90m━━━━━━━━━━━━━━━━━━━━━━━━━━━━━━━━━━━━━━━━\u001b[0m \u001b[32m8.1/8.1 MB\u001b[0m \u001b[31m22.0 MB/s\u001b[0m eta \u001b[36m0:00:00\u001b[0m\n",
            "\u001b[?25hRequirement already satisfied: altair<6,>=4.0 in /usr/local/lib/python3.10/dist-packages (from streamlit) (4.2.2)\n",
            "Requirement already satisfied: blinker<2,>=1.0.0 in /usr/lib/python3/dist-packages (from streamlit) (1.4)\n",
            "Requirement already satisfied: cachetools<6,>=4.0 in /usr/local/lib/python3.10/dist-packages (from streamlit) (5.3.3)\n",
            "Requirement already satisfied: click<9,>=7.0 in /usr/local/lib/python3.10/dist-packages (from streamlit) (8.1.7)\n",
            "Requirement already satisfied: numpy<2,>=1.19.3 in /usr/local/lib/python3.10/dist-packages (from streamlit) (1.25.2)\n",
            "Requirement already satisfied: packaging<24,>=16.8 in /usr/local/lib/python3.10/dist-packages (from streamlit) (23.2)\n",
            "Requirement already satisfied: pandas<3,>=1.3.0 in /usr/local/lib/python3.10/dist-packages (from streamlit) (1.5.3)\n",
            "Requirement already satisfied: pillow<11,>=7.1.0 in /usr/local/lib/python3.10/dist-packages (from streamlit) (9.4.0)\n",
            "Requirement already satisfied: protobuf<5,>=3.20 in /usr/local/lib/python3.10/dist-packages (from streamlit) (3.20.3)\n",
            "Requirement already satisfied: pyarrow>=7.0 in /usr/local/lib/python3.10/dist-packages (from streamlit) (14.0.2)\n",
            "Requirement already satisfied: requests<3,>=2.27 in /usr/local/lib/python3.10/dist-packages (from streamlit) (2.31.0)\n",
            "Requirement already satisfied: rich<14,>=10.14.0 in /usr/local/lib/python3.10/dist-packages (from streamlit) (13.7.1)\n",
            "Requirement already satisfied: tenacity<9,>=8.1.0 in /usr/local/lib/python3.10/dist-packages (from streamlit) (8.2.3)\n",
            "Requirement already satisfied: toml<2,>=0.10.1 in /usr/local/lib/python3.10/dist-packages (from streamlit) (0.10.2)\n",
            "Requirement already satisfied: typing-extensions<5,>=4.3.0 in /usr/local/lib/python3.10/dist-packages (from streamlit) (4.10.0)\n",
            "Collecting gitpython!=3.1.19,<4,>=3.0.7 (from streamlit)\n",
            "  Downloading GitPython-3.1.42-py3-none-any.whl (195 kB)\n",
            "\u001b[2K     \u001b[90m━━━━━━━━━━━━━━━━━━━━━━━━━━━━━━━━━━━━━━━━\u001b[0m \u001b[32m195.4/195.4 kB\u001b[0m \u001b[31m22.3 MB/s\u001b[0m eta \u001b[36m0:00:00\u001b[0m\n",
            "\u001b[?25hCollecting pydeck<1,>=0.8.0b4 (from streamlit)\n",
            "  Downloading pydeck-0.8.1b0-py2.py3-none-any.whl (4.8 MB)\n",
            "\u001b[2K     \u001b[90m━━━━━━━━━━━━━━━━━━━━━━━━━━━━━━━━━━━━━━━━\u001b[0m \u001b[32m4.8/4.8 MB\u001b[0m \u001b[31m37.6 MB/s\u001b[0m eta \u001b[36m0:00:00\u001b[0m\n",
            "\u001b[?25hRequirement already satisfied: tornado<7,>=6.0.3 in /usr/local/lib/python3.10/dist-packages (from streamlit) (6.3.3)\n",
            "Collecting watchdog>=2.1.5 (from streamlit)\n",
            "  Downloading watchdog-4.0.0-py3-none-manylinux2014_x86_64.whl (82 kB)\n",
            "\u001b[2K     \u001b[90m━━━━━━━━━━━━━━━━━━━━━━━━━━━━━━━━━━━━━━━━\u001b[0m \u001b[32m83.0/83.0 kB\u001b[0m \u001b[31m4.7 MB/s\u001b[0m eta \u001b[36m0:00:00\u001b[0m\n",
            "\u001b[?25hRequirement already satisfied: entrypoints in /usr/local/lib/python3.10/dist-packages (from altair<6,>=4.0->streamlit) (0.4)\n",
            "Requirement already satisfied: jinja2 in /usr/local/lib/python3.10/dist-packages (from altair<6,>=4.0->streamlit) (3.1.3)\n",
            "Requirement already satisfied: jsonschema>=3.0 in /usr/local/lib/python3.10/dist-packages (from altair<6,>=4.0->streamlit) (4.19.2)\n",
            "Requirement already satisfied: toolz in /usr/local/lib/python3.10/dist-packages (from altair<6,>=4.0->streamlit) (0.12.1)\n",
            "Collecting gitdb<5,>=4.0.1 (from gitpython!=3.1.19,<4,>=3.0.7->streamlit)\n",
            "  Downloading gitdb-4.0.11-py3-none-any.whl (62 kB)\n",
            "\u001b[2K     \u001b[90m━━━━━━━━━━━━━━━━━━━━━━━━━━━━━━━━━━━━━━━━\u001b[0m \u001b[32m62.7/62.7 kB\u001b[0m \u001b[31m7.2 MB/s\u001b[0m eta \u001b[36m0:00:00\u001b[0m\n",
            "\u001b[?25hRequirement already satisfied: python-dateutil>=2.8.1 in /usr/local/lib/python3.10/dist-packages (from pandas<3,>=1.3.0->streamlit) (2.8.2)\n",
            "Requirement already satisfied: pytz>=2020.1 in /usr/local/lib/python3.10/dist-packages (from pandas<3,>=1.3.0->streamlit) (2023.4)\n",
            "Requirement already satisfied: charset-normalizer<4,>=2 in /usr/local/lib/python3.10/dist-packages (from requests<3,>=2.27->streamlit) (3.3.2)\n",
            "Requirement already satisfied: idna<4,>=2.5 in /usr/local/lib/python3.10/dist-packages (from requests<3,>=2.27->streamlit) (3.6)\n",
            "Requirement already satisfied: urllib3<3,>=1.21.1 in /usr/local/lib/python3.10/dist-packages (from requests<3,>=2.27->streamlit) (2.0.7)\n",
            "Requirement already satisfied: certifi>=2017.4.17 in /usr/local/lib/python3.10/dist-packages (from requests<3,>=2.27->streamlit) (2024.2.2)\n",
            "Requirement already satisfied: markdown-it-py>=2.2.0 in /usr/local/lib/python3.10/dist-packages (from rich<14,>=10.14.0->streamlit) (3.0.0)\n",
            "Requirement already satisfied: pygments<3.0.0,>=2.13.0 in /usr/local/lib/python3.10/dist-packages (from rich<14,>=10.14.0->streamlit) (2.16.1)\n",
            "Collecting smmap<6,>=3.0.1 (from gitdb<5,>=4.0.1->gitpython!=3.1.19,<4,>=3.0.7->streamlit)\n",
            "  Downloading smmap-5.0.1-py3-none-any.whl (24 kB)\n",
            "Requirement already satisfied: MarkupSafe>=2.0 in /usr/local/lib/python3.10/dist-packages (from jinja2->altair<6,>=4.0->streamlit) (2.1.5)\n",
            "Requirement already satisfied: attrs>=22.2.0 in /usr/local/lib/python3.10/dist-packages (from jsonschema>=3.0->altair<6,>=4.0->streamlit) (23.2.0)\n",
            "Requirement already satisfied: jsonschema-specifications>=2023.03.6 in /usr/local/lib/python3.10/dist-packages (from jsonschema>=3.0->altair<6,>=4.0->streamlit) (2023.12.1)\n",
            "Requirement already satisfied: referencing>=0.28.4 in /usr/local/lib/python3.10/dist-packages (from jsonschema>=3.0->altair<6,>=4.0->streamlit) (0.33.0)\n",
            "Requirement already satisfied: rpds-py>=0.7.1 in /usr/local/lib/python3.10/dist-packages (from jsonschema>=3.0->altair<6,>=4.0->streamlit) (0.18.0)\n",
            "Requirement already satisfied: mdurl~=0.1 in /usr/local/lib/python3.10/dist-packages (from markdown-it-py>=2.2.0->rich<14,>=10.14.0->streamlit) (0.1.2)\n",
            "Requirement already satisfied: six>=1.5 in /usr/local/lib/python3.10/dist-packages (from python-dateutil>=2.8.1->pandas<3,>=1.3.0->streamlit) (1.16.0)\n",
            "Installing collected packages: watchdog, smmap, pydeck, gitdb, gitpython, streamlit\n",
            "Successfully installed gitdb-4.0.11 gitpython-3.1.42 pydeck-0.8.1b0 smmap-5.0.1 streamlit-1.32.0 watchdog-4.0.0\n",
            "Requirement already satisfied: pandas in /usr/local/lib/python3.10/dist-packages (1.5.3)\n",
            "Requirement already satisfied: python-dateutil>=2.8.1 in /usr/local/lib/python3.10/dist-packages (from pandas) (2.8.2)\n",
            "Requirement already satisfied: pytz>=2020.1 in /usr/local/lib/python3.10/dist-packages (from pandas) (2023.4)\n",
            "Requirement already satisfied: numpy>=1.21.0 in /usr/local/lib/python3.10/dist-packages (from pandas) (1.25.2)\n",
            "Requirement already satisfied: six>=1.5 in /usr/local/lib/python3.10/dist-packages (from python-dateutil>=2.8.1->pandas) (1.16.0)\n",
            "Requirement already satisfied: matplotlib in /usr/local/lib/python3.10/dist-packages (3.7.1)\n",
            "Requirement already satisfied: contourpy>=1.0.1 in /usr/local/lib/python3.10/dist-packages (from matplotlib) (1.2.0)\n",
            "Requirement already satisfied: cycler>=0.10 in /usr/local/lib/python3.10/dist-packages (from matplotlib) (0.12.1)\n",
            "Requirement already satisfied: fonttools>=4.22.0 in /usr/local/lib/python3.10/dist-packages (from matplotlib) (4.49.0)\n",
            "Requirement already satisfied: kiwisolver>=1.0.1 in /usr/local/lib/python3.10/dist-packages (from matplotlib) (1.4.5)\n",
            "Requirement already satisfied: numpy>=1.20 in /usr/local/lib/python3.10/dist-packages (from matplotlib) (1.25.2)\n",
            "Requirement already satisfied: packaging>=20.0 in /usr/local/lib/python3.10/dist-packages (from matplotlib) (23.2)\n",
            "Requirement already satisfied: pillow>=6.2.0 in /usr/local/lib/python3.10/dist-packages (from matplotlib) (9.4.0)\n",
            "Requirement already satisfied: pyparsing>=2.3.1 in /usr/local/lib/python3.10/dist-packages (from matplotlib) (3.1.1)\n",
            "Requirement already satisfied: python-dateutil>=2.7 in /usr/local/lib/python3.10/dist-packages (from matplotlib) (2.8.2)\n",
            "Requirement already satisfied: six>=1.5 in /usr/local/lib/python3.10/dist-packages (from python-dateutil>=2.7->matplotlib) (1.16.0)\n",
            "Requirement already satisfied: nltk in /usr/local/lib/python3.10/dist-packages (3.8.1)\n",
            "Requirement already satisfied: click in /usr/local/lib/python3.10/dist-packages (from nltk) (8.1.7)\n",
            "Requirement already satisfied: joblib in /usr/local/lib/python3.10/dist-packages (from nltk) (1.3.2)\n",
            "Requirement already satisfied: regex>=2021.8.3 in /usr/local/lib/python3.10/dist-packages (from nltk) (2023.12.25)\n",
            "Requirement already satisfied: tqdm in /usr/local/lib/python3.10/dist-packages (from nltk) (4.66.2)\n",
            "Requirement already satisfied: wordcloud in /usr/local/lib/python3.10/dist-packages (1.9.3)\n",
            "Requirement already satisfied: numpy>=1.6.1 in /usr/local/lib/python3.10/dist-packages (from wordcloud) (1.25.2)\n",
            "Requirement already satisfied: pillow in /usr/local/lib/python3.10/dist-packages (from wordcloud) (9.4.0)\n",
            "Requirement already satisfied: matplotlib in /usr/local/lib/python3.10/dist-packages (from wordcloud) (3.7.1)\n",
            "Requirement already satisfied: contourpy>=1.0.1 in /usr/local/lib/python3.10/dist-packages (from matplotlib->wordcloud) (1.2.0)\n",
            "Requirement already satisfied: cycler>=0.10 in /usr/local/lib/python3.10/dist-packages (from matplotlib->wordcloud) (0.12.1)\n",
            "Requirement already satisfied: fonttools>=4.22.0 in /usr/local/lib/python3.10/dist-packages (from matplotlib->wordcloud) (4.49.0)\n",
            "Requirement already satisfied: kiwisolver>=1.0.1 in /usr/local/lib/python3.10/dist-packages (from matplotlib->wordcloud) (1.4.5)\n",
            "Requirement already satisfied: packaging>=20.0 in /usr/local/lib/python3.10/dist-packages (from matplotlib->wordcloud) (23.2)\n",
            "Requirement already satisfied: pyparsing>=2.3.1 in /usr/local/lib/python3.10/dist-packages (from matplotlib->wordcloud) (3.1.1)\n",
            "Requirement already satisfied: python-dateutil>=2.7 in /usr/local/lib/python3.10/dist-packages (from matplotlib->wordcloud) (2.8.2)\n",
            "Requirement already satisfied: six>=1.5 in /usr/local/lib/python3.10/dist-packages (from python-dateutil>=2.7->matplotlib->wordcloud) (1.16.0)\n",
            "Requirement already satisfied: transformers in /usr/local/lib/python3.10/dist-packages (4.38.2)\n",
            "Requirement already satisfied: filelock in /usr/local/lib/python3.10/dist-packages (from transformers) (3.13.1)\n",
            "Requirement already satisfied: huggingface-hub<1.0,>=0.19.3 in /usr/local/lib/python3.10/dist-packages (from transformers) (0.20.3)\n",
            "Requirement already satisfied: numpy>=1.17 in /usr/local/lib/python3.10/dist-packages (from transformers) (1.25.2)\n",
            "Requirement already satisfied: packaging>=20.0 in /usr/local/lib/python3.10/dist-packages (from transformers) (23.2)\n",
            "Requirement already satisfied: pyyaml>=5.1 in /usr/local/lib/python3.10/dist-packages (from transformers) (6.0.1)\n",
            "Requirement already satisfied: regex!=2019.12.17 in /usr/local/lib/python3.10/dist-packages (from transformers) (2023.12.25)\n",
            "Requirement already satisfied: requests in /usr/local/lib/python3.10/dist-packages (from transformers) (2.31.0)\n",
            "Requirement already satisfied: tokenizers<0.19,>=0.14 in /usr/local/lib/python3.10/dist-packages (from transformers) (0.15.2)\n",
            "Requirement already satisfied: safetensors>=0.4.1 in /usr/local/lib/python3.10/dist-packages (from transformers) (0.4.2)\n",
            "Requirement already satisfied: tqdm>=4.27 in /usr/local/lib/python3.10/dist-packages (from transformers) (4.66.2)\n",
            "Requirement already satisfied: fsspec>=2023.5.0 in /usr/local/lib/python3.10/dist-packages (from huggingface-hub<1.0,>=0.19.3->transformers) (2023.6.0)\n",
            "Requirement already satisfied: typing-extensions>=3.7.4.3 in /usr/local/lib/python3.10/dist-packages (from huggingface-hub<1.0,>=0.19.3->transformers) (4.10.0)\n",
            "Requirement already satisfied: charset-normalizer<4,>=2 in /usr/local/lib/python3.10/dist-packages (from requests->transformers) (3.3.2)\n",
            "Requirement already satisfied: idna<4,>=2.5 in /usr/local/lib/python3.10/dist-packages (from requests->transformers) (3.6)\n",
            "Requirement already satisfied: urllib3<3,>=1.21.1 in /usr/local/lib/python3.10/dist-packages (from requests->transformers) (2.0.7)\n",
            "Requirement already satisfied: certifi>=2017.4.17 in /usr/local/lib/python3.10/dist-packages (from requests->transformers) (2024.2.2)\n"
          ]
        }
      ],
      "source": [
        "# Libraries\n",
        "!pip install streamlit   # Streamlit for creating interactive web apps\n",
        "!pip install pandas      # Pandas for data manipulation and analysis\n",
        "!pip install matplotlib  # Matplotlib for data visualization\n",
        "!pip install nltk        # NLTK for natural language processing tasks\n",
        "!pip install wordcloud   # Wordcloud for generating word clouds\n",
        "!pip install transformers # Transformers for accessing the GPT-2 model  #library for accessing the GPT-2 model\n",
        "\n"
      ]
    },
    {
      "cell_type": "markdown",
      "metadata": {
        "id": "IzCgr3KmXT2w"
      },
      "source": [
        "Import Libraries"
      ]
    },
    {
      "cell_type": "code",
      "execution_count": null,
      "metadata": {
        "colab": {
          "base_uri": "https://localhost:8080/"
        },
        "id": "rbRA_ZuE-m5b",
        "outputId": "fd39471d-095b-4dd5-eb53-adcf81ad0786"
      },
      "outputs": [
        {
          "output_type": "stream",
          "name": "stderr",
          "text": [
            "[nltk_data] Downloading package vader_lexicon to /root/nltk_data...\n"
          ]
        }
      ],
      "source": [
        "import pandas as pd                  # Pandas for data manipulation and analysis\n",
        "import nltk                          # NLTK for natural language processing tasks\n",
        "from nltk.corpus import stopwords    # Stopwords from NLTK\n",
        "from nltk.tokenize import word_tokenize   # Word tokenizer from NLTK\n",
        "import streamlit as st               # Streamlit for creating interactive web apps\n",
        "import matplotlib.pyplot as plt     # Matplotlib for data visualization\n",
        "from wordcloud import WordCloud     # Wordcloud for generating word clouds\n",
        "from transformers import GPT2Tokenizer, GPT2LMHeadModel   # GPT-2 model from Transformers\n",
        "import torch                         # PyTorch for deep learning tasks\n",
        "from torch.utils.data import DataLoader, Dataset,TensorDataset   # DataLoader and Dataset for handling data\n",
        "from transformers import GPT2Config, GPT2LMHeadModel, AdamW     # AdamW optimizer for GPT-2 model\n",
        "from transformers import AdamW, get_scheduler                    # Scheduler for optimizer\n",
        "from torch.nn.utils.rnn import pad_sequence                      # Padding sequences for model input\n",
        "from nltk.sentiment import SentimentIntensityAnalyzer            # Sentiment analysis from NLTK\n",
        "from sklearn.feature_extraction.text import TfidfVectorizer      # TF-IDF vectorizer\n",
        "from sklearn.decomposition import LatentDirichletAllocation      # LDA for topic modeling\n",
        "nltk.download('vader_lexicon')  # Download the VADER lexicon for sentiment analysis\n",
        "sia = SentimentIntensityAnalyzer()  # Initialize the SentimentIntensityAnalyzer"
      ]
    },
    {
      "cell_type": "code",
      "execution_count": null,
      "metadata": {
        "colab": {
          "base_uri": "https://localhost:8080/",
          "height": 380,
          "referenced_widgets": [
            "48fb57d2061e46fe96a9c42d824de403",
            "cfba0c5654bb4a28861823e87e74072e",
            "399162099604467dbe30c68cae641247",
            "9c611863d1cb4956bbc6d45d45fa1b06",
            "1f9ee9969d6f4ed993313c47d59859ae",
            "402d81f6ab644d8792021325286b42ca",
            "7ef95f8b7d2245d084d33fed0b851eda",
            "32d9cf9f4c6644699733047979ba274a",
            "8446e03877474f68a42d883593dc3440",
            "297232b953f6451aa9ec7a9035c09b5f",
            "c514cad9d78342d1b5e39d12a724607b",
            "265ccb7b8f4e4270aa4b7092a7ac9701",
            "21d2e99747964b9fa702c90aae2936bf",
            "8442a042da544f21b7189e52b8aa2ead",
            "925c58fadc394f4a9d0710ef6a2b65cf",
            "472abc30fe1047b68119f3591701ff48",
            "aaf7a401b7054bc2af32392ff6fa185d",
            "fdeeed0a7a7049aab98cb96d22221d51",
            "a6a5778c64d24b739daf90c192fa495b",
            "30951d4242c84949ab42db58efb45312",
            "70dce14c5db743a9b750861d0d95e8a8",
            "cf4b53d64d604f00acf5e39b227c4431",
            "5818b899259b453ea1e425d7aba78e96",
            "d8c7bfee8fd848e3a61e68f1a37be216",
            "bcbc8f0b3c784f36ac7c334fa47e7489",
            "b210dfeca38f481aa555d6918ecada5c",
            "d0d201a9afd5451083f353986bf25397",
            "32a1cb67326b47c996d1ae8c3e30696f",
            "f7991acb7c774d4992bab6c8a4ccd7cc",
            "cd7b4dc09e654ba28d33167c6a70b82d",
            "65979d17c6c042baaa4df46c4dcf492a",
            "42437607cc3b48609b25a99ff0b7f680",
            "0cd81a620bdb425697b700f04c209f43",
            "834611a054304799ba7b84d0c4ca69ed",
            "1e02e9453fc6450b9f8cc29f14df1065",
            "f4875a3df0f749b18189a4a7a98096a9",
            "2141cfc4463741e5bc68fecb0385e94b",
            "169b5432a2af4f2bbda60eb828e62ead",
            "a4f9a9ab06eb4d7d9ee4be3052819f40",
            "6d76803667d3446682949f28d30c2abf",
            "40501d773c0a4f758cee2bee027b3a29",
            "fafc1087358f44c3a67604f4ff30941c",
            "53792f7a36ec4aba9117de5ec8761389",
            "1fdc9bbde9af4e6891768555e18cc902",
            "9a6966a2c20c49d2b8e8f6f4c6ae6c22",
            "6fa73addbd0240419525096e6ffedcb3",
            "dab74654d5b546cea8ed078343d4798c",
            "0355eb0b94924501a08a358b09e1df44",
            "9f46b16dfdc842509ea4a5618188e507",
            "5e275d6883a547d5848ed5c18701f597",
            "5f59966324464d34a82951a45023f1b1",
            "5fc1bc0f9607474a8c402080dc5e2801",
            "2f17cf99658a43208759f11f4f67854d",
            "4f9aeadb6a80417ba78712186737b6d7",
            "9b4af99e2f63458b83edf796aa6d7a37",
            "074e51d030c740f58c819f8a47f77e2a",
            "b32b75e9cfff4ef6841a4ef191c83cbe",
            "0d5acdf6a5554b6eac637da6f303c634",
            "655559560d5949caa7017a0a6358169d",
            "5afbf51a53704f03943ffa265fe814de",
            "4f80fd92eaf74b8c911219f4ec2d6b88",
            "8e1695159a5f46228bd8b95978aba8c6",
            "16b7cc5b06b5460a8baf628075197fed",
            "5508bdea2dfd45439d599180e04f25b0",
            "c2112b97639e453ebd8b9a27f6122aa7",
            "71d24cda9de14ce19abae91686a54f7b",
            "d60a1a9a7f354685b4dfd3d9b734492e",
            "d08d9f175ec64b0e8a8a554d38e7b751",
            "2eb236c6bb6445f0b8de6edf6f3e5454",
            "5df2cce5207a45b78941779edb300c79",
            "ea8227f96ac44bf5b3110ce068d9fce7",
            "a3e502e15a5646819396a838970e27e1",
            "1ee45c9ed1ee40a99a0e1836cae76c54",
            "81543c88db354c3589dfa8e635818091",
            "167c55a84e434510bccd36883143f4e0",
            "15f93f2de70b4bc5a3cd4b8f7c263a68",
            "778d2e69274e4b74b971d3bd58242a23"
          ]
        },
        "id": "n0d0AzhzeCEC",
        "outputId": "9fb411fc-b631-4b8c-958f-eff9e45fbe6e"
      },
      "outputs": [
        {
          "output_type": "stream",
          "name": "stderr",
          "text": [
            "/usr/local/lib/python3.10/dist-packages/huggingface_hub/utils/_token.py:88: UserWarning: \n",
            "The secret `HF_TOKEN` does not exist in your Colab secrets.\n",
            "To authenticate with the Hugging Face Hub, create a token in your settings tab (https://huggingface.co/settings/tokens), set it as secret in your Google Colab and restart your session.\n",
            "You will be able to reuse this secret in all of your notebooks.\n",
            "Please note that authentication is recommended but still optional to access public models or datasets.\n",
            "  warnings.warn(\n"
          ]
        },
        {
          "output_type": "display_data",
          "data": {
            "text/plain": [
              "tokenizer_config.json:   0%|          | 0.00/26.0 [00:00<?, ?B/s]"
            ],
            "application/vnd.jupyter.widget-view+json": {
              "version_major": 2,
              "version_minor": 0,
              "model_id": "48fb57d2061e46fe96a9c42d824de403"
            }
          },
          "metadata": {}
        },
        {
          "output_type": "display_data",
          "data": {
            "text/plain": [
              "vocab.json:   0%|          | 0.00/1.04M [00:00<?, ?B/s]"
            ],
            "application/vnd.jupyter.widget-view+json": {
              "version_major": 2,
              "version_minor": 0,
              "model_id": "265ccb7b8f4e4270aa4b7092a7ac9701"
            }
          },
          "metadata": {}
        },
        {
          "output_type": "display_data",
          "data": {
            "text/plain": [
              "merges.txt:   0%|          | 0.00/456k [00:00<?, ?B/s]"
            ],
            "application/vnd.jupyter.widget-view+json": {
              "version_major": 2,
              "version_minor": 0,
              "model_id": "5818b899259b453ea1e425d7aba78e96"
            }
          },
          "metadata": {}
        },
        {
          "output_type": "display_data",
          "data": {
            "text/plain": [
              "tokenizer.json:   0%|          | 0.00/1.36M [00:00<?, ?B/s]"
            ],
            "application/vnd.jupyter.widget-view+json": {
              "version_major": 2,
              "version_minor": 0,
              "model_id": "834611a054304799ba7b84d0c4ca69ed"
            }
          },
          "metadata": {}
        },
        {
          "output_type": "display_data",
          "data": {
            "text/plain": [
              "config.json:   0%|          | 0.00/665 [00:00<?, ?B/s]"
            ],
            "application/vnd.jupyter.widget-view+json": {
              "version_major": 2,
              "version_minor": 0,
              "model_id": "9a6966a2c20c49d2b8e8f6f4c6ae6c22"
            }
          },
          "metadata": {}
        },
        {
          "output_type": "display_data",
          "data": {
            "text/plain": [
              "model.safetensors:   0%|          | 0.00/548M [00:00<?, ?B/s]"
            ],
            "application/vnd.jupyter.widget-view+json": {
              "version_major": 2,
              "version_minor": 0,
              "model_id": "074e51d030c740f58c819f8a47f77e2a"
            }
          },
          "metadata": {}
        },
        {
          "output_type": "display_data",
          "data": {
            "text/plain": [
              "generation_config.json:   0%|          | 0.00/124 [00:00<?, ?B/s]"
            ],
            "application/vnd.jupyter.widget-view+json": {
              "version_major": 2,
              "version_minor": 0,
              "model_id": "d60a1a9a7f354685b4dfd3d9b734492e"
            }
          },
          "metadata": {}
        },
        {
          "output_type": "execute_result",
          "data": {
            "text/plain": [
              "Embedding(50257, 768)"
            ]
          },
          "metadata": {},
          "execution_count": 3
        }
      ],
      "source": [
        "# # Load the pre-trained GPT-2 model and tokenizer\n",
        "tokenizer = GPT2Tokenizer.from_pretrained('gpt2')    # GPT-2 tokenizer\n",
        "model = GPT2LMHeadModel.from_pretrained('gpt2')      # GPT-2 model\n",
        "model.resize_token_embeddings(len(tokenizer))         # Resize token embeddings\n"
      ]
    },
    {
      "cell_type": "markdown",
      "metadata": {
        "id": "Tpcd0Zx760G5"
      },
      "source": [
        "#Data Collection and Preparation: Clean the dataset by removing special characters, digits, and unnecessary whitespace"
      ]
    },
    {
      "cell_type": "code",
      "execution_count": null,
      "metadata": {
        "id": "rM_sGqcpT8L0"
      },
      "outputs": [],
      "source": [
        "# List of file paths for the TXT files\n",
        "#Define the list of file paths for the TXT files\n",
        "txt_files = [\n",
        "    \"/content/Cognition in Pregnancy- Perceptions and Performance, 2005-2006 - Dataset - B2FIND.txt\",\n",
        "    \"/content/Frontiers | Cognitive disorder and associated factors among pregnant women attending antenatal servi.txt\",\n",
        "    \"/content/Frustrated By Brain Fog? How Pregnancy Actually Alters Yo....txt\",\n",
        "    \"/content/Is Pregnancy Brain Real?.txt\",\n",
        "    \"/content/Is ‘pregnancy brain’ real or just a myth? | Your Pregnancy Matters | UT Southwestern Medical Center.txt\",\n",
        "    \"/content/Memory and affective changes during the antepartum- A narrative review and integrative hypothesis- J.txt\",\n",
        "    \"/content/Pregnancy 'does cause memory loss' | Medical research | The Guardian.txt\",\n",
        "    \"/content/Pregnancy Brain — Forgetfulness During Pregnancy.txt\",\n",
        "    \"/content/Pregnancy brain- When it starts and what causes pregnancy brain fog | BabyCenter.txt\",\n",
        "    \"/content/Pregnancy does cause memory loss, study says - CNN.txt\",\n",
        "    \"/content/Textbook J.A. Russell, A.J. Douglas, R.J. Windle, C.D. Ingram - The Maternal Brain_ Neurobiological and Neuroendocrine Adaptation and Disorders in Pregnancy & Post Partum-Elsevier Science (2001).txt\",\n",
        "    \"/content/The effect of pregnancy on maternal cognition - PMC.txt\",\n",
        "    \"/content/This Is Your Brain on Motherhood - The New York Times.txt\",\n",
        "    \"/content/Working memory from pregnancy to postpartum.txt\",\n",
        "    \"/content/What Is Mom Brain and Is It Real?.txt\",\n",
        "    \"/content/Memory loss in Pregnancy- Myth or Fact? - International Forum for Wellbeing in Pregnancy.txt\",\n",
        "    \"/content/Memory and mood changes in pregnancy- a qualitative content analysis of women’s first-hand accounts.txt\",\n",
        "    \"/content/Is Mom Brain real? Understanding and coping with postpartum brain fog.txt\",\n",
        "    \"/content/Everyday Life Memory Deficits in Pregnant Women.txt\",\n",
        "    \"/content/Cognitive Function Decline in the Third Trimester.txt\",\n",
        "    \"/content/'Mommy brain' might be a good thing, new research suggests | CBC Radio.txt\"\n",
        "]\n"
      ]
    },
    {
      "cell_type": "code",
      "execution_count": null,
      "metadata": {
        "colab": {
          "base_uri": "https://localhost:8080/"
        },
        "id": "3yympX8b7waL",
        "outputId": "a7a557cb-7c8c-44cb-b3de-72e0d8bdbf07"
      },
      "outputs": [
        {
          "output_type": "stream",
          "name": "stdout",
          "text": [
            "                                                 text\n",
            "0   GO TO EUDAT WEBSITE \\nDATA CATALOGUE REPOSITOR...\n",
            "1   (Sections )(Sections )\\nArticles Research Topi...\n",
            "2   Dr. Aliabadi’s Elective DoubleMastectomy Journ...\n",
            "3   Health Conditions Discover Plan Connect SUBSCR...\n",
            "4   Find a Doctor Conditions & Treatments Location...\n",
            "5   2 \\nLog in | Register Cart\\n\\n! \\n\\n\\nHome All...\n",
            "6   Print subscriptions Search jobs \\nSupport the ...\n",
            "7   SearchSearch\\nSign Up \\ntIN THIS ARTICLE Getti...\n",
            "8   Epidural for labor painReviewed by Cheryl Axel...\n",
            "9   Health»Live TV International Edition + !!\\nSha...\n",
            "10  List of Contributors \\n\\nM. Altemus, Departmen...\n",
            "11  AnoKcialwebsiteoftheUnitedStatesgovernment \\n\\...\n",
            "12  ADVERTISEMENTPARENTINSharefullarticle 4\\nPAREN...\n",
            "13  Short Communication \\nWorking memory from preg...\n",
            "14  What Is Mom Brain and Is It Real? \\n3/5/24, 3:...\n",
            "15  Memory loss in Pregnancy: Myth or Fact? - Inte...\n",
            "16  Memory and mood changes in pregnancy: a qualit...\n",
            "17  Is Mom Brain real? \\nUnderstanding and coping ...\n",
            "18  See discussions, stats, and author profiles fo...\n",
            "19  Journal ofClinical Medicine\\nArticle \\n\\n\\nCog...\n",
            "20  'Mommy brain' might be a good thing, new resea...\n"
          ]
        }
      ],
      "source": [
        "#Load and read the text files into a DataFrame\n",
        "data = []\n",
        "for file_path in txt_files:\n",
        "    with open(file_path, \"r\") as file:\n",
        "        text = file.read()\n",
        "        data.append({\"text\": text})\n",
        "\n",
        "df = pd.DataFrame(data)\n",
        "\n",
        "# Display the DataFrame\n",
        "print(df)"
      ]
    },
    {
      "cell_type": "markdown",
      "metadata": {
        "id": "-hEcbQD-8AEU"
      },
      "source": [
        "##Data Cleaning and Manipulation"
      ]
    },
    {
      "cell_type": "code",
      "execution_count": null,
      "metadata": {
        "colab": {
          "base_uri": "https://localhost:8080/"
        },
        "id": "3mOqKxTb7Iso",
        "outputId": "da7a3c8a-0cd7-4435-e33c-05b6737e83e9"
      },
      "outputs": [
        {
          "output_type": "stream",
          "name": "stderr",
          "text": [
            "[nltk_data] Downloading package punkt to /root/nltk_data...\n",
            "[nltk_data]   Package punkt is already up-to-date!\n"
          ]
        }
      ],
      "source": [
        "# Tokenize the text\n",
        "nltk.download('punkt')  # Download the 'punkt' tokenizer models for tokenization\n",
        "df['tokens'] = df['text'].apply(word_tokenize) # Tokenize each text in the 'text' column into a list of words\n"
      ]
    },
    {
      "cell_type": "code",
      "execution_count": null,
      "metadata": {
        "colab": {
          "base_uri": "https://localhost:8080/"
        },
        "id": "k_AGncCJ8Z0D",
        "outputId": "f69eb974-aab3-4906-8e63-d4e288543901"
      },
      "outputs": [
        {
          "output_type": "stream",
          "name": "stderr",
          "text": [
            "[nltk_data] Downloading package stopwords to /root/nltk_data...\n",
            "[nltk_data]   Unzipping corpora/stopwords.zip.\n"
          ]
        }
      ],
      "source": [
        "# Remove stopwords and special characters\n",
        "nltk.download('stopwords')  # Download the stopwords corpus for English\n",
        "stop_words = set(stopwords.words('english'))  # Load the English stopwords into a set\n"
      ]
    },
    {
      "cell_type": "code",
      "execution_count": null,
      "metadata": {
        "id": "FSscUbsWqxLs"
      },
      "outputs": [],
      "source": [
        "# Apply a lambda function to each tokenized list in the 'tokens' column\n",
        "# This function converts each word to lowercase, removes non-alphanumeric characters, and filters out stopwords\n",
        "df['cleaned_text'] = df['tokens'].apply(lambda x: [word.lower() for word in x if (word.isalnum() and word.lower() not in stop_words)])\n"
      ]
    },
    {
      "cell_type": "code",
      "execution_count": null,
      "metadata": {
        "id": "2_6fes4dq9hb"
      },
      "outputs": [],
      "source": [
        "# Join tokens back into sentences\n",
        "# Apply a lambda function to join the cleaned tokens back into a single string\n",
        "df['cleaned_text'] = df['cleaned_text'].apply(lambda x: ' '.join(x))"
      ]
    },
    {
      "cell_type": "code",
      "execution_count": null,
      "metadata": {
        "colab": {
          "base_uri": "https://localhost:8080/"
        },
        "id": "IXYl3NDi8aVA",
        "outputId": "36b9620b-0938-461f-b35f-dc57ace8130a"
      },
      "outputs": [
        {
          "output_type": "stream",
          "name": "stdout",
          "text": [
            "0     go eudat website data catalogue repositories p...\n",
            "1     sections sections articles research topics edi...\n",
            "2     aliabadi elective doublemastectomy journeydo l...\n",
            "3     health conditions discover plan connect subscr...\n",
            "4     find doctor conditions treatments locations ac...\n",
            "5     2 log register cart home journals journal clin...\n",
            "6     print subscriptions search jobs support guardi...\n",
            "7     searchsearch sign tin article getting pregnant...\n",
            "8     epidural labor painreviewed cheryl axelrod lab...\n",
            "9     health live tv international edition share mix...\n",
            "10    list contributors altemus department psychiatr...\n",
            "11    anokcialwebsiteoftheunitedstatesgovernment per...\n",
            "12    advertisementparentinsharefullarticle 4 parent...\n",
            "13    short communication working memory pregnancy p...\n",
            "14    mom brain real pm search getting pregnant preg...\n",
            "15    memory loss pregnancy myth fact international ...\n",
            "16    memory mood changes pregnancy qualitative cont...\n",
            "17    mom brain real understanding coping postpartum...\n",
            "18    see discussions stats author profiles publicat...\n",
            "19    journal ofclinical medicine article cognitive ...\n",
            "20    brain might good thing new research suggests c...\n",
            "Name: cleaned_text, dtype: object\n"
          ]
        }
      ],
      "source": [
        "# Display the cleaned text\n",
        "print(df['cleaned_text'])"
      ]
    },
    {
      "cell_type": "markdown",
      "metadata": {
        "id": "gR6SBEajoymI"
      },
      "source": [
        "##Exploratory Data Analysis and Visualization"
      ]
    },
    {
      "cell_type": "markdown",
      "metadata": {
        "id": "ebXKnW-7Bzty"
      },
      "source": [
        "*  Perform basic statistics on the dataset, such as word count, average length of articles\n",
        "\n"
      ]
    },
    {
      "cell_type": "code",
      "execution_count": null,
      "metadata": {
        "colab": {
          "base_uri": "https://localhost:8080/",
          "height": 989
        },
        "id": "-fxr1oIHBb35",
        "outputId": "7862b5ab-b91d-4268-d1fd-b149119a36e8"
      },
      "outputs": [
        {
          "output_type": "stream",
          "name": "stdout",
          "text": [
            "Average length of articles: 7267.57 words\n",
            "Minimum word count: 408 words\n",
            "Maximum word count: 121232 words\n",
            "                                         cleaned_text  word_count\n",
            "0   go eudat website data catalogue repositories p...         591\n",
            "1   sections sections articles research topics edi...        3091\n",
            "2   aliabadi elective doublemastectomy journeydo l...        1189\n",
            "3   health conditions discover plan connect subscr...        1227\n",
            "4   find doctor conditions treatments locations ac...         611\n",
            "5   2 log register cart home journals journal clin...         481\n",
            "6   print subscriptions search jobs support guardi...         695\n",
            "7   searchsearch sign tin article getting pregnant...         556\n",
            "8   epidural labor painreviewed cheryl axelrod lab...         703\n",
            "9   health live tv international edition share mix...         408\n",
            "10  list contributors altemus department psychiatr...      121232\n",
            "11  anokcialwebsiteoftheunitedstatesgovernment per...        2605\n",
            "12  advertisementparentinsharefullarticle 4 parent...         993\n",
            "13  short communication working memory pregnancy p...        2118\n",
            "14  mom brain real pm search getting pregnant preg...         935\n",
            "15  memory loss pregnancy myth fact international ...         510\n",
            "16  memory mood changes pregnancy qualitative cont...        3103\n",
            "17  mom brain real understanding coping postpartum...        1050\n",
            "18  see discussions stats author profiles publicat...        5317\n",
            "19  journal ofclinical medicine article cognitive ...        4402\n",
            "20  brain might good thing new research suggests c...         802\n"
          ]
        },
        {
          "output_type": "display_data",
          "data": {
            "text/plain": [
              "<Figure size 1000x600 with 1 Axes>"
            ],
            "image/png": "[encoded data removed]"
          },
          "metadata": {}
        }
      ],
      "source": [
        "# Word count\n",
        "df['word_count'] = df['cleaned_text'].apply(lambda x: len(x.split()))\n",
        "\n",
        "# Average length of articles\n",
        "average_length = df['word_count'].mean()\n",
        "\n",
        "# Minimum and maximum word count\n",
        "min_word_count = df['word_count'].min()\n",
        "max_word_count = df['word_count'].max()\n",
        "\n",
        "print(f\"Average length of articles: {average_length:.2f} words\")\n",
        "print(f\"Minimum word count: {min_word_count} words\")\n",
        "print(f\"Maximum word count: {max_word_count} words\")\n",
        "\n",
        "# Display the cleaned text and word count\n",
        "print(df[['cleaned_text', 'word_count']])\n",
        "\n",
        "# Visualize the distribution of word counts\n",
        "plt.figure(figsize=(10, 6))\n",
        "plt.hist(df['word_count'], bins=20, color='brown', edgecolor='black')\n",
        "plt.xlabel('Word Count')\n",
        "plt.ylabel('Frequency')\n",
        "plt.title('Distribution of Word Counts')\n",
        "plt.show()\n"
      ]
    },
    {
      "cell_type": "markdown",
      "metadata": {
        "id": "SNNeL_-TyyQY"
      },
      "source": [
        "*  Word Cloud (Display the most common words or phrases, providing a  visual representation of the main themes and topics discussed in the articles)"
      ]
    },
    {
      "cell_type": "code",
      "execution_count": null,
      "metadata": {
        "colab": {
          "base_uri": "https://localhost:8080/",
          "height": 444
        },
        "id": "8_wavidGo0qK",
        "outputId": "3227b7e3-45ca-4fab-b62e-4c4330f54f81"
      },
      "outputs": [
        {
          "output_type": "display_data",
          "data": {
            "text/plain": [
              "<Figure size 1000x500 with 1 Axes>"
            ],
            "image/png": "[encoded data removed]"
          },
          "metadata": {}
        }
      ],
      "source": [
        "# Concatenate all cleaned text into a single string\n",
        "all_text = \" \".join(df[\"cleaned_text\"])\n",
        "\n",
        "# Generate the word cloud\n",
        "wordcloud = WordCloud(width=800, height=400, background_color=\"white\").generate(all_text)\n",
        "\n",
        "# Display the word cloud\n",
        "plt.figure(figsize=(10, 5))\n",
        "plt.imshow(wordcloud, interpolation=\"bilinear\")\n",
        "plt.axis(\"off\")\n",
        "plt.title('Word Cloud of Cognitive Memory Issues')\n",
        "plt.show()\n",
        "\n",
        "\n"
      ]
    },
    {
      "cell_type": "markdown",
      "metadata": {
        "id": "GXbyA8bKirGM"
      },
      "source": [
        "\n",
        "\n",
        "*  Frequency of Cognitive Memory Issues (Describes the frequency of different types of cognitive memory issues reported in the text data. It shows the number of occurrences of each type of issue, such as memory loss, difficulty concentrating, forgetfulness, brain fog, and others, providing insights into the prevalence of these issues in the dataset)\n",
        "\n"
      ]
    },
    {
      "cell_type": "code",
      "execution_count": null,
      "metadata": {
        "colab": {
          "base_uri": "https://localhost:8080/",
          "height": 1000
        },
        "id": "iX5HkmrchnvK",
        "outputId": "b02131d4-7560-434a-c118-8e694151ce80"
      },
      "outputs": [
        {
          "output_type": "display_data",
          "data": {
            "text/plain": [
              "<Figure size 1000x600 with 1 Axes>"
            ],
            "image/png": "[encoded data removed]"
          },
          "metadata": {}
        },
        {
          "output_type": "stream",
          "name": "stdout",
          "text": [
            "0     go to eudat website \\ndata catalogue repositor...\n",
            "1     (sections )(sections )\\narticles research topi...\n",
            "2     dr. aliabadi’s elective doublemastectomy journ...\n",
            "3     health conditions discover plan connect subscr...\n",
            "4     find a doctor conditions & treatments location...\n",
            "5     2 \\nlog in | register cart\\n\\n! \\n\\n\\nhome all...\n",
            "6     print subscriptions search jobs \\nsupport the ...\n",
            "7     searchsearch\\nsign up \\ntin this article getti...\n",
            "8     epidural for labor painreviewed by cheryl axel...\n",
            "9     health»live tv international edition + !!\\nsha...\n",
            "10    list of contributors \\n\\nm. altemus, departmen...\n",
            "11    anokcialwebsiteoftheunitedstatesgovernment \\n\\...\n",
            "12    advertisementparentinsharefullarticle 4\\nparen...\n",
            "13    short communication \\nworking memory from preg...\n",
            "14    what is mom brain and is it real? \\n3/5/24, 3:...\n",
            "15    memory loss in pregnancy: myth or fact? - inte...\n",
            "16    memory and mood changes in pregnancy: a qualit...\n",
            "17    is mom brain real? \\nunderstanding and coping ...\n",
            "18    see discussions, stats, and author profiles fo...\n",
            "19    journal ofclinical medicine\\narticle \\n\\n\\ncog...\n",
            "20    'mommy brain' might be a good thing, new resea...\n",
            "Name: cleaned_text, dtype: object\n"
          ]
        }
      ],
      "source": [
        "def cleaned_text(text):\n",
        "    # Your cleaning logic here\n",
        "    cleaned_text = text.lower()  # Example: convert text to lowercase\n",
        "    return cleaned_text\n",
        "\n",
        "# Apply cleaning function to 'text' column and store in 'cleaned_text' column\n",
        "df[\"cleaned_text\"] = df[\"text\"].apply(cleaned_text)\n",
        "\n",
        "# Define types of cognitive memory issues\n",
        "types_of_issues = ['Memory Loss', 'Difficulty Concentrating', 'Forgetfulness', 'Brain Fog', 'Others']\n",
        "\n",
        "# Initialize frequencies dictionary\n",
        "frequencies = {issue: 0 for issue in types_of_issues}\n",
        "\n",
        "# Count frequencies of each type of issue\n",
        "for text in df[\"cleaned_text\"]:\n",
        "    for issue in types_of_issues:\n",
        "        if issue.lower() in text:  # Example: use lowercase for comparison\n",
        "            frequencies[issue] += 1\n",
        "\n",
        "# Convert frequencies to DataFrame for plotting\n",
        "df_frequencies = pd.DataFrame(list(frequencies.items()), columns=['Types of cognitive memory issues', 'Frequency'])\n",
        "\n",
        "# Plot the bar chart\n",
        "plt.figure(figsize=(10, 6))\n",
        "plt.bar(df_frequencies['Types of cognitive memory issues'], df_frequencies['Frequency'], color='skyblue')\n",
        "plt.xlabel('Types of cognitive memory issues')\n",
        "plt.ylabel('Frequency')\n",
        "plt.title('Frequency of Cognitive Memory Issues')\n",
        "plt.xticks(rotation=45)\n",
        "plt.show()\n",
        "\n",
        "# Display the cleaned text\n",
        "print(df['cleaned_text'])\n"
      ]
    },
    {
      "cell_type": "markdown",
      "metadata": {
        "id": "5N_Rj4dC_WCv"
      },
      "source": [
        "**Text Mining and NLP Analysis**\n",
        "Goal is to extract key terms and topics related to cognitive memory issues during pregnancy, providing insights into the content and themes of the articles. This analysis helps identify patterns, trends, and prevalent topics in the literature, which can inform the development of the chatbox and enhance its ability to provide relevant and personalized support to pregnant women."
      ]
    },
    {
      "cell_type": "code",
      "execution_count": null,
      "metadata": {
        "colab": {
          "base_uri": "https://localhost:8080/"
        },
        "id": "2wz8Za2o_DLM",
        "outputId": "e7730771-ee93-46b7-828d-4f3a41814b6c"
      },
      "outputs": [
        {
          "output_type": "stream",
          "name": "stdout",
          "text": [
            "Topic 1: pregnancy, women, memory, pregnant, et\n",
            "Topic 2: brain, pregnancy, memory, women, mom\n",
            "Topic 3: galea, male, female, animals, typically\n",
            "Topic 4: galea, male, female, animals, typically\n",
            "Topic 5: galea, male, female, animals, typically\n"
          ]
        }
      ],
      "source": [
        "# Text Mining and NLP\n",
        "# TF-IDF Vectorization\n",
        "tfidf_vectorizer = TfidfVectorizer(stop_words='english')\n",
        "tfidf_matrix = tfidf_vectorizer.fit_transform(df['cleaned_text'])\n",
        "\n",
        "# Latent Dirichlet Allocation (LDA) for Topic Modeling\n",
        "lda = LatentDirichletAllocation(n_components=5, random_state=42)\n",
        "lda.fit(tfidf_matrix)\n",
        "\n",
        "# Extract key terms and topics\n",
        "terms = tfidf_vectorizer.get_feature_names_out()\n",
        "topics = [[terms[i] for i in topic.argsort()[:-6:-1]] for topic in lda.components_]\n",
        "\n",
        "# Print topics\n",
        "for i, topic in enumerate(topics):\n",
        "    print(f\"Topic {i+1}: {', '.join(topic)}\")\n"
      ]
    },
    {
      "cell_type": "markdown",
      "metadata": {
        "id": "qBvUaOo7_4gR"
      },
      "source": [
        "**Sentiment Analysis and Comparison and Contrast:** This analysis assigns a sentiment score to each article, indicating its overall sentiment (positive, neutral, or negative). The sentiment scores can help understand the general tone and attitude of the articles towards cognitive memory issues during pregnancy."
      ]
    },
    {
      "cell_type": "code",
      "execution_count": null,
      "metadata": {
        "colab": {
          "base_uri": "https://localhost:8080/",
          "height": 564
        },
        "id": "vAx1fitHAkrs",
        "outputId": "0185fbe2-fe70-469f-b18b-f61df6f126c5"
      },
      "outputs": [
        {
          "output_type": "display_data",
          "data": {
            "text/plain": [
              "<Figure size 1000x600 with 1 Axes>"
            ],
            "image/png": "[encoded data removed]"
          },
          "metadata": {}
        }
      ],
      "source": [
        "# Sentiment Analysis\n",
        "# Calculate the sentiment score for each cleaned text and store it in a new column\n",
        "df['sentiment_score'] = df['cleaned_text'].apply(lambda x: sia.polarity_scores(x)['compound'])\n",
        "\n",
        "# Explanation of sentiment scores:\n",
        "# -1 indicates extremely negative sentiment.\n",
        "# 0 indicates neutral sentiment.\n",
        "# 1 indicates extremely positive sentiment.\n",
        "\n",
        "# Comparison and Contrast\n",
        "# For simplicity, let's just plot the sentiment scores\n",
        "plt.figure(figsize=(10, 6))\n",
        "plt.hist(df['sentiment_score'], bins=20, color='green')\n",
        "plt.xlabel('Sentiment Score')\n",
        "plt.ylabel('Frequency')\n",
        "plt.title('Sentiment Analysis of Articles')\n",
        "plt.show()"
      ]
    },
    {
      "cell_type": "markdown",
      "metadata": {
        "id": "hQNRI03-U5rF"
      },
      "source": [
        "#Comparing Baseline GPT-2 Model Responses Using Raw and Cleaned Text Before Fine-Tuning"
      ]
    },
    {
      "cell_type": "markdown",
      "metadata": {
        "id": "pdaiyZQgbvRT"
      },
      "source": [
        "##*For the baseline model with raw text:*"
      ]
    },
    {
      "cell_type": "code",
      "execution_count": null,
      "metadata": {
        "colab": {
          "base_uri": "https://localhost:8080/"
        },
        "id": "GzK5wDvYbOCf",
        "outputId": "8a09b8b4-7e16-4bc6-93d0-e5b6621047c2"
      },
      "outputs": [
        {
          "output_type": "stream",
          "name": "stdout",
          "text": [
            "Baseline Response (Raw Text 1): How does pregnancy affect memory?\n",
            "\n",
            "The answer is that it does.\n",
            "\n",
            "The brain is a complex machine that is constantly changing. It is constantly changing. It is constantly changing. It is constantly changing. It is constantly changing. It is constantly changing. It is constantly changing. It is constantly changing. It is constantly changing. It is constantly changing. It is constantly changing. It is constantly changing. It is constantly changing. It is constantly changing. It is constantly changing. It is\n",
            "Baseline Response (Raw Text 2): What are the effects of pregnancy on cognitive function?\n",
            "\n",
            "The effects of pregnancy on cognitive function are not well understood. The most common cognitive deficits are memory loss, attention deficit hyperactivity disorder, and attention deficit hyperactivity disorder (ADHD).\n",
            "\n",
            "The most common cognitive deficits are memory loss, attention deficit hyperactivity disorder, and attention deficit hyperactivity disorder (ADHD). The most common cognitive deficits are memory loss, attention deficit hyperactivity disorder, and attention deficit hyperactivity disorder (ADHD\n"
          ]
        }
      ],
      "source": [
        "# Baseline GPT-2 Model Response before cleaning\n",
        "def baseline_generate_response(raw_text):\n",
        "    # Tokenize the raw text\n",
        "    input_ids = tokenizer(raw_text, return_tensors='pt')['input_ids']\n",
        "    # Generate output\n",
        "    output = model.generate(input_ids, max_length=100, num_return_sequences=1, pad_token_id=tokenizer.eos_token_id)\n",
        "    # Decode the output\n",
        "    response = tokenizer.decode(output[0], skip_special_tokens=True)\n",
        "    return response\n",
        "\n",
        "# Example usage\n",
        "raw_text1 = \"How does pregnancy affect memory?\"\n",
        "raw_text2 = \"What are the effects of pregnancy on cognitive function?\"\n",
        "baseline_response_raw1 = baseline_generate_response(raw_text1)\n",
        "baseline_response_raw2 = baseline_generate_response(raw_text2)\n",
        "print(\"Baseline Response (Raw Text 1):\", baseline_response_raw1.rstrip('!'))\n",
        "print(\"Baseline Response (Raw Text 2):\", baseline_response_raw2.rstrip('!'))"
      ]
    },
    {
      "cell_type": "markdown",
      "metadata": {
        "id": "GmH4rVrLcX4P"
      },
      "source": [
        "##*For the baseline model with cleaned text:*"
      ]
    },
    {
      "cell_type": "code",
      "execution_count": null,
      "metadata": {
        "colab": {
          "base_uri": "https://localhost:8080/"
        },
        "id": "wEnOCpZ3bYz9",
        "outputId": "bb435155-4ebb-42ab-d5bf-a13b6a9a3921"
      },
      "outputs": [
        {
          "output_type": "stream",
          "name": "stdout",
          "text": [
            "Baseline Response 1: How does pregnancy affect memory?\n",
            "\n",
            "The answer is that it does.\n",
            "\n",
            "The brain is a complex machine that is constantly changing. It is constantly changing. It is constantly changing. It is constantly changing. It is constantly changing. It is constantly changing. It is constantly changing. It is constantly changing. It is constantly changing. It is constantly changing. It is constantly changing. It is constantly changing. It is constantly changing. It is constantly changing. It is constantly changing. It is\n",
            "Baseline Response 2: What are the effects of pregnancy on cognitive function?\n",
            "\n",
            "The effects of pregnancy on cognitive function are not well understood. The most common cognitive deficits are memory loss, attention deficit hyperactivity disorder, and attention deficit hyperactivity disorder (ADHD).\n",
            "\n",
            "The most common cognitive deficits are memory loss, attention deficit hyperactivity disorder, and attention deficit hyperactivity disorder (ADHD). The most common cognitive deficits are memory loss, attention deficit hyperactivity disorder, and attention deficit hyperactivity disorder (ADHD\n"
          ]
        }
      ],
      "source": [
        "# Baseline GPT-2 Model Response #Generate responses using the GPT-2 model\n",
        "def baseline_generate_response(cleaned_text):\n",
        "    # Tokenize the cleaned text\n",
        "    input_ids = tokenizer.encode(cleaned_text, return_tensors='pt')\n",
        "    # Generate output\n",
        "    output = model.generate(input_ids, max_length=100, num_return_sequences=1, pad_token_id=tokenizer.eos_token_id, attention_mask=input_ids.ne(tokenizer.eos_token_id))\n",
        "    # Decode the output\n",
        "    response = tokenizer.decode(output[0], skip_special_tokens=True)\n",
        "    return response\n",
        "\n",
        "# Example usage\n",
        "cleaned_text1 = \"How does pregnancy affect memory?\"\n",
        "cleaned_text2 = \"What are the effects of pregnancy on cognitive function?\"\n",
        "baseline_response1 = baseline_generate_response(cleaned_text1)\n",
        "baseline_response2 = baseline_generate_response(cleaned_text2)\n",
        "print(\"Baseline Response 1:\", baseline_response1)\n",
        "print(\"Baseline Response 2:\", baseline_response2)\n"
      ]
    },
    {
      "cell_type": "markdown",
      "metadata": {
        "id": "OISvVK3WNKgw"
      },
      "source": [
        "#Fine-Tuning the GPT-2 Model"
      ]
    },
    {
      "cell_type": "markdown",
      "metadata": {
        "id": "j4bPj81Jk0UD"
      },
      "source": [
        "Tokenization and Padding for Fine-Tuning GPT-2 Model"
      ]
    },
    {
      "cell_type": "code",
      "execution_count": null,
      "metadata": {
        "id": "M2A4L32VnZF7"
      },
      "outputs": [],
      "source": [
        "# Define the maximum sequence length\n",
        "max_length = 512\n",
        "\n",
        "# Tokenize the cleaned text and truncate to max_length\n",
        "df['tokenized_text'] = df['cleaned_text'].apply(lambda x: tokenizer.encode(x[:max_length], return_tensors='pt'))\n",
        "\n",
        "# Get the padding value from the tokenizer or use a default value\n",
        "padding_value = tokenizer.pad_token_id if tokenizer.pad_token_id is not None else 0\n",
        "\n",
        "# Pad or truncate the tokenized sequences to the maximum length\n",
        "padded_sequences = pad_sequence([seq.squeeze(0)[:max_length] for seq in df['tokenized_text']], batch_first=True, padding_value=padding_value)\n",
        "\n",
        "# Concatenate the padded sequences to match the expected size\n",
        "input_ids = torch.cat(tuple(padded_sequences), dim=0)\n",
        "labels = input_ids.clone()\n",
        "\n",
        "\n"
      ]
    },
    {
      "cell_type": "markdown",
      "metadata": {
        "id": "ejux0XuclzUc"
      },
      "source": [
        "Fine-Tuning: Ready to fine-tune the GPT-2 model"
      ]
    },
    {
      "cell_type": "code",
      "execution_count": null,
      "metadata": {
        "colab": {
          "base_uri": "https://localhost:8080/"
        },
        "id": "_xR3MwjdFKLT",
        "outputId": "5f06385c-5fdb-4a9c-e0c9-d2396910c109"
      },
      "outputs": [
        {
          "output_type": "stream",
          "name": "stdout",
          "text": [
            "input_ids and labels are defined.\n"
          ]
        }
      ],
      "source": [
        "#Check if 'input_ids' and 'labels' are defined\n",
        "if 'input_ids' in locals() and 'labels' in locals():\n",
        "    print(\"input_ids and labels are defined.\")\n",
        "else:\n",
        "    print(\"input_ids and labels are not defined.\")\n"
      ]
    },
    {
      "cell_type": "code",
      "source": [
        "# Define hyperparameters\n",
        "num_epochs = 10   # Increased to 10 epochs\n",
        "learning_rate = 5e-5  # Adjusted learning rate\n",
        "weight_decay = 0.01   # Adjusted weight decay\n",
        "warmup_steps = 500    # Adjusted warmup steps\n",
        "max_seq_length = 1024  # Maximum sequence length\n",
        "\n",
        "# Define optimizer and scheduler\n",
        "optimizer = AdamW(model.parameters(), lr=learning_rate, weight_decay=weight_decay)\n",
        "scheduler = get_scheduler(\"linear\", optimizer, num_warmup_steps=warmup_steps, num_training_steps=len(df) * num_epochs)\n",
        "\n"
      ],
      "metadata": {
        "colab": {
          "base_uri": "https://localhost:8080/"
        },
        "id": "-ufHdOwy4IqI",
        "outputId": "ecdfb7cf-cec2-497b-b247-c7466d80f49a"
      },
      "execution_count": null,
      "outputs": [
        {
          "output_type": "stream",
          "name": "stderr",
          "text": [
            "/usr/local/lib/python3.10/dist-packages/transformers/optimization.py:429: FutureWarning: This implementation of AdamW is deprecated and will be removed in a future version. Use the PyTorch implementation torch.optim.AdamW instead, or set `no_deprecation_warning=True` to disable this warning\n",
            "  warnings.warn(\n"
          ]
        }
      ]
    },
    {
      "cell_type": "markdown",
      "metadata": {
        "id": "UWmtyoie5DA0"
      },
      "source": [
        "Manual Training Loop Method: In this method, the training loop is implemented manually, without using a custom trainer class."
      ]
    },
    {
      "cell_type": "code",
      "execution_count": null,
      "metadata": {
        "colab": {
          "base_uri": "https://localhost:8080/"
        },
        "id": "Cgaj5NM8maeI",
        "outputId": "00362242-759a-4b48-f0f0-f9f0c8b87a5f"
      },
      "outputs": [
        {
          "output_type": "stream",
          "name": "stdout",
          "text": [
            "Epoch 1: Average Loss = 3.9516185919443765\n",
            "Epoch 2: Average Loss = 3.767175106775193\n",
            "Epoch 3: Average Loss = 3.6138260591597784\n",
            "Epoch 4: Average Loss = 3.5357826323736283\n",
            "Epoch 5: Average Loss = 3.4542053654080345\n",
            "Epoch 6: Average Loss = 3.373485656011672\n",
            "Epoch 7: Average Loss = 3.274467865626017\n",
            "Epoch 8: Average Loss = 3.1883621556418285\n",
            "Epoch 9: Average Loss = 3.106229231471107\n",
            "Epoch 10: Average Loss = 3.01540051755451\n"
          ]
        }
      ],
      "source": [
        "# Fine-tune the GPT-2 model\n",
        "model.train()\n",
        "for epoch in range(num_epochs):\n",
        "    total_loss = 0.0\n",
        "    for text in df['cleaned_text']:\n",
        "        input_ids = tokenizer.encode(text, return_tensors='pt', max_length=max_seq_length, truncation=True)\n",
        "        optimizer.zero_grad()\n",
        "        outputs = model(input_ids=input_ids, labels=input_ids)\n",
        "        loss = outputs.loss\n",
        "        total_loss += loss.item()\n",
        "        loss.backward()\n",
        "        optimizer.step()\n",
        "        scheduler.step()\n",
        "    average_loss = total_loss / len(df)\n",
        "    print(f\"Epoch {epoch+1}: Average Loss = {average_loss}\")\n"
      ]
    },
    {
      "cell_type": "code",
      "execution_count": null,
      "metadata": {
        "id": "KvyNeCB_q223"
      },
      "outputs": [],
      "source": [
        "# Save the fine-tuned model\n",
        "model.save_pretrained('fine_tuned_gpt2_model')\n"
      ]
    },
    {
      "cell_type": "code",
      "execution_count": null,
      "metadata": {
        "id": "2J20QpA4EzZO"
      },
      "outputs": [],
      "source": [
        "# Load the fine-tuned model\n",
        "fine_tuned_model = GPT2LMHeadModel.from_pretrained('fine_tuned_gpt2_model')\n"
      ]
    },
    {
      "cell_type": "markdown",
      "metadata": {
        "id": "l4ay9AOsRc-0"
      },
      "source": [
        "Comparison of Baseline and Fine-Tuned GPT-2 Model Responses\n"
      ]
    },
    {
      "cell_type": "code",
      "execution_count": null,
      "metadata": {
        "id": "8Tyv_61lNEZr"
      },
      "outputs": [],
      "source": [
        "# Baseline GPT-2 Model Response\n",
        "def baseline_generate_response(input_text):\n",
        "    # Tokenize the input text\n",
        "    input_ids = tokenizer.encode(input_text, return_tensors='pt')\n",
        "    # Generate output\n",
        "    output = model.generate(input_ids, max_length=100, num_return_sequences=1, pad_token_id=tokenizer.eos_token_id, attention_mask=input_ids.ne(tokenizer.eos_token_id))\n",
        "    # Decode the output\n",
        "    response = tokenizer.decode(output[0], skip_special_tokens=True)\n",
        "    return response\n",
        "\n",
        "# Fine-Tuned GPT-2 Model Response\n",
        "def fine_tuned_generate_response(input_text):\n",
        "    input_ids = tokenizer.encode(input_text, return_tensors='pt')\n",
        "    output = fine_tuned_model.generate(input_ids, max_length=100, num_return_sequences=1, pad_token_id=tokenizer.eos_token_id, attention_mask=input_ids.ne(tokenizer.eos_token_id))\n",
        "    response = tokenizer.decode(output[0], skip_special_tokens=True)\n",
        "    return response\n",
        "\n",
        "\n"
      ]
    },
    {
      "cell_type": "code",
      "source": [
        "# Examples usage\n",
        "\n",
        "# Example 1\n",
        "input_text = \"How does pregnancy affect memory?\"\n",
        "baseline_response = baseline_generate_response(input_text)\n",
        "fine_tuned_response = fine_tuned_generate_response(input_text)\n",
        "print(\"Baseline Response:\", baseline_response)\n",
        "print(\"Fine-Tuned Response:\", fine_tuned_response)\n",
        "\n",
        "\n",
        "# Example 2\n",
        "input_text = \"How can I improve my memory during pregnancy?\"\n",
        "baseline_response = baseline_generate_response(input_text)\n",
        "fine_tuned_response = fine_tuned_generate_response(input_text)\n",
        "print(\"Baseline Response:\", baseline_response)\n",
        "print(\"Fine-Tuned Response:\", fine_tuned_response)\n",
        "\n",
        "# Example 3\n",
        "input_text = \"Can pregnancy brain fog affect my ability to work or perform daily tasks?\"\n",
        "baseline_response = baseline_generate_response(input_text)\n",
        "fine_tuned_response = fine_tuned_generate_response(input_text)\n",
        "print(\"Baseline Response:\", baseline_response)\n",
        "print(\"Fine-Tuned Response:\", fine_tuned_response)\n",
        "\n",
        "\n",
        "# Example 4\n",
        "input_text = \"Should I be concerned if I'm experiencing more forgetfulness than usual during pregnancy?\"\n",
        "baseline_response = baseline_generate_response(input_text)\n",
        "fine_tuned_response = fine_tuned_generate_response(input_text)\n",
        "print(\"Baseline Response:\", baseline_response)\n",
        "print(\"Fine-Tuned Response:\", fine_tuned_response)"
      ],
      "metadata": {
        "colab": {
          "base_uri": "https://localhost:8080/"
        },
        "id": "Ten7lVpV1Fom",
        "outputId": "8deeac9c-0218-4ba2-8291-1bf90ada1755"
      },
      "execution_count": null,
      "outputs": [
        {
          "output_type": "stream",
          "name": "stdout",
          "text": [
            "Baseline Response: How can I improve my memory during pregnancy?\n",
            "\n",
            "You can improve your memory during pregnancy by using a new memory app.\n",
            "\n",
            "\n",
            "You can also use a new memory app to help you remember your pregnancy.\n",
            "\n",
            "How do I get pregnant?\n",
            "\n",
            "\n",
            "You can get pregnant during pregnancy by using a new memory app.\n",
            "\n",
            "You can also use a new memory app to help you remember your pregnancy.\n",
            "\n",
            "\n",
            "How do I get pregnant?\n",
            "\n",
            "You can get pregnant during\n",
            "Fine-Tuned Response: How can I improve my memory during pregnancy?\n",
            "\n",
            "You can improve your memory during pregnancy by using a memory test.\n",
            "\n",
            "You can also use a memory test to help you remember things you remember.\n",
            "\n",
            "You can also learn more about how to improve your memory during pregnancy.\n",
            "\n",
            "What is a memory test?\n",
            "\n",
            "A memory test is a test that measures your memory during pregnancy.\n",
            "\n",
            "It is a test that measures your memory during pregnancy.\n",
            "\n",
            "It is a test that\n",
            "Baseline Response: Can pregnancy brain fog affect my ability to work or perform daily tasks?\n",
            "\n",
            "What is brain fog?\n",
            "\n",
            "Brain fog is a common condition that occurs in pregnancy and can affect your ability to perform daily tasks.\n",
            "\n",
            "What causes brain fog?\n",
            "\n",
            "Brain fog is a common condition that occurs in pregnancy and can affect your ability to perform daily tasks.\n",
            "\n",
            "What causes brain fog?\n",
            "\n",
            "Brain fog is a common condition that occurs in pregnancy and can affect your ability to perform daily tasks\n",
            "Fine-Tuned Response: Can pregnancy brain fog affect my ability to work or perform daily tasks?\n",
            "\n",
            "You may have heard of pregnancy brain fog. It's a common phenomenon that can affect your ability to focus and focus on tasks.\n",
            "\n",
            "It can be a little confusing at first, but it can be a real problem.\n",
            "\n",
            "It can be a little confusing at first, but it can be a real problem.\n",
            "\n",
            "It can be a little frustrating at first, but it can be a real problem.\n",
            "\n",
            "Baseline Response: Should I be concerned if I'm experiencing more forgetfulness than usual during pregnancy?\n",
            "\n",
            "I'm not sure.\n",
            "\n",
            "I'm not sure if I'm experiencing more forgetfulness than usual during pregnancy.\n",
            "\n",
            "I'm not sure if I'm experiencing more forgetfulness than usual during pregnancy.\n",
            "\n",
            "\n",
            "I'm not sure if I'm experiencing more forgetfulness than usual during pregnancy.\n",
            "\n",
            "I'm not sure if I'm experiencing more forgetfulness than usual during pregnancy.\n",
            "\n",
            "I'm\n",
            "Fine-Tuned Response: Should I be concerned if I'm experiencing more forgetfulness than usual during pregnancy?\n",
            "\n",
            "Yes, you may experience more forgetfulness during pregnancy.\n",
            "\n",
            "You may experience more forgetfulness during pregnancy.\n",
            "\n",
            "You may experience more forgetfulness during pregnancy.\n",
            "\n",
            "You may experience more forgetfulness during pregnancy.\n",
            "\n",
            "You may experience more forgetfulness during pregnancy.\n",
            "\n",
            "You may experience more forgetfulness during pregnancy.\n",
            "\n",
            "You may experience more forgetfulness during pregnancy.\n",
            "\n",
            "You may experience\n",
            "Baseline Response: Are there any warning signs that my memory issues during pregnancy could be related to a more serious condition?\n",
            "\n",
            "I have a mild memory disorder, and my memory is not as good as it could be.\n",
            "\n",
            "I have a mild memory disorder, and my memory is not as good as it could be.\n",
            "\n",
            "I have a mild memory disorder, and my memory is not as good as it could be.\n",
            "\n",
            "I have a mild memory disorder, and my memory is not as good as\n",
            "Fine-Tuned Response: Are there any warning signs that my memory issues during pregnancy could be related to a more serious condition?\n",
            "\n",
            "I'm not sure if you're aware of any of these symptoms.\n",
            "\n",
            "What are the symptoms of pregnancy anxiety?\n",
            "\n",
            "Pregnancy anxiety is a common problem that can be a problem for many women.\n",
            "\n",
            "It can be a bit of a surprise to some women that they're experiencing a lot of anxiety during pregnancy.\n",
            "\n",
            "But what causes pregnancy anxiety?\n",
            "\n",
            "There are\n"
          ]
        }
      ]
    },
    {
      "cell_type": "code",
      "execution_count": null,
      "metadata": {
        "id": "_3VG8iKyOSjq",
        "colab": {
          "base_uri": "https://localhost:8080/"
        },
        "outputId": "9be600a4-1881-4122-dbeb-adf4d126ff4b"
      },
      "outputs": [
        {
          "output_type": "stream",
          "name": "stdout",
          "text": [
            "Are the responses the same?\n",
            "False\n"
          ]
        }
      ],
      "source": [
        "# Compare the responses\n",
        "print(\"Are the responses the same?\")\n",
        "print(baseline_response == fine_tuned_response)"
      ]
    },
    {
      "cell_type": "markdown",
      "metadata": {
        "id": "S8n4cmqSbzeT"
      },
      "source": [
        "#Deployment: Chatbox Development: Define the Streamlit app interface and functionality"
      ]
    },
    {
      "cell_type": "code",
      "execution_count": null,
      "metadata": {
        "id": "rshA9lCTOKWn",
        "colab": {
          "base_uri": "https://localhost:8080/",
          "height": 136
        },
        "outputId": "837ad11f-18df-4a68-f5c1-8d4042f5b6b9"
      },
      "outputs": [
        {
          "output_type": "stream",
          "name": "stderr",
          "text": [
            "2024-03-10 05:19:26.346 \n",
            "  \u001b[33m\u001b[1mWarning:\u001b[0m to view this Streamlit app on a browser, run it with the following\n",
            "  command:\n",
            "\n",
            "    streamlit run /usr/local/lib/python3.10/dist-packages/colab_kernel_launcher.py [ARGUMENTS]\n"
          ]
        },
        {
          "output_type": "execute_result",
          "data": {
            "text/plain": [
              "DeltaGenerator()"
            ]
          },
          "metadata": {},
          "execution_count": 28
        },
        {
          "output_type": "display_data",
          "data": {
            "text/plain": [
              "<Figure size 1000x500 with 0 Axes>"
            ]
          },
          "metadata": {}
        }
      ],
      "source": [
        "# Chatbox interface\n",
        "st.title(\"Memory Support Chatbox for Pregnant Women\")\n",
        "user_input = st.text_input(\"You:\", \"Enter your message here...\")\n",
        "if user_input:\n",
        "    input_ids = tokenizer.encode(user_input, return_tensors='pt')\n",
        "    reply_ids = model.generate(input_ids, max_length=100, pad_token_id=tokenizer.eos_token_id)\n",
        "    reply_text = tokenizer.decode(reply_ids[0], skip_special_tokens=True)\n",
        "    st.text_area(\"Chatbot:\", value=reply_text, height=200)\n",
        "\n",
        "\n",
        "# Text Analysis\n",
        "st.subheader(\"Text Analysis\")\n",
        "\n",
        "# Word Cloud\n",
        "st.subheader(\"Word Cloud\")\n",
        "all_text = \" \".join(df[\"cleaned_text\"])\n",
        "wordcloud = WordCloud(width=800, height=400, background_color=\"white\").generate(all_text)\n",
        "plt.figure(figsize=(10, 5))\n",
        "plt.imshow(wordcloud, interpolation=\"bilinear\")\n",
        "plt.axis(\"off\")\n",
        "st.pyplot()"
      ]
    },
    {
      "cell_type": "code",
      "execution_count": null,
      "metadata": {
        "id": "xo_iDFf3zKyy",
        "colab": {
          "base_uri": "https://localhost:8080/"
        },
        "outputId": "c13ed8fb-360f-495b-db2c-ab7cc79a0255"
      },
      "outputs": [
        {
          "output_type": "execute_result",
          "data": {
            "text/plain": [
              "DeltaGenerator()"
            ]
          },
          "metadata": {},
          "execution_count": 29
        }
      ],
      "source": [
        "# Chatbox interface\n",
        "st.title(\"Memory Support Chatbox for Pregnant Women\")\n",
        "user_input = st.text_input(\"You:\", \"Enter your message here...\")\n",
        "if user_input:\n",
        "    input_ids = tokenizer.encode(user_input, return_tensors='pt')\n",
        "    reply_ids = model.generate(input_ids, max_length=100, pad_token_id=tokenizer.eos_token_id)\n",
        "    reply_text = tokenizer.decode(reply_ids[0], skip_special_tokens=True)\n",
        "    st.text_area(\"Chatbot:\", value=reply_text, height=200)\n",
        "    st.write(reply_text)  # Display the reply_text\n",
        "\n",
        "# Text Analysis\n",
        "st.subheader(\"Text Analysis\")\n",
        "\n",
        "# Word Cloud\n",
        "st.subheader(\"Word Cloud\")\n",
        "all_text = \" \".join(df[\"cleaned_text\"])\n",
        "wordcloud = WordCloud(width=800, height=400, background_color=\"white\").generate(all_text)\n",
        "plt.figure(figsize=(10, 5))\n",
        "plt.imshow(wordcloud, interpolation=\"bilinear\")\n",
        "plt.axis(\"off\")\n",
        "st.pyplot()\n"
      ]
    },
    {
      "cell_type": "markdown",
      "metadata": {
        "id": "5vlLKAMiO1Ti"
      },
      "source": [
        "#Model Evaluation"
      ]
    },
    {
      "cell_type": "code",
      "execution_count": null,
      "metadata": {
        "id": "cVAoghQVPhhO"
      },
      "outputs": [],
      "source": [
        " #Generate sample responses from the model to ensure it provides relevant and coherent advice\n",
        "\n",
        "# Sample prompts\n",
        "sample_prompts = [\n",
        "    \"What causes pregnancy brain fog?\",\n",
        "    \"How does pregnancy affect the brain?\",\n",
        "    \"How can I improve my memory during pregnancy?\",\n",
        "    \"Can pregnancy brain fog affect my ability to work or perform daily tasks?\",\n",
        "]\n",
        "\n",
        "# Generate responses\n",
        "for prompt in sample_prompts:\n",
        "    input_ids = tokenizer.encode(prompt, return_tensors='pt')\n",
        "    output = model.generate(input_ids, max_length=100, num_return_sequences=1, pad_token_id=tokenizer.eos_token_id, attention_mask=input_ids.ne(tokenizer.eos_token_id))\n",
        "    response = tokenizer.decode(output[0], skip_special_tokens=True)\n",
        "    print(\"Response:\", response)"
      ]
    },
    {
      "cell_type": "markdown",
      "metadata": {
        "id": "E87i3w3udLyn"
      },
      "source": [
        "##Visualization of Model Responses to Sample Prompts"
      ]
    },
    {
      "cell_type": "markdown",
      "metadata": {
        "id": "V3AFYY3_dPwd"
      },
      "source": [
        "Can help one  understand the nature of the responses generated by the language model and\n",
        "identify common patterns or topics across the responses"
      ]
    },
    {
      "cell_type": "code",
      "execution_count": null,
      "metadata": {
        "id": "5r6yflh4bWeh"
      },
      "outputs": [],
      "source": [
        "#Sample prompts\n",
        "sample_prompts = [\n",
        "    \"What causes pregnancy brain fog?\",\n",
        "    \"How does pregnancy affect the brain?\",\n",
        "    \"How can I improve my memory during pregnancy?\",\n",
        "    \"Can pregnancy brain fog affect my ability to work or perform daily tasks?\",\n",
        "]\n",
        "\n",
        "# Generate responses from the model\n",
        "data = []\n",
        "for prompt in sample_prompts:\n",
        "    input_ids = tokenizer.encode(prompt, return_tensors='pt')\n",
        "    output = model.generate(input_ids, max_length=100, num_return_sequences=1, pad_token_id=tokenizer.eos_token_id, attention_mask=input_ids.ne(tokenizer.eos_token_id))\n",
        "    response = tokenizer.decode(output[0], skip_special_tokens=True)\n",
        "    data.append({\"prompt\": prompt, \"response\": response})\n",
        "\n",
        "# Create a DataFrame from the generated responses\n",
        "df = pd.DataFrame(data)\n",
        "\n",
        "# Display the DataFrame\n",
        "print(df)\n",
        "\n",
        "# Use the generated responses for visualization\n",
        "# For example, you can create a pie chart based on the responses\n",
        "# Pie chart\n",
        "plt.figure(figsize=(8, 8))\n",
        "plt.pie([len(response.split()) for response in df['response']], labels=df['prompt'], autopct='%1.1f%%', startangle=90)\n",
        "plt.title('Distribution of response lengths for sample prompts')\n",
        "plt.axis('equal')\n",
        "plt.show()\n"
      ]
    }
  ],
  "metadata": {
    "colab": {
      "provenance": [],
      "authorship_tag": "ABX9TyMlWQAvaH8ey1gDdOk4C/Sh",
      "include_colab_link": true
    },
    "kernelspec": {
      "display_name": "Python 3",
      "name": "python3"
    },
    "language_info": {
      "name": "python"
    },
    "widgets": {
      "application/vnd.jupyter.widget-state+json": {
        "48fb57d2061e46fe96a9c42d824de403": {
          "model_module": "@jupyter-widgets/controls",
          "model_name": "HBoxModel",
          "model_module_version": "1.5.0",
          "state": {
            "_dom_classes": [],
            "_model_module": "@jupyter-widgets/controls",
            "_model_module_version": "1.5.0",
            "_model_name": "HBoxModel",
            "_view_count": null,
            "_view_module": "@jupyter-widgets/controls",
            "_view_module_version": "1.5.0",
            "_view_name": "HBoxView",
            "box_style": "",
            "children": [
              "IPY_MODEL_cfba0c5654bb4a28861823e87e74072e",
              "IPY_MODEL_399162099604467dbe30c68cae641247",
              "IPY_MODEL_9c611863d1cb4956bbc6d45d45fa1b06"
            ],
            "layout": "IPY_MODEL_1f9ee9969d6f4ed993313c47d59859ae"
          }
        },
        "cfba0c5654bb4a28861823e87e74072e": {
          "model_module": "@jupyter-widgets/controls",
          "model_name": "HTMLModel",
          "model_module_version": "1.5.0",
          "state": {
            "_dom_classes": [],
            "_model_module": "@jupyter-widgets/controls",
            "_model_module_version": "1.5.0",
            "_model_name": "HTMLModel",
            "_view_count": null,
            "_view_module": "@jupyter-widgets/controls",
            "_view_module_version": "1.5.0",
            "_view_name": "HTMLView",
            "description": "",
            "description_tooltip": null,
            "layout": "IPY_MODEL_402d81f6ab644d8792021325286b42ca",
            "placeholder": "​",
            "style": "IPY_MODEL_7ef95f8b7d2245d084d33fed0b851eda",
            "value": "tokenizer_config.json: 100%"
          }
        },
        "399162099604467dbe30c68cae641247": {
          "model_module": "@jupyter-widgets/controls",
          "model_name": "FloatProgressModel",
          "model_module_version": "1.5.0",
          "state": {
            "_dom_classes": [],
            "_model_module": "@jupyter-widgets/controls",
            "_model_module_version": "1.5.0",
            "_model_name": "FloatProgressModel",
            "_view_count": null,
            "_view_module": "@jupyter-widgets/controls",
            "_view_module_version": "1.5.0",
            "_view_name": "ProgressView",
            "bar_style": "success",
            "description": "",
            "description_tooltip": null,
            "layout": "IPY_MODEL_32d9cf9f4c6644699733047979ba274a",
            "max": 26,
            "min": 0,
            "orientation": "horizontal",
            "style": "IPY_MODEL_8446e03877474f68a42d883593dc3440",
            "value": 26
          }
        },
        "9c611863d1cb4956bbc6d45d45fa1b06": {
          "model_module": "@jupyter-widgets/controls",
          "model_name": "HTMLModel",
          "model_module_version": "1.5.0",
          "state": {
            "_dom_classes": [],
            "_model_module": "@jupyter-widgets/controls",
            "_model_module_version": "1.5.0",
            "_model_name": "HTMLModel",
            "_view_count": null,
            "_view_module": "@jupyter-widgets/controls",
            "_view_module_version": "1.5.0",
            "_view_name": "HTMLView",
            "description": "",
            "description_tooltip": null,
            "layout": "IPY_MODEL_297232b953f6451aa9ec7a9035c09b5f",
            "placeholder": "​",
            "style": "IPY_MODEL_c514cad9d78342d1b5e39d12a724607b",
            "value": " 26.0/26.0 [00:00&lt;00:00, 1.52kB/s]"
          }
        },
        "1f9ee9969d6f4ed993313c47d59859ae": {
          "model_module": "@jupyter-widgets/base",
          "model_name": "LayoutModel",
          "model_module_version": "1.2.0",
          "state": {
            "_model_module": "@jupyter-widgets/base",
            "_model_module_version": "1.2.0",
            "_model_name": "LayoutModel",
            "_view_count": null,
            "_view_module": "@jupyter-widgets/base",
            "_view_module_version": "1.2.0",
            "_view_name": "LayoutView",
            "align_content": null,
            "align_items": null,
            "align_self": null,
            "border": null,
            "bottom": null,
            "display": null,
            "flex": null,
            "flex_flow": null,
            "grid_area": null,
            "grid_auto_columns": null,
            "grid_auto_flow": null,
            "grid_auto_rows": null,
            "grid_column": null,
            "grid_gap": null,
            "grid_row": null,
            "grid_template_areas": null,
            "grid_template_columns": null,
            "grid_template_rows": null,
            "height": null,
            "justify_content": null,
            "justify_items": null,
            "left": null,
            "margin": null,
            "max_height": null,
            "max_width": null,
            "min_height": null,
            "min_width": null,
            "object_fit": null,
            "object_position": null,
            "order": null,
            "overflow": null,
            "overflow_x": null,
            "overflow_y": null,
            "padding": null,
            "right": null,
            "top": null,
            "visibility": null,
            "width": null
          }
        },
        "402d81f6ab644d8792021325286b42ca": {
          "model_module": "@jupyter-widgets/base",
          "model_name": "LayoutModel",
          "model_module_version": "1.2.0",
          "state": {
            "_model_module": "@jupyter-widgets/base",
            "_model_module_version": "1.2.0",
            "_model_name": "LayoutModel",
            "_view_count": null,
            "_view_module": "@jupyter-widgets/base",
            "_view_module_version": "1.2.0",
            "_view_name": "LayoutView",
            "align_content": null,
            "align_items": null,
            "align_self": null,
            "border": null,
            "bottom": null,
            "display": null,
            "flex": null,
            "flex_flow": null,
            "grid_area": null,
            "grid_auto_columns": null,
            "grid_auto_flow": null,
            "grid_auto_rows": null,
            "grid_column": null,
            "grid_gap": null,
            "grid_row": null,
            "grid_template_areas": null,
            "grid_template_columns": null,
            "grid_template_rows": null,
            "height": null,
            "justify_content": null,
            "justify_items": null,
            "left": null,
            "margin": null,
            "max_height": null,
            "max_width": null,
            "min_height": null,
            "min_width": null,
            "object_fit": null,
            "object_position": null,
            "order": null,
            "overflow": null,
            "overflow_x": null,
            "overflow_y": null,
            "padding": null,
            "right": null,
            "top": null,
            "visibility": null,
            "width": null
          }
        },
        "7ef95f8b7d2245d084d33fed0b851eda": {
          "model_module": "@jupyter-widgets/controls",
          "model_name": "DescriptionStyleModel",
          "model_module_version": "1.5.0",
          "state": {
            "_model_module": "@jupyter-widgets/controls",
            "_model_module_version": "1.5.0",
            "_model_name": "DescriptionStyleModel",
            "_view_count": null,
            "_view_module": "@jupyter-widgets/base",
            "_view_module_version": "1.2.0",
            "_view_name": "StyleView",
            "description_width": ""
          }
        },
        "32d9cf9f4c6644699733047979ba274a": {
          "model_module": "@jupyter-widgets/base",
          "model_name": "LayoutModel",
          "model_module_version": "1.2.0",
          "state": {
            "_model_module": "@jupyter-widgets/base",
            "_model_module_version": "1.2.0",
            "_model_name": "LayoutModel",
            "_view_count": null,
            "_view_module": "@jupyter-widgets/base",
            "_view_module_version": "1.2.0",
            "_view_name": "LayoutView",
            "align_content": null,
            "align_items": null,
            "align_self": null,
            "border": null,
            "bottom": null,
            "display": null,
            "flex": null,
            "flex_flow": null,
            "grid_area": null,
            "grid_auto_columns": null,
            "grid_auto_flow": null,
            "grid_auto_rows": null,
            "grid_column": null,
            "grid_gap": null,
            "grid_row": null,
            "grid_template_areas": null,
            "grid_template_columns": null,
            "grid_template_rows": null,
            "height": null,
            "justify_content": null,
            "justify_items": null,
            "left": null,
            "margin": null,
            "max_height": null,
            "max_width": null,
            "min_height": null,
            "min_width": null,
            "object_fit": null,
            "object_position": null,
            "order": null,
            "overflow": null,
            "overflow_x": null,
            "overflow_y": null,
            "padding": null,
            "right": null,
            "top": null,
            "visibility": null,
            "width": null
          }
        },
        "8446e03877474f68a42d883593dc3440": {
          "model_module": "@jupyter-widgets/controls",
          "model_name": "ProgressStyleModel",
          "model_module_version": "1.5.0",
          "state": {
            "_model_module": "@jupyter-widgets/controls",
            "_model_module_version": "1.5.0",
            "_model_name": "ProgressStyleModel",
            "_view_count": null,
            "_view_module": "@jupyter-widgets/base",
            "_view_module_version": "1.2.0",
            "_view_name": "StyleView",
            "bar_color": null,
            "description_width": ""
          }
        },
        "297232b953f6451aa9ec7a9035c09b5f": {
          "model_module": "@jupyter-widgets/base",
          "model_name": "LayoutModel",
          "model_module_version": "1.2.0",
          "state": {
            "_model_module": "@jupyter-widgets/base",
            "_model_module_version": "1.2.0",
            "_model_name": "LayoutModel",
            "_view_count": null,
            "_view_module": "@jupyter-widgets/base",
            "_view_module_version": "1.2.0",
            "_view_name": "LayoutView",
            "align_content": null,
            "align_items": null,
            "align_self": null,
            "border": null,
            "bottom": null,
            "display": null,
            "flex": null,
            "flex_flow": null,
            "grid_area": null,
            "grid_auto_columns": null,
            "grid_auto_flow": null,
            "grid_auto_rows": null,
            "grid_column": null,
            "grid_gap": null,
            "grid_row": null,
            "grid_template_areas": null,
            "grid_template_columns": null,
            "grid_template_rows": null,
            "height": null,
            "justify_content": null,
            "justify_items": null,
            "left": null,
            "margin": null,
            "max_height": null,
            "max_width": null,
            "min_height": null,
            "min_width": null,
            "object_fit": null,
            "object_position": null,
            "order": null,
            "overflow": null,
            "overflow_x": null,
            "overflow_y": null,
            "padding": null,
            "right": null,
            "top": null,
            "visibility": null,
            "width": null
          }
        },
        "c514cad9d78342d1b5e39d12a724607b": {
          "model_module": "@jupyter-widgets/controls",
          "model_name": "DescriptionStyleModel",
          "model_module_version": "1.5.0",
          "state": {
            "_model_module": "@jupyter-widgets/controls",
            "_model_module_version": "1.5.0",
            "_model_name": "DescriptionStyleModel",
            "_view_count": null,
            "_view_module": "@jupyter-widgets/base",
            "_view_module_version": "1.2.0",
            "_view_name": "StyleView",
            "description_width": ""
          }
        },
        "265ccb7b8f4e4270aa4b7092a7ac9701": {
          "model_module": "@jupyter-widgets/controls",
          "model_name": "HBoxModel",
          "model_module_version": "1.5.0",
          "state": {
            "_dom_classes": [],
            "_model_module": "@jupyter-widgets/controls",
            "_model_module_version": "1.5.0",
            "_model_name": "HBoxModel",
            "_view_count": null,
            "_view_module": "@jupyter-widgets/controls",
            "_view_module_version": "1.5.0",
            "_view_name": "HBoxView",
            "box_style": "",
            "children": [
              "IPY_MODEL_21d2e99747964b9fa702c90aae2936bf",
              "IPY_MODEL_8442a042da544f21b7189e52b8aa2ead",
              "IPY_MODEL_925c58fadc394f4a9d0710ef6a2b65cf"
            ],
            "layout": "IPY_MODEL_472abc30fe1047b68119f3591701ff48"
          }
        },
        "21d2e99747964b9fa702c90aae2936bf": {
          "model_module": "@jupyter-widgets/controls",
          "model_name": "HTMLModel",
          "model_module_version": "1.5.0",
          "state": {
            "_dom_classes": [],
            "_model_module": "@jupyter-widgets/controls",
            "_model_module_version": "1.5.0",
            "_model_name": "HTMLModel",
            "_view_count": null,
            "_view_module": "@jupyter-widgets/controls",
            "_view_module_version": "1.5.0",
            "_view_name": "HTMLView",
            "description": "",
            "description_tooltip": null,
            "layout": "IPY_MODEL_aaf7a401b7054bc2af32392ff6fa185d",
            "placeholder": "​",
            "style": "IPY_MODEL_fdeeed0a7a7049aab98cb96d22221d51",
            "value": "vocab.json: 100%"
          }
        },
        "8442a042da544f21b7189e52b8aa2ead": {
          "model_module": "@jupyter-widgets/controls",
          "model_name": "FloatProgressModel",
          "model_module_version": "1.5.0",
          "state": {
            "_dom_classes": [],
            "_model_module": "@jupyter-widgets/controls",
            "_model_module_version": "1.5.0",
            "_model_name": "FloatProgressModel",
            "_view_count": null,
            "_view_module": "@jupyter-widgets/controls",
            "_view_module_version": "1.5.0",
            "_view_name": "ProgressView",
            "bar_style": "success",
            "description": "",
            "description_tooltip": null,
            "layout": "IPY_MODEL_a6a5778c64d24b739daf90c192fa495b",
            "max": 1042301,
            "min": 0,
            "orientation": "horizontal",
            "style": "IPY_MODEL_30951d4242c84949ab42db58efb45312",
            "value": 1042301
          }
        },
        "925c58fadc394f4a9d0710ef6a2b65cf": {
          "model_module": "@jupyter-widgets/controls",
          "model_name": "HTMLModel",
          "model_module_version": "1.5.0",
          "state": {
            "_dom_classes": [],
            "_model_module": "@jupyter-widgets/controls",
            "_model_module_version": "1.5.0",
            "_model_name": "HTMLModel",
            "_view_count": null,
            "_view_module": "@jupyter-widgets/controls",
            "_view_module_version": "1.5.0",
            "_view_name": "HTMLView",
            "description": "",
            "description_tooltip": null,
            "layout": "IPY_MODEL_70dce14c5db743a9b750861d0d95e8a8",
            "placeholder": "​",
            "style": "IPY_MODEL_cf4b53d64d604f00acf5e39b227c4431",
            "value": " 1.04M/1.04M [00:00&lt;00:00, 15.4MB/s]"
          }
        },
        "472abc30fe1047b68119f3591701ff48": {
          "model_module": "@jupyter-widgets/base",
          "model_name": "LayoutModel",
          "model_module_version": "1.2.0",
          "state": {
            "_model_module": "@jupyter-widgets/base",
            "_model_module_version": "1.2.0",
            "_model_name": "LayoutModel",
            "_view_count": null,
            "_view_module": "@jupyter-widgets/base",
            "_view_module_version": "1.2.0",
            "_view_name": "LayoutView",
            "align_content": null,
            "align_items": null,
            "align_self": null,
            "border": null,
            "bottom": null,
            "display": null,
            "flex": null,
            "flex_flow": null,
            "grid_area": null,
            "grid_auto_columns": null,
            "grid_auto_flow": null,
            "grid_auto_rows": null,
            "grid_column": null,
            "grid_gap": null,
            "grid_row": null,
            "grid_template_areas": null,
            "grid_template_columns": null,
            "grid_template_rows": null,
            "height": null,
            "justify_content": null,
            "justify_items": null,
            "left": null,
            "margin": null,
            "max_height": null,
            "max_width": null,
            "min_height": null,
            "min_width": null,
            "object_fit": null,
            "object_position": null,
            "order": null,
            "overflow": null,
            "overflow_x": null,
            "overflow_y": null,
            "padding": null,
            "right": null,
            "top": null,
            "visibility": null,
            "width": null
          }
        },
        "aaf7a401b7054bc2af32392ff6fa185d": {
          "model_module": "@jupyter-widgets/base",
          "model_name": "LayoutModel",
          "model_module_version": "1.2.0",
          "state": {
            "_model_module": "@jupyter-widgets/base",
            "_model_module_version": "1.2.0",
            "_model_name": "LayoutModel",
            "_view_count": null,
            "_view_module": "@jupyter-widgets/base",
            "_view_module_version": "1.2.0",
            "_view_name": "LayoutView",
            "align_content": null,
            "align_items": null,
            "align_self": null,
            "border": null,
            "bottom": null,
            "display": null,
            "flex": null,
            "flex_flow": null,
            "grid_area": null,
            "grid_auto_columns": null,
            "grid_auto_flow": null,
            "grid_auto_rows": null,
            "grid_column": null,
            "grid_gap": null,
            "grid_row": null,
            "grid_template_areas": null,
            "grid_template_columns": null,
            "grid_template_rows": null,
            "height": null,
            "justify_content": null,
            "justify_items": null,
            "left": null,
            "margin": null,
            "max_height": null,
            "max_width": null,
            "min_height": null,
            "min_width": null,
            "object_fit": null,
            "object_position": null,
            "order": null,
            "overflow": null,
            "overflow_x": null,
            "overflow_y": null,
            "padding": null,
            "right": null,
            "top": null,
            "visibility": null,
            "width": null
          }
        },
        "fdeeed0a7a7049aab98cb96d22221d51": {
          "model_module": "@jupyter-widgets/controls",
          "model_name": "DescriptionStyleModel",
          "model_module_version": "1.5.0",
          "state": {
            "_model_module": "@jupyter-widgets/controls",
            "_model_module_version": "1.5.0",
            "_model_name": "DescriptionStyleModel",
            "_view_count": null,
            "_view_module": "@jupyter-widgets/base",
            "_view_module_version": "1.2.0",
            "_view_name": "StyleView",
            "description_width": ""
          }
        },
        "a6a5778c64d24b739daf90c192fa495b": {
          "model_module": "@jupyter-widgets/base",
          "model_name": "LayoutModel",
          "model_module_version": "1.2.0",
          "state": {
            "_model_module": "@jupyter-widgets/base",
            "_model_module_version": "1.2.0",
            "_model_name": "LayoutModel",
            "_view_count": null,
            "_view_module": "@jupyter-widgets/base",
            "_view_module_version": "1.2.0",
            "_view_name": "LayoutView",
            "align_content": null,
            "align_items": null,
            "align_self": null,
            "border": null,
            "bottom": null,
            "display": null,
            "flex": null,
            "flex_flow": null,
            "grid_area": null,
            "grid_auto_columns": null,
            "grid_auto_flow": null,
            "grid_auto_rows": null,
            "grid_column": null,
            "grid_gap": null,
            "grid_row": null,
            "grid_template_areas": null,
            "grid_template_columns": null,
            "grid_template_rows": null,
            "height": null,
            "justify_content": null,
            "justify_items": null,
            "left": null,
            "margin": null,
            "max_height": null,
            "max_width": null,
            "min_height": null,
            "min_width": null,
            "object_fit": null,
            "object_position": null,
            "order": null,
            "overflow": null,
            "overflow_x": null,
            "overflow_y": null,
            "padding": null,
            "right": null,
            "top": null,
            "visibility": null,
            "width": null
          }
        },
        "30951d4242c84949ab42db58efb45312": {
          "model_module": "@jupyter-widgets/controls",
          "model_name": "ProgressStyleModel",
          "model_module_version": "1.5.0",
          "state": {
            "_model_module": "@jupyter-widgets/controls",
            "_model_module_version": "1.5.0",
            "_model_name": "ProgressStyleModel",
            "_view_count": null,
            "_view_module": "@jupyter-widgets/base",
            "_view_module_version": "1.2.0",
            "_view_name": "StyleView",
            "bar_color": null,
            "description_width": ""
          }
        },
        "70dce14c5db743a9b750861d0d95e8a8": {
          "model_module": "@jupyter-widgets/base",
          "model_name": "LayoutModel",
          "model_module_version": "1.2.0",
          "state": {
            "_model_module": "@jupyter-widgets/base",
            "_model_module_version": "1.2.0",
            "_model_name": "LayoutModel",
            "_view_count": null,
            "_view_module": "@jupyter-widgets/base",
            "_view_module_version": "1.2.0",
            "_view_name": "LayoutView",
            "align_content": null,
            "align_items": null,
            "align_self": null,
            "border": null,
            "bottom": null,
            "display": null,
            "flex": null,
            "flex_flow": null,
            "grid_area": null,
            "grid_auto_columns": null,
            "grid_auto_flow": null,
            "grid_auto_rows": null,
            "grid_column": null,
            "grid_gap": null,
            "grid_row": null,
            "grid_template_areas": null,
            "grid_template_columns": null,
            "grid_template_rows": null,
            "height": null,
            "justify_content": null,
            "justify_items": null,
            "left": null,
            "margin": null,
            "max_height": null,
            "max_width": null,
            "min_height": null,
            "min_width": null,
            "object_fit": null,
            "object_position": null,
            "order": null,
            "overflow": null,
            "overflow_x": null,
            "overflow_y": null,
            "padding": null,
            "right": null,
            "top": null,
            "visibility": null,
            "width": null
          }
        },
        "cf4b53d64d604f00acf5e39b227c4431": {
          "model_module": "@jupyter-widgets/controls",
          "model_name": "DescriptionStyleModel",
          "model_module_version": "1.5.0",
          "state": {
            "_model_module": "@jupyter-widgets/controls",
            "_model_module_version": "1.5.0",
            "_model_name": "DescriptionStyleModel",
            "_view_count": null,
            "_view_module": "@jupyter-widgets/base",
            "_view_module_version": "1.2.0",
            "_view_name": "StyleView",
            "description_width": ""
          }
        },
        "5818b899259b453ea1e425d7aba78e96": {
          "model_module": "@jupyter-widgets/controls",
          "model_name": "HBoxModel",
          "model_module_version": "1.5.0",
          "state": {
            "_dom_classes": [],
            "_model_module": "@jupyter-widgets/controls",
            "_model_module_version": "1.5.0",
            "_model_name": "HBoxModel",
            "_view_count": null,
            "_view_module": "@jupyter-widgets/controls",
            "_view_module_version": "1.5.0",
            "_view_name": "HBoxView",
            "box_style": "",
            "children": [
              "IPY_MODEL_d8c7bfee8fd848e3a61e68f1a37be216",
              "IPY_MODEL_bcbc8f0b3c784f36ac7c334fa47e7489",
              "IPY_MODEL_b210dfeca38f481aa555d6918ecada5c"
            ],
            "layout": "IPY_MODEL_d0d201a9afd5451083f353986bf25397"
          }
        },
        "d8c7bfee8fd848e3a61e68f1a37be216": {
          "model_module": "@jupyter-widgets/controls",
          "model_name": "HTMLModel",
          "model_module_version": "1.5.0",
          "state": {
            "_dom_classes": [],
            "_model_module": "@jupyter-widgets/controls",
            "_model_module_version": "1.5.0",
            "_model_name": "HTMLModel",
            "_view_count": null,
            "_view_module": "@jupyter-widgets/controls",
            "_view_module_version": "1.5.0",
            "_view_name": "HTMLView",
            "description": "",
            "description_tooltip": null,
            "layout": "IPY_MODEL_32a1cb67326b47c996d1ae8c3e30696f",
            "placeholder": "​",
            "style": "IPY_MODEL_f7991acb7c774d4992bab6c8a4ccd7cc",
            "value": "merges.txt: 100%"
          }
        },
        "bcbc8f0b3c784f36ac7c334fa47e7489": {
          "model_module": "@jupyter-widgets/controls",
          "model_name": "FloatProgressModel",
          "model_module_version": "1.5.0",
          "state": {
            "_dom_classes": [],
            "_model_module": "@jupyter-widgets/controls",
            "_model_module_version": "1.5.0",
            "_model_name": "FloatProgressModel",
            "_view_count": null,
            "_view_module": "@jupyter-widgets/controls",
            "_view_module_version": "1.5.0",
            "_view_name": "ProgressView",
            "bar_style": "success",
            "description": "",
            "description_tooltip": null,
            "layout": "IPY_MODEL_cd7b4dc09e654ba28d33167c6a70b82d",
            "max": 456318,
            "min": 0,
            "orientation": "horizontal",
            "style": "IPY_MODEL_65979d17c6c042baaa4df46c4dcf492a",
            "value": 456318
          }
        },
        "b210dfeca38f481aa555d6918ecada5c": {
          "model_module": "@jupyter-widgets/controls",
          "model_name": "HTMLModel",
          "model_module_version": "1.5.0",
          "state": {
            "_dom_classes": [],
            "_model_module": "@jupyter-widgets/controls",
            "_model_module_version": "1.5.0",
            "_model_name": "HTMLModel",
            "_view_count": null,
            "_view_module": "@jupyter-widgets/controls",
            "_view_module_version": "1.5.0",
            "_view_name": "HTMLView",
            "description": "",
            "description_tooltip": null,
            "layout": "IPY_MODEL_42437607cc3b48609b25a99ff0b7f680",
            "placeholder": "​",
            "style": "IPY_MODEL_0cd81a620bdb425697b700f04c209f43",
            "value": " 456k/456k [00:00&lt;00:00, 22.1MB/s]"
          }
        },
        "d0d201a9afd5451083f353986bf25397": {
          "model_module": "@jupyter-widgets/base",
          "model_name": "LayoutModel",
          "model_module_version": "1.2.0",
          "state": {
            "_model_module": "@jupyter-widgets/base",
            "_model_module_version": "1.2.0",
            "_model_name": "LayoutModel",
            "_view_count": null,
            "_view_module": "@jupyter-widgets/base",
            "_view_module_version": "1.2.0",
            "_view_name": "LayoutView",
            "align_content": null,
            "align_items": null,
            "align_self": null,
            "border": null,
            "bottom": null,
            "display": null,
            "flex": null,
            "flex_flow": null,
            "grid_area": null,
            "grid_auto_columns": null,
            "grid_auto_flow": null,
            "grid_auto_rows": null,
            "grid_column": null,
            "grid_gap": null,
            "grid_row": null,
            "grid_template_areas": null,
            "grid_template_columns": null,
            "grid_template_rows": null,
            "height": null,
            "justify_content": null,
            "justify_items": null,
            "left": null,
            "margin": null,
            "max_height": null,
            "max_width": null,
            "min_height": null,
            "min_width": null,
            "object_fit": null,
            "object_position": null,
            "order": null,
            "overflow": null,
            "overflow_x": null,
            "overflow_y": null,
            "padding": null,
            "right": null,
            "top": null,
            "visibility": null,
            "width": null
          }
        },
        "32a1cb67326b47c996d1ae8c3e30696f": {
          "model_module": "@jupyter-widgets/base",
          "model_name": "LayoutModel",
          "model_module_version": "1.2.0",
          "state": {
            "_model_module": "@jupyter-widgets/base",
            "_model_module_version": "1.2.0",
            "_model_name": "LayoutModel",
            "_view_count": null,
            "_view_module": "@jupyter-widgets/base",
            "_view_module_version": "1.2.0",
            "_view_name": "LayoutView",
            "align_content": null,
            "align_items": null,
            "align_self": null,
            "border": null,
            "bottom": null,
            "display": null,
            "flex": null,
            "flex_flow": null,
            "grid_area": null,
            "grid_auto_columns": null,
            "grid_auto_flow": null,
            "grid_auto_rows": null,
            "grid_column": null,
            "grid_gap": null,
            "grid_row": null,
            "grid_template_areas": null,
            "grid_template_columns": null,
            "grid_template_rows": null,
            "height": null,
            "justify_content": null,
            "justify_items": null,
            "left": null,
            "margin": null,
            "max_height": null,
            "max_width": null,
            "min_height": null,
            "min_width": null,
            "object_fit": null,
            "object_position": null,
            "order": null,
            "overflow": null,
            "overflow_x": null,
            "overflow_y": null,
            "padding": null,
            "right": null,
            "top": null,
            "visibility": null,
            "width": null
          }
        },
        "f7991acb7c774d4992bab6c8a4ccd7cc": {
          "model_module": "@jupyter-widgets/controls",
          "model_name": "DescriptionStyleModel",
          "model_module_version": "1.5.0",
          "state": {
            "_model_module": "@jupyter-widgets/controls",
            "_model_module_version": "1.5.0",
            "_model_name": "DescriptionStyleModel",
            "_view_count": null,
            "_view_module": "@jupyter-widgets/base",
            "_view_module_version": "1.2.0",
            "_view_name": "StyleView",
            "description_width": ""
          }
        },
        "cd7b4dc09e654ba28d33167c6a70b82d": {
          "model_module": "@jupyter-widgets/base",
          "model_name": "LayoutModel",
          "model_module_version": "1.2.0",
          "state": {
            "_model_module": "@jupyter-widgets/base",
            "_model_module_version": "1.2.0",
            "_model_name": "LayoutModel",
            "_view_count": null,
            "_view_module": "@jupyter-widgets/base",
            "_view_module_version": "1.2.0",
            "_view_name": "LayoutView",
            "align_content": null,
            "align_items": null,
            "align_self": null,
            "border": null,
            "bottom": null,
            "display": null,
            "flex": null,
            "flex_flow": null,
            "grid_area": null,
            "grid_auto_columns": null,
            "grid_auto_flow": null,
            "grid_auto_rows": null,
            "grid_column": null,
            "grid_gap": null,
            "grid_row": null,
            "grid_template_areas": null,
            "grid_template_columns": null,
            "grid_template_rows": null,
            "height": null,
            "justify_content": null,
            "justify_items": null,
            "left": null,
            "margin": null,
            "max_height": null,
            "max_width": null,
            "min_height": null,
            "min_width": null,
            "object_fit": null,
            "object_position": null,
            "order": null,
            "overflow": null,
            "overflow_x": null,
            "overflow_y": null,
            "padding": null,
            "right": null,
            "top": null,
            "visibility": null,
            "width": null
          }
        },
        "65979d17c6c042baaa4df46c4dcf492a": {
          "model_module": "@jupyter-widgets/controls",
          "model_name": "ProgressStyleModel",
          "model_module_version": "1.5.0",
          "state": {
            "_model_module": "@jupyter-widgets/controls",
            "_model_module_version": "1.5.0",
            "_model_name": "ProgressStyleModel",
            "_view_count": null,
            "_view_module": "@jupyter-widgets/base",
            "_view_module_version": "1.2.0",
            "_view_name": "StyleView",
            "bar_color": null,
            "description_width": ""
          }
        },
        "42437607cc3b48609b25a99ff0b7f680": {
          "model_module": "@jupyter-widgets/base",
          "model_name": "LayoutModel",
          "model_module_version": "1.2.0",
          "state": {
            "_model_module": "@jupyter-widgets/base",
            "_model_module_version": "1.2.0",
            "_model_name": "LayoutModel",
            "_view_count": null,
            "_view_module": "@jupyter-widgets/base",
            "_view_module_version": "1.2.0",
            "_view_name": "LayoutView",
            "align_content": null,
            "align_items": null,
            "align_self": null,
            "border": null,
            "bottom": null,
            "display": null,
            "flex": null,
            "flex_flow": null,
            "grid_area": null,
            "grid_auto_columns": null,
            "grid_auto_flow": null,
            "grid_auto_rows": null,
            "grid_column": null,
            "grid_gap": null,
            "grid_row": null,
            "grid_template_areas": null,
            "grid_template_columns": null,
            "grid_template_rows": null,
            "height": null,
            "justify_content": null,
            "justify_items": null,
            "left": null,
            "margin": null,
            "max_height": null,
            "max_width": null,
            "min_height": null,
            "min_width": null,
            "object_fit": null,
            "object_position": null,
            "order": null,
            "overflow": null,
            "overflow_x": null,
            "overflow_y": null,
            "padding": null,
            "right": null,
            "top": null,
            "visibility": null,
            "width": null
          }
        },
        "0cd81a620bdb425697b700f04c209f43": {
          "model_module": "@jupyter-widgets/controls",
          "model_name": "DescriptionStyleModel",
          "model_module_version": "1.5.0",
          "state": {
            "_model_module": "@jupyter-widgets/controls",
            "_model_module_version": "1.5.0",
            "_model_name": "DescriptionStyleModel",
            "_view_count": null,
            "_view_module": "@jupyter-widgets/base",
            "_view_module_version": "1.2.0",
            "_view_name": "StyleView",
            "description_width": ""
          }
        },
        "834611a054304799ba7b84d0c4ca69ed": {
          "model_module": "@jupyter-widgets/controls",
          "model_name": "HBoxModel",
          "model_module_version": "1.5.0",
          "state": {
            "_dom_classes": [],
            "_model_module": "@jupyter-widgets/controls",
            "_model_module_version": "1.5.0",
            "_model_name": "HBoxModel",
            "_view_count": null,
            "_view_module": "@jupyter-widgets/controls",
            "_view_module_version": "1.5.0",
            "_view_name": "HBoxView",
            "box_style": "",
            "children": [
              "IPY_MODEL_1e02e9453fc6450b9f8cc29f14df1065",
              "IPY_MODEL_f4875a3df0f749b18189a4a7a98096a9",
              "IPY_MODEL_2141cfc4463741e5bc68fecb0385e94b"
            ],
            "layout": "IPY_MODEL_169b5432a2af4f2bbda60eb828e62ead"
          }
        },
        "1e02e9453fc6450b9f8cc29f14df1065": {
          "model_module": "@jupyter-widgets/controls",
          "model_name": "HTMLModel",
          "model_module_version": "1.5.0",
          "state": {
            "_dom_classes": [],
            "_model_module": "@jupyter-widgets/controls",
            "_model_module_version": "1.5.0",
            "_model_name": "HTMLModel",
            "_view_count": null,
            "_view_module": "@jupyter-widgets/controls",
            "_view_module_version": "1.5.0",
            "_view_name": "HTMLView",
            "description": "",
            "description_tooltip": null,
            "layout": "IPY_MODEL_a4f9a9ab06eb4d7d9ee4be3052819f40",
            "placeholder": "​",
            "style": "IPY_MODEL_6d76803667d3446682949f28d30c2abf",
            "value": "tokenizer.json: 100%"
          }
        },
        "f4875a3df0f749b18189a4a7a98096a9": {
          "model_module": "@jupyter-widgets/controls",
          "model_name": "FloatProgressModel",
          "model_module_version": "1.5.0",
          "state": {
            "_dom_classes": [],
            "_model_module": "@jupyter-widgets/controls",
            "_model_module_version": "1.5.0",
            "_model_name": "FloatProgressModel",
            "_view_count": null,
            "_view_module": "@jupyter-widgets/controls",
            "_view_module_version": "1.5.0",
            "_view_name": "ProgressView",
            "bar_style": "success",
            "description": "",
            "description_tooltip": null,
            "layout": "IPY_MODEL_40501d773c0a4f758cee2bee027b3a29",
            "max": 1355256,
            "min": 0,
            "orientation": "horizontal",
            "style": "IPY_MODEL_fafc1087358f44c3a67604f4ff30941c",
            "value": 1355256
          }
        },
        "2141cfc4463741e5bc68fecb0385e94b": {
          "model_module": "@jupyter-widgets/controls",
          "model_name": "HTMLModel",
          "model_module_version": "1.5.0",
          "state": {
            "_dom_classes": [],
            "_model_module": "@jupyter-widgets/controls",
            "_model_module_version": "1.5.0",
            "_model_name": "HTMLModel",
            "_view_count": null,
            "_view_module": "@jupyter-widgets/controls",
            "_view_module_version": "1.5.0",
            "_view_name": "HTMLView",
            "description": "",
            "description_tooltip": null,
            "layout": "IPY_MODEL_53792f7a36ec4aba9117de5ec8761389",
            "placeholder": "​",
            "style": "IPY_MODEL_1fdc9bbde9af4e6891768555e18cc902",
            "value": " 1.36M/1.36M [00:00&lt;00:00, 5.62MB/s]"
          }
        },
        "169b5432a2af4f2bbda60eb828e62ead": {
          "model_module": "@jupyter-widgets/base",
          "model_name": "LayoutModel",
          "model_module_version": "1.2.0",
          "state": {
            "_model_module": "@jupyter-widgets/base",
            "_model_module_version": "1.2.0",
            "_model_name": "LayoutModel",
            "_view_count": null,
            "_view_module": "@jupyter-widgets/base",
            "_view_module_version": "1.2.0",
            "_view_name": "LayoutView",
            "align_content": null,
            "align_items": null,
            "align_self": null,
            "border": null,
            "bottom": null,
            "display": null,
            "flex": null,
            "flex_flow": null,
            "grid_area": null,
            "grid_auto_columns": null,
            "grid_auto_flow": null,
            "grid_auto_rows": null,
            "grid_column": null,
            "grid_gap": null,
            "grid_row": null,
            "grid_template_areas": null,
            "grid_template_columns": null,
            "grid_template_rows": null,
            "height": null,
            "justify_content": null,
            "justify_items": null,
            "left": null,
            "margin": null,
            "max_height": null,
            "max_width": null,
            "min_height": null,
            "min_width": null,
            "object_fit": null,
            "object_position": null,
            "order": null,
            "overflow": null,
            "overflow_x": null,
            "overflow_y": null,
            "padding": null,
            "right": null,
            "top": null,
            "visibility": null,
            "width": null
          }
        },
        "a4f9a9ab06eb4d7d9ee4be3052819f40": {
          "model_module": "@jupyter-widgets/base",
          "model_name": "LayoutModel",
          "model_module_version": "1.2.0",
          "state": {
            "_model_module": "@jupyter-widgets/base",
            "_model_module_version": "1.2.0",
            "_model_name": "LayoutModel",
            "_view_count": null,
            "_view_module": "@jupyter-widgets/base",
            "_view_module_version": "1.2.0",
            "_view_name": "LayoutView",
            "align_content": null,
            "align_items": null,
            "align_self": null,
            "border": null,
            "bottom": null,
            "display": null,
            "flex": null,
            "flex_flow": null,
            "grid_area": null,
            "grid_auto_columns": null,
            "grid_auto_flow": null,
            "grid_auto_rows": null,
            "grid_column": null,
            "grid_gap": null,
            "grid_row": null,
            "grid_template_areas": null,
            "grid_template_columns": null,
            "grid_template_rows": null,
            "height": null,
            "justify_content": null,
            "justify_items": null,
            "left": null,
            "margin": null,
            "max_height": null,
            "max_width": null,
            "min_height": null,
            "min_width": null,
            "object_fit": null,
            "object_position": null,
            "order": null,
            "overflow": null,
            "overflow_x": null,
            "overflow_y": null,
            "padding": null,
            "right": null,
            "top": null,
            "visibility": null,
            "width": null
          }
        },
        "6d76803667d3446682949f28d30c2abf": {
          "model_module": "@jupyter-widgets/controls",
          "model_name": "DescriptionStyleModel",
          "model_module_version": "1.5.0",
          "state": {
            "_model_module": "@jupyter-widgets/controls",
            "_model_module_version": "1.5.0",
            "_model_name": "DescriptionStyleModel",
            "_view_count": null,
            "_view_module": "@jupyter-widgets/base",
            "_view_module_version": "1.2.0",
            "_view_name": "StyleView",
            "description_width": ""
          }
        },
        "40501d773c0a4f758cee2bee027b3a29": {
          "model_module": "@jupyter-widgets/base",
          "model_name": "LayoutModel",
          "model_module_version": "1.2.0",
          "state": {
            "_model_module": "@jupyter-widgets/base",
            "_model_module_version": "1.2.0",
            "_model_name": "LayoutModel",
            "_view_count": null,
            "_view_module": "@jupyter-widgets/base",
            "_view_module_version": "1.2.0",
            "_view_name": "LayoutView",
            "align_content": null,
            "align_items": null,
            "align_self": null,
            "border": null,
            "bottom": null,
            "display": null,
            "flex": null,
            "flex_flow": null,
            "grid_area": null,
            "grid_auto_columns": null,
            "grid_auto_flow": null,
            "grid_auto_rows": null,
            "grid_column": null,
            "grid_gap": null,
            "grid_row": null,
            "grid_template_areas": null,
            "grid_template_columns": null,
            "grid_template_rows": null,
            "height": null,
            "justify_content": null,
            "justify_items": null,
            "left": null,
            "margin": null,
            "max_height": null,
            "max_width": null,
            "min_height": null,
            "min_width": null,
            "object_fit": null,
            "object_position": null,
            "order": null,
            "overflow": null,
            "overflow_x": null,
            "overflow_y": null,
            "padding": null,
            "right": null,
            "top": null,
            "visibility": null,
            "width": null
          }
        },
        "fafc1087358f44c3a67604f4ff30941c": {
          "model_module": "@jupyter-widgets/controls",
          "model_name": "ProgressStyleModel",
          "model_module_version": "1.5.0",
          "state": {
            "_model_module": "@jupyter-widgets/controls",
            "_model_module_version": "1.5.0",
            "_model_name": "ProgressStyleModel",
            "_view_count": null,
            "_view_module": "@jupyter-widgets/base",
            "_view_module_version": "1.2.0",
            "_view_name": "StyleView",
            "bar_color": null,
            "description_width": ""
          }
        },
        "53792f7a36ec4aba9117de5ec8761389": {
          "model_module": "@jupyter-widgets/base",
          "model_name": "LayoutModel",
          "model_module_version": "1.2.0",
          "state": {
            "_model_module": "@jupyter-widgets/base",
            "_model_module_version": "1.2.0",
            "_model_name": "LayoutModel",
            "_view_count": null,
            "_view_module": "@jupyter-widgets/base",
            "_view_module_version": "1.2.0",
            "_view_name": "LayoutView",
            "align_content": null,
            "align_items": null,
            "align_self": null,
            "border": null,
            "bottom": null,
            "display": null,
            "flex": null,
            "flex_flow": null,
            "grid_area": null,
            "grid_auto_columns": null,
            "grid_auto_flow": null,
            "grid_auto_rows": null,
            "grid_column": null,
            "grid_gap": null,
            "grid_row": null,
            "grid_template_areas": null,
            "grid_template_columns": null,
            "grid_template_rows": null,
            "height": null,
            "justify_content": null,
            "justify_items": null,
            "left": null,
            "margin": null,
            "max_height": null,
            "max_width": null,
            "min_height": null,
            "min_width": null,
            "object_fit": null,
            "object_position": null,
            "order": null,
            "overflow": null,
            "overflow_x": null,
            "overflow_y": null,
            "padding": null,
            "right": null,
            "top": null,
            "visibility": null,
            "width": null
          }
        },
        "1fdc9bbde9af4e6891768555e18cc902": {
          "model_module": "@jupyter-widgets/controls",
          "model_name": "DescriptionStyleModel",
          "model_module_version": "1.5.0",
          "state": {
            "_model_module": "@jupyter-widgets/controls",
            "_model_module_version": "1.5.0",
            "_model_name": "DescriptionStyleModel",
            "_view_count": null,
            "_view_module": "@jupyter-widgets/base",
            "_view_module_version": "1.2.0",
            "_view_name": "StyleView",
            "description_width": ""
          }
        },
        "9a6966a2c20c49d2b8e8f6f4c6ae6c22": {
          "model_module": "@jupyter-widgets/controls",
          "model_name": "HBoxModel",
          "model_module_version": "1.5.0",
          "state": {
            "_dom_classes": [],
            "_model_module": "@jupyter-widgets/controls",
            "_model_module_version": "1.5.0",
            "_model_name": "HBoxModel",
            "_view_count": null,
            "_view_module": "@jupyter-widgets/controls",
            "_view_module_version": "1.5.0",
            "_view_name": "HBoxView",
            "box_style": "",
            "children": [
              "IPY_MODEL_6fa73addbd0240419525096e6ffedcb3",
              "IPY_MODEL_dab74654d5b546cea8ed078343d4798c",
              "IPY_MODEL_0355eb0b94924501a08a358b09e1df44"
            ],
            "layout": "IPY_MODEL_9f46b16dfdc842509ea4a5618188e507"
          }
        },
        "6fa73addbd0240419525096e6ffedcb3": {
          "model_module": "@jupyter-widgets/controls",
          "model_name": "HTMLModel",
          "model_module_version": "1.5.0",
          "state": {
            "_dom_classes": [],
            "_model_module": "@jupyter-widgets/controls",
            "_model_module_version": "1.5.0",
            "_model_name": "HTMLModel",
            "_view_count": null,
            "_view_module": "@jupyter-widgets/controls",
            "_view_module_version": "1.5.0",
            "_view_name": "HTMLView",
            "description": "",
            "description_tooltip": null,
            "layout": "IPY_MODEL_5e275d6883a547d5848ed5c18701f597",
            "placeholder": "​",
            "style": "IPY_MODEL_5f59966324464d34a82951a45023f1b1",
            "value": "config.json: 100%"
          }
        },
        "dab74654d5b546cea8ed078343d4798c": {
          "model_module": "@jupyter-widgets/controls",
          "model_name": "FloatProgressModel",
          "model_module_version": "1.5.0",
          "state": {
            "_dom_classes": [],
            "_model_module": "@jupyter-widgets/controls",
            "_model_module_version": "1.5.0",
            "_model_name": "FloatProgressModel",
            "_view_count": null,
            "_view_module": "@jupyter-widgets/controls",
            "_view_module_version": "1.5.0",
            "_view_name": "ProgressView",
            "bar_style": "success",
            "description": "",
            "description_tooltip": null,
            "layout": "IPY_MODEL_5fc1bc0f9607474a8c402080dc5e2801",
            "max": 665,
            "min": 0,
            "orientation": "horizontal",
            "style": "IPY_MODEL_2f17cf99658a43208759f11f4f67854d",
            "value": 665
          }
        },
        "0355eb0b94924501a08a358b09e1df44": {
          "model_module": "@jupyter-widgets/controls",
          "model_name": "HTMLModel",
          "model_module_version": "1.5.0",
          "state": {
            "_dom_classes": [],
            "_model_module": "@jupyter-widgets/controls",
            "_model_module_version": "1.5.0",
            "_model_name": "HTMLModel",
            "_view_count": null,
            "_view_module": "@jupyter-widgets/controls",
            "_view_module_version": "1.5.0",
            "_view_name": "HTMLView",
            "description": "",
            "description_tooltip": null,
            "layout": "IPY_MODEL_4f9aeadb6a80417ba78712186737b6d7",
            "placeholder": "​",
            "style": "IPY_MODEL_9b4af99e2f63458b83edf796aa6d7a37",
            "value": " 665/665 [00:00&lt;00:00, 31.3kB/s]"
          }
        },
        "9f46b16dfdc842509ea4a5618188e507": {
          "model_module": "@jupyter-widgets/base",
          "model_name": "LayoutModel",
          "model_module_version": "1.2.0",
          "state": {
            "_model_module": "@jupyter-widgets/base",
            "_model_module_version": "1.2.0",
            "_model_name": "LayoutModel",
            "_view_count": null,
            "_view_module": "@jupyter-widgets/base",
            "_view_module_version": "1.2.0",
            "_view_name": "LayoutView",
            "align_content": null,
            "align_items": null,
            "align_self": null,
            "border": null,
            "bottom": null,
            "display": null,
            "flex": null,
            "flex_flow": null,
            "grid_area": null,
            "grid_auto_columns": null,
            "grid_auto_flow": null,
            "grid_auto_rows": null,
            "grid_column": null,
            "grid_gap": null,
            "grid_row": null,
            "grid_template_areas": null,
            "grid_template_columns": null,
            "grid_template_rows": null,
            "height": null,
            "justify_content": null,
            "justify_items": null,
            "left": null,
            "margin": null,
            "max_height": null,
            "max_width": null,
            "min_height": null,
            "min_width": null,
            "object_fit": null,
            "object_position": null,
            "order": null,
            "overflow": null,
            "overflow_x": null,
            "overflow_y": null,
            "padding": null,
            "right": null,
            "top": null,
            "visibility": null,
            "width": null
          }
        },
        "5e275d6883a547d5848ed5c18701f597": {
          "model_module": "@jupyter-widgets/base",
          "model_name": "LayoutModel",
          "model_module_version": "1.2.0",
          "state": {
            "_model_module": "@jupyter-widgets/base",
            "_model_module_version": "1.2.0",
            "_model_name": "LayoutModel",
            "_view_count": null,
            "_view_module": "@jupyter-widgets/base",
            "_view_module_version": "1.2.0",
            "_view_name": "LayoutView",
            "align_content": null,
            "align_items": null,
            "align_self": null,
            "border": null,
            "bottom": null,
            "display": null,
            "flex": null,
            "flex_flow": null,
            "grid_area": null,
            "grid_auto_columns": null,
            "grid_auto_flow": null,
            "grid_auto_rows": null,
            "grid_column": null,
            "grid_gap": null,
            "grid_row": null,
            "grid_template_areas": null,
            "grid_template_columns": null,
            "grid_template_rows": null,
            "height": null,
            "justify_content": null,
            "justify_items": null,
            "left": null,
            "margin": null,
            "max_height": null,
            "max_width": null,
            "min_height": null,
            "min_width": null,
            "object_fit": null,
            "object_position": null,
            "order": null,
            "overflow": null,
            "overflow_x": null,
            "overflow_y": null,
            "padding": null,
            "right": null,
            "top": null,
            "visibility": null,
            "width": null
          }
        },
        "5f59966324464d34a82951a45023f1b1": {
          "model_module": "@jupyter-widgets/controls",
          "model_name": "DescriptionStyleModel",
          "model_module_version": "1.5.0",
          "state": {
            "_model_module": "@jupyter-widgets/controls",
            "_model_module_version": "1.5.0",
            "_model_name": "DescriptionStyleModel",
            "_view_count": null,
            "_view_module": "@jupyter-widgets/base",
            "_view_module_version": "1.2.0",
            "_view_name": "StyleView",
            "description_width": ""
          }
        },
        "5fc1bc0f9607474a8c402080dc5e2801": {
          "model_module": "@jupyter-widgets/base",
          "model_name": "LayoutModel",
          "model_module_version": "1.2.0",
          "state": {
            "_model_module": "@jupyter-widgets/base",
            "_model_module_version": "1.2.0",
            "_model_name": "LayoutModel",
            "_view_count": null,
            "_view_module": "@jupyter-widgets/base",
            "_view_module_version": "1.2.0",
            "_view_name": "LayoutView",
            "align_content": null,
            "align_items": null,
            "align_self": null,
            "border": null,
            "bottom": null,
            "display": null,
            "flex": null,
            "flex_flow": null,
            "grid_area": null,
            "grid_auto_columns": null,
            "grid_auto_flow": null,
            "grid_auto_rows": null,
            "grid_column": null,
            "grid_gap": null,
            "grid_row": null,
            "grid_template_areas": null,
            "grid_template_columns": null,
            "grid_template_rows": null,
            "height": null,
            "justify_content": null,
            "justify_items": null,
            "left": null,
            "margin": null,
            "max_height": null,
            "max_width": null,
            "min_height": null,
            "min_width": null,
            "object_fit": null,
            "object_position": null,
            "order": null,
            "overflow": null,
            "overflow_x": null,
            "overflow_y": null,
            "padding": null,
            "right": null,
            "top": null,
            "visibility": null,
            "width": null
          }
        },
        "2f17cf99658a43208759f11f4f67854d": {
          "model_module": "@jupyter-widgets/controls",
          "model_name": "ProgressStyleModel",
          "model_module_version": "1.5.0",
          "state": {
            "_model_module": "@jupyter-widgets/controls",
            "_model_module_version": "1.5.0",
            "_model_name": "ProgressStyleModel",
            "_view_count": null,
            "_view_module": "@jupyter-widgets/base",
            "_view_module_version": "1.2.0",
            "_view_name": "StyleView",
            "bar_color": null,
            "description_width": ""
          }
        },
        "4f9aeadb6a80417ba78712186737b6d7": {
          "model_module": "@jupyter-widgets/base",
          "model_name": "LayoutModel",
          "model_module_version": "1.2.0",
          "state": {
            "_model_module": "@jupyter-widgets/base",
            "_model_module_version": "1.2.0",
            "_model_name": "LayoutModel",
            "_view_count": null,
            "_view_module": "@jupyter-widgets/base",
            "_view_module_version": "1.2.0",
            "_view_name": "LayoutView",
            "align_content": null,
            "align_items": null,
            "align_self": null,
            "border": null,
            "bottom": null,
            "display": null,
            "flex": null,
            "flex_flow": null,
            "grid_area": null,
            "grid_auto_columns": null,
            "grid_auto_flow": null,
            "grid_auto_rows": null,
            "grid_column": null,
            "grid_gap": null,
            "grid_row": null,
            "grid_template_areas": null,
            "grid_template_columns": null,
            "grid_template_rows": null,
            "height": null,
            "justify_content": null,
            "justify_items": null,
            "left": null,
            "margin": null,
            "max_height": null,
            "max_width": null,
            "min_height": null,
            "min_width": null,
            "object_fit": null,
            "object_position": null,
            "order": null,
            "overflow": null,
            "overflow_x": null,
            "overflow_y": null,
            "padding": null,
            "right": null,
            "top": null,
            "visibility": null,
            "width": null
          }
        },
        "9b4af99e2f63458b83edf796aa6d7a37": {
          "model_module": "@jupyter-widgets/controls",
          "model_name": "DescriptionStyleModel",
          "model_module_version": "1.5.0",
          "state": {
            "_model_module": "@jupyter-widgets/controls",
            "_model_module_version": "1.5.0",
            "_model_name": "DescriptionStyleModel",
            "_view_count": null,
            "_view_module": "@jupyter-widgets/base",
            "_view_module_version": "1.2.0",
            "_view_name": "StyleView",
            "description_width": ""
          }
        },
        "074e51d030c740f58c819f8a47f77e2a": {
          "model_module": "@jupyter-widgets/controls",
          "model_name": "HBoxModel",
          "model_module_version": "1.5.0",
          "state": {
            "_dom_classes": [],
            "_model_module": "@jupyter-widgets/controls",
            "_model_module_version": "1.5.0",
            "_model_name": "HBoxModel",
            "_view_count": null,
            "_view_module": "@jupyter-widgets/controls",
            "_view_module_version": "1.5.0",
            "_view_name": "HBoxView",
            "box_style": "",
            "children": [
              "IPY_MODEL_b32b75e9cfff4ef6841a4ef191c83cbe",
              "IPY_MODEL_0d5acdf6a5554b6eac637da6f303c634",
              "IPY_MODEL_655559560d5949caa7017a0a6358169d"
            ],
            "layout": "IPY_MODEL_5afbf51a53704f03943ffa265fe814de"
          }
        },
        "b32b75e9cfff4ef6841a4ef191c83cbe": {
          "model_module": "@jupyter-widgets/controls",
          "model_name": "HTMLModel",
          "model_module_version": "1.5.0",
          "state": {
            "_dom_classes": [],
            "_model_module": "@jupyter-widgets/controls",
            "_model_module_version": "1.5.0",
            "_model_name": "HTMLModel",
            "_view_count": null,
            "_view_module": "@jupyter-widgets/controls",
            "_view_module_version": "1.5.0",
            "_view_name": "HTMLView",
            "description": "",
            "description_tooltip": null,
            "layout": "IPY_MODEL_4f80fd92eaf74b8c911219f4ec2d6b88",
            "placeholder": "​",
            "style": "IPY_MODEL_8e1695159a5f46228bd8b95978aba8c6",
            "value": "model.safetensors: 100%"
          }
        },
        "0d5acdf6a5554b6eac637da6f303c634": {
          "model_module": "@jupyter-widgets/controls",
          "model_name": "FloatProgressModel",
          "model_module_version": "1.5.0",
          "state": {
            "_dom_classes": [],
            "_model_module": "@jupyter-widgets/controls",
            "_model_module_version": "1.5.0",
            "_model_name": "FloatProgressModel",
            "_view_count": null,
            "_view_module": "@jupyter-widgets/controls",
            "_view_module_version": "1.5.0",
            "_view_name": "ProgressView",
            "bar_style": "success",
            "description": "",
            "description_tooltip": null,
            "layout": "IPY_MODEL_16b7cc5b06b5460a8baf628075197fed",
            "max": 548105171,
            "min": 0,
            "orientation": "horizontal",
            "style": "IPY_MODEL_5508bdea2dfd45439d599180e04f25b0",
            "value": 548105171
          }
        },
        "655559560d5949caa7017a0a6358169d": {
          "model_module": "@jupyter-widgets/controls",
          "model_name": "HTMLModel",
          "model_module_version": "1.5.0",
          "state": {
            "_dom_classes": [],
            "_model_module": "@jupyter-widgets/controls",
            "_model_module_version": "1.5.0",
            "_model_name": "HTMLModel",
            "_view_count": null,
            "_view_module": "@jupyter-widgets/controls",
            "_view_module_version": "1.5.0",
            "_view_name": "HTMLView",
            "description": "",
            "description_tooltip": null,
            "layout": "IPY_MODEL_c2112b97639e453ebd8b9a27f6122aa7",
            "placeholder": "​",
            "style": "IPY_MODEL_71d24cda9de14ce19abae91686a54f7b",
            "value": " 548M/548M [00:02&lt;00:00, 212MB/s]"
          }
        },
        "5afbf51a53704f03943ffa265fe814de": {
          "model_module": "@jupyter-widgets/base",
          "model_name": "LayoutModel",
          "model_module_version": "1.2.0",
          "state": {
            "_model_module": "@jupyter-widgets/base",
            "_model_module_version": "1.2.0",
            "_model_name": "LayoutModel",
            "_view_count": null,
            "_view_module": "@jupyter-widgets/base",
            "_view_module_version": "1.2.0",
            "_view_name": "LayoutView",
            "align_content": null,
            "align_items": null,
            "align_self": null,
            "border": null,
            "bottom": null,
            "display": null,
            "flex": null,
            "flex_flow": null,
            "grid_area": null,
            "grid_auto_columns": null,
            "grid_auto_flow": null,
            "grid_auto_rows": null,
            "grid_column": null,
            "grid_gap": null,
            "grid_row": null,
            "grid_template_areas": null,
            "grid_template_columns": null,
            "grid_template_rows": null,
            "height": null,
            "justify_content": null,
            "justify_items": null,
            "left": null,
            "margin": null,
            "max_height": null,
            "max_width": null,
            "min_height": null,
            "min_width": null,
            "object_fit": null,
            "object_position": null,
            "order": null,
            "overflow": null,
            "overflow_x": null,
            "overflow_y": null,
            "padding": null,
            "right": null,
            "top": null,
            "visibility": null,
            "width": null
          }
        },
        "4f80fd92eaf74b8c911219f4ec2d6b88": {
          "model_module": "@jupyter-widgets/base",
          "model_name": "LayoutModel",
          "model_module_version": "1.2.0",
          "state": {
            "_model_module": "@jupyter-widgets/base",
            "_model_module_version": "1.2.0",
            "_model_name": "LayoutModel",
            "_view_count": null,
            "_view_module": "@jupyter-widgets/base",
            "_view_module_version": "1.2.0",
            "_view_name": "LayoutView",
            "align_content": null,
            "align_items": null,
            "align_self": null,
            "border": null,
            "bottom": null,
            "display": null,
            "flex": null,
            "flex_flow": null,
            "grid_area": null,
            "grid_auto_columns": null,
            "grid_auto_flow": null,
            "grid_auto_rows": null,
            "grid_column": null,
            "grid_gap": null,
            "grid_row": null,
            "grid_template_areas": null,
            "grid_template_columns": null,
            "grid_template_rows": null,
            "height": null,
            "justify_content": null,
            "justify_items": null,
            "left": null,
            "margin": null,
            "max_height": null,
            "max_width": null,
            "min_height": null,
            "min_width": null,
            "object_fit": null,
            "object_position": null,
            "order": null,
            "overflow": null,
            "overflow_x": null,
            "overflow_y": null,
            "padding": null,
            "right": null,
            "top": null,
            "visibility": null,
            "width": null
          }
        },
        "8e1695159a5f46228bd8b95978aba8c6": {
          "model_module": "@jupyter-widgets/controls",
          "model_name": "DescriptionStyleModel",
          "model_module_version": "1.5.0",
          "state": {
            "_model_module": "@jupyter-widgets/controls",
            "_model_module_version": "1.5.0",
            "_model_name": "DescriptionStyleModel",
            "_view_count": null,
            "_view_module": "@jupyter-widgets/base",
            "_view_module_version": "1.2.0",
            "_view_name": "StyleView",
            "description_width": ""
          }
        },
        "16b7cc5b06b5460a8baf628075197fed": {
          "model_module": "@jupyter-widgets/base",
          "model_name": "LayoutModel",
          "model_module_version": "1.2.0",
          "state": {
            "_model_module": "@jupyter-widgets/base",
            "_model_module_version": "1.2.0",
            "_model_name": "LayoutModel",
            "_view_count": null,
            "_view_module": "@jupyter-widgets/base",
            "_view_module_version": "1.2.0",
            "_view_name": "LayoutView",
            "align_content": null,
            "align_items": null,
            "align_self": null,
            "border": null,
            "bottom": null,
            "display": null,
            "flex": null,
            "flex_flow": null,
            "grid_area": null,
            "grid_auto_columns": null,
            "grid_auto_flow": null,
            "grid_auto_rows": null,
            "grid_column": null,
            "grid_gap": null,
            "grid_row": null,
            "grid_template_areas": null,
            "grid_template_columns": null,
            "grid_template_rows": null,
            "height": null,
            "justify_content": null,
            "justify_items": null,
            "left": null,
            "margin": null,
            "max_height": null,
            "max_width": null,
            "min_height": null,
            "min_width": null,
            "object_fit": null,
            "object_position": null,
            "order": null,
            "overflow": null,
            "overflow_x": null,
            "overflow_y": null,
            "padding": null,
            "right": null,
            "top": null,
            "visibility": null,
            "width": null
          }
        },
        "5508bdea2dfd45439d599180e04f25b0": {
          "model_module": "@jupyter-widgets/controls",
          "model_name": "ProgressStyleModel",
          "model_module_version": "1.5.0",
          "state": {
            "_model_module": "@jupyter-widgets/controls",
            "_model_module_version": "1.5.0",
            "_model_name": "ProgressStyleModel",
            "_view_count": null,
            "_view_module": "@jupyter-widgets/base",
            "_view_module_version": "1.2.0",
            "_view_name": "StyleView",
            "bar_color": null,
            "description_width": ""
          }
        },
        "c2112b97639e453ebd8b9a27f6122aa7": {
          "model_module": "@jupyter-widgets/base",
          "model_name": "LayoutModel",
          "model_module_version": "1.2.0",
          "state": {
            "_model_module": "@jupyter-widgets/base",
            "_model_module_version": "1.2.0",
            "_model_name": "LayoutModel",
            "_view_count": null,
            "_view_module": "@jupyter-widgets/base",
            "_view_module_version": "1.2.0",
            "_view_name": "LayoutView",
            "align_content": null,
            "align_items": null,
            "align_self": null,
            "border": null,
            "bottom": null,
            "display": null,
            "flex": null,
            "flex_flow": null,
            "grid_area": null,
            "grid_auto_columns": null,
            "grid_auto_flow": null,
            "grid_auto_rows": null,
            "grid_column": null,
            "grid_gap": null,
            "grid_row": null,
            "grid_template_areas": null,
            "grid_template_columns": null,
            "grid_template_rows": null,
            "height": null,
            "justify_content": null,
            "justify_items": null,
            "left": null,
            "margin": null,
            "max_height": null,
            "max_width": null,
            "min_height": null,
            "min_width": null,
            "object_fit": null,
            "object_position": null,
            "order": null,
            "overflow": null,
            "overflow_x": null,
            "overflow_y": null,
            "padding": null,
            "right": null,
            "top": null,
            "visibility": null,
            "width": null
          }
        },
        "71d24cda9de14ce19abae91686a54f7b": {
          "model_module": "@jupyter-widgets/controls",
          "model_name": "DescriptionStyleModel",
          "model_module_version": "1.5.0",
          "state": {
            "_model_module": "@jupyter-widgets/controls",
            "_model_module_version": "1.5.0",
            "_model_name": "DescriptionStyleModel",
            "_view_count": null,
            "_view_module": "@jupyter-widgets/base",
            "_view_module_version": "1.2.0",
            "_view_name": "StyleView",
            "description_width": ""
          }
        },
        "d60a1a9a7f354685b4dfd3d9b734492e": {
          "model_module": "@jupyter-widgets/controls",
          "model_name": "HBoxModel",
          "model_module_version": "1.5.0",
          "state": {
            "_dom_classes": [],
            "_model_module": "@jupyter-widgets/controls",
            "_model_module_version": "1.5.0",
            "_model_name": "HBoxModel",
            "_view_count": null,
            "_view_module": "@jupyter-widgets/controls",
            "_view_module_version": "1.5.0",
            "_view_name": "HBoxView",
            "box_style": "",
            "children": [
              "IPY_MODEL_d08d9f175ec64b0e8a8a554d38e7b751",
              "IPY_MODEL_2eb236c6bb6445f0b8de6edf6f3e5454",
              "IPY_MODEL_5df2cce5207a45b78941779edb300c79"
            ],
            "layout": "IPY_MODEL_ea8227f96ac44bf5b3110ce068d9fce7"
          }
        },
        "d08d9f175ec64b0e8a8a554d38e7b751": {
          "model_module": "@jupyter-widgets/controls",
          "model_name": "HTMLModel",
          "model_module_version": "1.5.0",
          "state": {
            "_dom_classes": [],
            "_model_module": "@jupyter-widgets/controls",
            "_model_module_version": "1.5.0",
            "_model_name": "HTMLModel",
            "_view_count": null,
            "_view_module": "@jupyter-widgets/controls",
            "_view_module_version": "1.5.0",
            "_view_name": "HTMLView",
            "description": "",
            "description_tooltip": null,
            "layout": "IPY_MODEL_a3e502e15a5646819396a838970e27e1",
            "placeholder": "​",
            "style": "IPY_MODEL_1ee45c9ed1ee40a99a0e1836cae76c54",
            "value": "generation_config.json: 100%"
          }
        },
        "2eb236c6bb6445f0b8de6edf6f3e5454": {
          "model_module": "@jupyter-widgets/controls",
          "model_name": "FloatProgressModel",
          "model_module_version": "1.5.0",
          "state": {
            "_dom_classes": [],
            "_model_module": "@jupyter-widgets/controls",
            "_model_module_version": "1.5.0",
            "_model_name": "FloatProgressModel",
            "_view_count": null,
            "_view_module": "@jupyter-widgets/controls",
            "_view_module_version": "1.5.0",
            "_view_name": "ProgressView",
            "bar_style": "success",
            "description": "",
            "description_tooltip": null,
            "layout": "IPY_MODEL_81543c88db354c3589dfa8e635818091",
            "max": 124,
            "min": 0,
            "orientation": "horizontal",
            "style": "IPY_MODEL_167c55a84e434510bccd36883143f4e0",
            "value": 124
          }
        },
        "5df2cce5207a45b78941779edb300c79": {
          "model_module": "@jupyter-widgets/controls",
          "model_name": "HTMLModel",
          "model_module_version": "1.5.0",
          "state": {
            "_dom_classes": [],
            "_model_module": "@jupyter-widgets/controls",
            "_model_module_version": "1.5.0",
            "_model_name": "HTMLModel",
            "_view_count": null,
            "_view_module": "@jupyter-widgets/controls",
            "_view_module_version": "1.5.0",
            "_view_name": "HTMLView",
            "description": "",
            "description_tooltip": null,
            "layout": "IPY_MODEL_15f93f2de70b4bc5a3cd4b8f7c263a68",
            "placeholder": "​",
            "style": "IPY_MODEL_778d2e69274e4b74b971d3bd58242a23",
            "value": " 124/124 [00:00&lt;00:00, 4.58kB/s]"
          }
        },
        "ea8227f96ac44bf5b3110ce068d9fce7": {
          "model_module": "@jupyter-widgets/base",
          "model_name": "LayoutModel",
          "model_module_version": "1.2.0",
          "state": {
            "_model_module": "@jupyter-widgets/base",
            "_model_module_version": "1.2.0",
            "_model_name": "LayoutModel",
            "_view_count": null,
            "_view_module": "@jupyter-widgets/base",
            "_view_module_version": "1.2.0",
            "_view_name": "LayoutView",
            "align_content": null,
            "align_items": null,
            "align_self": null,
            "border": null,
            "bottom": null,
            "display": null,
            "flex": null,
            "flex_flow": null,
            "grid_area": null,
            "grid_auto_columns": null,
            "grid_auto_flow": null,
            "grid_auto_rows": null,
            "grid_column": null,
            "grid_gap": null,
            "grid_row": null,
            "grid_template_areas": null,
            "grid_template_columns": null,
            "grid_template_rows": null,
            "height": null,
            "justify_content": null,
            "justify_items": null,
            "left": null,
            "margin": null,
            "max_height": null,
            "max_width": null,
            "min_height": null,
            "min_width": null,
            "object_fit": null,
            "object_position": null,
            "order": null,
            "overflow": null,
            "overflow_x": null,
            "overflow_y": null,
            "padding": null,
            "right": null,
            "top": null,
            "visibility": null,
            "width": null
          }
        },
        "a3e502e15a5646819396a838970e27e1": {
          "model_module": "@jupyter-widgets/base",
          "model_name": "LayoutModel",
          "model_module_version": "1.2.0",
          "state": {
            "_model_module": "@jupyter-widgets/base",
            "_model_module_version": "1.2.0",
            "_model_name": "LayoutModel",
            "_view_count": null,
            "_view_module": "@jupyter-widgets/base",
            "_view_module_version": "1.2.0",
            "_view_name": "LayoutView",
            "align_content": null,
            "align_items": null,
            "align_self": null,
            "border": null,
            "bottom": null,
            "display": null,
            "flex": null,
            "flex_flow": null,
            "grid_area": null,
            "grid_auto_columns": null,
            "grid_auto_flow": null,
            "grid_auto_rows": null,
            "grid_column": null,
            "grid_gap": null,
            "grid_row": null,
            "grid_template_areas": null,
            "grid_template_columns": null,
            "grid_template_rows": null,
            "height": null,
            "justify_content": null,
            "justify_items": null,
            "left": null,
            "margin": null,
            "max_height": null,
            "max_width": null,
            "min_height": null,
            "min_width": null,
            "object_fit": null,
            "object_position": null,
            "order": null,
            "overflow": null,
            "overflow_x": null,
            "overflow_y": null,
            "padding": null,
            "right": null,
            "top": null,
            "visibility": null,
            "width": null
          }
        },
        "1ee45c9ed1ee40a99a0e1836cae76c54": {
          "model_module": "@jupyter-widgets/controls",
          "model_name": "DescriptionStyleModel",
          "model_module_version": "1.5.0",
          "state": {
            "_model_module": "@jupyter-widgets/controls",
            "_model_module_version": "1.5.0",
            "_model_name": "DescriptionStyleModel",
            "_view_count": null,
            "_view_module": "@jupyter-widgets/base",
            "_view_module_version": "1.2.0",
            "_view_name": "StyleView",
            "description_width": ""
          }
        },
        "81543c88db354c3589dfa8e635818091": {
          "model_module": "@jupyter-widgets/base",
          "model_name": "LayoutModel",
          "model_module_version": "1.2.0",
          "state": {
            "_model_module": "@jupyter-widgets/base",
            "_model_module_version": "1.2.0",
            "_model_name": "LayoutModel",
            "_view_count": null,
            "_view_module": "@jupyter-widgets/base",
            "_view_module_version": "1.2.0",
            "_view_name": "LayoutView",
            "align_content": null,
            "align_items": null,
            "align_self": null,
            "border": null,
            "bottom": null,
            "display": null,
            "flex": null,
            "flex_flow": null,
            "grid_area": null,
            "grid_auto_columns": null,
            "grid_auto_flow": null,
            "grid_auto_rows": null,
            "grid_column": null,
            "grid_gap": null,
            "grid_row": null,
            "grid_template_areas": null,
            "grid_template_columns": null,
            "grid_template_rows": null,
            "height": null,
            "justify_content": null,
            "justify_items": null,
            "left": null,
            "margin": null,
            "max_height": null,
            "max_width": null,
            "min_height": null,
            "min_width": null,
            "object_fit": null,
            "object_position": null,
            "order": null,
            "overflow": null,
            "overflow_x": null,
            "overflow_y": null,
            "padding": null,
            "right": null,
            "top": null,
            "visibility": null,
            "width": null
          }
        },
        "167c55a84e434510bccd36883143f4e0": {
          "model_module": "@jupyter-widgets/controls",
          "model_name": "ProgressStyleModel",
          "model_module_version": "1.5.0",
          "state": {
            "_model_module": "@jupyter-widgets/controls",
            "_model_module_version": "1.5.0",
            "_model_name": "ProgressStyleModel",
            "_view_count": null,
            "_view_module": "@jupyter-widgets/base",
            "_view_module_version": "1.2.0",
            "_view_name": "StyleView",
            "bar_color": null,
            "description_width": ""
          }
        },
        "15f93f2de70b4bc5a3cd4b8f7c263a68": {
          "model_module": "@jupyter-widgets/base",
          "model_name": "LayoutModel",
          "model_module_version": "1.2.0",
          "state": {
            "_model_module": "@jupyter-widgets/base",
            "_model_module_version": "1.2.0",
            "_model_name": "LayoutModel",
            "_view_count": null,
            "_view_module": "@jupyter-widgets/base",
            "_view_module_version": "1.2.0",
            "_view_name": "LayoutView",
            "align_content": null,
            "align_items": null,
            "align_self": null,
            "border": null,
            "bottom": null,
            "display": null,
            "flex": null,
            "flex_flow": null,
            "grid_area": null,
            "grid_auto_columns": null,
            "grid_auto_flow": null,
            "grid_auto_rows": null,
            "grid_column": null,
            "grid_gap": null,
            "grid_row": null,
            "grid_template_areas": null,
            "grid_template_columns": null,
            "grid_template_rows": null,
            "height": null,
            "justify_content": null,
            "justify_items": null,
            "left": null,
            "margin": null,
            "max_height": null,
            "max_width": null,
            "min_height": null,
            "min_width": null,
            "object_fit": null,
            "object_position": null,
            "order": null,
            "overflow": null,
            "overflow_x": null,
            "overflow_y": null,
            "padding": null,
            "right": null,
            "top": null,
            "visibility": null,
            "width": null
          }
        },
        "778d2e69274e4b74b971d3bd58242a23": {
          "model_module": "@jupyter-widgets/controls",
          "model_name": "DescriptionStyleModel",
          "model_module_version": "1.5.0",
          "state": {
            "_model_module": "@jupyter-widgets/controls",
            "_model_module_version": "1.5.0",
            "_model_name": "DescriptionStyleModel",
            "_view_count": null,
            "_view_module": "@jupyter-widgets/base",
            "_view_module_version": "1.2.0",
            "_view_name": "StyleView",
            "description_width": ""
          }
        }
      }
    }
  },
  "nbformat": 4,
  "nbformat_minor": 0
}
