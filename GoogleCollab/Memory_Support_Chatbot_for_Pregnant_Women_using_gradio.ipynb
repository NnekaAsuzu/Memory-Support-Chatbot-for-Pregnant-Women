{
  "cells": [
    {
      "cell_type": "markdown",
      "metadata": {
        "id": "view-in-github",
        "colab_type": "text"
      },
      "source": [
        "<a href=\"https://colab.research.google.com/github/NnekaAsuzu/Memory-Support-Chatbot-for-Pregnant-Women/blob/main/Memory_Support_Chatbot_for_Pregnant_Women_using_gradio.ipynb\" target=\"_parent\"><img src=\"https://colab.research.google.com/assets/colab-badge.svg\" alt=\"Open In Colab\"/></a>"
      ]
    },
    {
      "cell_type": "markdown",
      "metadata": {
        "id": "Jurq77ydFzIP"
      },
      "source": [
        "#Proposal Title: Memory Support Chatbot for Pregnant Women."
      ]
    },
    {
      "cell_type": "markdown",
      "metadata": {
        "id": "29pn9EaJGG-2"
      },
      "source": [
        "Project Summary:\n",
        "The proposed project is to develop a Memory Support Chatbox for Pregnant Women using the GPT-2 language model. The chatbox aims to provide support, solutions, tips, and advice for pregnant women experiencing cognitive memory issues. The goal is to offer a personalized and accessible resource for pregnant women to manage their cognitive memory challenges effectively.\n",
        "\n",
        "\n"
      ]
    },
    {
      "cell_type": "markdown",
      "metadata": {
        "id": "SXlTl__5GNo-"
      },
      "source": [
        "Proposed Project and Reasoning:\n",
        "The project is proposed to address the lack of easily accessible and personalized support for pregnant women facing cognitive memory issues. By leveraging the capabilities of the GPT-2 language model, the chatbox can provide instant responses and guidance, complementing the advice of healthcare professionals."
      ]
    },
    {
      "cell_type": "markdown",
      "metadata": {
        "id": "Y9Ik0BBfkS4Z"
      },
      "source": [
        "*Dictionary-Based DataFrame creation method: This method reads the text files into a list of dictionaries and then creates a pandas DataFrame from these dictionaries using streamlit as the Gradio. Model is fine-tuned*"
      ]
    },
    {
      "cell_type": "markdown",
      "metadata": {
        "id": "HJs_AhSQW2iy"
      },
      "source": [
        "Install Required Libraries"
      ]
    },
    {
      "cell_type": "code",
      "execution_count": 1,
      "metadata": {
        "colab": {
          "base_uri": "https://localhost:8080/"
        },
        "id": "RvGXNabAW0g6",
        "outputId": "479e9146-1321-4f73-a1b6-5f8f619883a8"
      },
      "outputs": [
        {
          "output_type": "stream",
          "name": "stdout",
          "text": [
            "Collecting gradio\n",
            "  Downloading gradio-4.21.0-py3-none-any.whl (17.0 MB)\n",
            "\u001b[2K     \u001b[90m━━━━━━━━━━━━━━━━━━━━━━━━━━━━━━━━━━━━━━━━\u001b[0m \u001b[32m17.0/17.0 MB\u001b[0m \u001b[31m32.6 MB/s\u001b[0m eta \u001b[36m0:00:00\u001b[0m\n",
            "\u001b[?25hCollecting aiofiles<24.0,>=22.0 (from gradio)\n",
            "  Downloading aiofiles-23.2.1-py3-none-any.whl (15 kB)\n",
            "Requirement already satisfied: altair<6.0,>=4.2.0 in /usr/local/lib/python3.10/dist-packages (from gradio) (4.2.2)\n",
            "Collecting fastapi (from gradio)\n",
            "  Downloading fastapi-0.110.0-py3-none-any.whl (92 kB)\n",
            "\u001b[2K     \u001b[90m━━━━━━━━━━━━━━━━━━━━━━━━━━━━━━━━━━━━━━━━\u001b[0m \u001b[32m92.1/92.1 kB\u001b[0m \u001b[31m12.9 MB/s\u001b[0m eta \u001b[36m0:00:00\u001b[0m\n",
            "\u001b[?25hCollecting ffmpy (from gradio)\n",
            "  Downloading ffmpy-0.3.2.tar.gz (5.5 kB)\n",
            "  Preparing metadata (setup.py) ... \u001b[?25l\u001b[?25hdone\n",
            "Collecting gradio-client==0.12.0 (from gradio)\n",
            "  Downloading gradio_client-0.12.0-py3-none-any.whl (310 kB)\n",
            "\u001b[2K     \u001b[90m━━━━━━━━━━━━━━━━━━━━━━━━━━━━━━━━━━━━━━━━\u001b[0m \u001b[32m310.7/310.7 kB\u001b[0m \u001b[31m20.8 MB/s\u001b[0m eta \u001b[36m0:00:00\u001b[0m\n",
            "\u001b[?25hCollecting httpx>=0.24.1 (from gradio)\n",
            "  Downloading httpx-0.27.0-py3-none-any.whl (75 kB)\n",
            "\u001b[2K     \u001b[90m━━━━━━━━━━━━━━━━━━━━━━━━━━━━━━━━━━━━━━━━\u001b[0m \u001b[32m75.6/75.6 kB\u001b[0m \u001b[31m7.3 MB/s\u001b[0m eta \u001b[36m0:00:00\u001b[0m\n",
            "\u001b[?25hRequirement already satisfied: huggingface-hub>=0.19.3 in /usr/local/lib/python3.10/dist-packages (from gradio) (0.20.3)\n",
            "Requirement already satisfied: importlib-resources<7.0,>=1.3 in /usr/local/lib/python3.10/dist-packages (from gradio) (6.1.2)\n",
            "Requirement already satisfied: jinja2<4.0 in /usr/local/lib/python3.10/dist-packages (from gradio) (3.1.3)\n",
            "Requirement already satisfied: markupsafe~=2.0 in /usr/local/lib/python3.10/dist-packages (from gradio) (2.1.5)\n",
            "Requirement already satisfied: matplotlib~=3.0 in /usr/local/lib/python3.10/dist-packages (from gradio) (3.7.1)\n",
            "Requirement already satisfied: numpy~=1.0 in /usr/local/lib/python3.10/dist-packages (from gradio) (1.25.2)\n",
            "Collecting orjson~=3.0 (from gradio)\n",
            "  Downloading orjson-3.9.15-cp310-cp310-manylinux_2_17_x86_64.manylinux2014_x86_64.whl (138 kB)\n",
            "\u001b[2K     \u001b[90m━━━━━━━━━━━━━━━━━━━━━━━━━━━━━━━━━━━━━━━━\u001b[0m \u001b[32m138.5/138.5 kB\u001b[0m \u001b[31m21.6 MB/s\u001b[0m eta \u001b[36m0:00:00\u001b[0m\n",
            "\u001b[?25hRequirement already satisfied: packaging in /usr/local/lib/python3.10/dist-packages (from gradio) (23.2)\n",
            "Requirement already satisfied: pandas<3.0,>=1.0 in /usr/local/lib/python3.10/dist-packages (from gradio) (1.5.3)\n",
            "Requirement already satisfied: pillow<11.0,>=8.0 in /usr/local/lib/python3.10/dist-packages (from gradio) (9.4.0)\n",
            "Requirement already satisfied: pydantic>=2.0 in /usr/local/lib/python3.10/dist-packages (from gradio) (2.6.3)\n",
            "Collecting pydub (from gradio)\n",
            "  Downloading pydub-0.25.1-py2.py3-none-any.whl (32 kB)\n",
            "Collecting python-multipart>=0.0.9 (from gradio)\n",
            "  Downloading python_multipart-0.0.9-py3-none-any.whl (22 kB)\n",
            "Requirement already satisfied: pyyaml<7.0,>=5.0 in /usr/local/lib/python3.10/dist-packages (from gradio) (6.0.1)\n",
            "Collecting ruff>=0.2.2 (from gradio)\n",
            "  Downloading ruff-0.3.2-py3-none-manylinux_2_17_x86_64.manylinux2014_x86_64.whl (7.9 MB)\n",
            "\u001b[2K     \u001b[90m━━━━━━━━━━━━━━━━━━━━━━━━━━━━━━━━━━━━━━━━\u001b[0m \u001b[32m7.9/7.9 MB\u001b[0m \u001b[31m57.7 MB/s\u001b[0m eta \u001b[36m0:00:00\u001b[0m\n",
            "\u001b[?25hCollecting semantic-version~=2.0 (from gradio)\n",
            "  Downloading semantic_version-2.10.0-py2.py3-none-any.whl (15 kB)\n",
            "Collecting tomlkit==0.12.0 (from gradio)\n",
            "  Downloading tomlkit-0.12.0-py3-none-any.whl (37 kB)\n",
            "Requirement already satisfied: typer[all]<1.0,>=0.9 in /usr/local/lib/python3.10/dist-packages (from gradio) (0.9.0)\n",
            "Requirement already satisfied: typing-extensions~=4.0 in /usr/local/lib/python3.10/dist-packages (from gradio) (4.10.0)\n",
            "Collecting uvicorn>=0.14.0 (from gradio)\n",
            "  Downloading uvicorn-0.28.0-py3-none-any.whl (60 kB)\n",
            "\u001b[2K     \u001b[90m━━━━━━━━━━━━━━━━━━━━━━━━━━━━━━━━━━━━━━━━\u001b[0m \u001b[32m60.6/60.6 kB\u001b[0m \u001b[31m7.6 MB/s\u001b[0m eta \u001b[36m0:00:00\u001b[0m\n",
            "\u001b[?25hRequirement already satisfied: fsspec in /usr/local/lib/python3.10/dist-packages (from gradio-client==0.12.0->gradio) (2023.6.0)\n",
            "Collecting websockets<12.0,>=10.0 (from gradio-client==0.12.0->gradio)\n",
            "  Downloading websockets-11.0.3-cp310-cp310-manylinux_2_5_x86_64.manylinux1_x86_64.manylinux_2_17_x86_64.manylinux2014_x86_64.whl (129 kB)\n",
            "\u001b[2K     \u001b[90m━━━━━━━━━━━━━━━━━━━━━━━━━━━━━━━━━━━━━━━━\u001b[0m \u001b[32m129.9/129.9 kB\u001b[0m \u001b[31m16.8 MB/s\u001b[0m eta \u001b[36m0:00:00\u001b[0m\n",
            "\u001b[?25hRequirement already satisfied: entrypoints in /usr/local/lib/python3.10/dist-packages (from altair<6.0,>=4.2.0->gradio) (0.4)\n",
            "Requirement already satisfied: jsonschema>=3.0 in /usr/local/lib/python3.10/dist-packages (from altair<6.0,>=4.2.0->gradio) (4.19.2)\n",
            "Requirement already satisfied: toolz in /usr/local/lib/python3.10/dist-packages (from altair<6.0,>=4.2.0->gradio) (0.12.1)\n",
            "Requirement already satisfied: anyio in /usr/local/lib/python3.10/dist-packages (from httpx>=0.24.1->gradio) (3.7.1)\n",
            "Requirement already satisfied: certifi in /usr/local/lib/python3.10/dist-packages (from httpx>=0.24.1->gradio) (2024.2.2)\n",
            "Collecting httpcore==1.* (from httpx>=0.24.1->gradio)\n",
            "  Downloading httpcore-1.0.4-py3-none-any.whl (77 kB)\n",
            "\u001b[2K     \u001b[90m━━━━━━━━━━━━━━━━━━━━━━━━━━━━━━━━━━━━━━━━\u001b[0m \u001b[32m77.8/77.8 kB\u001b[0m \u001b[31m10.7 MB/s\u001b[0m eta \u001b[36m0:00:00\u001b[0m\n",
            "\u001b[?25hRequirement already satisfied: idna in /usr/local/lib/python3.10/dist-packages (from httpx>=0.24.1->gradio) (3.6)\n",
            "Requirement already satisfied: sniffio in /usr/local/lib/python3.10/dist-packages (from httpx>=0.24.1->gradio) (1.3.1)\n",
            "Collecting h11<0.15,>=0.13 (from httpcore==1.*->httpx>=0.24.1->gradio)\n",
            "  Downloading h11-0.14.0-py3-none-any.whl (58 kB)\n",
            "\u001b[2K     \u001b[90m━━━━━━━━━━━━━━━━━━━━━━━━━━━━━━━━━━━━━━━━\u001b[0m \u001b[32m58.3/58.3 kB\u001b[0m \u001b[31m6.0 MB/s\u001b[0m eta \u001b[36m0:00:00\u001b[0m\n",
            "\u001b[?25hRequirement already satisfied: filelock in /usr/local/lib/python3.10/dist-packages (from huggingface-hub>=0.19.3->gradio) (3.13.1)\n",
            "Requirement already satisfied: requests in /usr/local/lib/python3.10/dist-packages (from huggingface-hub>=0.19.3->gradio) (2.31.0)\n",
            "Requirement already satisfied: tqdm>=4.42.1 in /usr/local/lib/python3.10/dist-packages (from huggingface-hub>=0.19.3->gradio) (4.66.2)\n",
            "Requirement already satisfied: contourpy>=1.0.1 in /usr/local/lib/python3.10/dist-packages (from matplotlib~=3.0->gradio) (1.2.0)\n",
            "Requirement already satisfied: cycler>=0.10 in /usr/local/lib/python3.10/dist-packages (from matplotlib~=3.0->gradio) (0.12.1)\n",
            "Requirement already satisfied: fonttools>=4.22.0 in /usr/local/lib/python3.10/dist-packages (from matplotlib~=3.0->gradio) (4.49.0)\n",
            "Requirement already satisfied: kiwisolver>=1.0.1 in /usr/local/lib/python3.10/dist-packages (from matplotlib~=3.0->gradio) (1.4.5)\n",
            "Requirement already satisfied: pyparsing>=2.3.1 in /usr/local/lib/python3.10/dist-packages (from matplotlib~=3.0->gradio) (3.1.1)\n",
            "Requirement already satisfied: python-dateutil>=2.7 in /usr/local/lib/python3.10/dist-packages (from matplotlib~=3.0->gradio) (2.8.2)\n",
            "Requirement already satisfied: pytz>=2020.1 in /usr/local/lib/python3.10/dist-packages (from pandas<3.0,>=1.0->gradio) (2023.4)\n",
            "Requirement already satisfied: annotated-types>=0.4.0 in /usr/local/lib/python3.10/dist-packages (from pydantic>=2.0->gradio) (0.6.0)\n",
            "Requirement already satisfied: pydantic-core==2.16.3 in /usr/local/lib/python3.10/dist-packages (from pydantic>=2.0->gradio) (2.16.3)\n",
            "Requirement already satisfied: click<9.0.0,>=7.1.1 in /usr/local/lib/python3.10/dist-packages (from typer[all]<1.0,>=0.9->gradio) (8.1.7)\n",
            "Collecting colorama<0.5.0,>=0.4.3 (from typer[all]<1.0,>=0.9->gradio)\n",
            "  Downloading colorama-0.4.6-py2.py3-none-any.whl (25 kB)\n",
            "Collecting shellingham<2.0.0,>=1.3.0 (from typer[all]<1.0,>=0.9->gradio)\n",
            "  Downloading shellingham-1.5.4-py2.py3-none-any.whl (9.8 kB)\n",
            "Requirement already satisfied: rich<14.0.0,>=10.11.0 in /usr/local/lib/python3.10/dist-packages (from typer[all]<1.0,>=0.9->gradio) (13.7.1)\n",
            "Collecting starlette<0.37.0,>=0.36.3 (from fastapi->gradio)\n",
            "  Downloading starlette-0.36.3-py3-none-any.whl (71 kB)\n",
            "\u001b[2K     \u001b[90m━━━━━━━━━━━━━━━━━━━━━━━━━━━━━━━━━━━━━━━━\u001b[0m \u001b[32m71.5/71.5 kB\u001b[0m \u001b[31m12.0 MB/s\u001b[0m eta \u001b[36m0:00:00\u001b[0m\n",
            "\u001b[?25hRequirement already satisfied: attrs>=22.2.0 in /usr/local/lib/python3.10/dist-packages (from jsonschema>=3.0->altair<6.0,>=4.2.0->gradio) (23.2.0)\n",
            "Requirement already satisfied: jsonschema-specifications>=2023.03.6 in /usr/local/lib/python3.10/dist-packages (from jsonschema>=3.0->altair<6.0,>=4.2.0->gradio) (2023.12.1)\n",
            "Requirement already satisfied: referencing>=0.28.4 in /usr/local/lib/python3.10/dist-packages (from jsonschema>=3.0->altair<6.0,>=4.2.0->gradio) (0.33.0)\n",
            "Requirement already satisfied: rpds-py>=0.7.1 in /usr/local/lib/python3.10/dist-packages (from jsonschema>=3.0->altair<6.0,>=4.2.0->gradio) (0.18.0)\n",
            "Requirement already satisfied: six>=1.5 in /usr/local/lib/python3.10/dist-packages (from python-dateutil>=2.7->matplotlib~=3.0->gradio) (1.16.0)\n",
            "Requirement already satisfied: markdown-it-py>=2.2.0 in /usr/local/lib/python3.10/dist-packages (from rich<14.0.0,>=10.11.0->typer[all]<1.0,>=0.9->gradio) (3.0.0)\n",
            "Requirement already satisfied: pygments<3.0.0,>=2.13.0 in /usr/local/lib/python3.10/dist-packages (from rich<14.0.0,>=10.11.0->typer[all]<1.0,>=0.9->gradio) (2.16.1)\n",
            "Requirement already satisfied: exceptiongroup in /usr/local/lib/python3.10/dist-packages (from anyio->httpx>=0.24.1->gradio) (1.2.0)\n",
            "Requirement already satisfied: charset-normalizer<4,>=2 in /usr/local/lib/python3.10/dist-packages (from requests->huggingface-hub>=0.19.3->gradio) (3.3.2)\n",
            "Requirement already satisfied: urllib3<3,>=1.21.1 in /usr/local/lib/python3.10/dist-packages (from requests->huggingface-hub>=0.19.3->gradio) (2.0.7)\n",
            "Requirement already satisfied: mdurl~=0.1 in /usr/local/lib/python3.10/dist-packages (from markdown-it-py>=2.2.0->rich<14.0.0,>=10.11.0->typer[all]<1.0,>=0.9->gradio) (0.1.2)\n",
            "Building wheels for collected packages: ffmpy\n",
            "  Building wheel for ffmpy (setup.py) ... \u001b[?25l\u001b[?25hdone\n",
            "  Created wheel for ffmpy: filename=ffmpy-0.3.2-py3-none-any.whl size=5584 sha256=c78d2ac9684549ba3c66711e04168b19a5a0ec7e214871d9478d6a569a79a890\n",
            "  Stored in directory: /root/.cache/pip/wheels/bd/65/9a/671fc6dcde07d4418df0c592f8df512b26d7a0029c2a23dd81\n",
            "Successfully built ffmpy\n",
            "Installing collected packages: pydub, ffmpy, websockets, tomlkit, shellingham, semantic-version, ruff, python-multipart, orjson, h11, colorama, aiofiles, uvicorn, starlette, httpcore, httpx, fastapi, gradio-client, gradio\n",
            "Successfully installed aiofiles-23.2.1 colorama-0.4.6 fastapi-0.110.0 ffmpy-0.3.2 gradio-4.21.0 gradio-client-0.12.0 h11-0.14.0 httpcore-1.0.4 httpx-0.27.0 orjson-3.9.15 pydub-0.25.1 python-multipart-0.0.9 ruff-0.3.2 semantic-version-2.10.0 shellingham-1.5.4 starlette-0.36.3 tomlkit-0.12.0 uvicorn-0.28.0 websockets-11.0.3\n",
            "Requirement already satisfied: gradio in /usr/local/lib/python3.10/dist-packages (4.21.0)\n",
            "Requirement already satisfied: aiofiles<24.0,>=22.0 in /usr/local/lib/python3.10/dist-packages (from gradio) (23.2.1)\n",
            "Requirement already satisfied: altair<6.0,>=4.2.0 in /usr/local/lib/python3.10/dist-packages (from gradio) (4.2.2)\n",
            "Requirement already satisfied: fastapi in /usr/local/lib/python3.10/dist-packages (from gradio) (0.110.0)\n",
            "Requirement already satisfied: ffmpy in /usr/local/lib/python3.10/dist-packages (from gradio) (0.3.2)\n",
            "Requirement already satisfied: gradio-client==0.12.0 in /usr/local/lib/python3.10/dist-packages (from gradio) (0.12.0)\n",
            "Requirement already satisfied: httpx>=0.24.1 in /usr/local/lib/python3.10/dist-packages (from gradio) (0.27.0)\n",
            "Requirement already satisfied: huggingface-hub>=0.19.3 in /usr/local/lib/python3.10/dist-packages (from gradio) (0.20.3)\n",
            "Requirement already satisfied: importlib-resources<7.0,>=1.3 in /usr/local/lib/python3.10/dist-packages (from gradio) (6.1.2)\n",
            "Requirement already satisfied: jinja2<4.0 in /usr/local/lib/python3.10/dist-packages (from gradio) (3.1.3)\n",
            "Requirement already satisfied: markupsafe~=2.0 in /usr/local/lib/python3.10/dist-packages (from gradio) (2.1.5)\n",
            "Requirement already satisfied: matplotlib~=3.0 in /usr/local/lib/python3.10/dist-packages (from gradio) (3.7.1)\n",
            "Requirement already satisfied: numpy~=1.0 in /usr/local/lib/python3.10/dist-packages (from gradio) (1.25.2)\n",
            "Requirement already satisfied: orjson~=3.0 in /usr/local/lib/python3.10/dist-packages (from gradio) (3.9.15)\n",
            "Requirement already satisfied: packaging in /usr/local/lib/python3.10/dist-packages (from gradio) (23.2)\n",
            "Requirement already satisfied: pandas<3.0,>=1.0 in /usr/local/lib/python3.10/dist-packages (from gradio) (1.5.3)\n",
            "Requirement already satisfied: pillow<11.0,>=8.0 in /usr/local/lib/python3.10/dist-packages (from gradio) (9.4.0)\n",
            "Requirement already satisfied: pydantic>=2.0 in /usr/local/lib/python3.10/dist-packages (from gradio) (2.6.3)\n",
            "Requirement already satisfied: pydub in /usr/local/lib/python3.10/dist-packages (from gradio) (0.25.1)\n",
            "Requirement already satisfied: python-multipart>=0.0.9 in /usr/local/lib/python3.10/dist-packages (from gradio) (0.0.9)\n",
            "Requirement already satisfied: pyyaml<7.0,>=5.0 in /usr/local/lib/python3.10/dist-packages (from gradio) (6.0.1)\n",
            "Requirement already satisfied: ruff>=0.2.2 in /usr/local/lib/python3.10/dist-packages (from gradio) (0.3.2)\n",
            "Requirement already satisfied: semantic-version~=2.0 in /usr/local/lib/python3.10/dist-packages (from gradio) (2.10.0)\n",
            "Requirement already satisfied: tomlkit==0.12.0 in /usr/local/lib/python3.10/dist-packages (from gradio) (0.12.0)\n",
            "Requirement already satisfied: typer[all]<1.0,>=0.9 in /usr/local/lib/python3.10/dist-packages (from gradio) (0.9.0)\n",
            "Requirement already satisfied: typing-extensions~=4.0 in /usr/local/lib/python3.10/dist-packages (from gradio) (4.10.0)\n",
            "Requirement already satisfied: uvicorn>=0.14.0 in /usr/local/lib/python3.10/dist-packages (from gradio) (0.28.0)\n",
            "Requirement already satisfied: fsspec in /usr/local/lib/python3.10/dist-packages (from gradio-client==0.12.0->gradio) (2023.6.0)\n",
            "Requirement already satisfied: websockets<12.0,>=10.0 in /usr/local/lib/python3.10/dist-packages (from gradio-client==0.12.0->gradio) (11.0.3)\n",
            "Requirement already satisfied: entrypoints in /usr/local/lib/python3.10/dist-packages (from altair<6.0,>=4.2.0->gradio) (0.4)\n",
            "Requirement already satisfied: jsonschema>=3.0 in /usr/local/lib/python3.10/dist-packages (from altair<6.0,>=4.2.0->gradio) (4.19.2)\n",
            "Requirement already satisfied: toolz in /usr/local/lib/python3.10/dist-packages (from altair<6.0,>=4.2.0->gradio) (0.12.1)\n",
            "Requirement already satisfied: anyio in /usr/local/lib/python3.10/dist-packages (from httpx>=0.24.1->gradio) (3.7.1)\n",
            "Requirement already satisfied: certifi in /usr/local/lib/python3.10/dist-packages (from httpx>=0.24.1->gradio) (2024.2.2)\n",
            "Requirement already satisfied: httpcore==1.* in /usr/local/lib/python3.10/dist-packages (from httpx>=0.24.1->gradio) (1.0.4)\n",
            "Requirement already satisfied: idna in /usr/local/lib/python3.10/dist-packages (from httpx>=0.24.1->gradio) (3.6)\n",
            "Requirement already satisfied: sniffio in /usr/local/lib/python3.10/dist-packages (from httpx>=0.24.1->gradio) (1.3.1)\n",
            "Requirement already satisfied: h11<0.15,>=0.13 in /usr/local/lib/python3.10/dist-packages (from httpcore==1.*->httpx>=0.24.1->gradio) (0.14.0)\n",
            "Requirement already satisfied: filelock in /usr/local/lib/python3.10/dist-packages (from huggingface-hub>=0.19.3->gradio) (3.13.1)\n",
            "Requirement already satisfied: requests in /usr/local/lib/python3.10/dist-packages (from huggingface-hub>=0.19.3->gradio) (2.31.0)\n",
            "Requirement already satisfied: tqdm>=4.42.1 in /usr/local/lib/python3.10/dist-packages (from huggingface-hub>=0.19.3->gradio) (4.66.2)\n",
            "Requirement already satisfied: contourpy>=1.0.1 in /usr/local/lib/python3.10/dist-packages (from matplotlib~=3.0->gradio) (1.2.0)\n",
            "Requirement already satisfied: cycler>=0.10 in /usr/local/lib/python3.10/dist-packages (from matplotlib~=3.0->gradio) (0.12.1)\n",
            "Requirement already satisfied: fonttools>=4.22.0 in /usr/local/lib/python3.10/dist-packages (from matplotlib~=3.0->gradio) (4.49.0)\n",
            "Requirement already satisfied: kiwisolver>=1.0.1 in /usr/local/lib/python3.10/dist-packages (from matplotlib~=3.0->gradio) (1.4.5)\n",
            "Requirement already satisfied: pyparsing>=2.3.1 in /usr/local/lib/python3.10/dist-packages (from matplotlib~=3.0->gradio) (3.1.1)\n",
            "Requirement already satisfied: python-dateutil>=2.7 in /usr/local/lib/python3.10/dist-packages (from matplotlib~=3.0->gradio) (2.8.2)\n",
            "Requirement already satisfied: pytz>=2020.1 in /usr/local/lib/python3.10/dist-packages (from pandas<3.0,>=1.0->gradio) (2023.4)\n",
            "Requirement already satisfied: annotated-types>=0.4.0 in /usr/local/lib/python3.10/dist-packages (from pydantic>=2.0->gradio) (0.6.0)\n",
            "Requirement already satisfied: pydantic-core==2.16.3 in /usr/local/lib/python3.10/dist-packages (from pydantic>=2.0->gradio) (2.16.3)\n",
            "Requirement already satisfied: click<9.0.0,>=7.1.1 in /usr/local/lib/python3.10/dist-packages (from typer[all]<1.0,>=0.9->gradio) (8.1.7)\n",
            "Requirement already satisfied: colorama<0.5.0,>=0.4.3 in /usr/local/lib/python3.10/dist-packages (from typer[all]<1.0,>=0.9->gradio) (0.4.6)\n",
            "Requirement already satisfied: shellingham<2.0.0,>=1.3.0 in /usr/local/lib/python3.10/dist-packages (from typer[all]<1.0,>=0.9->gradio) (1.5.4)\n",
            "Requirement already satisfied: rich<14.0.0,>=10.11.0 in /usr/local/lib/python3.10/dist-packages (from typer[all]<1.0,>=0.9->gradio) (13.7.1)\n",
            "Requirement already satisfied: starlette<0.37.0,>=0.36.3 in /usr/local/lib/python3.10/dist-packages (from fastapi->gradio) (0.36.3)\n",
            "Requirement already satisfied: attrs>=22.2.0 in /usr/local/lib/python3.10/dist-packages (from jsonschema>=3.0->altair<6.0,>=4.2.0->gradio) (23.2.0)\n",
            "Requirement already satisfied: jsonschema-specifications>=2023.03.6 in /usr/local/lib/python3.10/dist-packages (from jsonschema>=3.0->altair<6.0,>=4.2.0->gradio) (2023.12.1)\n",
            "Requirement already satisfied: referencing>=0.28.4 in /usr/local/lib/python3.10/dist-packages (from jsonschema>=3.0->altair<6.0,>=4.2.0->gradio) (0.33.0)\n",
            "Requirement already satisfied: rpds-py>=0.7.1 in /usr/local/lib/python3.10/dist-packages (from jsonschema>=3.0->altair<6.0,>=4.2.0->gradio) (0.18.0)\n",
            "Requirement already satisfied: six>=1.5 in /usr/local/lib/python3.10/dist-packages (from python-dateutil>=2.7->matplotlib~=3.0->gradio) (1.16.0)\n",
            "Requirement already satisfied: markdown-it-py>=2.2.0 in /usr/local/lib/python3.10/dist-packages (from rich<14.0.0,>=10.11.0->typer[all]<1.0,>=0.9->gradio) (3.0.0)\n",
            "Requirement already satisfied: pygments<3.0.0,>=2.13.0 in /usr/local/lib/python3.10/dist-packages (from rich<14.0.0,>=10.11.0->typer[all]<1.0,>=0.9->gradio) (2.16.1)\n",
            "Requirement already satisfied: exceptiongroup in /usr/local/lib/python3.10/dist-packages (from anyio->httpx>=0.24.1->gradio) (1.2.0)\n",
            "Requirement already satisfied: charset-normalizer<4,>=2 in /usr/local/lib/python3.10/dist-packages (from requests->huggingface-hub>=0.19.3->gradio) (3.3.2)\n",
            "Requirement already satisfied: urllib3<3,>=1.21.1 in /usr/local/lib/python3.10/dist-packages (from requests->huggingface-hub>=0.19.3->gradio) (2.0.7)\n",
            "Requirement already satisfied: mdurl~=0.1 in /usr/local/lib/python3.10/dist-packages (from markdown-it-py>=2.2.0->rich<14.0.0,>=10.11.0->typer[all]<1.0,>=0.9->gradio) (0.1.2)\n",
            "Requirement already satisfied: pandas in /usr/local/lib/python3.10/dist-packages (1.5.3)\n",
            "Requirement already satisfied: python-dateutil>=2.8.1 in /usr/local/lib/python3.10/dist-packages (from pandas) (2.8.2)\n",
            "Requirement already satisfied: pytz>=2020.1 in /usr/local/lib/python3.10/dist-packages (from pandas) (2023.4)\n",
            "Requirement already satisfied: numpy>=1.21.0 in /usr/local/lib/python3.10/dist-packages (from pandas) (1.25.2)\n",
            "Requirement already satisfied: six>=1.5 in /usr/local/lib/python3.10/dist-packages (from python-dateutil>=2.8.1->pandas) (1.16.0)\n",
            "Requirement already satisfied: matplotlib in /usr/local/lib/python3.10/dist-packages (3.7.1)\n",
            "Requirement already satisfied: contourpy>=1.0.1 in /usr/local/lib/python3.10/dist-packages (from matplotlib) (1.2.0)\n",
            "Requirement already satisfied: cycler>=0.10 in /usr/local/lib/python3.10/dist-packages (from matplotlib) (0.12.1)\n",
            "Requirement already satisfied: fonttools>=4.22.0 in /usr/local/lib/python3.10/dist-packages (from matplotlib) (4.49.0)\n",
            "Requirement already satisfied: kiwisolver>=1.0.1 in /usr/local/lib/python3.10/dist-packages (from matplotlib) (1.4.5)\n",
            "Requirement already satisfied: numpy>=1.20 in /usr/local/lib/python3.10/dist-packages (from matplotlib) (1.25.2)\n",
            "Requirement already satisfied: packaging>=20.0 in /usr/local/lib/python3.10/dist-packages (from matplotlib) (23.2)\n",
            "Requirement already satisfied: pillow>=6.2.0 in /usr/local/lib/python3.10/dist-packages (from matplotlib) (9.4.0)\n",
            "Requirement already satisfied: pyparsing>=2.3.1 in /usr/local/lib/python3.10/dist-packages (from matplotlib) (3.1.1)\n",
            "Requirement already satisfied: python-dateutil>=2.7 in /usr/local/lib/python3.10/dist-packages (from matplotlib) (2.8.2)\n",
            "Requirement already satisfied: six>=1.5 in /usr/local/lib/python3.10/dist-packages (from python-dateutil>=2.7->matplotlib) (1.16.0)\n",
            "Requirement already satisfied: nltk in /usr/local/lib/python3.10/dist-packages (3.8.1)\n",
            "Requirement already satisfied: click in /usr/local/lib/python3.10/dist-packages (from nltk) (8.1.7)\n",
            "Requirement already satisfied: joblib in /usr/local/lib/python3.10/dist-packages (from nltk) (1.3.2)\n",
            "Requirement already satisfied: regex>=2021.8.3 in /usr/local/lib/python3.10/dist-packages (from nltk) (2023.12.25)\n",
            "Requirement already satisfied: tqdm in /usr/local/lib/python3.10/dist-packages (from nltk) (4.66.2)\n",
            "Requirement already satisfied: wordcloud in /usr/local/lib/python3.10/dist-packages (1.9.3)\n",
            "Requirement already satisfied: numpy>=1.6.1 in /usr/local/lib/python3.10/dist-packages (from wordcloud) (1.25.2)\n",
            "Requirement already satisfied: pillow in /usr/local/lib/python3.10/dist-packages (from wordcloud) (9.4.0)\n",
            "Requirement already satisfied: matplotlib in /usr/local/lib/python3.10/dist-packages (from wordcloud) (3.7.1)\n",
            "Requirement already satisfied: contourpy>=1.0.1 in /usr/local/lib/python3.10/dist-packages (from matplotlib->wordcloud) (1.2.0)\n",
            "Requirement already satisfied: cycler>=0.10 in /usr/local/lib/python3.10/dist-packages (from matplotlib->wordcloud) (0.12.1)\n",
            "Requirement already satisfied: fonttools>=4.22.0 in /usr/local/lib/python3.10/dist-packages (from matplotlib->wordcloud) (4.49.0)\n",
            "Requirement already satisfied: kiwisolver>=1.0.1 in /usr/local/lib/python3.10/dist-packages (from matplotlib->wordcloud) (1.4.5)\n",
            "Requirement already satisfied: packaging>=20.0 in /usr/local/lib/python3.10/dist-packages (from matplotlib->wordcloud) (23.2)\n",
            "Requirement already satisfied: pyparsing>=2.3.1 in /usr/local/lib/python3.10/dist-packages (from matplotlib->wordcloud) (3.1.1)\n",
            "Requirement already satisfied: python-dateutil>=2.7 in /usr/local/lib/python3.10/dist-packages (from matplotlib->wordcloud) (2.8.2)\n",
            "Requirement already satisfied: six>=1.5 in /usr/local/lib/python3.10/dist-packages (from python-dateutil>=2.7->matplotlib->wordcloud) (1.16.0)\n",
            "Requirement already satisfied: transformers in /usr/local/lib/python3.10/dist-packages (4.38.2)\n",
            "Requirement already satisfied: filelock in /usr/local/lib/python3.10/dist-packages (from transformers) (3.13.1)\n",
            "Requirement already satisfied: huggingface-hub<1.0,>=0.19.3 in /usr/local/lib/python3.10/dist-packages (from transformers) (0.20.3)\n",
            "Requirement already satisfied: numpy>=1.17 in /usr/local/lib/python3.10/dist-packages (from transformers) (1.25.2)\n",
            "Requirement already satisfied: packaging>=20.0 in /usr/local/lib/python3.10/dist-packages (from transformers) (23.2)\n",
            "Requirement already satisfied: pyyaml>=5.1 in /usr/local/lib/python3.10/dist-packages (from transformers) (6.0.1)\n",
            "Requirement already satisfied: regex!=2019.12.17 in /usr/local/lib/python3.10/dist-packages (from transformers) (2023.12.25)\n",
            "Requirement already satisfied: requests in /usr/local/lib/python3.10/dist-packages (from transformers) (2.31.0)\n",
            "Requirement already satisfied: tokenizers<0.19,>=0.14 in /usr/local/lib/python3.10/dist-packages (from transformers) (0.15.2)\n",
            "Requirement already satisfied: safetensors>=0.4.1 in /usr/local/lib/python3.10/dist-packages (from transformers) (0.4.2)\n",
            "Requirement already satisfied: tqdm>=4.27 in /usr/local/lib/python3.10/dist-packages (from transformers) (4.66.2)\n",
            "Requirement already satisfied: fsspec>=2023.5.0 in /usr/local/lib/python3.10/dist-packages (from huggingface-hub<1.0,>=0.19.3->transformers) (2023.6.0)\n",
            "Requirement already satisfied: typing-extensions>=3.7.4.3 in /usr/local/lib/python3.10/dist-packages (from huggingface-hub<1.0,>=0.19.3->transformers) (4.10.0)\n",
            "Requirement already satisfied: charset-normalizer<4,>=2 in /usr/local/lib/python3.10/dist-packages (from requests->transformers) (3.3.2)\n",
            "Requirement already satisfied: idna<4,>=2.5 in /usr/local/lib/python3.10/dist-packages (from requests->transformers) (3.6)\n",
            "Requirement already satisfied: urllib3<3,>=1.21.1 in /usr/local/lib/python3.10/dist-packages (from requests->transformers) (2.0.7)\n",
            "Requirement already satisfied: certifi>=2017.4.17 in /usr/local/lib/python3.10/dist-packages (from requests->transformers) (2024.2.2)\n"
          ]
        }
      ],
      "source": [
        "# Libraries\n",
        "!pip install gradio\n",
        "!pip install gradio --upgrade\n",
        "!pip install pandas      # Pandas for data manipulation and analysis\n",
        "!pip install matplotlib  # Matplotlib for data visualization\n",
        "!pip install nltk        # NLTK for natural language processing tasks\n",
        "!pip install wordcloud   # Wordcloud for generating word clouds\n",
        "!pip install transformers # Transformers for accessing the GPT-2 model  #library for accessing the GPT-2 model\n",
        "\n"
      ]
    },
    {
      "cell_type": "markdown",
      "metadata": {
        "id": "IzCgr3KmXT2w"
      },
      "source": [
        "Import Libraries"
      ]
    },
    {
      "cell_type": "code",
      "execution_count": 2,
      "metadata": {
        "colab": {
          "base_uri": "https://localhost:8080/"
        },
        "id": "rbRA_ZuE-m5b",
        "outputId": "76c2013c-39d7-4697-db5c-104cdedf74cd"
      },
      "outputs": [
        {
          "output_type": "stream",
          "name": "stderr",
          "text": [
            "[nltk_data] Downloading package vader_lexicon to /root/nltk_data...\n"
          ]
        }
      ],
      "source": [
        "import pandas as pd                  # Pandas for data manipulation and analysis\n",
        "import nltk                          # NLTK for natural language processing tasks\n",
        "from nltk.corpus import stopwords    # Stopwords from NLTK\n",
        "from nltk.tokenize import word_tokenize   # Word tokenizer from NLTK\n",
        "import gradio as gr                  #Import Gradio library for building the user interface\n",
        "import matplotlib.pyplot as plt     # Matplotlib for data visualization\n",
        "from wordcloud import WordCloud     # Wordcloud for generating word clouds\n",
        "from transformers import GPT2Tokenizer, GPT2LMHeadModel   # GPT-2 model from Transformers\n",
        "import torch                         # PyTorch for deep learning tasks\n",
        "from torch.utils.data import DataLoader, Dataset,TensorDataset   # DataLoader and Dataset for handling data\n",
        "from transformers import GPT2Config, GPT2LMHeadModel, AdamW     # AdamW optimizer for GPT-2 model\n",
        "from transformers import AdamW, get_scheduler                    # Scheduler for optimizer\n",
        "from torch.nn.utils.rnn import pad_sequence                      # Padding sequences for model input\n",
        "from nltk.sentiment import SentimentIntensityAnalyzer            # Sentiment analysis from NLTK\n",
        "from sklearn.feature_extraction.text import TfidfVectorizer      # TF-IDF vectorizer\n",
        "from sklearn.decomposition import LatentDirichletAllocation      # LDA for topic modeling\n",
        "nltk.download('vader_lexicon')  # Download the VADER lexicon for sentiment analysis\n",
        "sia = SentimentIntensityAnalyzer()  # Initialize the SentimentIntensityAnalyzer"
      ]
    },
    {
      "cell_type": "code",
      "execution_count": 3,
      "metadata": {
        "colab": {
          "base_uri": "https://localhost:8080/",
          "height": 380,
          "referenced_widgets": [
            "d076279f1e05490d929c1523b4f9ec46",
            "96328fd39ee441c2951ba5eaf663ce30",
            "3a0d26f8449647eea85849c7863384d4",
            "001f1bdfe6ed409cb60e5b61e5a1ec8a",
            "f9a9de5c90964f1d954d85a7d3f9b07c",
            "afa52f7c8f7245c5a09265e62c448d00",
            "a5cb469b8ef94daba9d99de70dedbe99",
            "8a2ae87e8a9f47849e80124d26fb5ff5",
            "6c1f2bbc02444b0f9aa8a4f20002171f",
            "905890cfe8314bad9f4286ff3df374b6",
            "61a6527b6c0f4e01adca75a6add9a4ad",
            "867d6caa751c454b82b3cbea3a0a67f7",
            "c3a2709fe3e143e2a2153288b335a7ce",
            "597c495e82ca4bf19637855dd5dce9a3",
            "64c69b8830c04969aed5828566fcdeb3",
            "dd20e5744bb542bfb0544208c70d2075",
            "5e9c2627e39043fe80675c1d2ebf281a",
            "d31e760eb2414d7fafb2bc608aeb277a",
            "25fa0310aba640aebf83b5ce406cd5cd",
            "f050cfe8dbb4491bb25ab3983090825e",
            "968bd7b147894be4b024bb8c3f4095b4",
            "28511e3b266840c582368cdb4effb50d",
            "6ec8c9ab8d3b44a7ba36f5ddf3865cd8",
            "dc89a24938124c6fbfd1bc882246b638",
            "e2969ef259ce4a508b2581bd56c47603",
            "57696d99acf644e985dd19442f1a937b",
            "d03a979d6cfd4db19053e9be0832e657",
            "7170da2418dc4d1b8000951a8a7609ee",
            "2723a39e592f4fc98f78496b007d668d",
            "20f3cd571bbf4868b036e925db663190",
            "76ed3dd4b2aa437cb5352c7f332cd6ba",
            "52c2232a6cfa4d12a865075f286db15f",
            "32e0337002c04f849b006433481c19ba",
            "bc18defaf6dd4ee4a7c5eda6ab5b15a9",
            "35f38b865ac543bf8048143a6619e46b",
            "f206cda4567347a2924a9cab788bba11",
            "7b48bf054e06429eb10fe19d23605f30",
            "5218d865399546d5b3fcd58f6fd07fa5",
            "151ec95f987b463c912ca683f17d48ac",
            "8ddd3dd6e6074511ab5c41d496c6f1ed",
            "a4b478fbf0b54aafb85f0b656ac5bd2f",
            "fe9f5cd6abf2431d9a993d78b9c4c9bb",
            "09b85a8067fe40648e810a1c88a35f65",
            "8973d2006d07494fa7188e150445725f",
            "d03aec938db04b848f5eea008c8e1a32",
            "a2d5c42600f04aaeb19f37f80e4118b4",
            "6c3ce77ac8984f3cb778b0d6d3546ecd",
            "a56f7bc0e9f64da1ba1180a464221bea",
            "b8f41376085d4636b366576640e06b3a",
            "a36d574c755b407f8d1d9ed8e56645ef",
            "57bc0de39cf54ff5ae89de315ed42b7f",
            "2b586bbcde9545da86b4dddcf7daf0f0",
            "3c6cf30a8289404f9628a70f26bc69cc",
            "aeb515da22e94954807ed5887d532324",
            "8bd336ba29dd4b5b9424d679b9a2ce1e",
            "26140cd7d9cd4014991e2dec5d8d6c44",
            "cb6624481fa34316a6ee3c066d943d18",
            "8bf709f9ecce4edcac04ad1163f18a24",
            "38e51831243140c98942f08b1e8c35e7",
            "f40d0302f3864121a9504239c34ccdab",
            "ec773c33ea914446a6d061c53cfd29f6",
            "57e3066a412146968d4b9449fe80bac4",
            "0b39b3311d504fefb51bb0a0f4fef489",
            "f6cf686ab0d141e383c8995200eda7c9",
            "fa7ea269f01a4b9596ccf35dd17c42e3",
            "3f3e81e537bd41a79775431a3509e289",
            "cbf8f66a414749b5bb1dac482a0b6d0e",
            "408db523847d4a5580af8f8c408daa50",
            "0751d2df560749a58815a2d762557c82",
            "356b0848bd3d4e4da13f5d66a9e20ffc",
            "643167cf67dc49c3806627b7acdf3f7f",
            "7a83ec008ab44e69baf22f2903310429",
            "bab4c80db4c74d129d0b006b72b43e25",
            "65cb9fda4fbb4df6ab2171d8d151a755",
            "b69b8bf442834d6eab17452a66df0aef",
            "2a9feab3c3f841c5b6a350ec28d51802",
            "b58e18bf9a8f44be86ceac1c6638297d"
          ]
        },
        "id": "n0d0AzhzeCEC",
        "outputId": "4ed70504-027e-46c4-e63d-7da2d53871c5"
      },
      "outputs": [
        {
          "output_type": "stream",
          "name": "stderr",
          "text": [
            "/usr/local/lib/python3.10/dist-packages/huggingface_hub/utils/_token.py:88: UserWarning: \n",
            "The secret `HF_TOKEN` does not exist in your Colab secrets.\n",
            "To authenticate with the Hugging Face Hub, create a token in your settings tab (https://huggingface.co/settings/tokens), set it as secret in your Google Colab and restart your session.\n",
            "You will be able to reuse this secret in all of your notebooks.\n",
            "Please note that authentication is recommended but still optional to access public models or datasets.\n",
            "  warnings.warn(\n"
          ]
        },
        {
          "output_type": "display_data",
          "data": {
            "text/plain": [
              "tokenizer_config.json:   0%|          | 0.00/26.0 [00:00<?, ?B/s]"
            ],
            "application/vnd.jupyter.widget-view+json": {
              "version_major": 2,
              "version_minor": 0,
              "model_id": "d076279f1e05490d929c1523b4f9ec46"
            }
          },
          "metadata": {}
        },
        {
          "output_type": "display_data",
          "data": {
            "text/plain": [
              "vocab.json:   0%|          | 0.00/1.04M [00:00<?, ?B/s]"
            ],
            "application/vnd.jupyter.widget-view+json": {
              "version_major": 2,
              "version_minor": 0,
              "model_id": "867d6caa751c454b82b3cbea3a0a67f7"
            }
          },
          "metadata": {}
        },
        {
          "output_type": "display_data",
          "data": {
            "text/plain": [
              "merges.txt:   0%|          | 0.00/456k [00:00<?, ?B/s]"
            ],
            "application/vnd.jupyter.widget-view+json": {
              "version_major": 2,
              "version_minor": 0,
              "model_id": "6ec8c9ab8d3b44a7ba36f5ddf3865cd8"
            }
          },
          "metadata": {}
        },
        {
          "output_type": "display_data",
          "data": {
            "text/plain": [
              "tokenizer.json:   0%|          | 0.00/1.36M [00:00<?, ?B/s]"
            ],
            "application/vnd.jupyter.widget-view+json": {
              "version_major": 2,
              "version_minor": 0,
              "model_id": "bc18defaf6dd4ee4a7c5eda6ab5b15a9"
            }
          },
          "metadata": {}
        },
        {
          "output_type": "display_data",
          "data": {
            "text/plain": [
              "config.json:   0%|          | 0.00/665 [00:00<?, ?B/s]"
            ],
            "application/vnd.jupyter.widget-view+json": {
              "version_major": 2,
              "version_minor": 0,
              "model_id": "d03aec938db04b848f5eea008c8e1a32"
            }
          },
          "metadata": {}
        },
        {
          "output_type": "display_data",
          "data": {
            "text/plain": [
              "model.safetensors:   0%|          | 0.00/548M [00:00<?, ?B/s]"
            ],
            "application/vnd.jupyter.widget-view+json": {
              "version_major": 2,
              "version_minor": 0,
              "model_id": "26140cd7d9cd4014991e2dec5d8d6c44"
            }
          },
          "metadata": {}
        },
        {
          "output_type": "display_data",
          "data": {
            "text/plain": [
              "generation_config.json:   0%|          | 0.00/124 [00:00<?, ?B/s]"
            ],
            "application/vnd.jupyter.widget-view+json": {
              "version_major": 2,
              "version_minor": 0,
              "model_id": "cbf8f66a414749b5bb1dac482a0b6d0e"
            }
          },
          "metadata": {}
        },
        {
          "output_type": "execute_result",
          "data": {
            "text/plain": [
              "Embedding(50257, 768)"
            ]
          },
          "metadata": {},
          "execution_count": 3
        }
      ],
      "source": [
        "# # Load the pre-trained GPT-2 model and tokenizer\n",
        "tokenizer = GPT2Tokenizer.from_pretrained('gpt2')    # GPT-2 tokenizer\n",
        "model = GPT2LMHeadModel.from_pretrained('gpt2')      # GPT-2 model\n",
        "model.resize_token_embeddings(len(tokenizer))         # Resize token embeddings"
      ]
    },
    {
      "cell_type": "markdown",
      "metadata": {
        "id": "Tpcd0Zx760G5"
      },
      "source": [
        "#Data Collection and Preparation: Clean the dataset by removing special characters, digits, and unnecessary whitespace"
      ]
    },
    {
      "cell_type": "code",
      "execution_count": 4,
      "metadata": {
        "id": "rM_sGqcpT8L0"
      },
      "outputs": [],
      "source": [
        "# List of file paths for the TXT files\n",
        "#Define the list of file paths for the TXT files\n",
        "txt_files = [\n",
        "    \"/content/Cognition in Pregnancy- Perceptions and Performance, 2005-2006 - Dataset - B2FIND.txt\",\n",
        "    \"/content/Frontiers | Cognitive disorder and associated factors among pregnant women attending antenatal servi.txt\",\n",
        "    \"/content/Frustrated By Brain Fog? How Pregnancy Actually Alters Yo....txt\",\n",
        "    \"/content/Is Pregnancy Brain Real?.txt\",\n",
        "    \"/content/Is ‘pregnancy brain’ real or just a myth? | Your Pregnancy Matters | UT Southwestern Medical Center.txt\",\n",
        "    \"/content/Memory and affective changes during the antepartum- A narrative review and integrative hypothesis- J.txt\",\n",
        "    \"/content/Pregnancy 'does cause memory loss' | Medical research | The Guardian.txt\",\n",
        "    \"/content/Pregnancy Brain — Forgetfulness During Pregnancy.txt\",\n",
        "    \"/content/Pregnancy brain- When it starts and what causes pregnancy brain fog | BabyCenter.txt\",\n",
        "    \"/content/Pregnancy does cause memory loss, study says - CNN.txt\",\n",
        "    \"/content/Textbook J.A. Russell, A.J. Douglas, R.J. Windle, C.D. Ingram - The Maternal Brain_ Neurobiological and Neuroendocrine Adaptation and Disorders in Pregnancy & Post Partum-Elsevier Science (2001).txt\",\n",
        "    \"/content/The effect of pregnancy on maternal cognition - PMC.txt\",\n",
        "    \"/content/This Is Your Brain on Motherhood - The New York Times.txt\",\n",
        "    \"/content/Working memory from pregnancy to postpartum.txt\",\n",
        "    \"/content/What Is Mom Brain and Is It Real?.txt\",\n",
        "    \"/content/Memory loss in Pregnancy- Myth or Fact? - International Forum for Wellbeing in Pregnancy.txt\",\n",
        "    \"/content/Memory and mood changes in pregnancy- a qualitative content analysis of women’s first-hand accounts.txt\",\n",
        "    \"/content/Is Mom Brain real? Understanding and coping with postpartum brain fog.txt\",\n",
        "    \"/content/Everyday Life Memory Deficits in Pregnant Women.txt\",\n",
        "    \"/content/Cognitive Function Decline in the Third Trimester.txt\",\n",
        "    \"/content/'Mommy brain' might be a good thing, new research suggests | CBC Radio.txt\"\n",
        "]\n"
      ]
    },
    {
      "cell_type": "code",
      "execution_count": 5,
      "metadata": {
        "colab": {
          "base_uri": "https://localhost:8080/"
        },
        "id": "3yympX8b7waL",
        "outputId": "1c386f1f-9310-4b5b-a171-15f8979a1e5a"
      },
      "outputs": [
        {
          "output_type": "stream",
          "name": "stdout",
          "text": [
            "                                                 text\n",
            "0   GO TO EUDAT WEBSITE \\nDATA CATALOGUE REPOSITOR...\n",
            "1   (Sections )(Sections )\\nArticles Research Topi...\n",
            "2   Dr. Aliabadi’s Elective DoubleMastectomy Journ...\n",
            "3   Health Conditions Discover Plan Connect SUBSCR...\n",
            "4   Find a Doctor Conditions & Treatments Location...\n",
            "5   2 \\nLog in | Register Cart\\n\\n! \\n\\n\\nHome All...\n",
            "6   Print subscriptions Search jobs \\nSupport the ...\n",
            "7   SearchSearch\\nSign Up \\ntIN THIS ARTICLE Getti...\n",
            "8   Epidural for labor painReviewed by Cheryl Axel...\n",
            "9   Health»Live TV International Edition + !!\\nSha...\n",
            "10  List of Contributors \\n\\nM. Altemus, Departmen...\n",
            "11  AnoKcialwebsiteoftheUnitedStatesgovernment \\n\\...\n",
            "12  ADVERTISEMENTPARENTINSharefullarticle 4\\nPAREN...\n",
            "13  Short Communication \\nWorking memory from preg...\n",
            "14  What Is Mom Brain and Is It Real? \\n3/5/24, 3:...\n",
            "15  Memory loss in Pregnancy: Myth or Fact? - Inte...\n",
            "16  Memory and mood changes in pregnancy: a qualit...\n",
            "17  Is Mom Brain real? \\nUnderstanding and coping ...\n",
            "18  See discussions, stats, and author profiles fo...\n",
            "19  Journal ofClinical Medicine\\nArticle \\n\\n\\nCog...\n",
            "20  'Mommy brain' might be a good thing, new resea...\n"
          ]
        }
      ],
      "source": [
        "#Load and read the text files into a DataFrame\n",
        "data = []\n",
        "for file_path in txt_files:\n",
        "    with open(file_path, \"r\") as file:\n",
        "        text = file.read()\n",
        "        data.append({\"text\": text})\n",
        "\n",
        "df = pd.DataFrame(data)\n",
        "\n",
        "# Display the DataFrame\n",
        "print(df)"
      ]
    },
    {
      "cell_type": "markdown",
      "metadata": {
        "id": "-hEcbQD-8AEU"
      },
      "source": [
        "##Data Cleaning and Manipulation"
      ]
    },
    {
      "cell_type": "code",
      "execution_count": 6,
      "metadata": {
        "colab": {
          "base_uri": "https://localhost:8080/"
        },
        "id": "3mOqKxTb7Iso",
        "outputId": "af588bea-dbbd-41c3-b4bc-45178b372c55"
      },
      "outputs": [
        {
          "output_type": "stream",
          "name": "stderr",
          "text": [
            "[nltk_data] Downloading package punkt to /root/nltk_data...\n",
            "[nltk_data]   Unzipping tokenizers/punkt.zip.\n"
          ]
        }
      ],
      "source": [
        "# Tokenize the text\n",
        "nltk.download('punkt')  # Download the 'punkt' tokenizer models for tokenization\n",
        "df['tokens'] = df['text'].apply(word_tokenize) # Tokenize each text in the 'text' column into a list of words\n"
      ]
    },
    {
      "cell_type": "code",
      "execution_count": 7,
      "metadata": {
        "colab": {
          "base_uri": "https://localhost:8080/"
        },
        "id": "k_AGncCJ8Z0D",
        "outputId": "3eacb794-9152-4ea4-ffb6-b9ed917ecbf9"
      },
      "outputs": [
        {
          "output_type": "stream",
          "name": "stderr",
          "text": [
            "[nltk_data] Downloading package stopwords to /root/nltk_data...\n",
            "[nltk_data]   Unzipping corpora/stopwords.zip.\n"
          ]
        }
      ],
      "source": [
        "# Remove stopwords and special characters\n",
        "nltk.download('stopwords')  # Download the stopwords corpus for English\n",
        "stop_words = set(stopwords.words('english'))  # Load the English stopwords into a set\n"
      ]
    },
    {
      "cell_type": "code",
      "execution_count": 8,
      "metadata": {
        "id": "FSscUbsWqxLs"
      },
      "outputs": [],
      "source": [
        "# Apply a lambda function to each tokenized list in the 'tokens' column\n",
        "# This function converts each word to lowercase, removes non-alphanumeric characters, and filters out stopwords\n",
        "df['cleaned_text'] = df['tokens'].apply(lambda x: [word.lower() for word in x if (word.isalnum() and word.lower() not in stop_words)])\n"
      ]
    },
    {
      "cell_type": "code",
      "execution_count": 9,
      "metadata": {
        "id": "2_6fes4dq9hb"
      },
      "outputs": [],
      "source": [
        "# Join tokens back into sentences\n",
        "# Apply a lambda function to join the cleaned tokens back into a single string\n",
        "df['cleaned_text'] = df['cleaned_text'].apply(lambda x: ' '.join(x))"
      ]
    },
    {
      "cell_type": "code",
      "execution_count": 10,
      "metadata": {
        "colab": {
          "base_uri": "https://localhost:8080/"
        },
        "id": "IXYl3NDi8aVA",
        "outputId": "e81a1b57-50d5-4478-a60e-50d6daa52666"
      },
      "outputs": [
        {
          "output_type": "stream",
          "name": "stdout",
          "text": [
            "0     go eudat website data catalogue repositories p...\n",
            "1     sections sections articles research topics edi...\n",
            "2     aliabadi elective doublemastectomy journeydo l...\n",
            "3     health conditions discover plan connect subscr...\n",
            "4     find doctor conditions treatments locations ac...\n",
            "5     2 log register cart home journals journal clin...\n",
            "6     print subscriptions search jobs support guardi...\n",
            "7     searchsearch sign tin article getting pregnant...\n",
            "8     epidural labor painreviewed cheryl axelrod lab...\n",
            "9     health live tv international edition share mix...\n",
            "10    list contributors altemus department psychiatr...\n",
            "11    anokcialwebsiteoftheunitedstatesgovernment per...\n",
            "12    advertisementparentinsharefullarticle 4 parent...\n",
            "13    short communication working memory pregnancy p...\n",
            "14    mom brain real pm search getting pregnant preg...\n",
            "15    memory loss pregnancy myth fact international ...\n",
            "16    memory mood changes pregnancy qualitative cont...\n",
            "17    mom brain real understanding coping postpartum...\n",
            "18    see discussions stats author profiles publicat...\n",
            "19    journal ofclinical medicine article cognitive ...\n",
            "20    brain might good thing new research suggests c...\n",
            "Name: cleaned_text, dtype: object\n"
          ]
        }
      ],
      "source": [
        "# Display the cleaned text\n",
        "print(df['cleaned_text'])"
      ]
    },
    {
      "cell_type": "markdown",
      "metadata": {
        "id": "gR6SBEajoymI"
      },
      "source": [
        "##Exploratory Data Analysis and Visualization"
      ]
    },
    {
      "cell_type": "markdown",
      "metadata": {
        "id": "ebXKnW-7Bzty"
      },
      "source": [
        "*  Perform basic statistics on the dataset, such as word count, average length of articles (Performing basic statistics on a dataset, such as word count and average article length, helps understand the dataset's content complexity and typical article length, aiding further analysis and processing)\n",
        "\n"
      ]
    },
    {
      "cell_type": "code",
      "execution_count": 11,
      "metadata": {
        "colab": {
          "base_uri": "https://localhost:8080/",
          "height": 989
        },
        "id": "-fxr1oIHBb35",
        "outputId": "0fd64d31-ad79-4f19-b943-98d86365e2d7"
      },
      "outputs": [
        {
          "output_type": "stream",
          "name": "stdout",
          "text": [
            "Average length of articles: 7267.57 words\n",
            "Minimum word count: 408 words\n",
            "Maximum word count: 121232 words\n",
            "                                         cleaned_text  word_count\n",
            "0   go eudat website data catalogue repositories p...         591\n",
            "1   sections sections articles research topics edi...        3091\n",
            "2   aliabadi elective doublemastectomy journeydo l...        1189\n",
            "3   health conditions discover plan connect subscr...        1227\n",
            "4   find doctor conditions treatments locations ac...         611\n",
            "5   2 log register cart home journals journal clin...         481\n",
            "6   print subscriptions search jobs support guardi...         695\n",
            "7   searchsearch sign tin article getting pregnant...         556\n",
            "8   epidural labor painreviewed cheryl axelrod lab...         703\n",
            "9   health live tv international edition share mix...         408\n",
            "10  list contributors altemus department psychiatr...      121232\n",
            "11  anokcialwebsiteoftheunitedstatesgovernment per...        2605\n",
            "12  advertisementparentinsharefullarticle 4 parent...         993\n",
            "13  short communication working memory pregnancy p...        2118\n",
            "14  mom brain real pm search getting pregnant preg...         935\n",
            "15  memory loss pregnancy myth fact international ...         510\n",
            "16  memory mood changes pregnancy qualitative cont...        3103\n",
            "17  mom brain real understanding coping postpartum...        1050\n",
            "18  see discussions stats author profiles publicat...        5317\n",
            "19  journal ofclinical medicine article cognitive ...        4402\n",
            "20  brain might good thing new research suggests c...         802\n"
          ]
        },
        {
          "output_type": "display_data",
          "data": {
            "text/plain": [
              "<Figure size 1000x600 with 1 Axes>"
            ],
            "image/png": "[encoded data removed]"
          },
          "metadata": {}
        }
      ],
      "source": [
        "# Word count\n",
        "df['word_count'] = df['cleaned_text'].apply(lambda x: len(x.split()))\n",
        "\n",
        "# Average length of articles\n",
        "average_length = df['word_count'].mean()\n",
        "\n",
        "# Minimum and maximum word count\n",
        "min_word_count = df['word_count'].min()\n",
        "max_word_count = df['word_count'].max()\n",
        "\n",
        "print(f\"Average length of articles: {average_length:.2f} words\")\n",
        "print(f\"Minimum word count: {min_word_count} words\")\n",
        "print(f\"Maximum word count: {max_word_count} words\")\n",
        "\n",
        "# Display the cleaned text and word count\n",
        "print(df[['cleaned_text', 'word_count']])\n",
        "\n",
        "# Visualize the distribution of word counts\n",
        "plt.figure(figsize=(10, 6))\n",
        "plt.hist(df['word_count'], bins=20, color='brown', edgecolor='black')\n",
        "plt.xlabel('Word Count')\n",
        "plt.ylabel('Frequency')\n",
        "plt.title('Distribution of Word Counts')\n",
        "plt.show()\n"
      ]
    },
    {
      "cell_type": "markdown",
      "metadata": {
        "id": "SNNeL_-TyyQY"
      },
      "source": [
        "*  Word Cloud (Display the most common words or phrases, providing a  visual representation of the main themes and topics discussed in the articles)"
      ]
    },
    {
      "cell_type": "code",
      "execution_count": 12,
      "metadata": {
        "colab": {
          "base_uri": "https://localhost:8080/",
          "height": 444
        },
        "id": "8_wavidGo0qK",
        "outputId": "236b8b44-b3b5-4ed3-d7e2-f04871755666"
      },
      "outputs": [
        {
          "output_type": "display_data",
          "data": {
            "text/plain": [
              "<Figure size 1000x500 with 1 Axes>"
            ],
            "image/png": "[encoded data removed]"
          },
          "metadata": {}
        }
      ],
      "source": [
        "# Concatenate all cleaned text into a single string\n",
        "all_text = \" \".join(df[\"cleaned_text\"])\n",
        "\n",
        "# Generate the word cloud\n",
        "wordcloud = WordCloud(width=800, height=400, background_color=\"white\").generate(all_text)\n",
        "\n",
        "# Display the word cloud\n",
        "plt.figure(figsize=(10, 5))\n",
        "plt.imshow(wordcloud, interpolation=\"bilinear\")\n",
        "plt.axis(\"off\")\n",
        "plt.title('Word Cloud of Cognitive Memory Issues')\n",
        "plt.show()\n",
        "\n",
        "\n"
      ]
    },
    {
      "cell_type": "markdown",
      "metadata": {
        "id": "GXbyA8bKirGM"
      },
      "source": [
        "\n",
        "\n",
        "*  Frequency of Cognitive Memory Issues (Describes the frequency of different types of cognitive memory issues reported in the text data. It shows the number of occurrences of each type of issue, such as memory loss, difficulty concentrating, forgetfulness, brain fog, and others, providing insights into the prevalence of these issues in the dataset)\n",
        "\n"
      ]
    },
    {
      "cell_type": "code",
      "execution_count": 13,
      "metadata": {
        "colab": {
          "base_uri": "https://localhost:8080/",
          "height": 1000
        },
        "id": "iX5HkmrchnvK",
        "outputId": "7ba542ad-97c5-4837-d75f-308a69be3330"
      },
      "outputs": [
        {
          "output_type": "display_data",
          "data": {
            "text/plain": [
              "<Figure size 1000x600 with 1 Axes>"
            ],
            "image/png": "[encoded data removed]"
          },
          "metadata": {}
        },
        {
          "output_type": "stream",
          "name": "stdout",
          "text": [
            "0     go to eudat website \\ndata catalogue repositor...\n",
            "1     (sections )(sections )\\narticles research topi...\n",
            "2     dr. aliabadi’s elective doublemastectomy journ...\n",
            "3     health conditions discover plan connect subscr...\n",
            "4     find a doctor conditions & treatments location...\n",
            "5     2 \\nlog in | register cart\\n\\n! \\n\\n\\nhome all...\n",
            "6     print subscriptions search jobs \\nsupport the ...\n",
            "7     searchsearch\\nsign up \\ntin this article getti...\n",
            "8     epidural for labor painreviewed by cheryl axel...\n",
            "9     health»live tv international edition + !!\\nsha...\n",
            "10    list of contributors \\n\\nm. altemus, departmen...\n",
            "11    anokcialwebsiteoftheunitedstatesgovernment \\n\\...\n",
            "12    advertisementparentinsharefullarticle 4\\nparen...\n",
            "13    short communication \\nworking memory from preg...\n",
            "14    what is mom brain and is it real? \\n3/5/24, 3:...\n",
            "15    memory loss in pregnancy: myth or fact? - inte...\n",
            "16    memory and mood changes in pregnancy: a qualit...\n",
            "17    is mom brain real? \\nunderstanding and coping ...\n",
            "18    see discussions, stats, and author profiles fo...\n",
            "19    journal ofclinical medicine\\narticle \\n\\n\\ncog...\n",
            "20    'mommy brain' might be a good thing, new resea...\n",
            "Name: cleaned_text, dtype: object\n"
          ]
        }
      ],
      "source": [
        "def cleaned_text(text):\n",
        "    # Your cleaning logic here\n",
        "    cleaned_text = text.lower()  # Example: convert text to lowercase\n",
        "    return cleaned_text\n",
        "\n",
        "# Apply cleaning function to 'text' column and store in 'cleaned_text' column\n",
        "df[\"cleaned_text\"] = df[\"text\"].apply(cleaned_text)\n",
        "\n",
        "# Define types of cognitive memory issues\n",
        "types_of_issues = ['Memory Loss', 'Difficulty Concentrating', 'Forgetfulness', 'Brain Fog', 'Others']\n",
        "\n",
        "# Initialize frequencies dictionary\n",
        "frequencies = {issue: 0 for issue in types_of_issues}\n",
        "\n",
        "# Count frequencies of each type of issue\n",
        "for text in df[\"cleaned_text\"]:\n",
        "    for issue in types_of_issues:\n",
        "        if issue.lower() in text:  # Example: use lowercase for comparison\n",
        "            frequencies[issue] += 1\n",
        "\n",
        "# Convert frequencies to DataFrame for plotting\n",
        "df_frequencies = pd.DataFrame(list(frequencies.items()), columns=['Types of cognitive memory issues', 'Frequency'])\n",
        "\n",
        "# Plot the bar chart\n",
        "plt.figure(figsize=(10, 6))\n",
        "plt.bar(df_frequencies['Types of cognitive memory issues'], df_frequencies['Frequency'], color='skyblue')\n",
        "plt.xlabel('Types of cognitive memory issues')\n",
        "plt.ylabel('Frequency')\n",
        "plt.title('Frequency of Cognitive Memory Issues')\n",
        "plt.xticks(rotation=45)\n",
        "plt.show()\n",
        "\n",
        "# Display the cleaned text\n",
        "print(df['cleaned_text'])\n"
      ]
    },
    {
      "cell_type": "markdown",
      "metadata": {
        "id": "5N_Rj4dC_WCv"
      },
      "source": [
        "**Text Mining and NLP Analysis**\n",
        "Goal is to extract key terms and topics related to cognitive memory issues during pregnancy, providing insights into the content and themes of the articles. This analysis helps identify patterns, trends, and prevalent topics in the literature, which can inform the development of the chatbox and enhance its ability to provide relevant and personalized support to pregnant women."
      ]
    },
    {
      "cell_type": "code",
      "execution_count": 14,
      "metadata": {
        "colab": {
          "base_uri": "https://localhost:8080/"
        },
        "id": "2wz8Za2o_DLM",
        "outputId": "639c50ca-643e-4b23-f67a-a33f67c71897"
      },
      "outputs": [
        {
          "output_type": "stream",
          "name": "stdout",
          "text": [
            "Topic 1: pregnancy, women, memory, pregnant, et\n",
            "Topic 2: brain, pregnancy, memory, women, mom\n",
            "Topic 3: galea, male, female, animals, typically\n",
            "Topic 4: galea, male, female, animals, typically\n",
            "Topic 5: galea, male, female, animals, typically\n"
          ]
        }
      ],
      "source": [
        "# Text Mining and NLP\n",
        "# TF-IDF Vectorization\n",
        "tfidf_vectorizer = TfidfVectorizer(stop_words='english')\n",
        "tfidf_matrix = tfidf_vectorizer.fit_transform(df['cleaned_text'])\n",
        "\n",
        "# Latent Dirichlet Allocation (LDA) for Topic Modeling\n",
        "lda = LatentDirichletAllocation(n_components=5, random_state=42)\n",
        "lda.fit(tfidf_matrix)\n",
        "\n",
        "# Extract key terms and topics\n",
        "terms = tfidf_vectorizer.get_feature_names_out()\n",
        "topics = [[terms[i] for i in topic.argsort()[:-6:-1]] for topic in lda.components_]\n",
        "\n",
        "# Print topics\n",
        "for i, topic in enumerate(topics):\n",
        "    print(f\"Topic {i+1}: {', '.join(topic)}\")\n"
      ]
    },
    {
      "cell_type": "markdown",
      "metadata": {
        "id": "qBvUaOo7_4gR"
      },
      "source": [
        "**Sentiment Analysis and Comparison and Contrast:** This analysis assigns a sentiment score to each article, indicating its overall sentiment (positive, neutral, or negative). The sentiment scores can help understand the general tone and attitude of the articles towards cognitive memory issues during pregnancy."
      ]
    },
    {
      "cell_type": "code",
      "execution_count": 15,
      "metadata": {
        "colab": {
          "base_uri": "https://localhost:8080/",
          "height": 564
        },
        "id": "vAx1fitHAkrs",
        "outputId": "c491f9f5-e623-40ac-b8ce-55688be0f10f"
      },
      "outputs": [
        {
          "output_type": "display_data",
          "data": {
            "text/plain": [
              "<Figure size 1000x600 with 1 Axes>"
            ],
            "image/png": "[encoded data removed]"
          },
          "metadata": {}
        }
      ],
      "source": [
        "# Sentiment Analysis\n",
        "# Calculate the sentiment score for each cleaned text and store it in a new column\n",
        "df['sentiment_score'] = df['cleaned_text'].apply(lambda x: sia.polarity_scores(x)['compound'])\n",
        "\n",
        "# Explanation of sentiment scores:\n",
        "# -1 indicates extremely negative sentiment.\n",
        "# 0 indicates neutral sentiment.\n",
        "# 1 indicates extremely positive sentiment.\n",
        "\n",
        "# Comparison and Contrast\n",
        "# For simplicity, let's just plot the sentiment scores\n",
        "plt.figure(figsize=(10, 6))\n",
        "plt.hist(df['sentiment_score'], bins=20, color='green')\n",
        "plt.xlabel('Sentiment Score')\n",
        "plt.ylabel('Frequency')\n",
        "plt.title('Sentiment Analysis of Articles')\n",
        "plt.show()"
      ]
    },
    {
      "cell_type": "markdown",
      "metadata": {
        "id": "hQNRI03-U5rF"
      },
      "source": [
        "#Comparing Baseline GPT-2 Model Responses Using Raw and Cleaned Text Before Fine-Tuning"
      ]
    },
    {
      "cell_type": "markdown",
      "metadata": {
        "id": "pdaiyZQgbvRT"
      },
      "source": [
        "##*For the baseline model with raw text:*"
      ]
    },
    {
      "cell_type": "code",
      "execution_count": 16,
      "metadata": {
        "colab": {
          "base_uri": "https://localhost:8080/"
        },
        "id": "GzK5wDvYbOCf",
        "outputId": "e2c7ef01-1ae8-46f1-8f37-505ee76a190d"
      },
      "outputs": [
        {
          "output_type": "stream",
          "name": "stdout",
          "text": [
            "Baseline Response (Raw Text 1): How does pregnancy affect memory?\n",
            "\n",
            "The answer is that it does.\n",
            "\n",
            "The brain is a complex machine that is constantly changing. It is constantly changing. It is constantly changing. It is constantly changing. It is constantly changing. It is constantly changing. It is constantly changing. It is constantly changing. It is constantly changing. It is constantly changing. It is constantly changing. It is constantly changing. It is constantly changing. It is constantly changing. It is constantly changing. It is\n",
            "Baseline Response (Raw Text 2): What are the effects of pregnancy on cognitive function?\n",
            "\n",
            "The effects of pregnancy on cognitive function are not well understood. The most common cognitive deficits are memory loss, attention deficit hyperactivity disorder, and attention deficit hyperactivity disorder (ADHD).\n",
            "\n",
            "The most common cognitive deficits are memory loss, attention deficit hyperactivity disorder, and attention deficit hyperactivity disorder (ADHD). The most common cognitive deficits are memory loss, attention deficit hyperactivity disorder, and attention deficit hyperactivity disorder (ADHD\n"
          ]
        }
      ],
      "source": [
        "# Baseline GPT-2 Model Response before cleaning\n",
        "def baseline_generate_response(raw_text):\n",
        "    # Tokenize the raw text\n",
        "    input_ids = tokenizer(raw_text, return_tensors='pt')['input_ids']\n",
        "    # Generate output\n",
        "    output = model.generate(input_ids, max_length=100, num_return_sequences=1, pad_token_id=tokenizer.eos_token_id)\n",
        "    # Decode the output\n",
        "    response = tokenizer.decode(output[0], skip_special_tokens=True)\n",
        "    return response\n",
        "\n",
        "# Example usage\n",
        "raw_text1 = \"How does pregnancy affect memory?\"\n",
        "raw_text2 = \"What are the effects of pregnancy on cognitive function?\"\n",
        "baseline_response_raw1 = baseline_generate_response(raw_text1)\n",
        "baseline_response_raw2 = baseline_generate_response(raw_text2)\n",
        "print(\"Baseline Response (Raw Text 1):\", baseline_response_raw1.rstrip('!'))\n",
        "print(\"Baseline Response (Raw Text 2):\", baseline_response_raw2.rstrip('!'))"
      ]
    },
    {
      "cell_type": "markdown",
      "metadata": {
        "id": "GmH4rVrLcX4P"
      },
      "source": [
        "##*For the baseline model with cleaned text:*"
      ]
    },
    {
      "cell_type": "code",
      "execution_count": 17,
      "metadata": {
        "colab": {
          "base_uri": "https://localhost:8080/"
        },
        "id": "wEnOCpZ3bYz9",
        "outputId": "8dd34208-c403-4d4b-fe99-1ea126be9fc3"
      },
      "outputs": [
        {
          "output_type": "stream",
          "name": "stdout",
          "text": [
            "Baseline Response 1: How does pregnancy affect memory?\n",
            "\n",
            "The answer is that it does.\n",
            "\n",
            "The brain is a complex machine that is constantly changing. It is constantly changing. It is constantly changing. It is constantly changing. It is constantly changing. It is constantly changing. It is constantly changing. It is constantly changing. It is constantly changing. It is constantly changing. It is constantly changing. It is constantly changing. It is constantly changing. It is constantly changing. It is constantly changing. It is\n",
            "Baseline Response 2: What are the effects of pregnancy on cognitive function?\n",
            "\n",
            "The effects of pregnancy on cognitive function are not well understood. The most common cognitive deficits are memory loss, attention deficit hyperactivity disorder, and attention deficit hyperactivity disorder (ADHD).\n",
            "\n",
            "The most common cognitive deficits are memory loss, attention deficit hyperactivity disorder, and attention deficit hyperactivity disorder (ADHD). The most common cognitive deficits are memory loss, attention deficit hyperactivity disorder, and attention deficit hyperactivity disorder (ADHD\n"
          ]
        }
      ],
      "source": [
        "# Baseline GPT-2 Model Response #Generate responses using the GPT-2 model\n",
        "def baseline_generate_response(cleaned_text):\n",
        "    # Tokenize the cleaned text\n",
        "    input_ids = tokenizer.encode(cleaned_text, return_tensors='pt')\n",
        "    # Generate output\n",
        "    output = model.generate(input_ids, max_length=100, num_return_sequences=1, pad_token_id=tokenizer.eos_token_id, attention_mask=input_ids.ne(tokenizer.eos_token_id))\n",
        "    # Decode the output\n",
        "    response = tokenizer.decode(output[0], skip_special_tokens=True)\n",
        "    return response\n",
        "\n",
        "# Example usage\n",
        "cleaned_text1 = \"How does pregnancy affect memory?\"\n",
        "cleaned_text2 = \"What are the effects of pregnancy on cognitive function?\"\n",
        "baseline_response1 = baseline_generate_response(cleaned_text1)\n",
        "baseline_response2 = baseline_generate_response(cleaned_text2)\n",
        "print(\"Baseline Response 1:\", baseline_response1)\n",
        "print(\"Baseline Response 2:\", baseline_response2)\n"
      ]
    },
    {
      "cell_type": "markdown",
      "metadata": {
        "id": "OISvVK3WNKgw"
      },
      "source": [
        "#Fine-Tuning the GPT-2 Model"
      ]
    },
    {
      "cell_type": "markdown",
      "metadata": {
        "id": "j4bPj81Jk0UD"
      },
      "source": [
        "Tokenization and Padding for Fine-Tuning GPT-2 Model"
      ]
    },
    {
      "cell_type": "code",
      "execution_count": 18,
      "metadata": {
        "id": "M2A4L32VnZF7"
      },
      "outputs": [],
      "source": [
        "# Define the maximum sequence length\n",
        "max_length = 512\n",
        "\n",
        "# Tokenize the cleaned text and truncate to max_length\n",
        "df['tokenized_text'] = df['cleaned_text'].apply(lambda x: tokenizer.encode(x, max_length=max_length, truncation=True, return_tensors='pt'))\n",
        "\n",
        "# Get the padding value from the tokenizer or use a default value\n",
        "padding_value = tokenizer.pad_token_id if tokenizer.pad_token_id is not None else 0\n",
        "\n",
        "# Pad or truncate the tokenized sequences to the maximum length\n",
        "padded_sequences = pad_sequence([seq.squeeze(0) for seq in df['tokenized_text']], batch_first=True, padding_value=padding_value)\n",
        "\n",
        "# Concatenate the padded sequences to match the expected size\n",
        "input_ids = torch.cat(tuple(padded_sequences), dim=0)\n",
        "labels = input_ids.clone()\n"
      ]
    },
    {
      "cell_type": "markdown",
      "metadata": {
        "id": "ejux0XuclzUc"
      },
      "source": [
        "Fine-Tuning: Ready to fine-tune the GPT-2 model"
      ]
    },
    {
      "cell_type": "code",
      "execution_count": 19,
      "metadata": {
        "colab": {
          "base_uri": "https://localhost:8080/"
        },
        "id": "_xR3MwjdFKLT",
        "outputId": "df2ca550-8906-4676-b6ca-3b404148b125"
      },
      "outputs": [
        {
          "output_type": "stream",
          "name": "stdout",
          "text": [
            "input_ids and labels are defined.\n"
          ]
        }
      ],
      "source": [
        "#Check if 'input_ids' and 'labels' are defined\n",
        "if 'input_ids' in locals() and 'labels' in locals():\n",
        "    print(\"input_ids and labels are defined.\")\n",
        "else:\n",
        "    print(\"input_ids and labels are not defined.\")\n"
      ]
    },
    {
      "cell_type": "code",
      "execution_count": 20,
      "metadata": {
        "id": "LBCRWeapj_MJ"
      },
      "outputs": [],
      "source": [
        "# Define hyperparameters\n",
        "num_epochs = 15   # Increased to 15 epochs\n",
        "learning_rate = 5e-5  # Adjusted learning rate\n",
        "weight_decay = 0.01   # Adjusted weight decay\n",
        "warmup_steps = 500    # Adjusted warmup steps\n",
        "max_seq_length = 1024  # Maximum sequence length"
      ]
    },
    {
      "cell_type": "code",
      "execution_count": 21,
      "metadata": {
        "colab": {
          "base_uri": "https://localhost:8080/"
        },
        "id": "MaVI1NDnxVq_",
        "outputId": "6430daf3-3fe3-43cd-ebb5-96d3e89dab19"
      },
      "outputs": [
        {
          "output_type": "stream",
          "name": "stderr",
          "text": [
            "/usr/local/lib/python3.10/dist-packages/transformers/optimization.py:429: FutureWarning: This implementation of AdamW is deprecated and will be removed in a future version. Use the PyTorch implementation torch.optim.AdamW instead, or set `no_deprecation_warning=True` to disable this warning\n",
            "  warnings.warn(\n"
          ]
        }
      ],
      "source": [
        "# Define optimizer and scheduler\n",
        "optimizer = AdamW(model.parameters(), lr=learning_rate, weight_decay=weight_decay)\n",
        "scheduler = get_scheduler(\n",
        "    \"linear\",\n",
        "    optimizer=optimizer,\n",
        "    num_warmup_steps=warmup_steps,\n",
        "    num_training_steps=num_epochs * len(df)\n",
        ")"
      ]
    },
    {
      "cell_type": "markdown",
      "metadata": {
        "id": "UWmtyoie5DA0"
      },
      "source": [
        "Manual Training Loop Method: In this method, the training loop is implemented manually, without using a custom trainer class."
      ]
    },
    {
      "cell_type": "code",
      "execution_count": 22,
      "metadata": {
        "colab": {
          "base_uri": "https://localhost:8080/"
        },
        "id": "Cgaj5NM8maeI",
        "outputId": "cf95a114-8eb8-4100-a02d-d2a758fa3ffe"
      },
      "outputs": [
        {
          "output_type": "stream",
          "name": "stdout",
          "text": [
            "Epoch 1: Average Loss = 3.951133886973063\n",
            "Epoch 2: Average Loss = 3.7648159095219205\n",
            "Epoch 3: Average Loss = 3.6332611583528065\n",
            "Epoch 4: Average Loss = 3.5282018979390464\n",
            "Epoch 5: Average Loss = 3.439439376195272\n",
            "Epoch 6: Average Loss = 3.3614815189724876\n",
            "Epoch 7: Average Loss = 3.2634824230557395\n",
            "Epoch 8: Average Loss = 3.1920248667399087\n",
            "Epoch 9: Average Loss = 3.1078004155840193\n",
            "Epoch 10: Average Loss = 3.0069344951992942\n",
            "Epoch 11: Average Loss = 2.903228986830938\n",
            "Epoch 12: Average Loss = 2.817633021445501\n",
            "Epoch 13: Average Loss = 2.709244591849191\n",
            "Epoch 14: Average Loss = 2.6172275713511874\n",
            "Epoch 15: Average Loss = 2.511497037751334\n"
          ]
        }
      ],
      "source": [
        "# Fine-tune the GPT-2 model\n",
        "model.train()\n",
        "for epoch in range(num_epochs):\n",
        "    total_loss = 0.0\n",
        "    for text in df['cleaned_text']:\n",
        "        input_ids = tokenizer.encode(text, return_tensors='pt', max_length=max_seq_length, truncation=True)\n",
        "        optimizer.zero_grad()\n",
        "        outputs = model(input_ids=input_ids, labels=input_ids)\n",
        "        loss = outputs.loss\n",
        "        total_loss += loss.item()\n",
        "        loss.backward()\n",
        "        optimizer.step()\n",
        "        scheduler.step()\n",
        "    average_loss = total_loss / len(df)\n",
        "    print(f\"Epoch {epoch+1}: Average Loss = {average_loss}\")"
      ]
    },
    {
      "cell_type": "code",
      "execution_count": 33,
      "metadata": {
        "id": "KvyNeCB_q223"
      },
      "outputs": [],
      "source": [
        "# Save the fine-tuned model\n",
        "model.save_pretrained('fine_tuned_gpt2_model')\n"
      ]
    },
    {
      "cell_type": "code",
      "execution_count": 34,
      "metadata": {
        "id": "2J20QpA4EzZO"
      },
      "outputs": [],
      "source": [
        "# Load the fine-tuned model\n",
        "fine_tuned_model = GPT2LMHeadModel.from_pretrained('fine_tuned_gpt2_model')\n"
      ]
    },
    {
      "cell_type": "markdown",
      "metadata": {
        "id": "l4ay9AOsRc-0"
      },
      "source": [
        "Comparison of Baseline and Fine-Tuned GPT-2 Model Responses\n"
      ]
    },
    {
      "cell_type": "code",
      "execution_count": 35,
      "metadata": {
        "id": "8Tyv_61lNEZr"
      },
      "outputs": [],
      "source": [
        "# Baseline GPT-2 Model Response\n",
        "def baseline_generate_response(input_text):\n",
        "    # Tokenize the input text\n",
        "    input_ids = tokenizer.encode(input_text, return_tensors='pt')\n",
        "    # Generate output\n",
        "    output = model.generate(input_ids, max_length=100, num_return_sequences=1, pad_token_id=tokenizer.eos_token_id, attention_mask=input_ids.ne(tokenizer.eos_token_id))\n",
        "    # Decode the output\n",
        "    response = tokenizer.decode(output[0], skip_special_tokens=True)\n",
        "    return response\n",
        "\n",
        "# Fine-Tuned GPT-2 Model Response\n",
        "def fine_tuned_generate_response(input_text):\n",
        "    input_ids = tokenizer.encode(input_text, return_tensors='pt')\n",
        "    output = fine_tuned_model.generate(input_ids, max_length=100, num_return_sequences=1, pad_token_id=tokenizer.eos_token_id, attention_mask=input_ids.ne(tokenizer.eos_token_id))\n",
        "    response = tokenizer.decode(output[0], skip_special_tokens=True)\n",
        "    return response\n",
        "\n",
        "\n"
      ]
    },
    {
      "cell_type": "code",
      "execution_count": 36,
      "metadata": {
        "colab": {
          "base_uri": "https://localhost:8080/"
        },
        "id": "vRhI9UgsOR4y",
        "outputId": "90fadf77-c87c-438c-beda-52b098d50855"
      },
      "outputs": [
        {
          "output_type": "stream",
          "name": "stdout",
          "text": [
            "Baseline Response: How does pregnancy affect memory?\n",
            "\n",
            "pregnancy is a major cause of memory loss.\n",
            "\n",
            "pregnancy is a major cause of memory loss.\n",
            "\n",
            "memory loss is a major cause of memory loss.\n",
            "\n",
            "what causes pregnancy?\n",
            "\n",
            "\n",
            "pregnancy is a major cause of memory loss.\n",
            "\n",
            "memory loss is a major cause of memory loss.\n",
            "\n",
            "what causes pregnancy?\n",
            "\n",
            "pregnancy is a major cause of memory loss.\n",
            "\n",
            "memory loss is a major cause of\n",
            "Fine-Tuned Response: How does pregnancy affect memory?\n",
            "\n",
            "pregnancy is a time of intense and intense thought and memory changes.\n",
            "\n",
            "what causes pregnancy?\n",
            "\n",
            "pregnancy can affect memory, but it is not a major cause of memory loss.\n",
            "\n",
            "what causes pregnancy?\n",
            "\n",
            "pregnancy can affect memory, but it is not a major cause of memory loss.\n",
            "\n",
            "what causes pregnancy?\n",
            "\n",
            "pregnancy can affect memory, but it is not a major cause of memory loss.\n",
            "\n",
            "what\n"
          ]
        }
      ],
      "source": [
        "# Example usage\n",
        "input_text = \"How does pregnancy affect memory?\"\n",
        "\n",
        "baseline_response = baseline_generate_response(input_text)\n",
        "fine_tuned_response = fine_tuned_generate_response(input_text)\n",
        "\n",
        "print(\"Baseline Response:\", baseline_response)\n",
        "print(\"Fine-Tuned Response:\", fine_tuned_response)"
      ]
    },
    {
      "cell_type": "code",
      "execution_count": 39,
      "metadata": {
        "colab": {
          "base_uri": "https://localhost:8080/"
        },
        "id": "fVZXTa8UJX6n",
        "outputId": "abbf4412-bc02-4032-8ec4-5de32c3fb639"
      },
      "outputs": [
        {
          "output_type": "stream",
          "name": "stdout",
          "text": [
            "Baseline Response: Are there any foods or supplements that can help with memory during pregnancy??\n",
            "\n",
            "yes\n",
            "\n",
            "\n",
            "no\n",
            "\n",
            "what is it?\n",
            "\n",
            "memory\n",
            "\n",
            "memory is a complex, complex thing.\n",
            "\n",
            "it is a complex process.\n",
            "\n",
            "it is a complex thing.\n",
            "\n",
            "it is a complex thing.\n",
            "\n",
            "it is a complex thing.\n",
            "\n",
            "it is a complex thing.\n",
            "\n",
            "it is a complex thing.\n",
            "\n",
            "it is a complex thing.\n",
            "\n",
            "it is\n",
            "Fine-Tuned Response: Are there any foods or supplements that can help with memory during pregnancy??\n",
            "\n",
            "1. Vitamin B12\n",
            "\n",
            "2. Vitamin B12 deficiency\n",
            "\n",
            "3. Vitamin B12 deficiency\n",
            "\n",
            "4. Vitamin B12 deficiency\n",
            "\n",
            "5. Vitamin B12 deficiency\n",
            "\n",
            "6. Vitamin B12 deficiency\n",
            "\n",
            "7. Vitamin B12 deficiency\n",
            "\n",
            "8. Vitamin B12 deficiency\n",
            "\n",
            "9. Vitamin B12 deficiency\n",
            "\n",
            "10. Vitamin B12 deficiency\n",
            "\n",
            "11. Vitamin B12\n",
            "Baseline Response: Can pregnancy brain fog affect my ability to work or perform daily tasks?\n",
            "\n",
            "by\n",
            "\n",
            "5:00 pm\n",
            "\n",
            "by\n",
            "\n",
            "5:00 pm\n",
            "\n",
            "by\n",
            "\n",
            "5:00 pm\n",
            "\n",
            "by\n",
            "\n",
            "5:00 pm\n",
            "\n",
            "by\n",
            "5:00 pm\n",
            "\n",
            "by\n",
            "\n",
            "5:00 pm\n",
            "\n",
            "\n",
            "by\n",
            "\n",
            "5:00 pm\n",
            "\n",
            "by\n",
            "\n",
            "5:00 pm\n",
            "\n",
            "\n",
            "by\n",
            "\n",
            "5:00 pm\n",
            "\n",
            "by\n",
            "\n",
            "Fine-Tuned Response: Can pregnancy brain fog affect my ability to work or perform daily tasks?\n",
            "\n",
            "by\n",
            "\n",
            "peter.m.\n",
            "\n",
            "pregnancy brain fog is a common phenomenon in women who have had a miscarriage.\n",
            "\n",
            "it is thought to affect memory and focus, and may affect memory function.\n",
            "\n",
            "what causes pregnancy brain fog?\n",
            "\n",
            "pregnancy brain fog is a common phenomenon in women who have had a miscarriage.\n",
            "\n",
            "it is thought to affect memory and focus, and may affect memory\n",
            "Baseline Response: Should I be concerned if I'm experiencing more forgetfulness than usual during pregnancy?\n",
            "\n",
            "I'm not sure if you're experiencing more forgetfulness than usual during pregnancy.\n",
            "\n",
            "What causes pregnancy?\n",
            "\n",
            "a) your body changes during pregnancy\n",
            "\n",
            "b) your baby\n",
            "\n",
            "c) your mood\n",
            "\n",
            "d) what causes pregnancy?\n",
            "\n",
            "what causes pregnancy?\n",
            "\n",
            "what causes pregnancy?\n",
            "\n",
            "pregnancy can be a frustrating time.\n",
            "\n",
            "pregnancy can be a frustrating time\n",
            "Fine-Tuned Response: Should I be concerned if I'm experiencing more forgetfulness than usual during pregnancy?\n",
            "\n",
            "Yes, you may experience more forgetfulness during pregnancy.\n",
            "\n",
            "What causes pregnancy forgetfulness?\n",
            "\n",
            "pregnancy is a time when you forget things.\n",
            "\n",
            "you forget things. you forget things you don't need to remember.\n",
            "\n",
            "you forget things you don't need to remember. you forget things you do need to remember.\n",
            "\n",
            "you forget things you do need to remember. you forget things\n"
          ]
        }
      ],
      "source": [
        "# Examples usage\n",
        "\n",
        "# Example 1\n",
        "input_text = \"Are there any foods or supplements that can help with memory during pregnancy??\"\n",
        "baseline_response = baseline_generate_response(input_text)\n",
        "fine_tuned_response = fine_tuned_generate_response(input_text)\n",
        "print(\"Baseline Response:\", baseline_response)\n",
        "print(\"Fine-Tuned Response:\", fine_tuned_response)\n",
        "\n",
        "\n",
        "# Example 2\n",
        "input_text = \"Can pregnancy brain fog affect my ability to work or perform daily tasks?\"\n",
        "baseline_response = baseline_generate_response(input_text)\n",
        "fine_tuned_response = fine_tuned_generate_response(input_text)\n",
        "print(\"Baseline Response:\", baseline_response)\n",
        "print(\"Fine-Tuned Response:\", fine_tuned_response)\n",
        "\n",
        "\n",
        "# Example 3\n",
        "input_text = \"Should I be concerned if I'm experiencing more forgetfulness than usual during pregnancy?\"\n",
        "baseline_response = baseline_generate_response(input_text)\n",
        "fine_tuned_response = fine_tuned_generate_response(input_text)\n",
        "print(\"Baseline Response:\", baseline_response)\n",
        "print(\"Fine-Tuned Response:\", fine_tuned_response)"
      ]
    },
    {
      "cell_type": "code",
      "execution_count": 40,
      "metadata": {
        "colab": {
          "base_uri": "https://localhost:8080/"
        },
        "id": "_3VG8iKyOSjq",
        "outputId": "c1d31725-ec05-4821-c3da-f72e1e3006ec"
      },
      "outputs": [
        {
          "output_type": "stream",
          "name": "stdout",
          "text": [
            "Are the responses the same?\n",
            "False\n"
          ]
        }
      ],
      "source": [
        "# Compare the responses\n",
        "print(\"Are the responses the same?\")\n",
        "print(baseline_response == fine_tuned_response)"
      ]
    },
    {
      "cell_type": "markdown",
      "metadata": {
        "id": "S8n4cmqSbzeT"
      },
      "source": [
        "#Deployment: Chatbox Development: Define the Gradio app interface and functionality\n",
        "\n",
        "\n",
        "\n",
        "\n"
      ]
    },
    {
      "cell_type": "code",
      "execution_count": 41,
      "metadata": {
        "id": "r6MaC7Vz9Lmi"
      },
      "outputs": [],
      "source": [
        "# Function for the chatbox\n",
        "def chatbox(message_chatbot):\n",
        "    try:\n",
        "        chatbot_response = fine_tuned_generate_response(message_chatbot)\n",
        "        return chatbot_response\n",
        "    except Exception as e:\n",
        "        return f\"An error occurred: {str(e)}\""
      ]
    },
    {
      "cell_type": "code",
      "execution_count": 42,
      "metadata": {
        "colab": {
          "base_uri": "https://localhost:8080/",
          "height": 643
        },
        "id": "Z_HaK6wC33Pt",
        "outputId": "3439c99c-aa73-4c44-a233-d29c02408f10"
      },
      "outputs": [
        {
          "output_type": "stream",
          "name": "stdout",
          "text": [
            "Setting queue=True in a Colab notebook requires sharing enabled. Setting `share=True` (you can turn this off by setting `share=False` in `launch()` explicitly).\n",
            "\n",
            "Colab notebook detected. To show errors in colab notebook, set debug=True in launch()\n",
            "Running on public URL: https://bdb2afa788e7095662.gradio.live\n",
            "\n",
            "This share link expires in 72 hours. For free permanent hosting and GPU upgrades, run `gradio deploy` from Terminal to deploy to Spaces (https://huggingface.co/spaces)\n"
          ]
        },
        {
          "output_type": "display_data",
          "data": {
            "text/plain": [
              "<IPython.core.display.HTML object>"
            ],
            "text/html": [
              "<div><iframe src=\"https://bdb2afa788e7095662.gradio.live\" width=\"100%\" height=\"500\" allow=\"autoplay; camera; microphone; clipboard-read; clipboard-write;\" frameborder=\"0\" allowfullscreen></iframe></div>"
            ]
          },
          "metadata": {}
        },
        {
          "output_type": "execute_result",
          "data": {
            "text/plain": []
          },
          "metadata": {},
          "execution_count": 42
        }
      ],
      "source": [
        "# Create a Gradio interface\n",
        "iface = gr.Interface(\n",
        "    fn=chatbox,\n",
        "    inputs=\"text\",\n",
        "    outputs=\"text\",\n",
        "    title=\"Memory Support Chatbox for Pregnant Women\",\n",
        "    description=\"Ask any question about cognitive memory issues during pregnancy.\"\n",
        ")\n",
        "iface.launch()\n",
        "\n"
      ]
    },
    {
      "cell_type": "markdown",
      "metadata": {
        "id": "5vlLKAMiO1Ti"
      },
      "source": [
        "#Model Evaluation"
      ]
    },
    {
      "cell_type": "code",
      "execution_count": 43,
      "metadata": {
        "colab": {
          "base_uri": "https://localhost:8080/"
        },
        "id": "cVAoghQVPhhO",
        "outputId": "2879127b-f612-4ccc-a911-f53dc2b46a9d"
      },
      "outputs": [
        {
          "output_type": "stream",
          "name": "stdout",
          "text": [
            "Response: What causes pregnancy brain fog?\n",
            "\n",
            "\n",
            "by:\n",
            "\n",
            "pregnancy brain fog is a common and often misunderstood phenomenon.\n",
            "\n",
            "pregnancy brain fog is a common and often misunderstood phenomenon.\n",
            "\n",
            "it is a common and often misunderstood phenomenon.\n",
            "\n",
            "it is a common and often misunderstood phenomenon.\n",
            "\n",
            "\n",
            "it is a common and often misunderstood phenomenon.\n",
            "\n",
            "it is a common and often misunderstood phenomenon.\n",
            "\n",
            "it is a common and often misunderstood phenomenon.\n",
            "\n",
            "it is a\n",
            "Response: How does pregnancy affect the brain?\n",
            "\n",
            "\"Pregnancy is a major brain disorder,\" says neuroscientist and author of the study, published in the journal of the journal of the American Academy of Neurology. \"It's a brain disorder that affects the brain function and memory.\n",
            "\n",
            "\"It's a brain disorder that affects memory and attention.\n",
            "\n",
            "\"It's a brain disorder that affects memory and attention.\n",
            "\n",
            "\"It's a brain disorder that affects memory and it's a\n",
            "Response: How can I improve my memory during pregnancy?\n",
            "\n",
            "I'm not sure how to improve my memory during pregnancy.\n",
            "\n",
            "I'm not sure how to improve my memory during pregnancy.\n",
            "\n",
            "I'm not sure how to improve my memory during pregnancy.\n",
            "\n",
            "I'm not sure how to improve my memory during pregnancy.\n",
            "\n",
            "I'm not sure how to improve my memory during pregnancy.\n",
            "\n",
            "I'm not sure how to improve my memory during pregnancy.\n",
            "\n",
            "I'm not sure how\n",
            "Response: Can pregnancy brain fog affect my ability to work or perform daily tasks?\n",
            "\n",
            "by\n",
            "\n",
            "jodi.m.m.\n",
            "\n",
            "pregnant brain fog is a common phenomenon in women who have a history of depression.\n",
            "\n",
            "\n",
            "the symptoms of pregnancy brain fog include:\n",
            "\n",
            "\n",
            "changes in the brain\n",
            "\n",
            "changes in the brain\n",
            "\n",
            "changes in the brain\n",
            "\n",
            "changes in the brain\n",
            "\n",
            "changes in the brain\n",
            "\n",
            "changes in the brain\n",
            "\n",
            "changes in the brain\n"
          ]
        }
      ],
      "source": [
        " #Generate sample responses from the model to ensure it provides relevant and coherent advice\n",
        "\n",
        "# Sample prompts\n",
        "sample_prompts = [\n",
        "    \"What causes pregnancy brain fog?\",\n",
        "    \"How does pregnancy affect the brain?\",\n",
        "    \"How can I improve my memory during pregnancy?\",\n",
        "    \"Can pregnancy brain fog affect my ability to work or perform daily tasks?\",\n",
        "]\n",
        "\n",
        "# Generate responses\n",
        "for prompt in sample_prompts:\n",
        "    input_ids = tokenizer.encode(prompt, return_tensors='pt')\n",
        "    output = model.generate(input_ids, max_length=100, num_return_sequences=1, pad_token_id=tokenizer.eos_token_id, attention_mask=input_ids.ne(tokenizer.eos_token_id))\n",
        "    response = tokenizer.decode(output[0], skip_special_tokens=True)\n",
        "    print(\"Response:\", response)"
      ]
    },
    {
      "cell_type": "markdown",
      "metadata": {
        "id": "E87i3w3udLyn"
      },
      "source": [
        "##Visualization of Model Responses to Sample Prompts"
      ]
    },
    {
      "cell_type": "markdown",
      "metadata": {
        "id": "V3AFYY3_dPwd"
      },
      "source": [
        "Can help one  understand the nature of the responses generated by the language model and\n",
        "identify common patterns or topics across the responses"
      ]
    },
    {
      "cell_type": "code",
      "execution_count": 44,
      "metadata": {
        "colab": {
          "base_uri": "https://localhost:8080/",
          "height": 819
        },
        "id": "5r6yflh4bWeh",
        "outputId": "b1970581-dac3-473e-fd17-e402a6c32643"
      },
      "outputs": [
        {
          "output_type": "stream",
          "name": "stdout",
          "text": [
            "                                              prompt  \\\n",
            "0                   What causes pregnancy brain fog?   \n",
            "1               How does pregnancy affect the brain?   \n",
            "2      How can I improve my memory during pregnancy?   \n",
            "3  Can pregnancy brain fog affect my ability to w...   \n",
            "\n",
            "                                            response  \n",
            "0  What causes pregnancy brain fog?\\n\\npregnancy ...  \n",
            "1  How does pregnancy affect the brain?\\n\\n\"It's ...  \n",
            "2  How can I improve my memory during pregnancy?\\...  \n",
            "3  Can pregnancy brain fog affect my ability to w...  \n"
          ]
        },
        {
          "output_type": "display_data",
          "data": {
            "text/plain": [
              "<Figure size 800x800 with 1 Axes>"
            ],
            "image/png": "[encoded data removed]"
          },
          "metadata": {}
        }
      ],
      "source": [
        "#Sample prompts\n",
        "sample_prompts = [\n",
        "    \"What causes pregnancy brain fog?\",\n",
        "    \"How does pregnancy affect the brain?\",\n",
        "    \"How can I improve my memory during pregnancy?\",\n",
        "    \"Can pregnancy brain fog affect my ability to work or perform daily tasks?\",\n",
        "]\n",
        "\n",
        "# Generate responses from the model\n",
        "data = []\n",
        "for prompt in sample_prompts:\n",
        "    input_ids = tokenizer.encode(prompt, return_tensors='pt')\n",
        "    output = model.generate(input_ids, max_length=100, num_return_sequences=1, pad_token_id=tokenizer.eos_token_id, attention_mask=input_ids.ne(tokenizer.eos_token_id))\n",
        "    response = tokenizer.decode(output[0], skip_special_tokens=True)\n",
        "    data.append({\"prompt\": prompt, \"response\": response})\n",
        "\n",
        "# Create a DataFrame from the generated responses\n",
        "df = pd.DataFrame(data)\n",
        "\n",
        "# Display the DataFrame\n",
        "print(df)\n",
        "\n",
        "# Use the generated responses for visualization\n",
        "# For example, you can create a pie chart based on the responses\n",
        "# Pie chart\n",
        "plt.figure(figsize=(8, 8))\n",
        "plt.pie([len(response.split()) for response in df['response']], labels=df['prompt'], autopct='%1.1f%%', startangle=90)\n",
        "plt.title('Distribution of response lengths for sample prompts')\n",
        "plt.axis('equal')\n",
        "plt.show()\n"
      ]
    }
  ],
  "metadata": {
    "colab": {
      "provenance": [],
      "authorship_tag": "ABX9TyOELYSB+P+0ma1LVQyIEAnK",
      "include_colab_link": true
    },
    "kernelspec": {
      "display_name": "Python 3",
      "name": "python3"
    },
    "language_info": {
      "name": "python"
    },
    "widgets": {
      "application/vnd.jupyter.widget-state+json": {
        "d076279f1e05490d929c1523b4f9ec46": {
          "model_module": "@jupyter-widgets/controls",
          "model_name": "HBoxModel",
          "model_module_version": "1.5.0",
          "state": {
            "_dom_classes": [],
            "_model_module": "@jupyter-widgets/controls",
            "_model_module_version": "1.5.0",
            "_model_name": "HBoxModel",
            "_view_count": null,
            "_view_module": "@jupyter-widgets/controls",
            "_view_module_version": "1.5.0",
            "_view_name": "HBoxView",
            "box_style": "",
            "children": [
              "IPY_MODEL_96328fd39ee441c2951ba5eaf663ce30",
              "IPY_MODEL_3a0d26f8449647eea85849c7863384d4",
              "IPY_MODEL_001f1bdfe6ed409cb60e5b61e5a1ec8a"
            ],
            "layout": "IPY_MODEL_f9a9de5c90964f1d954d85a7d3f9b07c"
          }
        },
        "96328fd39ee441c2951ba5eaf663ce30": {
          "model_module": "@jupyter-widgets/controls",
          "model_name": "HTMLModel",
          "model_module_version": "1.5.0",
          "state": {
            "_dom_classes": [],
            "_model_module": "@jupyter-widgets/controls",
            "_model_module_version": "1.5.0",
            "_model_name": "HTMLModel",
            "_view_count": null,
            "_view_module": "@jupyter-widgets/controls",
            "_view_module_version": "1.5.0",
            "_view_name": "HTMLView",
            "description": "",
            "description_tooltip": null,
            "layout": "IPY_MODEL_afa52f7c8f7245c5a09265e62c448d00",
            "placeholder": "​",
            "style": "IPY_MODEL_a5cb469b8ef94daba9d99de70dedbe99",
            "value": "tokenizer_config.json: 100%"
          }
        },
        "3a0d26f8449647eea85849c7863384d4": {
          "model_module": "@jupyter-widgets/controls",
          "model_name": "FloatProgressModel",
          "model_module_version": "1.5.0",
          "state": {
            "_dom_classes": [],
            "_model_module": "@jupyter-widgets/controls",
            "_model_module_version": "1.5.0",
            "_model_name": "FloatProgressModel",
            "_view_count": null,
            "_view_module": "@jupyter-widgets/controls",
            "_view_module_version": "1.5.0",
            "_view_name": "ProgressView",
            "bar_style": "success",
            "description": "",
            "description_tooltip": null,
            "layout": "IPY_MODEL_8a2ae87e8a9f47849e80124d26fb5ff5",
            "max": 26,
            "min": 0,
            "orientation": "horizontal",
            "style": "IPY_MODEL_6c1f2bbc02444b0f9aa8a4f20002171f",
            "value": 26
          }
        },
        "001f1bdfe6ed409cb60e5b61e5a1ec8a": {
          "model_module": "@jupyter-widgets/controls",
          "model_name": "HTMLModel",
          "model_module_version": "1.5.0",
          "state": {
            "_dom_classes": [],
            "_model_module": "@jupyter-widgets/controls",
            "_model_module_version": "1.5.0",
            "_model_name": "HTMLModel",
            "_view_count": null,
            "_view_module": "@jupyter-widgets/controls",
            "_view_module_version": "1.5.0",
            "_view_name": "HTMLView",
            "description": "",
            "description_tooltip": null,
            "layout": "IPY_MODEL_905890cfe8314bad9f4286ff3df374b6",
            "placeholder": "​",
            "style": "IPY_MODEL_61a6527b6c0f4e01adca75a6add9a4ad",
            "value": " 26.0/26.0 [00:00&lt;00:00, 1.21kB/s]"
          }
        },
        "f9a9de5c90964f1d954d85a7d3f9b07c": {
          "model_module": "@jupyter-widgets/base",
          "model_name": "LayoutModel",
          "model_module_version": "1.2.0",
          "state": {
            "_model_module": "@jupyter-widgets/base",
            "_model_module_version": "1.2.0",
            "_model_name": "LayoutModel",
            "_view_count": null,
            "_view_module": "@jupyter-widgets/base",
            "_view_module_version": "1.2.0",
            "_view_name": "LayoutView",
            "align_content": null,
            "align_items": null,
            "align_self": null,
            "border": null,
            "bottom": null,
            "display": null,
            "flex": null,
            "flex_flow": null,
            "grid_area": null,
            "grid_auto_columns": null,
            "grid_auto_flow": null,
            "grid_auto_rows": null,
            "grid_column": null,
            "grid_gap": null,
            "grid_row": null,
            "grid_template_areas": null,
            "grid_template_columns": null,
            "grid_template_rows": null,
            "height": null,
            "justify_content": null,
            "justify_items": null,
            "left": null,
            "margin": null,
            "max_height": null,
            "max_width": null,
            "min_height": null,
            "min_width": null,
            "object_fit": null,
            "object_position": null,
            "order": null,
            "overflow": null,
            "overflow_x": null,
            "overflow_y": null,
            "padding": null,
            "right": null,
            "top": null,
            "visibility": null,
            "width": null
          }
        },
        "afa52f7c8f7245c5a09265e62c448d00": {
          "model_module": "@jupyter-widgets/base",
          "model_name": "LayoutModel",
          "model_module_version": "1.2.0",
          "state": {
            "_model_module": "@jupyter-widgets/base",
            "_model_module_version": "1.2.0",
            "_model_name": "LayoutModel",
            "_view_count": null,
            "_view_module": "@jupyter-widgets/base",
            "_view_module_version": "1.2.0",
            "_view_name": "LayoutView",
            "align_content": null,
            "align_items": null,
            "align_self": null,
            "border": null,
            "bottom": null,
            "display": null,
            "flex": null,
            "flex_flow": null,
            "grid_area": null,
            "grid_auto_columns": null,
            "grid_auto_flow": null,
            "grid_auto_rows": null,
            "grid_column": null,
            "grid_gap": null,
            "grid_row": null,
            "grid_template_areas": null,
            "grid_template_columns": null,
            "grid_template_rows": null,
            "height": null,
            "justify_content": null,
            "justify_items": null,
            "left": null,
            "margin": null,
            "max_height": null,
            "max_width": null,
            "min_height": null,
            "min_width": null,
            "object_fit": null,
            "object_position": null,
            "order": null,
            "overflow": null,
            "overflow_x": null,
            "overflow_y": null,
            "padding": null,
            "right": null,
            "top": null,
            "visibility": null,
            "width": null
          }
        },
        "a5cb469b8ef94daba9d99de70dedbe99": {
          "model_module": "@jupyter-widgets/controls",
          "model_name": "DescriptionStyleModel",
          "model_module_version": "1.5.0",
          "state": {
            "_model_module": "@jupyter-widgets/controls",
            "_model_module_version": "1.5.0",
            "_model_name": "DescriptionStyleModel",
            "_view_count": null,
            "_view_module": "@jupyter-widgets/base",
            "_view_module_version": "1.2.0",
            "_view_name": "StyleView",
            "description_width": ""
          }
        },
        "8a2ae87e8a9f47849e80124d26fb5ff5": {
          "model_module": "@jupyter-widgets/base",
          "model_name": "LayoutModel",
          "model_module_version": "1.2.0",
          "state": {
            "_model_module": "@jupyter-widgets/base",
            "_model_module_version": "1.2.0",
            "_model_name": "LayoutModel",
            "_view_count": null,
            "_view_module": "@jupyter-widgets/base",
            "_view_module_version": "1.2.0",
            "_view_name": "LayoutView",
            "align_content": null,
            "align_items": null,
            "align_self": null,
            "border": null,
            "bottom": null,
            "display": null,
            "flex": null,
            "flex_flow": null,
            "grid_area": null,
            "grid_auto_columns": null,
            "grid_auto_flow": null,
            "grid_auto_rows": null,
            "grid_column": null,
            "grid_gap": null,
            "grid_row": null,
            "grid_template_areas": null,
            "grid_template_columns": null,
            "grid_template_rows": null,
            "height": null,
            "justify_content": null,
            "justify_items": null,
            "left": null,
            "margin": null,
            "max_height": null,
            "max_width": null,
            "min_height": null,
            "min_width": null,
            "object_fit": null,
            "object_position": null,
            "order": null,
            "overflow": null,
            "overflow_x": null,
            "overflow_y": null,
            "padding": null,
            "right": null,
            "top": null,
            "visibility": null,
            "width": null
          }
        },
        "6c1f2bbc02444b0f9aa8a4f20002171f": {
          "model_module": "@jupyter-widgets/controls",
          "model_name": "ProgressStyleModel",
          "model_module_version": "1.5.0",
          "state": {
            "_model_module": "@jupyter-widgets/controls",
            "_model_module_version": "1.5.0",
            "_model_name": "ProgressStyleModel",
            "_view_count": null,
            "_view_module": "@jupyter-widgets/base",
            "_view_module_version": "1.2.0",
            "_view_name": "StyleView",
            "bar_color": null,
            "description_width": ""
          }
        },
        "905890cfe8314bad9f4286ff3df374b6": {
          "model_module": "@jupyter-widgets/base",
          "model_name": "LayoutModel",
          "model_module_version": "1.2.0",
          "state": {
            "_model_module": "@jupyter-widgets/base",
            "_model_module_version": "1.2.0",
            "_model_name": "LayoutModel",
            "_view_count": null,
            "_view_module": "@jupyter-widgets/base",
            "_view_module_version": "1.2.0",
            "_view_name": "LayoutView",
            "align_content": null,
            "align_items": null,
            "align_self": null,
            "border": null,
            "bottom": null,
            "display": null,
            "flex": null,
            "flex_flow": null,
            "grid_area": null,
            "grid_auto_columns": null,
            "grid_auto_flow": null,
            "grid_auto_rows": null,
            "grid_column": null,
            "grid_gap": null,
            "grid_row": null,
            "grid_template_areas": null,
            "grid_template_columns": null,
            "grid_template_rows": null,
            "height": null,
            "justify_content": null,
            "justify_items": null,
            "left": null,
            "margin": null,
            "max_height": null,
            "max_width": null,
            "min_height": null,
            "min_width": null,
            "object_fit": null,
            "object_position": null,
            "order": null,
            "overflow": null,
            "overflow_x": null,
            "overflow_y": null,
            "padding": null,
            "right": null,
            "top": null,
            "visibility": null,
            "width": null
          }
        },
        "61a6527b6c0f4e01adca75a6add9a4ad": {
          "model_module": "@jupyter-widgets/controls",
          "model_name": "DescriptionStyleModel",
          "model_module_version": "1.5.0",
          "state": {
            "_model_module": "@jupyter-widgets/controls",
            "_model_module_version": "1.5.0",
            "_model_name": "DescriptionStyleModel",
            "_view_count": null,
            "_view_module": "@jupyter-widgets/base",
            "_view_module_version": "1.2.0",
            "_view_name": "StyleView",
            "description_width": ""
          }
        },
        "867d6caa751c454b82b3cbea3a0a67f7": {
          "model_module": "@jupyter-widgets/controls",
          "model_name": "HBoxModel",
          "model_module_version": "1.5.0",
          "state": {
            "_dom_classes": [],
            "_model_module": "@jupyter-widgets/controls",
            "_model_module_version": "1.5.0",
            "_model_name": "HBoxModel",
            "_view_count": null,
            "_view_module": "@jupyter-widgets/controls",
            "_view_module_version": "1.5.0",
            "_view_name": "HBoxView",
            "box_style": "",
            "children": [
              "IPY_MODEL_c3a2709fe3e143e2a2153288b335a7ce",
              "IPY_MODEL_597c495e82ca4bf19637855dd5dce9a3",
              "IPY_MODEL_64c69b8830c04969aed5828566fcdeb3"
            ],
            "layout": "IPY_MODEL_dd20e5744bb542bfb0544208c70d2075"
          }
        },
        "c3a2709fe3e143e2a2153288b335a7ce": {
          "model_module": "@jupyter-widgets/controls",
          "model_name": "HTMLModel",
          "model_module_version": "1.5.0",
          "state": {
            "_dom_classes": [],
            "_model_module": "@jupyter-widgets/controls",
            "_model_module_version": "1.5.0",
            "_model_name": "HTMLModel",
            "_view_count": null,
            "_view_module": "@jupyter-widgets/controls",
            "_view_module_version": "1.5.0",
            "_view_name": "HTMLView",
            "description": "",
            "description_tooltip": null,
            "layout": "IPY_MODEL_5e9c2627e39043fe80675c1d2ebf281a",
            "placeholder": "​",
            "style": "IPY_MODEL_d31e760eb2414d7fafb2bc608aeb277a",
            "value": "vocab.json: 100%"
          }
        },
        "597c495e82ca4bf19637855dd5dce9a3": {
          "model_module": "@jupyter-widgets/controls",
          "model_name": "FloatProgressModel",
          "model_module_version": "1.5.0",
          "state": {
            "_dom_classes": [],
            "_model_module": "@jupyter-widgets/controls",
            "_model_module_version": "1.5.0",
            "_model_name": "FloatProgressModel",
            "_view_count": null,
            "_view_module": "@jupyter-widgets/controls",
            "_view_module_version": "1.5.0",
            "_view_name": "ProgressView",
            "bar_style": "success",
            "description": "",
            "description_tooltip": null,
            "layout": "IPY_MODEL_25fa0310aba640aebf83b5ce406cd5cd",
            "max": 1042301,
            "min": 0,
            "orientation": "horizontal",
            "style": "IPY_MODEL_f050cfe8dbb4491bb25ab3983090825e",
            "value": 1042301
          }
        },
        "64c69b8830c04969aed5828566fcdeb3": {
          "model_module": "@jupyter-widgets/controls",
          "model_name": "HTMLModel",
          "model_module_version": "1.5.0",
          "state": {
            "_dom_classes": [],
            "_model_module": "@jupyter-widgets/controls",
            "_model_module_version": "1.5.0",
            "_model_name": "HTMLModel",
            "_view_count": null,
            "_view_module": "@jupyter-widgets/controls",
            "_view_module_version": "1.5.0",
            "_view_name": "HTMLView",
            "description": "",
            "description_tooltip": null,
            "layout": "IPY_MODEL_968bd7b147894be4b024bb8c3f4095b4",
            "placeholder": "​",
            "style": "IPY_MODEL_28511e3b266840c582368cdb4effb50d",
            "value": " 1.04M/1.04M [00:00&lt;00:00, 5.98MB/s]"
          }
        },
        "dd20e5744bb542bfb0544208c70d2075": {
          "model_module": "@jupyter-widgets/base",
          "model_name": "LayoutModel",
          "model_module_version": "1.2.0",
          "state": {
            "_model_module": "@jupyter-widgets/base",
            "_model_module_version": "1.2.0",
            "_model_name": "LayoutModel",
            "_view_count": null,
            "_view_module": "@jupyter-widgets/base",
            "_view_module_version": "1.2.0",
            "_view_name": "LayoutView",
            "align_content": null,
            "align_items": null,
            "align_self": null,
            "border": null,
            "bottom": null,
            "display": null,
            "flex": null,
            "flex_flow": null,
            "grid_area": null,
            "grid_auto_columns": null,
            "grid_auto_flow": null,
            "grid_auto_rows": null,
            "grid_column": null,
            "grid_gap": null,
            "grid_row": null,
            "grid_template_areas": null,
            "grid_template_columns": null,
            "grid_template_rows": null,
            "height": null,
            "justify_content": null,
            "justify_items": null,
            "left": null,
            "margin": null,
            "max_height": null,
            "max_width": null,
            "min_height": null,
            "min_width": null,
            "object_fit": null,
            "object_position": null,
            "order": null,
            "overflow": null,
            "overflow_x": null,
            "overflow_y": null,
            "padding": null,
            "right": null,
            "top": null,
            "visibility": null,
            "width": null
          }
        },
        "5e9c2627e39043fe80675c1d2ebf281a": {
          "model_module": "@jupyter-widgets/base",
          "model_name": "LayoutModel",
          "model_module_version": "1.2.0",
          "state": {
            "_model_module": "@jupyter-widgets/base",
            "_model_module_version": "1.2.0",
            "_model_name": "LayoutModel",
            "_view_count": null,
            "_view_module": "@jupyter-widgets/base",
            "_view_module_version": "1.2.0",
            "_view_name": "LayoutView",
            "align_content": null,
            "align_items": null,
            "align_self": null,
            "border": null,
            "bottom": null,
            "display": null,
            "flex": null,
            "flex_flow": null,
            "grid_area": null,
            "grid_auto_columns": null,
            "grid_auto_flow": null,
            "grid_auto_rows": null,
            "grid_column": null,
            "grid_gap": null,
            "grid_row": null,
            "grid_template_areas": null,
            "grid_template_columns": null,
            "grid_template_rows": null,
            "height": null,
            "justify_content": null,
            "justify_items": null,
            "left": null,
            "margin": null,
            "max_height": null,
            "max_width": null,
            "min_height": null,
            "min_width": null,
            "object_fit": null,
            "object_position": null,
            "order": null,
            "overflow": null,
            "overflow_x": null,
            "overflow_y": null,
            "padding": null,
            "right": null,
            "top": null,
            "visibility": null,
            "width": null
          }
        },
        "d31e760eb2414d7fafb2bc608aeb277a": {
          "model_module": "@jupyter-widgets/controls",
          "model_name": "DescriptionStyleModel",
          "model_module_version": "1.5.0",
          "state": {
            "_model_module": "@jupyter-widgets/controls",
            "_model_module_version": "1.5.0",
            "_model_name": "DescriptionStyleModel",
            "_view_count": null,
            "_view_module": "@jupyter-widgets/base",
            "_view_module_version": "1.2.0",
            "_view_name": "StyleView",
            "description_width": ""
          }
        },
        "25fa0310aba640aebf83b5ce406cd5cd": {
          "model_module": "@jupyter-widgets/base",
          "model_name": "LayoutModel",
          "model_module_version": "1.2.0",
          "state": {
            "_model_module": "@jupyter-widgets/base",
            "_model_module_version": "1.2.0",
            "_model_name": "LayoutModel",
            "_view_count": null,
            "_view_module": "@jupyter-widgets/base",
            "_view_module_version": "1.2.0",
            "_view_name": "LayoutView",
            "align_content": null,
            "align_items": null,
            "align_self": null,
            "border": null,
            "bottom": null,
            "display": null,
            "flex": null,
            "flex_flow": null,
            "grid_area": null,
            "grid_auto_columns": null,
            "grid_auto_flow": null,
            "grid_auto_rows": null,
            "grid_column": null,
            "grid_gap": null,
            "grid_row": null,
            "grid_template_areas": null,
            "grid_template_columns": null,
            "grid_template_rows": null,
            "height": null,
            "justify_content": null,
            "justify_items": null,
            "left": null,
            "margin": null,
            "max_height": null,
            "max_width": null,
            "min_height": null,
            "min_width": null,
            "object_fit": null,
            "object_position": null,
            "order": null,
            "overflow": null,
            "overflow_x": null,
            "overflow_y": null,
            "padding": null,
            "right": null,
            "top": null,
            "visibility": null,
            "width": null
          }
        },
        "f050cfe8dbb4491bb25ab3983090825e": {
          "model_module": "@jupyter-widgets/controls",
          "model_name": "ProgressStyleModel",
          "model_module_version": "1.5.0",
          "state": {
            "_model_module": "@jupyter-widgets/controls",
            "_model_module_version": "1.5.0",
            "_model_name": "ProgressStyleModel",
            "_view_count": null,
            "_view_module": "@jupyter-widgets/base",
            "_view_module_version": "1.2.0",
            "_view_name": "StyleView",
            "bar_color": null,
            "description_width": ""
          }
        },
        "968bd7b147894be4b024bb8c3f4095b4": {
          "model_module": "@jupyter-widgets/base",
          "model_name": "LayoutModel",
          "model_module_version": "1.2.0",
          "state": {
            "_model_module": "@jupyter-widgets/base",
            "_model_module_version": "1.2.0",
            "_model_name": "LayoutModel",
            "_view_count": null,
            "_view_module": "@jupyter-widgets/base",
            "_view_module_version": "1.2.0",
            "_view_name": "LayoutView",
            "align_content": null,
            "align_items": null,
            "align_self": null,
            "border": null,
            "bottom": null,
            "display": null,
            "flex": null,
            "flex_flow": null,
            "grid_area": null,
            "grid_auto_columns": null,
            "grid_auto_flow": null,
            "grid_auto_rows": null,
            "grid_column": null,
            "grid_gap": null,
            "grid_row": null,
            "grid_template_areas": null,
            "grid_template_columns": null,
            "grid_template_rows": null,
            "height": null,
            "justify_content": null,
            "justify_items": null,
            "left": null,
            "margin": null,
            "max_height": null,
            "max_width": null,
            "min_height": null,
            "min_width": null,
            "object_fit": null,
            "object_position": null,
            "order": null,
            "overflow": null,
            "overflow_x": null,
            "overflow_y": null,
            "padding": null,
            "right": null,
            "top": null,
            "visibility": null,
            "width": null
          }
        },
        "28511e3b266840c582368cdb4effb50d": {
          "model_module": "@jupyter-widgets/controls",
          "model_name": "DescriptionStyleModel",
          "model_module_version": "1.5.0",
          "state": {
            "_model_module": "@jupyter-widgets/controls",
            "_model_module_version": "1.5.0",
            "_model_name": "DescriptionStyleModel",
            "_view_count": null,
            "_view_module": "@jupyter-widgets/base",
            "_view_module_version": "1.2.0",
            "_view_name": "StyleView",
            "description_width": ""
          }
        },
        "6ec8c9ab8d3b44a7ba36f5ddf3865cd8": {
          "model_module": "@jupyter-widgets/controls",
          "model_name": "HBoxModel",
          "model_module_version": "1.5.0",
          "state": {
            "_dom_classes": [],
            "_model_module": "@jupyter-widgets/controls",
            "_model_module_version": "1.5.0",
            "_model_name": "HBoxModel",
            "_view_count": null,
            "_view_module": "@jupyter-widgets/controls",
            "_view_module_version": "1.5.0",
            "_view_name": "HBoxView",
            "box_style": "",
            "children": [
              "IPY_MODEL_dc89a24938124c6fbfd1bc882246b638",
              "IPY_MODEL_e2969ef259ce4a508b2581bd56c47603",
              "IPY_MODEL_57696d99acf644e985dd19442f1a937b"
            ],
            "layout": "IPY_MODEL_d03a979d6cfd4db19053e9be0832e657"
          }
        },
        "dc89a24938124c6fbfd1bc882246b638": {
          "model_module": "@jupyter-widgets/controls",
          "model_name": "HTMLModel",
          "model_module_version": "1.5.0",
          "state": {
            "_dom_classes": [],
            "_model_module": "@jupyter-widgets/controls",
            "_model_module_version": "1.5.0",
            "_model_name": "HTMLModel",
            "_view_count": null,
            "_view_module": "@jupyter-widgets/controls",
            "_view_module_version": "1.5.0",
            "_view_name": "HTMLView",
            "description": "",
            "description_tooltip": null,
            "layout": "IPY_MODEL_7170da2418dc4d1b8000951a8a7609ee",
            "placeholder": "​",
            "style": "IPY_MODEL_2723a39e592f4fc98f78496b007d668d",
            "value": "merges.txt: 100%"
          }
        },
        "e2969ef259ce4a508b2581bd56c47603": {
          "model_module": "@jupyter-widgets/controls",
          "model_name": "FloatProgressModel",
          "model_module_version": "1.5.0",
          "state": {
            "_dom_classes": [],
            "_model_module": "@jupyter-widgets/controls",
            "_model_module_version": "1.5.0",
            "_model_name": "FloatProgressModel",
            "_view_count": null,
            "_view_module": "@jupyter-widgets/controls",
            "_view_module_version": "1.5.0",
            "_view_name": "ProgressView",
            "bar_style": "success",
            "description": "",
            "description_tooltip": null,
            "layout": "IPY_MODEL_20f3cd571bbf4868b036e925db663190",
            "max": 456318,
            "min": 0,
            "orientation": "horizontal",
            "style": "IPY_MODEL_76ed3dd4b2aa437cb5352c7f332cd6ba",
            "value": 456318
          }
        },
        "57696d99acf644e985dd19442f1a937b": {
          "model_module": "@jupyter-widgets/controls",
          "model_name": "HTMLModel",
          "model_module_version": "1.5.0",
          "state": {
            "_dom_classes": [],
            "_model_module": "@jupyter-widgets/controls",
            "_model_module_version": "1.5.0",
            "_model_name": "HTMLModel",
            "_view_count": null,
            "_view_module": "@jupyter-widgets/controls",
            "_view_module_version": "1.5.0",
            "_view_name": "HTMLView",
            "description": "",
            "description_tooltip": null,
            "layout": "IPY_MODEL_52c2232a6cfa4d12a865075f286db15f",
            "placeholder": "​",
            "style": "IPY_MODEL_32e0337002c04f849b006433481c19ba",
            "value": " 456k/456k [00:00&lt;00:00, 3.95MB/s]"
          }
        },
        "d03a979d6cfd4db19053e9be0832e657": {
          "model_module": "@jupyter-widgets/base",
          "model_name": "LayoutModel",
          "model_module_version": "1.2.0",
          "state": {
            "_model_module": "@jupyter-widgets/base",
            "_model_module_version": "1.2.0",
            "_model_name": "LayoutModel",
            "_view_count": null,
            "_view_module": "@jupyter-widgets/base",
            "_view_module_version": "1.2.0",
            "_view_name": "LayoutView",
            "align_content": null,
            "align_items": null,
            "align_self": null,
            "border": null,
            "bottom": null,
            "display": null,
            "flex": null,
            "flex_flow": null,
            "grid_area": null,
            "grid_auto_columns": null,
            "grid_auto_flow": null,
            "grid_auto_rows": null,
            "grid_column": null,
            "grid_gap": null,
            "grid_row": null,
            "grid_template_areas": null,
            "grid_template_columns": null,
            "grid_template_rows": null,
            "height": null,
            "justify_content": null,
            "justify_items": null,
            "left": null,
            "margin": null,
            "max_height": null,
            "max_width": null,
            "min_height": null,
            "min_width": null,
            "object_fit": null,
            "object_position": null,
            "order": null,
            "overflow": null,
            "overflow_x": null,
            "overflow_y": null,
            "padding": null,
            "right": null,
            "top": null,
            "visibility": null,
            "width": null
          }
        },
        "7170da2418dc4d1b8000951a8a7609ee": {
          "model_module": "@jupyter-widgets/base",
          "model_name": "LayoutModel",
          "model_module_version": "1.2.0",
          "state": {
            "_model_module": "@jupyter-widgets/base",
            "_model_module_version": "1.2.0",
            "_model_name": "LayoutModel",
            "_view_count": null,
            "_view_module": "@jupyter-widgets/base",
            "_view_module_version": "1.2.0",
            "_view_name": "LayoutView",
            "align_content": null,
            "align_items": null,
            "align_self": null,
            "border": null,
            "bottom": null,
            "display": null,
            "flex": null,
            "flex_flow": null,
            "grid_area": null,
            "grid_auto_columns": null,
            "grid_auto_flow": null,
            "grid_auto_rows": null,
            "grid_column": null,
            "grid_gap": null,
            "grid_row": null,
            "grid_template_areas": null,
            "grid_template_columns": null,
            "grid_template_rows": null,
            "height": null,
            "justify_content": null,
            "justify_items": null,
            "left": null,
            "margin": null,
            "max_height": null,
            "max_width": null,
            "min_height": null,
            "min_width": null,
            "object_fit": null,
            "object_position": null,
            "order": null,
            "overflow": null,
            "overflow_x": null,
            "overflow_y": null,
            "padding": null,
            "right": null,
            "top": null,
            "visibility": null,
            "width": null
          }
        },
        "2723a39e592f4fc98f78496b007d668d": {
          "model_module": "@jupyter-widgets/controls",
          "model_name": "DescriptionStyleModel",
          "model_module_version": "1.5.0",
          "state": {
            "_model_module": "@jupyter-widgets/controls",
            "_model_module_version": "1.5.0",
            "_model_name": "DescriptionStyleModel",
            "_view_count": null,
            "_view_module": "@jupyter-widgets/base",
            "_view_module_version": "1.2.0",
            "_view_name": "StyleView",
            "description_width": ""
          }
        },
        "20f3cd571bbf4868b036e925db663190": {
          "model_module": "@jupyter-widgets/base",
          "model_name": "LayoutModel",
          "model_module_version": "1.2.0",
          "state": {
            "_model_module": "@jupyter-widgets/base",
            "_model_module_version": "1.2.0",
            "_model_name": "LayoutModel",
            "_view_count": null,
            "_view_module": "@jupyter-widgets/base",
            "_view_module_version": "1.2.0",
            "_view_name": "LayoutView",
            "align_content": null,
            "align_items": null,
            "align_self": null,
            "border": null,
            "bottom": null,
            "display": null,
            "flex": null,
            "flex_flow": null,
            "grid_area": null,
            "grid_auto_columns": null,
            "grid_auto_flow": null,
            "grid_auto_rows": null,
            "grid_column": null,
            "grid_gap": null,
            "grid_row": null,
            "grid_template_areas": null,
            "grid_template_columns": null,
            "grid_template_rows": null,
            "height": null,
            "justify_content": null,
            "justify_items": null,
            "left": null,
            "margin": null,
            "max_height": null,
            "max_width": null,
            "min_height": null,
            "min_width": null,
            "object_fit": null,
            "object_position": null,
            "order": null,
            "overflow": null,
            "overflow_x": null,
            "overflow_y": null,
            "padding": null,
            "right": null,
            "top": null,
            "visibility": null,
            "width": null
          }
        },
        "76ed3dd4b2aa437cb5352c7f332cd6ba": {
          "model_module": "@jupyter-widgets/controls",
          "model_name": "ProgressStyleModel",
          "model_module_version": "1.5.0",
          "state": {
            "_model_module": "@jupyter-widgets/controls",
            "_model_module_version": "1.5.0",
            "_model_name": "ProgressStyleModel",
            "_view_count": null,
            "_view_module": "@jupyter-widgets/base",
            "_view_module_version": "1.2.0",
            "_view_name": "StyleView",
            "bar_color": null,
            "description_width": ""
          }
        },
        "52c2232a6cfa4d12a865075f286db15f": {
          "model_module": "@jupyter-widgets/base",
          "model_name": "LayoutModel",
          "model_module_version": "1.2.0",
          "state": {
            "_model_module": "@jupyter-widgets/base",
            "_model_module_version": "1.2.0",
            "_model_name": "LayoutModel",
            "_view_count": null,
            "_view_module": "@jupyter-widgets/base",
            "_view_module_version": "1.2.0",
            "_view_name": "LayoutView",
            "align_content": null,
            "align_items": null,
            "align_self": null,
            "border": null,
            "bottom": null,
            "display": null,
            "flex": null,
            "flex_flow": null,
            "grid_area": null,
            "grid_auto_columns": null,
            "grid_auto_flow": null,
            "grid_auto_rows": null,
            "grid_column": null,
            "grid_gap": null,
            "grid_row": null,
            "grid_template_areas": null,
            "grid_template_columns": null,
            "grid_template_rows": null,
            "height": null,
            "justify_content": null,
            "justify_items": null,
            "left": null,
            "margin": null,
            "max_height": null,
            "max_width": null,
            "min_height": null,
            "min_width": null,
            "object_fit": null,
            "object_position": null,
            "order": null,
            "overflow": null,
            "overflow_x": null,
            "overflow_y": null,
            "padding": null,
            "right": null,
            "top": null,
            "visibility": null,
            "width": null
          }
        },
        "32e0337002c04f849b006433481c19ba": {
          "model_module": "@jupyter-widgets/controls",
          "model_name": "DescriptionStyleModel",
          "model_module_version": "1.5.0",
          "state": {
            "_model_module": "@jupyter-widgets/controls",
            "_model_module_version": "1.5.0",
            "_model_name": "DescriptionStyleModel",
            "_view_count": null,
            "_view_module": "@jupyter-widgets/base",
            "_view_module_version": "1.2.0",
            "_view_name": "StyleView",
            "description_width": ""
          }
        },
        "bc18defaf6dd4ee4a7c5eda6ab5b15a9": {
          "model_module": "@jupyter-widgets/controls",
          "model_name": "HBoxModel",
          "model_module_version": "1.5.0",
          "state": {
            "_dom_classes": [],
            "_model_module": "@jupyter-widgets/controls",
            "_model_module_version": "1.5.0",
            "_model_name": "HBoxModel",
            "_view_count": null,
            "_view_module": "@jupyter-widgets/controls",
            "_view_module_version": "1.5.0",
            "_view_name": "HBoxView",
            "box_style": "",
            "children": [
              "IPY_MODEL_35f38b865ac543bf8048143a6619e46b",
              "IPY_MODEL_f206cda4567347a2924a9cab788bba11",
              "IPY_MODEL_7b48bf054e06429eb10fe19d23605f30"
            ],
            "layout": "IPY_MODEL_5218d865399546d5b3fcd58f6fd07fa5"
          }
        },
        "35f38b865ac543bf8048143a6619e46b": {
          "model_module": "@jupyter-widgets/controls",
          "model_name": "HTMLModel",
          "model_module_version": "1.5.0",
          "state": {
            "_dom_classes": [],
            "_model_module": "@jupyter-widgets/controls",
            "_model_module_version": "1.5.0",
            "_model_name": "HTMLModel",
            "_view_count": null,
            "_view_module": "@jupyter-widgets/controls",
            "_view_module_version": "1.5.0",
            "_view_name": "HTMLView",
            "description": "",
            "description_tooltip": null,
            "layout": "IPY_MODEL_151ec95f987b463c912ca683f17d48ac",
            "placeholder": "​",
            "style": "IPY_MODEL_8ddd3dd6e6074511ab5c41d496c6f1ed",
            "value": "tokenizer.json: 100%"
          }
        },
        "f206cda4567347a2924a9cab788bba11": {
          "model_module": "@jupyter-widgets/controls",
          "model_name": "FloatProgressModel",
          "model_module_version": "1.5.0",
          "state": {
            "_dom_classes": [],
            "_model_module": "@jupyter-widgets/controls",
            "_model_module_version": "1.5.0",
            "_model_name": "FloatProgressModel",
            "_view_count": null,
            "_view_module": "@jupyter-widgets/controls",
            "_view_module_version": "1.5.0",
            "_view_name": "ProgressView",
            "bar_style": "success",
            "description": "",
            "description_tooltip": null,
            "layout": "IPY_MODEL_a4b478fbf0b54aafb85f0b656ac5bd2f",
            "max": 1355256,
            "min": 0,
            "orientation": "horizontal",
            "style": "IPY_MODEL_fe9f5cd6abf2431d9a993d78b9c4c9bb",
            "value": 1355256
          }
        },
        "7b48bf054e06429eb10fe19d23605f30": {
          "model_module": "@jupyter-widgets/controls",
          "model_name": "HTMLModel",
          "model_module_version": "1.5.0",
          "state": {
            "_dom_classes": [],
            "_model_module": "@jupyter-widgets/controls",
            "_model_module_version": "1.5.0",
            "_model_name": "HTMLModel",
            "_view_count": null,
            "_view_module": "@jupyter-widgets/controls",
            "_view_module_version": "1.5.0",
            "_view_name": "HTMLView",
            "description": "",
            "description_tooltip": null,
            "layout": "IPY_MODEL_09b85a8067fe40648e810a1c88a35f65",
            "placeholder": "​",
            "style": "IPY_MODEL_8973d2006d07494fa7188e150445725f",
            "value": " 1.36M/1.36M [00:00&lt;00:00, 4.89MB/s]"
          }
        },
        "5218d865399546d5b3fcd58f6fd07fa5": {
          "model_module": "@jupyter-widgets/base",
          "model_name": "LayoutModel",
          "model_module_version": "1.2.0",
          "state": {
            "_model_module": "@jupyter-widgets/base",
            "_model_module_version": "1.2.0",
            "_model_name": "LayoutModel",
            "_view_count": null,
            "_view_module": "@jupyter-widgets/base",
            "_view_module_version": "1.2.0",
            "_view_name": "LayoutView",
            "align_content": null,
            "align_items": null,
            "align_self": null,
            "border": null,
            "bottom": null,
            "display": null,
            "flex": null,
            "flex_flow": null,
            "grid_area": null,
            "grid_auto_columns": null,
            "grid_auto_flow": null,
            "grid_auto_rows": null,
            "grid_column": null,
            "grid_gap": null,
            "grid_row": null,
            "grid_template_areas": null,
            "grid_template_columns": null,
            "grid_template_rows": null,
            "height": null,
            "justify_content": null,
            "justify_items": null,
            "left": null,
            "margin": null,
            "max_height": null,
            "max_width": null,
            "min_height": null,
            "min_width": null,
            "object_fit": null,
            "object_position": null,
            "order": null,
            "overflow": null,
            "overflow_x": null,
            "overflow_y": null,
            "padding": null,
            "right": null,
            "top": null,
            "visibility": null,
            "width": null
          }
        },
        "151ec95f987b463c912ca683f17d48ac": {
          "model_module": "@jupyter-widgets/base",
          "model_name": "LayoutModel",
          "model_module_version": "1.2.0",
          "state": {
            "_model_module": "@jupyter-widgets/base",
            "_model_module_version": "1.2.0",
            "_model_name": "LayoutModel",
            "_view_count": null,
            "_view_module": "@jupyter-widgets/base",
            "_view_module_version": "1.2.0",
            "_view_name": "LayoutView",
            "align_content": null,
            "align_items": null,
            "align_self": null,
            "border": null,
            "bottom": null,
            "display": null,
            "flex": null,
            "flex_flow": null,
            "grid_area": null,
            "grid_auto_columns": null,
            "grid_auto_flow": null,
            "grid_auto_rows": null,
            "grid_column": null,
            "grid_gap": null,
            "grid_row": null,
            "grid_template_areas": null,
            "grid_template_columns": null,
            "grid_template_rows": null,
            "height": null,
            "justify_content": null,
            "justify_items": null,
            "left": null,
            "margin": null,
            "max_height": null,
            "max_width": null,
            "min_height": null,
            "min_width": null,
            "object_fit": null,
            "object_position": null,
            "order": null,
            "overflow": null,
            "overflow_x": null,
            "overflow_y": null,
            "padding": null,
            "right": null,
            "top": null,
            "visibility": null,
            "width": null
          }
        },
        "8ddd3dd6e6074511ab5c41d496c6f1ed": {
          "model_module": "@jupyter-widgets/controls",
          "model_name": "DescriptionStyleModel",
          "model_module_version": "1.5.0",
          "state": {
            "_model_module": "@jupyter-widgets/controls",
            "_model_module_version": "1.5.0",
            "_model_name": "DescriptionStyleModel",
            "_view_count": null,
            "_view_module": "@jupyter-widgets/base",
            "_view_module_version": "1.2.0",
            "_view_name": "StyleView",
            "description_width": ""
          }
        },
        "a4b478fbf0b54aafb85f0b656ac5bd2f": {
          "model_module": "@jupyter-widgets/base",
          "model_name": "LayoutModel",
          "model_module_version": "1.2.0",
          "state": {
            "_model_module": "@jupyter-widgets/base",
            "_model_module_version": "1.2.0",
            "_model_name": "LayoutModel",
            "_view_count": null,
            "_view_module": "@jupyter-widgets/base",
            "_view_module_version": "1.2.0",
            "_view_name": "LayoutView",
            "align_content": null,
            "align_items": null,
            "align_self": null,
            "border": null,
            "bottom": null,
            "display": null,
            "flex": null,
            "flex_flow": null,
            "grid_area": null,
            "grid_auto_columns": null,
            "grid_auto_flow": null,
            "grid_auto_rows": null,
            "grid_column": null,
            "grid_gap": null,
            "grid_row": null,
            "grid_template_areas": null,
            "grid_template_columns": null,
            "grid_template_rows": null,
            "height": null,
            "justify_content": null,
            "justify_items": null,
            "left": null,
            "margin": null,
            "max_height": null,
            "max_width": null,
            "min_height": null,
            "min_width": null,
            "object_fit": null,
            "object_position": null,
            "order": null,
            "overflow": null,
            "overflow_x": null,
            "overflow_y": null,
            "padding": null,
            "right": null,
            "top": null,
            "visibility": null,
            "width": null
          }
        },
        "fe9f5cd6abf2431d9a993d78b9c4c9bb": {
          "model_module": "@jupyter-widgets/controls",
          "model_name": "ProgressStyleModel",
          "model_module_version": "1.5.0",
          "state": {
            "_model_module": "@jupyter-widgets/controls",
            "_model_module_version": "1.5.0",
            "_model_name": "ProgressStyleModel",
            "_view_count": null,
            "_view_module": "@jupyter-widgets/base",
            "_view_module_version": "1.2.0",
            "_view_name": "StyleView",
            "bar_color": null,
            "description_width": ""
          }
        },
        "09b85a8067fe40648e810a1c88a35f65": {
          "model_module": "@jupyter-widgets/base",
          "model_name": "LayoutModel",
          "model_module_version": "1.2.0",
          "state": {
            "_model_module": "@jupyter-widgets/base",
            "_model_module_version": "1.2.0",
            "_model_name": "LayoutModel",
            "_view_count": null,
            "_view_module": "@jupyter-widgets/base",
            "_view_module_version": "1.2.0",
            "_view_name": "LayoutView",
            "align_content": null,
            "align_items": null,
            "align_self": null,
            "border": null,
            "bottom": null,
            "display": null,
            "flex": null,
            "flex_flow": null,
            "grid_area": null,
            "grid_auto_columns": null,
            "grid_auto_flow": null,
            "grid_auto_rows": null,
            "grid_column": null,
            "grid_gap": null,
            "grid_row": null,
            "grid_template_areas": null,
            "grid_template_columns": null,
            "grid_template_rows": null,
            "height": null,
            "justify_content": null,
            "justify_items": null,
            "left": null,
            "margin": null,
            "max_height": null,
            "max_width": null,
            "min_height": null,
            "min_width": null,
            "object_fit": null,
            "object_position": null,
            "order": null,
            "overflow": null,
            "overflow_x": null,
            "overflow_y": null,
            "padding": null,
            "right": null,
            "top": null,
            "visibility": null,
            "width": null
          }
        },
        "8973d2006d07494fa7188e150445725f": {
          "model_module": "@jupyter-widgets/controls",
          "model_name": "DescriptionStyleModel",
          "model_module_version": "1.5.0",
          "state": {
            "_model_module": "@jupyter-widgets/controls",
            "_model_module_version": "1.5.0",
            "_model_name": "DescriptionStyleModel",
            "_view_count": null,
            "_view_module": "@jupyter-widgets/base",
            "_view_module_version": "1.2.0",
            "_view_name": "StyleView",
            "description_width": ""
          }
        },
        "d03aec938db04b848f5eea008c8e1a32": {
          "model_module": "@jupyter-widgets/controls",
          "model_name": "HBoxModel",
          "model_module_version": "1.5.0",
          "state": {
            "_dom_classes": [],
            "_model_module": "@jupyter-widgets/controls",
            "_model_module_version": "1.5.0",
            "_model_name": "HBoxModel",
            "_view_count": null,
            "_view_module": "@jupyter-widgets/controls",
            "_view_module_version": "1.5.0",
            "_view_name": "HBoxView",
            "box_style": "",
            "children": [
              "IPY_MODEL_a2d5c42600f04aaeb19f37f80e4118b4",
              "IPY_MODEL_6c3ce77ac8984f3cb778b0d6d3546ecd",
              "IPY_MODEL_a56f7bc0e9f64da1ba1180a464221bea"
            ],
            "layout": "IPY_MODEL_b8f41376085d4636b366576640e06b3a"
          }
        },
        "a2d5c42600f04aaeb19f37f80e4118b4": {
          "model_module": "@jupyter-widgets/controls",
          "model_name": "HTMLModel",
          "model_module_version": "1.5.0",
          "state": {
            "_dom_classes": [],
            "_model_module": "@jupyter-widgets/controls",
            "_model_module_version": "1.5.0",
            "_model_name": "HTMLModel",
            "_view_count": null,
            "_view_module": "@jupyter-widgets/controls",
            "_view_module_version": "1.5.0",
            "_view_name": "HTMLView",
            "description": "",
            "description_tooltip": null,
            "layout": "IPY_MODEL_a36d574c755b407f8d1d9ed8e56645ef",
            "placeholder": "​",
            "style": "IPY_MODEL_57bc0de39cf54ff5ae89de315ed42b7f",
            "value": "config.json: 100%"
          }
        },
        "6c3ce77ac8984f3cb778b0d6d3546ecd": {
          "model_module": "@jupyter-widgets/controls",
          "model_name": "FloatProgressModel",
          "model_module_version": "1.5.0",
          "state": {
            "_dom_classes": [],
            "_model_module": "@jupyter-widgets/controls",
            "_model_module_version": "1.5.0",
            "_model_name": "FloatProgressModel",
            "_view_count": null,
            "_view_module": "@jupyter-widgets/controls",
            "_view_module_version": "1.5.0",
            "_view_name": "ProgressView",
            "bar_style": "success",
            "description": "",
            "description_tooltip": null,
            "layout": "IPY_MODEL_2b586bbcde9545da86b4dddcf7daf0f0",
            "max": 665,
            "min": 0,
            "orientation": "horizontal",
            "style": "IPY_MODEL_3c6cf30a8289404f9628a70f26bc69cc",
            "value": 665
          }
        },
        "a56f7bc0e9f64da1ba1180a464221bea": {
          "model_module": "@jupyter-widgets/controls",
          "model_name": "HTMLModel",
          "model_module_version": "1.5.0",
          "state": {
            "_dom_classes": [],
            "_model_module": "@jupyter-widgets/controls",
            "_model_module_version": "1.5.0",
            "_model_name": "HTMLModel",
            "_view_count": null,
            "_view_module": "@jupyter-widgets/controls",
            "_view_module_version": "1.5.0",
            "_view_name": "HTMLView",
            "description": "",
            "description_tooltip": null,
            "layout": "IPY_MODEL_aeb515da22e94954807ed5887d532324",
            "placeholder": "​",
            "style": "IPY_MODEL_8bd336ba29dd4b5b9424d679b9a2ce1e",
            "value": " 665/665 [00:00&lt;00:00, 19.8kB/s]"
          }
        },
        "b8f41376085d4636b366576640e06b3a": {
          "model_module": "@jupyter-widgets/base",
          "model_name": "LayoutModel",
          "model_module_version": "1.2.0",
          "state": {
            "_model_module": "@jupyter-widgets/base",
            "_model_module_version": "1.2.0",
            "_model_name": "LayoutModel",
            "_view_count": null,
            "_view_module": "@jupyter-widgets/base",
            "_view_module_version": "1.2.0",
            "_view_name": "LayoutView",
            "align_content": null,
            "align_items": null,
            "align_self": null,
            "border": null,
            "bottom": null,
            "display": null,
            "flex": null,
            "flex_flow": null,
            "grid_area": null,
            "grid_auto_columns": null,
            "grid_auto_flow": null,
            "grid_auto_rows": null,
            "grid_column": null,
            "grid_gap": null,
            "grid_row": null,
            "grid_template_areas": null,
            "grid_template_columns": null,
            "grid_template_rows": null,
            "height": null,
            "justify_content": null,
            "justify_items": null,
            "left": null,
            "margin": null,
            "max_height": null,
            "max_width": null,
            "min_height": null,
            "min_width": null,
            "object_fit": null,
            "object_position": null,
            "order": null,
            "overflow": null,
            "overflow_x": null,
            "overflow_y": null,
            "padding": null,
            "right": null,
            "top": null,
            "visibility": null,
            "width": null
          }
        },
        "a36d574c755b407f8d1d9ed8e56645ef": {
          "model_module": "@jupyter-widgets/base",
          "model_name": "LayoutModel",
          "model_module_version": "1.2.0",
          "state": {
            "_model_module": "@jupyter-widgets/base",
            "_model_module_version": "1.2.0",
            "_model_name": "LayoutModel",
            "_view_count": null,
            "_view_module": "@jupyter-widgets/base",
            "_view_module_version": "1.2.0",
            "_view_name": "LayoutView",
            "align_content": null,
            "align_items": null,
            "align_self": null,
            "border": null,
            "bottom": null,
            "display": null,
            "flex": null,
            "flex_flow": null,
            "grid_area": null,
            "grid_auto_columns": null,
            "grid_auto_flow": null,
            "grid_auto_rows": null,
            "grid_column": null,
            "grid_gap": null,
            "grid_row": null,
            "grid_template_areas": null,
            "grid_template_columns": null,
            "grid_template_rows": null,
            "height": null,
            "justify_content": null,
            "justify_items": null,
            "left": null,
            "margin": null,
            "max_height": null,
            "max_width": null,
            "min_height": null,
            "min_width": null,
            "object_fit": null,
            "object_position": null,
            "order": null,
            "overflow": null,
            "overflow_x": null,
            "overflow_y": null,
            "padding": null,
            "right": null,
            "top": null,
            "visibility": null,
            "width": null
          }
        },
        "57bc0de39cf54ff5ae89de315ed42b7f": {
          "model_module": "@jupyter-widgets/controls",
          "model_name": "DescriptionStyleModel",
          "model_module_version": "1.5.0",
          "state": {
            "_model_module": "@jupyter-widgets/controls",
            "_model_module_version": "1.5.0",
            "_model_name": "DescriptionStyleModel",
            "_view_count": null,
            "_view_module": "@jupyter-widgets/base",
            "_view_module_version": "1.2.0",
            "_view_name": "StyleView",
            "description_width": ""
          }
        },
        "2b586bbcde9545da86b4dddcf7daf0f0": {
          "model_module": "@jupyter-widgets/base",
          "model_name": "LayoutModel",
          "model_module_version": "1.2.0",
          "state": {
            "_model_module": "@jupyter-widgets/base",
            "_model_module_version": "1.2.0",
            "_model_name": "LayoutModel",
            "_view_count": null,
            "_view_module": "@jupyter-widgets/base",
            "_view_module_version": "1.2.0",
            "_view_name": "LayoutView",
            "align_content": null,
            "align_items": null,
            "align_self": null,
            "border": null,
            "bottom": null,
            "display": null,
            "flex": null,
            "flex_flow": null,
            "grid_area": null,
            "grid_auto_columns": null,
            "grid_auto_flow": null,
            "grid_auto_rows": null,
            "grid_column": null,
            "grid_gap": null,
            "grid_row": null,
            "grid_template_areas": null,
            "grid_template_columns": null,
            "grid_template_rows": null,
            "height": null,
            "justify_content": null,
            "justify_items": null,
            "left": null,
            "margin": null,
            "max_height": null,
            "max_width": null,
            "min_height": null,
            "min_width": null,
            "object_fit": null,
            "object_position": null,
            "order": null,
            "overflow": null,
            "overflow_x": null,
            "overflow_y": null,
            "padding": null,
            "right": null,
            "top": null,
            "visibility": null,
            "width": null
          }
        },
        "3c6cf30a8289404f9628a70f26bc69cc": {
          "model_module": "@jupyter-widgets/controls",
          "model_name": "ProgressStyleModel",
          "model_module_version": "1.5.0",
          "state": {
            "_model_module": "@jupyter-widgets/controls",
            "_model_module_version": "1.5.0",
            "_model_name": "ProgressStyleModel",
            "_view_count": null,
            "_view_module": "@jupyter-widgets/base",
            "_view_module_version": "1.2.0",
            "_view_name": "StyleView",
            "bar_color": null,
            "description_width": ""
          }
        },
        "aeb515da22e94954807ed5887d532324": {
          "model_module": "@jupyter-widgets/base",
          "model_name": "LayoutModel",
          "model_module_version": "1.2.0",
          "state": {
            "_model_module": "@jupyter-widgets/base",
            "_model_module_version": "1.2.0",
            "_model_name": "LayoutModel",
            "_view_count": null,
            "_view_module": "@jupyter-widgets/base",
            "_view_module_version": "1.2.0",
            "_view_name": "LayoutView",
            "align_content": null,
            "align_items": null,
            "align_self": null,
            "border": null,
            "bottom": null,
            "display": null,
            "flex": null,
            "flex_flow": null,
            "grid_area": null,
            "grid_auto_columns": null,
            "grid_auto_flow": null,
            "grid_auto_rows": null,
            "grid_column": null,
            "grid_gap": null,
            "grid_row": null,
            "grid_template_areas": null,
            "grid_template_columns": null,
            "grid_template_rows": null,
            "height": null,
            "justify_content": null,
            "justify_items": null,
            "left": null,
            "margin": null,
            "max_height": null,
            "max_width": null,
            "min_height": null,
            "min_width": null,
            "object_fit": null,
            "object_position": null,
            "order": null,
            "overflow": null,
            "overflow_x": null,
            "overflow_y": null,
            "padding": null,
            "right": null,
            "top": null,
            "visibility": null,
            "width": null
          }
        },
        "8bd336ba29dd4b5b9424d679b9a2ce1e": {
          "model_module": "@jupyter-widgets/controls",
          "model_name": "DescriptionStyleModel",
          "model_module_version": "1.5.0",
          "state": {
            "_model_module": "@jupyter-widgets/controls",
            "_model_module_version": "1.5.0",
            "_model_name": "DescriptionStyleModel",
            "_view_count": null,
            "_view_module": "@jupyter-widgets/base",
            "_view_module_version": "1.2.0",
            "_view_name": "StyleView",
            "description_width": ""
          }
        },
        "26140cd7d9cd4014991e2dec5d8d6c44": {
          "model_module": "@jupyter-widgets/controls",
          "model_name": "HBoxModel",
          "model_module_version": "1.5.0",
          "state": {
            "_dom_classes": [],
            "_model_module": "@jupyter-widgets/controls",
            "_model_module_version": "1.5.0",
            "_model_name": "HBoxModel",
            "_view_count": null,
            "_view_module": "@jupyter-widgets/controls",
            "_view_module_version": "1.5.0",
            "_view_name": "HBoxView",
            "box_style": "",
            "children": [
              "IPY_MODEL_cb6624481fa34316a6ee3c066d943d18",
              "IPY_MODEL_8bf709f9ecce4edcac04ad1163f18a24",
              "IPY_MODEL_38e51831243140c98942f08b1e8c35e7"
            ],
            "layout": "IPY_MODEL_f40d0302f3864121a9504239c34ccdab"
          }
        },
        "cb6624481fa34316a6ee3c066d943d18": {
          "model_module": "@jupyter-widgets/controls",
          "model_name": "HTMLModel",
          "model_module_version": "1.5.0",
          "state": {
            "_dom_classes": [],
            "_model_module": "@jupyter-widgets/controls",
            "_model_module_version": "1.5.0",
            "_model_name": "HTMLModel",
            "_view_count": null,
            "_view_module": "@jupyter-widgets/controls",
            "_view_module_version": "1.5.0",
            "_view_name": "HTMLView",
            "description": "",
            "description_tooltip": null,
            "layout": "IPY_MODEL_ec773c33ea914446a6d061c53cfd29f6",
            "placeholder": "​",
            "style": "IPY_MODEL_57e3066a412146968d4b9449fe80bac4",
            "value": "model.safetensors: 100%"
          }
        },
        "8bf709f9ecce4edcac04ad1163f18a24": {
          "model_module": "@jupyter-widgets/controls",
          "model_name": "FloatProgressModel",
          "model_module_version": "1.5.0",
          "state": {
            "_dom_classes": [],
            "_model_module": "@jupyter-widgets/controls",
            "_model_module_version": "1.5.0",
            "_model_name": "FloatProgressModel",
            "_view_count": null,
            "_view_module": "@jupyter-widgets/controls",
            "_view_module_version": "1.5.0",
            "_view_name": "ProgressView",
            "bar_style": "success",
            "description": "",
            "description_tooltip": null,
            "layout": "IPY_MODEL_0b39b3311d504fefb51bb0a0f4fef489",
            "max": 548105171,
            "min": 0,
            "orientation": "horizontal",
            "style": "IPY_MODEL_f6cf686ab0d141e383c8995200eda7c9",
            "value": 548105171
          }
        },
        "38e51831243140c98942f08b1e8c35e7": {
          "model_module": "@jupyter-widgets/controls",
          "model_name": "HTMLModel",
          "model_module_version": "1.5.0",
          "state": {
            "_dom_classes": [],
            "_model_module": "@jupyter-widgets/controls",
            "_model_module_version": "1.5.0",
            "_model_name": "HTMLModel",
            "_view_count": null,
            "_view_module": "@jupyter-widgets/controls",
            "_view_module_version": "1.5.0",
            "_view_name": "HTMLView",
            "description": "",
            "description_tooltip": null,
            "layout": "IPY_MODEL_fa7ea269f01a4b9596ccf35dd17c42e3",
            "placeholder": "​",
            "style": "IPY_MODEL_3f3e81e537bd41a79775431a3509e289",
            "value": " 548M/548M [00:06&lt;00:00, 75.8MB/s]"
          }
        },
        "f40d0302f3864121a9504239c34ccdab": {
          "model_module": "@jupyter-widgets/base",
          "model_name": "LayoutModel",
          "model_module_version": "1.2.0",
          "state": {
            "_model_module": "@jupyter-widgets/base",
            "_model_module_version": "1.2.0",
            "_model_name": "LayoutModel",
            "_view_count": null,
            "_view_module": "@jupyter-widgets/base",
            "_view_module_version": "1.2.0",
            "_view_name": "LayoutView",
            "align_content": null,
            "align_items": null,
            "align_self": null,
            "border": null,
            "bottom": null,
            "display": null,
            "flex": null,
            "flex_flow": null,
            "grid_area": null,
            "grid_auto_columns": null,
            "grid_auto_flow": null,
            "grid_auto_rows": null,
            "grid_column": null,
            "grid_gap": null,
            "grid_row": null,
            "grid_template_areas": null,
            "grid_template_columns": null,
            "grid_template_rows": null,
            "height": null,
            "justify_content": null,
            "justify_items": null,
            "left": null,
            "margin": null,
            "max_height": null,
            "max_width": null,
            "min_height": null,
            "min_width": null,
            "object_fit": null,
            "object_position": null,
            "order": null,
            "overflow": null,
            "overflow_x": null,
            "overflow_y": null,
            "padding": null,
            "right": null,
            "top": null,
            "visibility": null,
            "width": null
          }
        },
        "ec773c33ea914446a6d061c53cfd29f6": {
          "model_module": "@jupyter-widgets/base",
          "model_name": "LayoutModel",
          "model_module_version": "1.2.0",
          "state": {
            "_model_module": "@jupyter-widgets/base",
            "_model_module_version": "1.2.0",
            "_model_name": "LayoutModel",
            "_view_count": null,
            "_view_module": "@jupyter-widgets/base",
            "_view_module_version": "1.2.0",
            "_view_name": "LayoutView",
            "align_content": null,
            "align_items": null,
            "align_self": null,
            "border": null,
            "bottom": null,
            "display": null,
            "flex": null,
            "flex_flow": null,
            "grid_area": null,
            "grid_auto_columns": null,
            "grid_auto_flow": null,
            "grid_auto_rows": null,
            "grid_column": null,
            "grid_gap": null,
            "grid_row": null,
            "grid_template_areas": null,
            "grid_template_columns": null,
            "grid_template_rows": null,
            "height": null,
            "justify_content": null,
            "justify_items": null,
            "left": null,
            "margin": null,
            "max_height": null,
            "max_width": null,
            "min_height": null,
            "min_width": null,
            "object_fit": null,
            "object_position": null,
            "order": null,
            "overflow": null,
            "overflow_x": null,
            "overflow_y": null,
            "padding": null,
            "right": null,
            "top": null,
            "visibility": null,
            "width": null
          }
        },
        "57e3066a412146968d4b9449fe80bac4": {
          "model_module": "@jupyter-widgets/controls",
          "model_name": "DescriptionStyleModel",
          "model_module_version": "1.5.0",
          "state": {
            "_model_module": "@jupyter-widgets/controls",
            "_model_module_version": "1.5.0",
            "_model_name": "DescriptionStyleModel",
            "_view_count": null,
            "_view_module": "@jupyter-widgets/base",
            "_view_module_version": "1.2.0",
            "_view_name": "StyleView",
            "description_width": ""
          }
        },
        "0b39b3311d504fefb51bb0a0f4fef489": {
          "model_module": "@jupyter-widgets/base",
          "model_name": "LayoutModel",
          "model_module_version": "1.2.0",
          "state": {
            "_model_module": "@jupyter-widgets/base",
            "_model_module_version": "1.2.0",
            "_model_name": "LayoutModel",
            "_view_count": null,
            "_view_module": "@jupyter-widgets/base",
            "_view_module_version": "1.2.0",
            "_view_name": "LayoutView",
            "align_content": null,
            "align_items": null,
            "align_self": null,
            "border": null,
            "bottom": null,
            "display": null,
            "flex": null,
            "flex_flow": null,
            "grid_area": null,
            "grid_auto_columns": null,
            "grid_auto_flow": null,
            "grid_auto_rows": null,
            "grid_column": null,
            "grid_gap": null,
            "grid_row": null,
            "grid_template_areas": null,
            "grid_template_columns": null,
            "grid_template_rows": null,
            "height": null,
            "justify_content": null,
            "justify_items": null,
            "left": null,
            "margin": null,
            "max_height": null,
            "max_width": null,
            "min_height": null,
            "min_width": null,
            "object_fit": null,
            "object_position": null,
            "order": null,
            "overflow": null,
            "overflow_x": null,
            "overflow_y": null,
            "padding": null,
            "right": null,
            "top": null,
            "visibility": null,
            "width": null
          }
        },
        "f6cf686ab0d141e383c8995200eda7c9": {
          "model_module": "@jupyter-widgets/controls",
          "model_name": "ProgressStyleModel",
          "model_module_version": "1.5.0",
          "state": {
            "_model_module": "@jupyter-widgets/controls",
            "_model_module_version": "1.5.0",
            "_model_name": "ProgressStyleModel",
            "_view_count": null,
            "_view_module": "@jupyter-widgets/base",
            "_view_module_version": "1.2.0",
            "_view_name": "StyleView",
            "bar_color": null,
            "description_width": ""
          }
        },
        "fa7ea269f01a4b9596ccf35dd17c42e3": {
          "model_module": "@jupyter-widgets/base",
          "model_name": "LayoutModel",
          "model_module_version": "1.2.0",
          "state": {
            "_model_module": "@jupyter-widgets/base",
            "_model_module_version": "1.2.0",
            "_model_name": "LayoutModel",
            "_view_count": null,
            "_view_module": "@jupyter-widgets/base",
            "_view_module_version": "1.2.0",
            "_view_name": "LayoutView",
            "align_content": null,
            "align_items": null,
            "align_self": null,
            "border": null,
            "bottom": null,
            "display": null,
            "flex": null,
            "flex_flow": null,
            "grid_area": null,
            "grid_auto_columns": null,
            "grid_auto_flow": null,
            "grid_auto_rows": null,
            "grid_column": null,
            "grid_gap": null,
            "grid_row": null,
            "grid_template_areas": null,
            "grid_template_columns": null,
            "grid_template_rows": null,
            "height": null,
            "justify_content": null,
            "justify_items": null,
            "left": null,
            "margin": null,
            "max_height": null,
            "max_width": null,
            "min_height": null,
            "min_width": null,
            "object_fit": null,
            "object_position": null,
            "order": null,
            "overflow": null,
            "overflow_x": null,
            "overflow_y": null,
            "padding": null,
            "right": null,
            "top": null,
            "visibility": null,
            "width": null
          }
        },
        "3f3e81e537bd41a79775431a3509e289": {
          "model_module": "@jupyter-widgets/controls",
          "model_name": "DescriptionStyleModel",
          "model_module_version": "1.5.0",
          "state": {
            "_model_module": "@jupyter-widgets/controls",
            "_model_module_version": "1.5.0",
            "_model_name": "DescriptionStyleModel",
            "_view_count": null,
            "_view_module": "@jupyter-widgets/base",
            "_view_module_version": "1.2.0",
            "_view_name": "StyleView",
            "description_width": ""
          }
        },
        "cbf8f66a414749b5bb1dac482a0b6d0e": {
          "model_module": "@jupyter-widgets/controls",
          "model_name": "HBoxModel",
          "model_module_version": "1.5.0",
          "state": {
            "_dom_classes": [],
            "_model_module": "@jupyter-widgets/controls",
            "_model_module_version": "1.5.0",
            "_model_name": "HBoxModel",
            "_view_count": null,
            "_view_module": "@jupyter-widgets/controls",
            "_view_module_version": "1.5.0",
            "_view_name": "HBoxView",
            "box_style": "",
            "children": [
              "IPY_MODEL_408db523847d4a5580af8f8c408daa50",
              "IPY_MODEL_0751d2df560749a58815a2d762557c82",
              "IPY_MODEL_356b0848bd3d4e4da13f5d66a9e20ffc"
            ],
            "layout": "IPY_MODEL_643167cf67dc49c3806627b7acdf3f7f"
          }
        },
        "408db523847d4a5580af8f8c408daa50": {
          "model_module": "@jupyter-widgets/controls",
          "model_name": "HTMLModel",
          "model_module_version": "1.5.0",
          "state": {
            "_dom_classes": [],
            "_model_module": "@jupyter-widgets/controls",
            "_model_module_version": "1.5.0",
            "_model_name": "HTMLModel",
            "_view_count": null,
            "_view_module": "@jupyter-widgets/controls",
            "_view_module_version": "1.5.0",
            "_view_name": "HTMLView",
            "description": "",
            "description_tooltip": null,
            "layout": "IPY_MODEL_7a83ec008ab44e69baf22f2903310429",
            "placeholder": "​",
            "style": "IPY_MODEL_bab4c80db4c74d129d0b006b72b43e25",
            "value": "generation_config.json: 100%"
          }
        },
        "0751d2df560749a58815a2d762557c82": {
          "model_module": "@jupyter-widgets/controls",
          "model_name": "FloatProgressModel",
          "model_module_version": "1.5.0",
          "state": {
            "_dom_classes": [],
            "_model_module": "@jupyter-widgets/controls",
            "_model_module_version": "1.5.0",
            "_model_name": "FloatProgressModel",
            "_view_count": null,
            "_view_module": "@jupyter-widgets/controls",
            "_view_module_version": "1.5.0",
            "_view_name": "ProgressView",
            "bar_style": "success",
            "description": "",
            "description_tooltip": null,
            "layout": "IPY_MODEL_65cb9fda4fbb4df6ab2171d8d151a755",
            "max": 124,
            "min": 0,
            "orientation": "horizontal",
            "style": "IPY_MODEL_b69b8bf442834d6eab17452a66df0aef",
            "value": 124
          }
        },
        "356b0848bd3d4e4da13f5d66a9e20ffc": {
          "model_module": "@jupyter-widgets/controls",
          "model_name": "HTMLModel",
          "model_module_version": "1.5.0",
          "state": {
            "_dom_classes": [],
            "_model_module": "@jupyter-widgets/controls",
            "_model_module_version": "1.5.0",
            "_model_name": "HTMLModel",
            "_view_count": null,
            "_view_module": "@jupyter-widgets/controls",
            "_view_module_version": "1.5.0",
            "_view_name": "HTMLView",
            "description": "",
            "description_tooltip": null,
            "layout": "IPY_MODEL_2a9feab3c3f841c5b6a350ec28d51802",
            "placeholder": "​",
            "style": "IPY_MODEL_b58e18bf9a8f44be86ceac1c6638297d",
            "value": " 124/124 [00:00&lt;00:00, 2.73kB/s]"
          }
        },
        "643167cf67dc49c3806627b7acdf3f7f": {
          "model_module": "@jupyter-widgets/base",
          "model_name": "LayoutModel",
          "model_module_version": "1.2.0",
          "state": {
            "_model_module": "@jupyter-widgets/base",
            "_model_module_version": "1.2.0",
            "_model_name": "LayoutModel",
            "_view_count": null,
            "_view_module": "@jupyter-widgets/base",
            "_view_module_version": "1.2.0",
            "_view_name": "LayoutView",
            "align_content": null,
            "align_items": null,
            "align_self": null,
            "border": null,
            "bottom": null,
            "display": null,
            "flex": null,
            "flex_flow": null,
            "grid_area": null,
            "grid_auto_columns": null,
            "grid_auto_flow": null,
            "grid_auto_rows": null,
            "grid_column": null,
            "grid_gap": null,
            "grid_row": null,
            "grid_template_areas": null,
            "grid_template_columns": null,
            "grid_template_rows": null,
            "height": null,
            "justify_content": null,
            "justify_items": null,
            "left": null,
            "margin": null,
            "max_height": null,
            "max_width": null,
            "min_height": null,
            "min_width": null,
            "object_fit": null,
            "object_position": null,
            "order": null,
            "overflow": null,
            "overflow_x": null,
            "overflow_y": null,
            "padding": null,
            "right": null,
            "top": null,
            "visibility": null,
            "width": null
          }
        },
        "7a83ec008ab44e69baf22f2903310429": {
          "model_module": "@jupyter-widgets/base",
          "model_name": "LayoutModel",
          "model_module_version": "1.2.0",
          "state": {
            "_model_module": "@jupyter-widgets/base",
            "_model_module_version": "1.2.0",
            "_model_name": "LayoutModel",
            "_view_count": null,
            "_view_module": "@jupyter-widgets/base",
            "_view_module_version": "1.2.0",
            "_view_name": "LayoutView",
            "align_content": null,
            "align_items": null,
            "align_self": null,
            "border": null,
            "bottom": null,
            "display": null,
            "flex": null,
            "flex_flow": null,
            "grid_area": null,
            "grid_auto_columns": null,
            "grid_auto_flow": null,
            "grid_auto_rows": null,
            "grid_column": null,
            "grid_gap": null,
            "grid_row": null,
            "grid_template_areas": null,
            "grid_template_columns": null,
            "grid_template_rows": null,
            "height": null,
            "justify_content": null,
            "justify_items": null,
            "left": null,
            "margin": null,
            "max_height": null,
            "max_width": null,
            "min_height": null,
            "min_width": null,
            "object_fit": null,
            "object_position": null,
            "order": null,
            "overflow": null,
            "overflow_x": null,
            "overflow_y": null,
            "padding": null,
            "right": null,
            "top": null,
            "visibility": null,
            "width": null
          }
        },
        "bab4c80db4c74d129d0b006b72b43e25": {
          "model_module": "@jupyter-widgets/controls",
          "model_name": "DescriptionStyleModel",
          "model_module_version": "1.5.0",
          "state": {
            "_model_module": "@jupyter-widgets/controls",
            "_model_module_version": "1.5.0",
            "_model_name": "DescriptionStyleModel",
            "_view_count": null,
            "_view_module": "@jupyter-widgets/base",
            "_view_module_version": "1.2.0",
            "_view_name": "StyleView",
            "description_width": ""
          }
        },
        "65cb9fda4fbb4df6ab2171d8d151a755": {
          "model_module": "@jupyter-widgets/base",
          "model_name": "LayoutModel",
          "model_module_version": "1.2.0",
          "state": {
            "_model_module": "@jupyter-widgets/base",
            "_model_module_version": "1.2.0",
            "_model_name": "LayoutModel",
            "_view_count": null,
            "_view_module": "@jupyter-widgets/base",
            "_view_module_version": "1.2.0",
            "_view_name": "LayoutView",
            "align_content": null,
            "align_items": null,
            "align_self": null,
            "border": null,
            "bottom": null,
            "display": null,
            "flex": null,
            "flex_flow": null,
            "grid_area": null,
            "grid_auto_columns": null,
            "grid_auto_flow": null,
            "grid_auto_rows": null,
            "grid_column": null,
            "grid_gap": null,
            "grid_row": null,
            "grid_template_areas": null,
            "grid_template_columns": null,
            "grid_template_rows": null,
            "height": null,
            "justify_content": null,
            "justify_items": null,
            "left": null,
            "margin": null,
            "max_height": null,
            "max_width": null,
            "min_height": null,
            "min_width": null,
            "object_fit": null,
            "object_position": null,
            "order": null,
            "overflow": null,
            "overflow_x": null,
            "overflow_y": null,
            "padding": null,
            "right": null,
            "top": null,
            "visibility": null,
            "width": null
          }
        },
        "b69b8bf442834d6eab17452a66df0aef": {
          "model_module": "@jupyter-widgets/controls",
          "model_name": "ProgressStyleModel",
          "model_module_version": "1.5.0",
          "state": {
            "_model_module": "@jupyter-widgets/controls",
            "_model_module_version": "1.5.0",
            "_model_name": "ProgressStyleModel",
            "_view_count": null,
            "_view_module": "@jupyter-widgets/base",
            "_view_module_version": "1.2.0",
            "_view_name": "StyleView",
            "bar_color": null,
            "description_width": ""
          }
        },
        "2a9feab3c3f841c5b6a350ec28d51802": {
          "model_module": "@jupyter-widgets/base",
          "model_name": "LayoutModel",
          "model_module_version": "1.2.0",
          "state": {
            "_model_module": "@jupyter-widgets/base",
            "_model_module_version": "1.2.0",
            "_model_name": "LayoutModel",
            "_view_count": null,
            "_view_module": "@jupyter-widgets/base",
            "_view_module_version": "1.2.0",
            "_view_name": "LayoutView",
            "align_content": null,
            "align_items": null,
            "align_self": null,
            "border": null,
            "bottom": null,
            "display": null,
            "flex": null,
            "flex_flow": null,
            "grid_area": null,
            "grid_auto_columns": null,
            "grid_auto_flow": null,
            "grid_auto_rows": null,
            "grid_column": null,
            "grid_gap": null,
            "grid_row": null,
            "grid_template_areas": null,
            "grid_template_columns": null,
            "grid_template_rows": null,
            "height": null,
            "justify_content": null,
            "justify_items": null,
            "left": null,
            "margin": null,
            "max_height": null,
            "max_width": null,
            "min_height": null,
            "min_width": null,
            "object_fit": null,
            "object_position": null,
            "order": null,
            "overflow": null,
            "overflow_x": null,
            "overflow_y": null,
            "padding": null,
            "right": null,
            "top": null,
            "visibility": null,
            "width": null
          }
        },
        "b58e18bf9a8f44be86ceac1c6638297d": {
          "model_module": "@jupyter-widgets/controls",
          "model_name": "DescriptionStyleModel",
          "model_module_version": "1.5.0",
          "state": {
            "_model_module": "@jupyter-widgets/controls",
            "_model_module_version": "1.5.0",
            "_model_name": "DescriptionStyleModel",
            "_view_count": null,
            "_view_module": "@jupyter-widgets/base",
            "_view_module_version": "1.2.0",
            "_view_name": "StyleView",
            "description_width": ""
          }
        }
      }
    }
  },
  "nbformat": 4,
  "nbformat_minor": 0
}
