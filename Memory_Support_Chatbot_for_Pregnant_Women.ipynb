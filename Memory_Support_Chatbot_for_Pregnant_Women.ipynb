{
  "nbformat": 4,
  "nbformat_minor": 0,
  "metadata": {
    "colab": {
      "provenance": [],
      "toc_visible": true,
      "authorship_tag": "ABX9TyPa+R17+adBrdLVJG8w03ps",
      "include_colab_link": true
    },
    "kernelspec": {
      "name": "python3",
      "display_name": "Python 3"
    },
    "language_info": {
      "name": "python"
    },
    "widgets": {
      "application/vnd.jupyter.widget-state+json": {
        "d533849de6bd4ab6ab1454ac9f70f744": {
          "model_module": "@jupyter-widgets/controls",
          "model_name": "HBoxModel",
          "model_module_version": "1.5.0",
          "state": {
            "_dom_classes": [],
            "_model_module": "@jupyter-widgets/controls",
            "_model_module_version": "1.5.0",
            "_model_name": "HBoxModel",
            "_view_count": null,
            "_view_module": "@jupyter-widgets/controls",
            "_view_module_version": "1.5.0",
            "_view_name": "HBoxView",
            "box_style": "",
            "children": [
              "IPY_MODEL_6d4c32d6189b4768a6a2cd4a6a5e741b",
              "IPY_MODEL_2536fa816ceb4b03b2f93fd0291a4386",
              "IPY_MODEL_924bbcee4a91400bb6f1247eccdc96ed"
            ],
            "layout": "IPY_MODEL_c96d50afb4404addb7d2f83dc6398fc2"
          }
        },
        "6d4c32d6189b4768a6a2cd4a6a5e741b": {
          "model_module": "@jupyter-widgets/controls",
          "model_name": "HTMLModel",
          "model_module_version": "1.5.0",
          "state": {
            "_dom_classes": [],
            "_model_module": "@jupyter-widgets/controls",
            "_model_module_version": "1.5.0",
            "_model_name": "HTMLModel",
            "_view_count": null,
            "_view_module": "@jupyter-widgets/controls",
            "_view_module_version": "1.5.0",
            "_view_name": "HTMLView",
            "description": "",
            "description_tooltip": null,
            "layout": "IPY_MODEL_803ae94887154403b9158d935aa25cd0",
            "placeholder": "​",
            "style": "IPY_MODEL_baf7058aada94c06b9c4006ba981241f",
            "value": "tokenizer_config.json: 100%"
          }
        },
        "2536fa816ceb4b03b2f93fd0291a4386": {
          "model_module": "@jupyter-widgets/controls",
          "model_name": "FloatProgressModel",
          "model_module_version": "1.5.0",
          "state": {
            "_dom_classes": [],
            "_model_module": "@jupyter-widgets/controls",
            "_model_module_version": "1.5.0",
            "_model_name": "FloatProgressModel",
            "_view_count": null,
            "_view_module": "@jupyter-widgets/controls",
            "_view_module_version": "1.5.0",
            "_view_name": "ProgressView",
            "bar_style": "success",
            "description": "",
            "description_tooltip": null,
            "layout": "IPY_MODEL_e99aaf16ae894be58325cb2e02fecedb",
            "max": 26,
            "min": 0,
            "orientation": "horizontal",
            "style": "IPY_MODEL_9213f9ceff964d3fa6ce65157bc12808",
            "value": 26
          }
        },
        "924bbcee4a91400bb6f1247eccdc96ed": {
          "model_module": "@jupyter-widgets/controls",
          "model_name": "HTMLModel",
          "model_module_version": "1.5.0",
          "state": {
            "_dom_classes": [],
            "_model_module": "@jupyter-widgets/controls",
            "_model_module_version": "1.5.0",
            "_model_name": "HTMLModel",
            "_view_count": null,
            "_view_module": "@jupyter-widgets/controls",
            "_view_module_version": "1.5.0",
            "_view_name": "HTMLView",
            "description": "",
            "description_tooltip": null,
            "layout": "IPY_MODEL_66986a1c9c674179b0f70f3e95b6b5e9",
            "placeholder": "​",
            "style": "IPY_MODEL_678a346ed86e4f03b064e924e207f594",
            "value": " 26.0/26.0 [00:00&lt;00:00, 354B/s]"
          }
        },
        "c96d50afb4404addb7d2f83dc6398fc2": {
          "model_module": "@jupyter-widgets/base",
          "model_name": "LayoutModel",
          "model_module_version": "1.2.0",
          "state": {
            "_model_module": "@jupyter-widgets/base",
            "_model_module_version": "1.2.0",
            "_model_name": "LayoutModel",
            "_view_count": null,
            "_view_module": "@jupyter-widgets/base",
            "_view_module_version": "1.2.0",
            "_view_name": "LayoutView",
            "align_content": null,
            "align_items": null,
            "align_self": null,
            "border": null,
            "bottom": null,
            "display": null,
            "flex": null,
            "flex_flow": null,
            "grid_area": null,
            "grid_auto_columns": null,
            "grid_auto_flow": null,
            "grid_auto_rows": null,
            "grid_column": null,
            "grid_gap": null,
            "grid_row": null,
            "grid_template_areas": null,
            "grid_template_columns": null,
            "grid_template_rows": null,
            "height": null,
            "justify_content": null,
            "justify_items": null,
            "left": null,
            "margin": null,
            "max_height": null,
            "max_width": null,
            "min_height": null,
            "min_width": null,
            "object_fit": null,
            "object_position": null,
            "order": null,
            "overflow": null,
            "overflow_x": null,
            "overflow_y": null,
            "padding": null,
            "right": null,
            "top": null,
            "visibility": null,
            "width": null
          }
        },
        "803ae94887154403b9158d935aa25cd0": {
          "model_module": "@jupyter-widgets/base",
          "model_name": "LayoutModel",
          "model_module_version": "1.2.0",
          "state": {
            "_model_module": "@jupyter-widgets/base",
            "_model_module_version": "1.2.0",
            "_model_name": "LayoutModel",
            "_view_count": null,
            "_view_module": "@jupyter-widgets/base",
            "_view_module_version": "1.2.0",
            "_view_name": "LayoutView",
            "align_content": null,
            "align_items": null,
            "align_self": null,
            "border": null,
            "bottom": null,
            "display": null,
            "flex": null,
            "flex_flow": null,
            "grid_area": null,
            "grid_auto_columns": null,
            "grid_auto_flow": null,
            "grid_auto_rows": null,
            "grid_column": null,
            "grid_gap": null,
            "grid_row": null,
            "grid_template_areas": null,
            "grid_template_columns": null,
            "grid_template_rows": null,
            "height": null,
            "justify_content": null,
            "justify_items": null,
            "left": null,
            "margin": null,
            "max_height": null,
            "max_width": null,
            "min_height": null,
            "min_width": null,
            "object_fit": null,
            "object_position": null,
            "order": null,
            "overflow": null,
            "overflow_x": null,
            "overflow_y": null,
            "padding": null,
            "right": null,
            "top": null,
            "visibility": null,
            "width": null
          }
        },
        "baf7058aada94c06b9c4006ba981241f": {
          "model_module": "@jupyter-widgets/controls",
          "model_name": "DescriptionStyleModel",
          "model_module_version": "1.5.0",
          "state": {
            "_model_module": "@jupyter-widgets/controls",
            "_model_module_version": "1.5.0",
            "_model_name": "DescriptionStyleModel",
            "_view_count": null,
            "_view_module": "@jupyter-widgets/base",
            "_view_module_version": "1.2.0",
            "_view_name": "StyleView",
            "description_width": ""
          }
        },
        "e99aaf16ae894be58325cb2e02fecedb": {
          "model_module": "@jupyter-widgets/base",
          "model_name": "LayoutModel",
          "model_module_version": "1.2.0",
          "state": {
            "_model_module": "@jupyter-widgets/base",
            "_model_module_version": "1.2.0",
            "_model_name": "LayoutModel",
            "_view_count": null,
            "_view_module": "@jupyter-widgets/base",
            "_view_module_version": "1.2.0",
            "_view_name": "LayoutView",
            "align_content": null,
            "align_items": null,
            "align_self": null,
            "border": null,
            "bottom": null,
            "display": null,
            "flex": null,
            "flex_flow": null,
            "grid_area": null,
            "grid_auto_columns": null,
            "grid_auto_flow": null,
            "grid_auto_rows": null,
            "grid_column": null,
            "grid_gap": null,
            "grid_row": null,
            "grid_template_areas": null,
            "grid_template_columns": null,
            "grid_template_rows": null,
            "height": null,
            "justify_content": null,
            "justify_items": null,
            "left": null,
            "margin": null,
            "max_height": null,
            "max_width": null,
            "min_height": null,
            "min_width": null,
            "object_fit": null,
            "object_position": null,
            "order": null,
            "overflow": null,
            "overflow_x": null,
            "overflow_y": null,
            "padding": null,
            "right": null,
            "top": null,
            "visibility": null,
            "width": null
          }
        },
        "9213f9ceff964d3fa6ce65157bc12808": {
          "model_module": "@jupyter-widgets/controls",
          "model_name": "ProgressStyleModel",
          "model_module_version": "1.5.0",
          "state": {
            "_model_module": "@jupyter-widgets/controls",
            "_model_module_version": "1.5.0",
            "_model_name": "ProgressStyleModel",
            "_view_count": null,
            "_view_module": "@jupyter-widgets/base",
            "_view_module_version": "1.2.0",
            "_view_name": "StyleView",
            "bar_color": null,
            "description_width": ""
          }
        },
        "66986a1c9c674179b0f70f3e95b6b5e9": {
          "model_module": "@jupyter-widgets/base",
          "model_name": "LayoutModel",
          "model_module_version": "1.2.0",
          "state": {
            "_model_module": "@jupyter-widgets/base",
            "_model_module_version": "1.2.0",
            "_model_name": "LayoutModel",
            "_view_count": null,
            "_view_module": "@jupyter-widgets/base",
            "_view_module_version": "1.2.0",
            "_view_name": "LayoutView",
            "align_content": null,
            "align_items": null,
            "align_self": null,
            "border": null,
            "bottom": null,
            "display": null,
            "flex": null,
            "flex_flow": null,
            "grid_area": null,
            "grid_auto_columns": null,
            "grid_auto_flow": null,
            "grid_auto_rows": null,
            "grid_column": null,
            "grid_gap": null,
            "grid_row": null,
            "grid_template_areas": null,
            "grid_template_columns": null,
            "grid_template_rows": null,
            "height": null,
            "justify_content": null,
            "justify_items": null,
            "left": null,
            "margin": null,
            "max_height": null,
            "max_width": null,
            "min_height": null,
            "min_width": null,
            "object_fit": null,
            "object_position": null,
            "order": null,
            "overflow": null,
            "overflow_x": null,
            "overflow_y": null,
            "padding": null,
            "right": null,
            "top": null,
            "visibility": null,
            "width": null
          }
        },
        "678a346ed86e4f03b064e924e207f594": {
          "model_module": "@jupyter-widgets/controls",
          "model_name": "DescriptionStyleModel",
          "model_module_version": "1.5.0",
          "state": {
            "_model_module": "@jupyter-widgets/controls",
            "_model_module_version": "1.5.0",
            "_model_name": "DescriptionStyleModel",
            "_view_count": null,
            "_view_module": "@jupyter-widgets/base",
            "_view_module_version": "1.2.0",
            "_view_name": "StyleView",
            "description_width": ""
          }
        },
        "9be5431800554aa68124ac23cbf997c0": {
          "model_module": "@jupyter-widgets/controls",
          "model_name": "HBoxModel",
          "model_module_version": "1.5.0",
          "state": {
            "_dom_classes": [],
            "_model_module": "@jupyter-widgets/controls",
            "_model_module_version": "1.5.0",
            "_model_name": "HBoxModel",
            "_view_count": null,
            "_view_module": "@jupyter-widgets/controls",
            "_view_module_version": "1.5.0",
            "_view_name": "HBoxView",
            "box_style": "",
            "children": [
              "IPY_MODEL_0d2f04917ed34820a4fa43cf0f4d02fc",
              "IPY_MODEL_7c058ea196ee4734a66dd8960ca1d03c",
              "IPY_MODEL_21448c5d8632488a869f671bf08a509c"
            ],
            "layout": "IPY_MODEL_1c99709444264e6d82cb6559c87609fa"
          }
        },
        "0d2f04917ed34820a4fa43cf0f4d02fc": {
          "model_module": "@jupyter-widgets/controls",
          "model_name": "HTMLModel",
          "model_module_version": "1.5.0",
          "state": {
            "_dom_classes": [],
            "_model_module": "@jupyter-widgets/controls",
            "_model_module_version": "1.5.0",
            "_model_name": "HTMLModel",
            "_view_count": null,
            "_view_module": "@jupyter-widgets/controls",
            "_view_module_version": "1.5.0",
            "_view_name": "HTMLView",
            "description": "",
            "description_tooltip": null,
            "layout": "IPY_MODEL_88d62295725944b8b9a48701534edad6",
            "placeholder": "​",
            "style": "IPY_MODEL_100893ea671345c5a230a6fc89205456",
            "value": "vocab.json: 100%"
          }
        },
        "7c058ea196ee4734a66dd8960ca1d03c": {
          "model_module": "@jupyter-widgets/controls",
          "model_name": "FloatProgressModel",
          "model_module_version": "1.5.0",
          "state": {
            "_dom_classes": [],
            "_model_module": "@jupyter-widgets/controls",
            "_model_module_version": "1.5.0",
            "_model_name": "FloatProgressModel",
            "_view_count": null,
            "_view_module": "@jupyter-widgets/controls",
            "_view_module_version": "1.5.0",
            "_view_name": "ProgressView",
            "bar_style": "success",
            "description": "",
            "description_tooltip": null,
            "layout": "IPY_MODEL_9920badc373e40f3baedcf8df138d7c5",
            "max": 1042301,
            "min": 0,
            "orientation": "horizontal",
            "style": "IPY_MODEL_7b7c1c12d7854f1dbfce2762dcc1a1af",
            "value": 1042301
          }
        },
        "21448c5d8632488a869f671bf08a509c": {
          "model_module": "@jupyter-widgets/controls",
          "model_name": "HTMLModel",
          "model_module_version": "1.5.0",
          "state": {
            "_dom_classes": [],
            "_model_module": "@jupyter-widgets/controls",
            "_model_module_version": "1.5.0",
            "_model_name": "HTMLModel",
            "_view_count": null,
            "_view_module": "@jupyter-widgets/controls",
            "_view_module_version": "1.5.0",
            "_view_name": "HTMLView",
            "description": "",
            "description_tooltip": null,
            "layout": "IPY_MODEL_815273ba70db441fa0e91b0e36c9f8e7",
            "placeholder": "​",
            "style": "IPY_MODEL_90a348e830d3421d899c57e762da2afa",
            "value": " 1.04M/1.04M [00:00&lt;00:00, 8.43MB/s]"
          }
        },
        "1c99709444264e6d82cb6559c87609fa": {
          "model_module": "@jupyter-widgets/base",
          "model_name": "LayoutModel",
          "model_module_version": "1.2.0",
          "state": {
            "_model_module": "@jupyter-widgets/base",
            "_model_module_version": "1.2.0",
            "_model_name": "LayoutModel",
            "_view_count": null,
            "_view_module": "@jupyter-widgets/base",
            "_view_module_version": "1.2.0",
            "_view_name": "LayoutView",
            "align_content": null,
            "align_items": null,
            "align_self": null,
            "border": null,
            "bottom": null,
            "display": null,
            "flex": null,
            "flex_flow": null,
            "grid_area": null,
            "grid_auto_columns": null,
            "grid_auto_flow": null,
            "grid_auto_rows": null,
            "grid_column": null,
            "grid_gap": null,
            "grid_row": null,
            "grid_template_areas": null,
            "grid_template_columns": null,
            "grid_template_rows": null,
            "height": null,
            "justify_content": null,
            "justify_items": null,
            "left": null,
            "margin": null,
            "max_height": null,
            "max_width": null,
            "min_height": null,
            "min_width": null,
            "object_fit": null,
            "object_position": null,
            "order": null,
            "overflow": null,
            "overflow_x": null,
            "overflow_y": null,
            "padding": null,
            "right": null,
            "top": null,
            "visibility": null,
            "width": null
          }
        },
        "88d62295725944b8b9a48701534edad6": {
          "model_module": "@jupyter-widgets/base",
          "model_name": "LayoutModel",
          "model_module_version": "1.2.0",
          "state": {
            "_model_module": "@jupyter-widgets/base",
            "_model_module_version": "1.2.0",
            "_model_name": "LayoutModel",
            "_view_count": null,
            "_view_module": "@jupyter-widgets/base",
            "_view_module_version": "1.2.0",
            "_view_name": "LayoutView",
            "align_content": null,
            "align_items": null,
            "align_self": null,
            "border": null,
            "bottom": null,
            "display": null,
            "flex": null,
            "flex_flow": null,
            "grid_area": null,
            "grid_auto_columns": null,
            "grid_auto_flow": null,
            "grid_auto_rows": null,
            "grid_column": null,
            "grid_gap": null,
            "grid_row": null,
            "grid_template_areas": null,
            "grid_template_columns": null,
            "grid_template_rows": null,
            "height": null,
            "justify_content": null,
            "justify_items": null,
            "left": null,
            "margin": null,
            "max_height": null,
            "max_width": null,
            "min_height": null,
            "min_width": null,
            "object_fit": null,
            "object_position": null,
            "order": null,
            "overflow": null,
            "overflow_x": null,
            "overflow_y": null,
            "padding": null,
            "right": null,
            "top": null,
            "visibility": null,
            "width": null
          }
        },
        "100893ea671345c5a230a6fc89205456": {
          "model_module": "@jupyter-widgets/controls",
          "model_name": "DescriptionStyleModel",
          "model_module_version": "1.5.0",
          "state": {
            "_model_module": "@jupyter-widgets/controls",
            "_model_module_version": "1.5.0",
            "_model_name": "DescriptionStyleModel",
            "_view_count": null,
            "_view_module": "@jupyter-widgets/base",
            "_view_module_version": "1.2.0",
            "_view_name": "StyleView",
            "description_width": ""
          }
        },
        "9920badc373e40f3baedcf8df138d7c5": {
          "model_module": "@jupyter-widgets/base",
          "model_name": "LayoutModel",
          "model_module_version": "1.2.0",
          "state": {
            "_model_module": "@jupyter-widgets/base",
            "_model_module_version": "1.2.0",
            "_model_name": "LayoutModel",
            "_view_count": null,
            "_view_module": "@jupyter-widgets/base",
            "_view_module_version": "1.2.0",
            "_view_name": "LayoutView",
            "align_content": null,
            "align_items": null,
            "align_self": null,
            "border": null,
            "bottom": null,
            "display": null,
            "flex": null,
            "flex_flow": null,
            "grid_area": null,
            "grid_auto_columns": null,
            "grid_auto_flow": null,
            "grid_auto_rows": null,
            "grid_column": null,
            "grid_gap": null,
            "grid_row": null,
            "grid_template_areas": null,
            "grid_template_columns": null,
            "grid_template_rows": null,
            "height": null,
            "justify_content": null,
            "justify_items": null,
            "left": null,
            "margin": null,
            "max_height": null,
            "max_width": null,
            "min_height": null,
            "min_width": null,
            "object_fit": null,
            "object_position": null,
            "order": null,
            "overflow": null,
            "overflow_x": null,
            "overflow_y": null,
            "padding": null,
            "right": null,
            "top": null,
            "visibility": null,
            "width": null
          }
        },
        "7b7c1c12d7854f1dbfce2762dcc1a1af": {
          "model_module": "@jupyter-widgets/controls",
          "model_name": "ProgressStyleModel",
          "model_module_version": "1.5.0",
          "state": {
            "_model_module": "@jupyter-widgets/controls",
            "_model_module_version": "1.5.0",
            "_model_name": "ProgressStyleModel",
            "_view_count": null,
            "_view_module": "@jupyter-widgets/base",
            "_view_module_version": "1.2.0",
            "_view_name": "StyleView",
            "bar_color": null,
            "description_width": ""
          }
        },
        "815273ba70db441fa0e91b0e36c9f8e7": {
          "model_module": "@jupyter-widgets/base",
          "model_name": "LayoutModel",
          "model_module_version": "1.2.0",
          "state": {
            "_model_module": "@jupyter-widgets/base",
            "_model_module_version": "1.2.0",
            "_model_name": "LayoutModel",
            "_view_count": null,
            "_view_module": "@jupyter-widgets/base",
            "_view_module_version": "1.2.0",
            "_view_name": "LayoutView",
            "align_content": null,
            "align_items": null,
            "align_self": null,
            "border": null,
            "bottom": null,
            "display": null,
            "flex": null,
            "flex_flow": null,
            "grid_area": null,
            "grid_auto_columns": null,
            "grid_auto_flow": null,
            "grid_auto_rows": null,
            "grid_column": null,
            "grid_gap": null,
            "grid_row": null,
            "grid_template_areas": null,
            "grid_template_columns": null,
            "grid_template_rows": null,
            "height": null,
            "justify_content": null,
            "justify_items": null,
            "left": null,
            "margin": null,
            "max_height": null,
            "max_width": null,
            "min_height": null,
            "min_width": null,
            "object_fit": null,
            "object_position": null,
            "order": null,
            "overflow": null,
            "overflow_x": null,
            "overflow_y": null,
            "padding": null,
            "right": null,
            "top": null,
            "visibility": null,
            "width": null
          }
        },
        "90a348e830d3421d899c57e762da2afa": {
          "model_module": "@jupyter-widgets/controls",
          "model_name": "DescriptionStyleModel",
          "model_module_version": "1.5.0",
          "state": {
            "_model_module": "@jupyter-widgets/controls",
            "_model_module_version": "1.5.0",
            "_model_name": "DescriptionStyleModel",
            "_view_count": null,
            "_view_module": "@jupyter-widgets/base",
            "_view_module_version": "1.2.0",
            "_view_name": "StyleView",
            "description_width": ""
          }
        },
        "139601a4469f4387a3dd00a9e580139f": {
          "model_module": "@jupyter-widgets/controls",
          "model_name": "HBoxModel",
          "model_module_version": "1.5.0",
          "state": {
            "_dom_classes": [],
            "_model_module": "@jupyter-widgets/controls",
            "_model_module_version": "1.5.0",
            "_model_name": "HBoxModel",
            "_view_count": null,
            "_view_module": "@jupyter-widgets/controls",
            "_view_module_version": "1.5.0",
            "_view_name": "HBoxView",
            "box_style": "",
            "children": [
              "IPY_MODEL_231ec5a5fa044418b186eb1adc82c377",
              "IPY_MODEL_5c8dc514a0c74d1e8560cae82c8686b0",
              "IPY_MODEL_62e2ae3d181141999a04e0c98ffca91b"
            ],
            "layout": "IPY_MODEL_7874b33f01b54bd8a0fb80cbdccec1bf"
          }
        },
        "231ec5a5fa044418b186eb1adc82c377": {
          "model_module": "@jupyter-widgets/controls",
          "model_name": "HTMLModel",
          "model_module_version": "1.5.0",
          "state": {
            "_dom_classes": [],
            "_model_module": "@jupyter-widgets/controls",
            "_model_module_version": "1.5.0",
            "_model_name": "HTMLModel",
            "_view_count": null,
            "_view_module": "@jupyter-widgets/controls",
            "_view_module_version": "1.5.0",
            "_view_name": "HTMLView",
            "description": "",
            "description_tooltip": null,
            "layout": "IPY_MODEL_23e316152d0f440a8d61a344c5b5bb02",
            "placeholder": "​",
            "style": "IPY_MODEL_12f6252c6fe84551a195df01253c0d5b",
            "value": "merges.txt: 100%"
          }
        },
        "5c8dc514a0c74d1e8560cae82c8686b0": {
          "model_module": "@jupyter-widgets/controls",
          "model_name": "FloatProgressModel",
          "model_module_version": "1.5.0",
          "state": {
            "_dom_classes": [],
            "_model_module": "@jupyter-widgets/controls",
            "_model_module_version": "1.5.0",
            "_model_name": "FloatProgressModel",
            "_view_count": null,
            "_view_module": "@jupyter-widgets/controls",
            "_view_module_version": "1.5.0",
            "_view_name": "ProgressView",
            "bar_style": "success",
            "description": "",
            "description_tooltip": null,
            "layout": "IPY_MODEL_4ca169d4d6244b4ea0a89a23f077fe1b",
            "max": 456318,
            "min": 0,
            "orientation": "horizontal",
            "style": "IPY_MODEL_558e4a9e2da64fe4a111222a650fb9b5",
            "value": 456318
          }
        },
        "62e2ae3d181141999a04e0c98ffca91b": {
          "model_module": "@jupyter-widgets/controls",
          "model_name": "HTMLModel",
          "model_module_version": "1.5.0",
          "state": {
            "_dom_classes": [],
            "_model_module": "@jupyter-widgets/controls",
            "_model_module_version": "1.5.0",
            "_model_name": "HTMLModel",
            "_view_count": null,
            "_view_module": "@jupyter-widgets/controls",
            "_view_module_version": "1.5.0",
            "_view_name": "HTMLView",
            "description": "",
            "description_tooltip": null,
            "layout": "IPY_MODEL_d5dad80984c541f38cfc3a2f05e1861e",
            "placeholder": "​",
            "style": "IPY_MODEL_5acdbfb8f2aa4d0c80487b8ae8f6ef56",
            "value": " 456k/456k [00:00&lt;00:00, 6.44MB/s]"
          }
        },
        "7874b33f01b54bd8a0fb80cbdccec1bf": {
          "model_module": "@jupyter-widgets/base",
          "model_name": "LayoutModel",
          "model_module_version": "1.2.0",
          "state": {
            "_model_module": "@jupyter-widgets/base",
            "_model_module_version": "1.2.0",
            "_model_name": "LayoutModel",
            "_view_count": null,
            "_view_module": "@jupyter-widgets/base",
            "_view_module_version": "1.2.0",
            "_view_name": "LayoutView",
            "align_content": null,
            "align_items": null,
            "align_self": null,
            "border": null,
            "bottom": null,
            "display": null,
            "flex": null,
            "flex_flow": null,
            "grid_area": null,
            "grid_auto_columns": null,
            "grid_auto_flow": null,
            "grid_auto_rows": null,
            "grid_column": null,
            "grid_gap": null,
            "grid_row": null,
            "grid_template_areas": null,
            "grid_template_columns": null,
            "grid_template_rows": null,
            "height": null,
            "justify_content": null,
            "justify_items": null,
            "left": null,
            "margin": null,
            "max_height": null,
            "max_width": null,
            "min_height": null,
            "min_width": null,
            "object_fit": null,
            "object_position": null,
            "order": null,
            "overflow": null,
            "overflow_x": null,
            "overflow_y": null,
            "padding": null,
            "right": null,
            "top": null,
            "visibility": null,
            "width": null
          }
        },
        "23e316152d0f440a8d61a344c5b5bb02": {
          "model_module": "@jupyter-widgets/base",
          "model_name": "LayoutModel",
          "model_module_version": "1.2.0",
          "state": {
            "_model_module": "@jupyter-widgets/base",
            "_model_module_version": "1.2.0",
            "_model_name": "LayoutModel",
            "_view_count": null,
            "_view_module": "@jupyter-widgets/base",
            "_view_module_version": "1.2.0",
            "_view_name": "LayoutView",
            "align_content": null,
            "align_items": null,
            "align_self": null,
            "border": null,
            "bottom": null,
            "display": null,
            "flex": null,
            "flex_flow": null,
            "grid_area": null,
            "grid_auto_columns": null,
            "grid_auto_flow": null,
            "grid_auto_rows": null,
            "grid_column": null,
            "grid_gap": null,
            "grid_row": null,
            "grid_template_areas": null,
            "grid_template_columns": null,
            "grid_template_rows": null,
            "height": null,
            "justify_content": null,
            "justify_items": null,
            "left": null,
            "margin": null,
            "max_height": null,
            "max_width": null,
            "min_height": null,
            "min_width": null,
            "object_fit": null,
            "object_position": null,
            "order": null,
            "overflow": null,
            "overflow_x": null,
            "overflow_y": null,
            "padding": null,
            "right": null,
            "top": null,
            "visibility": null,
            "width": null
          }
        },
        "12f6252c6fe84551a195df01253c0d5b": {
          "model_module": "@jupyter-widgets/controls",
          "model_name": "DescriptionStyleModel",
          "model_module_version": "1.5.0",
          "state": {
            "_model_module": "@jupyter-widgets/controls",
            "_model_module_version": "1.5.0",
            "_model_name": "DescriptionStyleModel",
            "_view_count": null,
            "_view_module": "@jupyter-widgets/base",
            "_view_module_version": "1.2.0",
            "_view_name": "StyleView",
            "description_width": ""
          }
        },
        "4ca169d4d6244b4ea0a89a23f077fe1b": {
          "model_module": "@jupyter-widgets/base",
          "model_name": "LayoutModel",
          "model_module_version": "1.2.0",
          "state": {
            "_model_module": "@jupyter-widgets/base",
            "_model_module_version": "1.2.0",
            "_model_name": "LayoutModel",
            "_view_count": null,
            "_view_module": "@jupyter-widgets/base",
            "_view_module_version": "1.2.0",
            "_view_name": "LayoutView",
            "align_content": null,
            "align_items": null,
            "align_self": null,
            "border": null,
            "bottom": null,
            "display": null,
            "flex": null,
            "flex_flow": null,
            "grid_area": null,
            "grid_auto_columns": null,
            "grid_auto_flow": null,
            "grid_auto_rows": null,
            "grid_column": null,
            "grid_gap": null,
            "grid_row": null,
            "grid_template_areas": null,
            "grid_template_columns": null,
            "grid_template_rows": null,
            "height": null,
            "justify_content": null,
            "justify_items": null,
            "left": null,
            "margin": null,
            "max_height": null,
            "max_width": null,
            "min_height": null,
            "min_width": null,
            "object_fit": null,
            "object_position": null,
            "order": null,
            "overflow": null,
            "overflow_x": null,
            "overflow_y": null,
            "padding": null,
            "right": null,
            "top": null,
            "visibility": null,
            "width": null
          }
        },
        "558e4a9e2da64fe4a111222a650fb9b5": {
          "model_module": "@jupyter-widgets/controls",
          "model_name": "ProgressStyleModel",
          "model_module_version": "1.5.0",
          "state": {
            "_model_module": "@jupyter-widgets/controls",
            "_model_module_version": "1.5.0",
            "_model_name": "ProgressStyleModel",
            "_view_count": null,
            "_view_module": "@jupyter-widgets/base",
            "_view_module_version": "1.2.0",
            "_view_name": "StyleView",
            "bar_color": null,
            "description_width": ""
          }
        },
        "d5dad80984c541f38cfc3a2f05e1861e": {
          "model_module": "@jupyter-widgets/base",
          "model_name": "LayoutModel",
          "model_module_version": "1.2.0",
          "state": {
            "_model_module": "@jupyter-widgets/base",
            "_model_module_version": "1.2.0",
            "_model_name": "LayoutModel",
            "_view_count": null,
            "_view_module": "@jupyter-widgets/base",
            "_view_module_version": "1.2.0",
            "_view_name": "LayoutView",
            "align_content": null,
            "align_items": null,
            "align_self": null,
            "border": null,
            "bottom": null,
            "display": null,
            "flex": null,
            "flex_flow": null,
            "grid_area": null,
            "grid_auto_columns": null,
            "grid_auto_flow": null,
            "grid_auto_rows": null,
            "grid_column": null,
            "grid_gap": null,
            "grid_row": null,
            "grid_template_areas": null,
            "grid_template_columns": null,
            "grid_template_rows": null,
            "height": null,
            "justify_content": null,
            "justify_items": null,
            "left": null,
            "margin": null,
            "max_height": null,
            "max_width": null,
            "min_height": null,
            "min_width": null,
            "object_fit": null,
            "object_position": null,
            "order": null,
            "overflow": null,
            "overflow_x": null,
            "overflow_y": null,
            "padding": null,
            "right": null,
            "top": null,
            "visibility": null,
            "width": null
          }
        },
        "5acdbfb8f2aa4d0c80487b8ae8f6ef56": {
          "model_module": "@jupyter-widgets/controls",
          "model_name": "DescriptionStyleModel",
          "model_module_version": "1.5.0",
          "state": {
            "_model_module": "@jupyter-widgets/controls",
            "_model_module_version": "1.5.0",
            "_model_name": "DescriptionStyleModel",
            "_view_count": null,
            "_view_module": "@jupyter-widgets/base",
            "_view_module_version": "1.2.0",
            "_view_name": "StyleView",
            "description_width": ""
          }
        },
        "b5954ea522964ca0a2884406b07cd33b": {
          "model_module": "@jupyter-widgets/controls",
          "model_name": "HBoxModel",
          "model_module_version": "1.5.0",
          "state": {
            "_dom_classes": [],
            "_model_module": "@jupyter-widgets/controls",
            "_model_module_version": "1.5.0",
            "_model_name": "HBoxModel",
            "_view_count": null,
            "_view_module": "@jupyter-widgets/controls",
            "_view_module_version": "1.5.0",
            "_view_name": "HBoxView",
            "box_style": "",
            "children": [
              "IPY_MODEL_202ada94537245628aed900fd4ee2011",
              "IPY_MODEL_a26d1287d7e64ed88676167802690b9b",
              "IPY_MODEL_dcead0f71d7b45ac8956a27158ec0d06"
            ],
            "layout": "IPY_MODEL_5ff5828bdae5444aa6c8515872ad12be"
          }
        },
        "202ada94537245628aed900fd4ee2011": {
          "model_module": "@jupyter-widgets/controls",
          "model_name": "HTMLModel",
          "model_module_version": "1.5.0",
          "state": {
            "_dom_classes": [],
            "_model_module": "@jupyter-widgets/controls",
            "_model_module_version": "1.5.0",
            "_model_name": "HTMLModel",
            "_view_count": null,
            "_view_module": "@jupyter-widgets/controls",
            "_view_module_version": "1.5.0",
            "_view_name": "HTMLView",
            "description": "",
            "description_tooltip": null,
            "layout": "IPY_MODEL_3ebef62b2d544c97a2d687a38ba788a0",
            "placeholder": "​",
            "style": "IPY_MODEL_c3f14dafc7984796a4566e7edfd95467",
            "value": "tokenizer.json: 100%"
          }
        },
        "a26d1287d7e64ed88676167802690b9b": {
          "model_module": "@jupyter-widgets/controls",
          "model_name": "FloatProgressModel",
          "model_module_version": "1.5.0",
          "state": {
            "_dom_classes": [],
            "_model_module": "@jupyter-widgets/controls",
            "_model_module_version": "1.5.0",
            "_model_name": "FloatProgressModel",
            "_view_count": null,
            "_view_module": "@jupyter-widgets/controls",
            "_view_module_version": "1.5.0",
            "_view_name": "ProgressView",
            "bar_style": "success",
            "description": "",
            "description_tooltip": null,
            "layout": "IPY_MODEL_d62fdd873eef4ae488a98b39ac7fa2b4",
            "max": 1355256,
            "min": 0,
            "orientation": "horizontal",
            "style": "IPY_MODEL_295fe331f57a46119d0ad3599722a14a",
            "value": 1355256
          }
        },
        "dcead0f71d7b45ac8956a27158ec0d06": {
          "model_module": "@jupyter-widgets/controls",
          "model_name": "HTMLModel",
          "model_module_version": "1.5.0",
          "state": {
            "_dom_classes": [],
            "_model_module": "@jupyter-widgets/controls",
            "_model_module_version": "1.5.0",
            "_model_name": "HTMLModel",
            "_view_count": null,
            "_view_module": "@jupyter-widgets/controls",
            "_view_module_version": "1.5.0",
            "_view_name": "HTMLView",
            "description": "",
            "description_tooltip": null,
            "layout": "IPY_MODEL_0fef7f12b5a04be2bb83ded32e2a4fde",
            "placeholder": "​",
            "style": "IPY_MODEL_061cf5ef850f42d8bf908b146169c007",
            "value": " 1.36M/1.36M [00:00&lt;00:00, 11.6MB/s]"
          }
        },
        "5ff5828bdae5444aa6c8515872ad12be": {
          "model_module": "@jupyter-widgets/base",
          "model_name": "LayoutModel",
          "model_module_version": "1.2.0",
          "state": {
            "_model_module": "@jupyter-widgets/base",
            "_model_module_version": "1.2.0",
            "_model_name": "LayoutModel",
            "_view_count": null,
            "_view_module": "@jupyter-widgets/base",
            "_view_module_version": "1.2.0",
            "_view_name": "LayoutView",
            "align_content": null,
            "align_items": null,
            "align_self": null,
            "border": null,
            "bottom": null,
            "display": null,
            "flex": null,
            "flex_flow": null,
            "grid_area": null,
            "grid_auto_columns": null,
            "grid_auto_flow": null,
            "grid_auto_rows": null,
            "grid_column": null,
            "grid_gap": null,
            "grid_row": null,
            "grid_template_areas": null,
            "grid_template_columns": null,
            "grid_template_rows": null,
            "height": null,
            "justify_content": null,
            "justify_items": null,
            "left": null,
            "margin": null,
            "max_height": null,
            "max_width": null,
            "min_height": null,
            "min_width": null,
            "object_fit": null,
            "object_position": null,
            "order": null,
            "overflow": null,
            "overflow_x": null,
            "overflow_y": null,
            "padding": null,
            "right": null,
            "top": null,
            "visibility": null,
            "width": null
          }
        },
        "3ebef62b2d544c97a2d687a38ba788a0": {
          "model_module": "@jupyter-widgets/base",
          "model_name": "LayoutModel",
          "model_module_version": "1.2.0",
          "state": {
            "_model_module": "@jupyter-widgets/base",
            "_model_module_version": "1.2.0",
            "_model_name": "LayoutModel",
            "_view_count": null,
            "_view_module": "@jupyter-widgets/base",
            "_view_module_version": "1.2.0",
            "_view_name": "LayoutView",
            "align_content": null,
            "align_items": null,
            "align_self": null,
            "border": null,
            "bottom": null,
            "display": null,
            "flex": null,
            "flex_flow": null,
            "grid_area": null,
            "grid_auto_columns": null,
            "grid_auto_flow": null,
            "grid_auto_rows": null,
            "grid_column": null,
            "grid_gap": null,
            "grid_row": null,
            "grid_template_areas": null,
            "grid_template_columns": null,
            "grid_template_rows": null,
            "height": null,
            "justify_content": null,
            "justify_items": null,
            "left": null,
            "margin": null,
            "max_height": null,
            "max_width": null,
            "min_height": null,
            "min_width": null,
            "object_fit": null,
            "object_position": null,
            "order": null,
            "overflow": null,
            "overflow_x": null,
            "overflow_y": null,
            "padding": null,
            "right": null,
            "top": null,
            "visibility": null,
            "width": null
          }
        },
        "c3f14dafc7984796a4566e7edfd95467": {
          "model_module": "@jupyter-widgets/controls",
          "model_name": "DescriptionStyleModel",
          "model_module_version": "1.5.0",
          "state": {
            "_model_module": "@jupyter-widgets/controls",
            "_model_module_version": "1.5.0",
            "_model_name": "DescriptionStyleModel",
            "_view_count": null,
            "_view_module": "@jupyter-widgets/base",
            "_view_module_version": "1.2.0",
            "_view_name": "StyleView",
            "description_width": ""
          }
        },
        "d62fdd873eef4ae488a98b39ac7fa2b4": {
          "model_module": "@jupyter-widgets/base",
          "model_name": "LayoutModel",
          "model_module_version": "1.2.0",
          "state": {
            "_model_module": "@jupyter-widgets/base",
            "_model_module_version": "1.2.0",
            "_model_name": "LayoutModel",
            "_view_count": null,
            "_view_module": "@jupyter-widgets/base",
            "_view_module_version": "1.2.0",
            "_view_name": "LayoutView",
            "align_content": null,
            "align_items": null,
            "align_self": null,
            "border": null,
            "bottom": null,
            "display": null,
            "flex": null,
            "flex_flow": null,
            "grid_area": null,
            "grid_auto_columns": null,
            "grid_auto_flow": null,
            "grid_auto_rows": null,
            "grid_column": null,
            "grid_gap": null,
            "grid_row": null,
            "grid_template_areas": null,
            "grid_template_columns": null,
            "grid_template_rows": null,
            "height": null,
            "justify_content": null,
            "justify_items": null,
            "left": null,
            "margin": null,
            "max_height": null,
            "max_width": null,
            "min_height": null,
            "min_width": null,
            "object_fit": null,
            "object_position": null,
            "order": null,
            "overflow": null,
            "overflow_x": null,
            "overflow_y": null,
            "padding": null,
            "right": null,
            "top": null,
            "visibility": null,
            "width": null
          }
        },
        "295fe331f57a46119d0ad3599722a14a": {
          "model_module": "@jupyter-widgets/controls",
          "model_name": "ProgressStyleModel",
          "model_module_version": "1.5.0",
          "state": {
            "_model_module": "@jupyter-widgets/controls",
            "_model_module_version": "1.5.0",
            "_model_name": "ProgressStyleModel",
            "_view_count": null,
            "_view_module": "@jupyter-widgets/base",
            "_view_module_version": "1.2.0",
            "_view_name": "StyleView",
            "bar_color": null,
            "description_width": ""
          }
        },
        "0fef7f12b5a04be2bb83ded32e2a4fde": {
          "model_module": "@jupyter-widgets/base",
          "model_name": "LayoutModel",
          "model_module_version": "1.2.0",
          "state": {
            "_model_module": "@jupyter-widgets/base",
            "_model_module_version": "1.2.0",
            "_model_name": "LayoutModel",
            "_view_count": null,
            "_view_module": "@jupyter-widgets/base",
            "_view_module_version": "1.2.0",
            "_view_name": "LayoutView",
            "align_content": null,
            "align_items": null,
            "align_self": null,
            "border": null,
            "bottom": null,
            "display": null,
            "flex": null,
            "flex_flow": null,
            "grid_area": null,
            "grid_auto_columns": null,
            "grid_auto_flow": null,
            "grid_auto_rows": null,
            "grid_column": null,
            "grid_gap": null,
            "grid_row": null,
            "grid_template_areas": null,
            "grid_template_columns": null,
            "grid_template_rows": null,
            "height": null,
            "justify_content": null,
            "justify_items": null,
            "left": null,
            "margin": null,
            "max_height": null,
            "max_width": null,
            "min_height": null,
            "min_width": null,
            "object_fit": null,
            "object_position": null,
            "order": null,
            "overflow": null,
            "overflow_x": null,
            "overflow_y": null,
            "padding": null,
            "right": null,
            "top": null,
            "visibility": null,
            "width": null
          }
        },
        "061cf5ef850f42d8bf908b146169c007": {
          "model_module": "@jupyter-widgets/controls",
          "model_name": "DescriptionStyleModel",
          "model_module_version": "1.5.0",
          "state": {
            "_model_module": "@jupyter-widgets/controls",
            "_model_module_version": "1.5.0",
            "_model_name": "DescriptionStyleModel",
            "_view_count": null,
            "_view_module": "@jupyter-widgets/base",
            "_view_module_version": "1.2.0",
            "_view_name": "StyleView",
            "description_width": ""
          }
        },
        "c977f95a9c454c45ac44381dd2fc8c64": {
          "model_module": "@jupyter-widgets/controls",
          "model_name": "HBoxModel",
          "model_module_version": "1.5.0",
          "state": {
            "_dom_classes": [],
            "_model_module": "@jupyter-widgets/controls",
            "_model_module_version": "1.5.0",
            "_model_name": "HBoxModel",
            "_view_count": null,
            "_view_module": "@jupyter-widgets/controls",
            "_view_module_version": "1.5.0",
            "_view_name": "HBoxView",
            "box_style": "",
            "children": [
              "IPY_MODEL_55568f5d6e6f4e8ba5b9ce2c2d95e603",
              "IPY_MODEL_d54587c876bd461f8314e5a68c486351",
              "IPY_MODEL_724dc3c2fd624fbfa53a54e7f62267d8"
            ],
            "layout": "IPY_MODEL_0a102c0f27ac41ce83270aa13bcd45a4"
          }
        },
        "55568f5d6e6f4e8ba5b9ce2c2d95e603": {
          "model_module": "@jupyter-widgets/controls",
          "model_name": "HTMLModel",
          "model_module_version": "1.5.0",
          "state": {
            "_dom_classes": [],
            "_model_module": "@jupyter-widgets/controls",
            "_model_module_version": "1.5.0",
            "_model_name": "HTMLModel",
            "_view_count": null,
            "_view_module": "@jupyter-widgets/controls",
            "_view_module_version": "1.5.0",
            "_view_name": "HTMLView",
            "description": "",
            "description_tooltip": null,
            "layout": "IPY_MODEL_bb6775e8ffcc4c969a5efa93928a6c09",
            "placeholder": "​",
            "style": "IPY_MODEL_ab819c34f5c54760a3126c9d7082de5d",
            "value": "config.json: 100%"
          }
        },
        "d54587c876bd461f8314e5a68c486351": {
          "model_module": "@jupyter-widgets/controls",
          "model_name": "FloatProgressModel",
          "model_module_version": "1.5.0",
          "state": {
            "_dom_classes": [],
            "_model_module": "@jupyter-widgets/controls",
            "_model_module_version": "1.5.0",
            "_model_name": "FloatProgressModel",
            "_view_count": null,
            "_view_module": "@jupyter-widgets/controls",
            "_view_module_version": "1.5.0",
            "_view_name": "ProgressView",
            "bar_style": "success",
            "description": "",
            "description_tooltip": null,
            "layout": "IPY_MODEL_387939026ef34171be8f25f406863600",
            "max": 665,
            "min": 0,
            "orientation": "horizontal",
            "style": "IPY_MODEL_7afa16c9cb974266b36e3c8270330b1d",
            "value": 665
          }
        },
        "724dc3c2fd624fbfa53a54e7f62267d8": {
          "model_module": "@jupyter-widgets/controls",
          "model_name": "HTMLModel",
          "model_module_version": "1.5.0",
          "state": {
            "_dom_classes": [],
            "_model_module": "@jupyter-widgets/controls",
            "_model_module_version": "1.5.0",
            "_model_name": "HTMLModel",
            "_view_count": null,
            "_view_module": "@jupyter-widgets/controls",
            "_view_module_version": "1.5.0",
            "_view_name": "HTMLView",
            "description": "",
            "description_tooltip": null,
            "layout": "IPY_MODEL_6b15433c775e4505ab3b958c33f8adc2",
            "placeholder": "​",
            "style": "IPY_MODEL_e3982e839e4e4a58823da6b5dd7a0cb5",
            "value": " 665/665 [00:00&lt;00:00, 9.91kB/s]"
          }
        },
        "0a102c0f27ac41ce83270aa13bcd45a4": {
          "model_module": "@jupyter-widgets/base",
          "model_name": "LayoutModel",
          "model_module_version": "1.2.0",
          "state": {
            "_model_module": "@jupyter-widgets/base",
            "_model_module_version": "1.2.0",
            "_model_name": "LayoutModel",
            "_view_count": null,
            "_view_module": "@jupyter-widgets/base",
            "_view_module_version": "1.2.0",
            "_view_name": "LayoutView",
            "align_content": null,
            "align_items": null,
            "align_self": null,
            "border": null,
            "bottom": null,
            "display": null,
            "flex": null,
            "flex_flow": null,
            "grid_area": null,
            "grid_auto_columns": null,
            "grid_auto_flow": null,
            "grid_auto_rows": null,
            "grid_column": null,
            "grid_gap": null,
            "grid_row": null,
            "grid_template_areas": null,
            "grid_template_columns": null,
            "grid_template_rows": null,
            "height": null,
            "justify_content": null,
            "justify_items": null,
            "left": null,
            "margin": null,
            "max_height": null,
            "max_width": null,
            "min_height": null,
            "min_width": null,
            "object_fit": null,
            "object_position": null,
            "order": null,
            "overflow": null,
            "overflow_x": null,
            "overflow_y": null,
            "padding": null,
            "right": null,
            "top": null,
            "visibility": null,
            "width": null
          }
        },
        "bb6775e8ffcc4c969a5efa93928a6c09": {
          "model_module": "@jupyter-widgets/base",
          "model_name": "LayoutModel",
          "model_module_version": "1.2.0",
          "state": {
            "_model_module": "@jupyter-widgets/base",
            "_model_module_version": "1.2.0",
            "_model_name": "LayoutModel",
            "_view_count": null,
            "_view_module": "@jupyter-widgets/base",
            "_view_module_version": "1.2.0",
            "_view_name": "LayoutView",
            "align_content": null,
            "align_items": null,
            "align_self": null,
            "border": null,
            "bottom": null,
            "display": null,
            "flex": null,
            "flex_flow": null,
            "grid_area": null,
            "grid_auto_columns": null,
            "grid_auto_flow": null,
            "grid_auto_rows": null,
            "grid_column": null,
            "grid_gap": null,
            "grid_row": null,
            "grid_template_areas": null,
            "grid_template_columns": null,
            "grid_template_rows": null,
            "height": null,
            "justify_content": null,
            "justify_items": null,
            "left": null,
            "margin": null,
            "max_height": null,
            "max_width": null,
            "min_height": null,
            "min_width": null,
            "object_fit": null,
            "object_position": null,
            "order": null,
            "overflow": null,
            "overflow_x": null,
            "overflow_y": null,
            "padding": null,
            "right": null,
            "top": null,
            "visibility": null,
            "width": null
          }
        },
        "ab819c34f5c54760a3126c9d7082de5d": {
          "model_module": "@jupyter-widgets/controls",
          "model_name": "DescriptionStyleModel",
          "model_module_version": "1.5.0",
          "state": {
            "_model_module": "@jupyter-widgets/controls",
            "_model_module_version": "1.5.0",
            "_model_name": "DescriptionStyleModel",
            "_view_count": null,
            "_view_module": "@jupyter-widgets/base",
            "_view_module_version": "1.2.0",
            "_view_name": "StyleView",
            "description_width": ""
          }
        },
        "387939026ef34171be8f25f406863600": {
          "model_module": "@jupyter-widgets/base",
          "model_name": "LayoutModel",
          "model_module_version": "1.2.0",
          "state": {
            "_model_module": "@jupyter-widgets/base",
            "_model_module_version": "1.2.0",
            "_model_name": "LayoutModel",
            "_view_count": null,
            "_view_module": "@jupyter-widgets/base",
            "_view_module_version": "1.2.0",
            "_view_name": "LayoutView",
            "align_content": null,
            "align_items": null,
            "align_self": null,
            "border": null,
            "bottom": null,
            "display": null,
            "flex": null,
            "flex_flow": null,
            "grid_area": null,
            "grid_auto_columns": null,
            "grid_auto_flow": null,
            "grid_auto_rows": null,
            "grid_column": null,
            "grid_gap": null,
            "grid_row": null,
            "grid_template_areas": null,
            "grid_template_columns": null,
            "grid_template_rows": null,
            "height": null,
            "justify_content": null,
            "justify_items": null,
            "left": null,
            "margin": null,
            "max_height": null,
            "max_width": null,
            "min_height": null,
            "min_width": null,
            "object_fit": null,
            "object_position": null,
            "order": null,
            "overflow": null,
            "overflow_x": null,
            "overflow_y": null,
            "padding": null,
            "right": null,
            "top": null,
            "visibility": null,
            "width": null
          }
        },
        "7afa16c9cb974266b36e3c8270330b1d": {
          "model_module": "@jupyter-widgets/controls",
          "model_name": "ProgressStyleModel",
          "model_module_version": "1.5.0",
          "state": {
            "_model_module": "@jupyter-widgets/controls",
            "_model_module_version": "1.5.0",
            "_model_name": "ProgressStyleModel",
            "_view_count": null,
            "_view_module": "@jupyter-widgets/base",
            "_view_module_version": "1.2.0",
            "_view_name": "StyleView",
            "bar_color": null,
            "description_width": ""
          }
        },
        "6b15433c775e4505ab3b958c33f8adc2": {
          "model_module": "@jupyter-widgets/base",
          "model_name": "LayoutModel",
          "model_module_version": "1.2.0",
          "state": {
            "_model_module": "@jupyter-widgets/base",
            "_model_module_version": "1.2.0",
            "_model_name": "LayoutModel",
            "_view_count": null,
            "_view_module": "@jupyter-widgets/base",
            "_view_module_version": "1.2.0",
            "_view_name": "LayoutView",
            "align_content": null,
            "align_items": null,
            "align_self": null,
            "border": null,
            "bottom": null,
            "display": null,
            "flex": null,
            "flex_flow": null,
            "grid_area": null,
            "grid_auto_columns": null,
            "grid_auto_flow": null,
            "grid_auto_rows": null,
            "grid_column": null,
            "grid_gap": null,
            "grid_row": null,
            "grid_template_areas": null,
            "grid_template_columns": null,
            "grid_template_rows": null,
            "height": null,
            "justify_content": null,
            "justify_items": null,
            "left": null,
            "margin": null,
            "max_height": null,
            "max_width": null,
            "min_height": null,
            "min_width": null,
            "object_fit": null,
            "object_position": null,
            "order": null,
            "overflow": null,
            "overflow_x": null,
            "overflow_y": null,
            "padding": null,
            "right": null,
            "top": null,
            "visibility": null,
            "width": null
          }
        },
        "e3982e839e4e4a58823da6b5dd7a0cb5": {
          "model_module": "@jupyter-widgets/controls",
          "model_name": "DescriptionStyleModel",
          "model_module_version": "1.5.0",
          "state": {
            "_model_module": "@jupyter-widgets/controls",
            "_model_module_version": "1.5.0",
            "_model_name": "DescriptionStyleModel",
            "_view_count": null,
            "_view_module": "@jupyter-widgets/base",
            "_view_module_version": "1.2.0",
            "_view_name": "StyleView",
            "description_width": ""
          }
        },
        "5a266863c78e4e48821a66dd2559fbc0": {
          "model_module": "@jupyter-widgets/controls",
          "model_name": "HBoxModel",
          "model_module_version": "1.5.0",
          "state": {
            "_dom_classes": [],
            "_model_module": "@jupyter-widgets/controls",
            "_model_module_version": "1.5.0",
            "_model_name": "HBoxModel",
            "_view_count": null,
            "_view_module": "@jupyter-widgets/controls",
            "_view_module_version": "1.5.0",
            "_view_name": "HBoxView",
            "box_style": "",
            "children": [
              "IPY_MODEL_dc956d6438c54eed9cd310bc33e71e22",
              "IPY_MODEL_289bf401a5b1425ea9507fb52c48bcd1",
              "IPY_MODEL_4cff50aca29947398394a3a3bcb87b28"
            ],
            "layout": "IPY_MODEL_2654904b7e244205baeaf9357ed80fc6"
          }
        },
        "dc956d6438c54eed9cd310bc33e71e22": {
          "model_module": "@jupyter-widgets/controls",
          "model_name": "HTMLModel",
          "model_module_version": "1.5.0",
          "state": {
            "_dom_classes": [],
            "_model_module": "@jupyter-widgets/controls",
            "_model_module_version": "1.5.0",
            "_model_name": "HTMLModel",
            "_view_count": null,
            "_view_module": "@jupyter-widgets/controls",
            "_view_module_version": "1.5.0",
            "_view_name": "HTMLView",
            "description": "",
            "description_tooltip": null,
            "layout": "IPY_MODEL_44a250dfc6654e49b1d9b3e49030a69c",
            "placeholder": "​",
            "style": "IPY_MODEL_6fd4e54dab3145a48a82b6da353efd75",
            "value": "model.safetensors: 100%"
          }
        },
        "289bf401a5b1425ea9507fb52c48bcd1": {
          "model_module": "@jupyter-widgets/controls",
          "model_name": "FloatProgressModel",
          "model_module_version": "1.5.0",
          "state": {
            "_dom_classes": [],
            "_model_module": "@jupyter-widgets/controls",
            "_model_module_version": "1.5.0",
            "_model_name": "FloatProgressModel",
            "_view_count": null,
            "_view_module": "@jupyter-widgets/controls",
            "_view_module_version": "1.5.0",
            "_view_name": "ProgressView",
            "bar_style": "success",
            "description": "",
            "description_tooltip": null,
            "layout": "IPY_MODEL_bf9849a520de43e29ff0ba8409c969f8",
            "max": 548105171,
            "min": 0,
            "orientation": "horizontal",
            "style": "IPY_MODEL_b51f2dcfd75b475b96b39d5530c18025",
            "value": 548105171
          }
        },
        "4cff50aca29947398394a3a3bcb87b28": {
          "model_module": "@jupyter-widgets/controls",
          "model_name": "HTMLModel",
          "model_module_version": "1.5.0",
          "state": {
            "_dom_classes": [],
            "_model_module": "@jupyter-widgets/controls",
            "_model_module_version": "1.5.0",
            "_model_name": "HTMLModel",
            "_view_count": null,
            "_view_module": "@jupyter-widgets/controls",
            "_view_module_version": "1.5.0",
            "_view_name": "HTMLView",
            "description": "",
            "description_tooltip": null,
            "layout": "IPY_MODEL_2e26d76df57b4f87b65589bed5cffd34",
            "placeholder": "​",
            "style": "IPY_MODEL_9862181e6f304cfeafd3da1a869b870c",
            "value": " 548M/548M [00:07&lt;00:00, 28.7MB/s]"
          }
        },
        "2654904b7e244205baeaf9357ed80fc6": {
          "model_module": "@jupyter-widgets/base",
          "model_name": "LayoutModel",
          "model_module_version": "1.2.0",
          "state": {
            "_model_module": "@jupyter-widgets/base",
            "_model_module_version": "1.2.0",
            "_model_name": "LayoutModel",
            "_view_count": null,
            "_view_module": "@jupyter-widgets/base",
            "_view_module_version": "1.2.0",
            "_view_name": "LayoutView",
            "align_content": null,
            "align_items": null,
            "align_self": null,
            "border": null,
            "bottom": null,
            "display": null,
            "flex": null,
            "flex_flow": null,
            "grid_area": null,
            "grid_auto_columns": null,
            "grid_auto_flow": null,
            "grid_auto_rows": null,
            "grid_column": null,
            "grid_gap": null,
            "grid_row": null,
            "grid_template_areas": null,
            "grid_template_columns": null,
            "grid_template_rows": null,
            "height": null,
            "justify_content": null,
            "justify_items": null,
            "left": null,
            "margin": null,
            "max_height": null,
            "max_width": null,
            "min_height": null,
            "min_width": null,
            "object_fit": null,
            "object_position": null,
            "order": null,
            "overflow": null,
            "overflow_x": null,
            "overflow_y": null,
            "padding": null,
            "right": null,
            "top": null,
            "visibility": null,
            "width": null
          }
        },
        "44a250dfc6654e49b1d9b3e49030a69c": {
          "model_module": "@jupyter-widgets/base",
          "model_name": "LayoutModel",
          "model_module_version": "1.2.0",
          "state": {
            "_model_module": "@jupyter-widgets/base",
            "_model_module_version": "1.2.0",
            "_model_name": "LayoutModel",
            "_view_count": null,
            "_view_module": "@jupyter-widgets/base",
            "_view_module_version": "1.2.0",
            "_view_name": "LayoutView",
            "align_content": null,
            "align_items": null,
            "align_self": null,
            "border": null,
            "bottom": null,
            "display": null,
            "flex": null,
            "flex_flow": null,
            "grid_area": null,
            "grid_auto_columns": null,
            "grid_auto_flow": null,
            "grid_auto_rows": null,
            "grid_column": null,
            "grid_gap": null,
            "grid_row": null,
            "grid_template_areas": null,
            "grid_template_columns": null,
            "grid_template_rows": null,
            "height": null,
            "justify_content": null,
            "justify_items": null,
            "left": null,
            "margin": null,
            "max_height": null,
            "max_width": null,
            "min_height": null,
            "min_width": null,
            "object_fit": null,
            "object_position": null,
            "order": null,
            "overflow": null,
            "overflow_x": null,
            "overflow_y": null,
            "padding": null,
            "right": null,
            "top": null,
            "visibility": null,
            "width": null
          }
        },
        "6fd4e54dab3145a48a82b6da353efd75": {
          "model_module": "@jupyter-widgets/controls",
          "model_name": "DescriptionStyleModel",
          "model_module_version": "1.5.0",
          "state": {
            "_model_module": "@jupyter-widgets/controls",
            "_model_module_version": "1.5.0",
            "_model_name": "DescriptionStyleModel",
            "_view_count": null,
            "_view_module": "@jupyter-widgets/base",
            "_view_module_version": "1.2.0",
            "_view_name": "StyleView",
            "description_width": ""
          }
        },
        "bf9849a520de43e29ff0ba8409c969f8": {
          "model_module": "@jupyter-widgets/base",
          "model_name": "LayoutModel",
          "model_module_version": "1.2.0",
          "state": {
            "_model_module": "@jupyter-widgets/base",
            "_model_module_version": "1.2.0",
            "_model_name": "LayoutModel",
            "_view_count": null,
            "_view_module": "@jupyter-widgets/base",
            "_view_module_version": "1.2.0",
            "_view_name": "LayoutView",
            "align_content": null,
            "align_items": null,
            "align_self": null,
            "border": null,
            "bottom": null,
            "display": null,
            "flex": null,
            "flex_flow": null,
            "grid_area": null,
            "grid_auto_columns": null,
            "grid_auto_flow": null,
            "grid_auto_rows": null,
            "grid_column": null,
            "grid_gap": null,
            "grid_row": null,
            "grid_template_areas": null,
            "grid_template_columns": null,
            "grid_template_rows": null,
            "height": null,
            "justify_content": null,
            "justify_items": null,
            "left": null,
            "margin": null,
            "max_height": null,
            "max_width": null,
            "min_height": null,
            "min_width": null,
            "object_fit": null,
            "object_position": null,
            "order": null,
            "overflow": null,
            "overflow_x": null,
            "overflow_y": null,
            "padding": null,
            "right": null,
            "top": null,
            "visibility": null,
            "width": null
          }
        },
        "b51f2dcfd75b475b96b39d5530c18025": {
          "model_module": "@jupyter-widgets/controls",
          "model_name": "ProgressStyleModel",
          "model_module_version": "1.5.0",
          "state": {
            "_model_module": "@jupyter-widgets/controls",
            "_model_module_version": "1.5.0",
            "_model_name": "ProgressStyleModel",
            "_view_count": null,
            "_view_module": "@jupyter-widgets/base",
            "_view_module_version": "1.2.0",
            "_view_name": "StyleView",
            "bar_color": null,
            "description_width": ""
          }
        },
        "2e26d76df57b4f87b65589bed5cffd34": {
          "model_module": "@jupyter-widgets/base",
          "model_name": "LayoutModel",
          "model_module_version": "1.2.0",
          "state": {
            "_model_module": "@jupyter-widgets/base",
            "_model_module_version": "1.2.0",
            "_model_name": "LayoutModel",
            "_view_count": null,
            "_view_module": "@jupyter-widgets/base",
            "_view_module_version": "1.2.0",
            "_view_name": "LayoutView",
            "align_content": null,
            "align_items": null,
            "align_self": null,
            "border": null,
            "bottom": null,
            "display": null,
            "flex": null,
            "flex_flow": null,
            "grid_area": null,
            "grid_auto_columns": null,
            "grid_auto_flow": null,
            "grid_auto_rows": null,
            "grid_column": null,
            "grid_gap": null,
            "grid_row": null,
            "grid_template_areas": null,
            "grid_template_columns": null,
            "grid_template_rows": null,
            "height": null,
            "justify_content": null,
            "justify_items": null,
            "left": null,
            "margin": null,
            "max_height": null,
            "max_width": null,
            "min_height": null,
            "min_width": null,
            "object_fit": null,
            "object_position": null,
            "order": null,
            "overflow": null,
            "overflow_x": null,
            "overflow_y": null,
            "padding": null,
            "right": null,
            "top": null,
            "visibility": null,
            "width": null
          }
        },
        "9862181e6f304cfeafd3da1a869b870c": {
          "model_module": "@jupyter-widgets/controls",
          "model_name": "DescriptionStyleModel",
          "model_module_version": "1.5.0",
          "state": {
            "_model_module": "@jupyter-widgets/controls",
            "_model_module_version": "1.5.0",
            "_model_name": "DescriptionStyleModel",
            "_view_count": null,
            "_view_module": "@jupyter-widgets/base",
            "_view_module_version": "1.2.0",
            "_view_name": "StyleView",
            "description_width": ""
          }
        },
        "2fc52ffbdfc64928b88e49d2f6ffc616": {
          "model_module": "@jupyter-widgets/controls",
          "model_name": "HBoxModel",
          "model_module_version": "1.5.0",
          "state": {
            "_dom_classes": [],
            "_model_module": "@jupyter-widgets/controls",
            "_model_module_version": "1.5.0",
            "_model_name": "HBoxModel",
            "_view_count": null,
            "_view_module": "@jupyter-widgets/controls",
            "_view_module_version": "1.5.0",
            "_view_name": "HBoxView",
            "box_style": "",
            "children": [
              "IPY_MODEL_e155d7e28d1948e5984d2214abc9dce9",
              "IPY_MODEL_75c6fe3fc57643cea35849faa037c51c",
              "IPY_MODEL_613915c955454324864694666c2880b8"
            ],
            "layout": "IPY_MODEL_46ec01ce8f2243f4b39022a5860d08fb"
          }
        },
        "e155d7e28d1948e5984d2214abc9dce9": {
          "model_module": "@jupyter-widgets/controls",
          "model_name": "HTMLModel",
          "model_module_version": "1.5.0",
          "state": {
            "_dom_classes": [],
            "_model_module": "@jupyter-widgets/controls",
            "_model_module_version": "1.5.0",
            "_model_name": "HTMLModel",
            "_view_count": null,
            "_view_module": "@jupyter-widgets/controls",
            "_view_module_version": "1.5.0",
            "_view_name": "HTMLView",
            "description": "",
            "description_tooltip": null,
            "layout": "IPY_MODEL_60929dcfc9e04a15aa1de8910b45f182",
            "placeholder": "​",
            "style": "IPY_MODEL_4832f7fb23034d18a488638d783ff060",
            "value": "generation_config.json: 100%"
          }
        },
        "75c6fe3fc57643cea35849faa037c51c": {
          "model_module": "@jupyter-widgets/controls",
          "model_name": "FloatProgressModel",
          "model_module_version": "1.5.0",
          "state": {
            "_dom_classes": [],
            "_model_module": "@jupyter-widgets/controls",
            "_model_module_version": "1.5.0",
            "_model_name": "FloatProgressModel",
            "_view_count": null,
            "_view_module": "@jupyter-widgets/controls",
            "_view_module_version": "1.5.0",
            "_view_name": "ProgressView",
            "bar_style": "success",
            "description": "",
            "description_tooltip": null,
            "layout": "IPY_MODEL_ec04340b9a4d4b4f8622377974d3525e",
            "max": 124,
            "min": 0,
            "orientation": "horizontal",
            "style": "IPY_MODEL_968b9e1678f84ed79a2d280b39d12dac",
            "value": 124
          }
        },
        "613915c955454324864694666c2880b8": {
          "model_module": "@jupyter-widgets/controls",
          "model_name": "HTMLModel",
          "model_module_version": "1.5.0",
          "state": {
            "_dom_classes": [],
            "_model_module": "@jupyter-widgets/controls",
            "_model_module_version": "1.5.0",
            "_model_name": "HTMLModel",
            "_view_count": null,
            "_view_module": "@jupyter-widgets/controls",
            "_view_module_version": "1.5.0",
            "_view_name": "HTMLView",
            "description": "",
            "description_tooltip": null,
            "layout": "IPY_MODEL_7f2a62d968934e64a52831d88bd63e22",
            "placeholder": "​",
            "style": "IPY_MODEL_980a02baac2d45a792162b9bfa167107",
            "value": " 124/124 [00:00&lt;00:00, 3.96kB/s]"
          }
        },
        "46ec01ce8f2243f4b39022a5860d08fb": {
          "model_module": "@jupyter-widgets/base",
          "model_name": "LayoutModel",
          "model_module_version": "1.2.0",
          "state": {
            "_model_module": "@jupyter-widgets/base",
            "_model_module_version": "1.2.0",
            "_model_name": "LayoutModel",
            "_view_count": null,
            "_view_module": "@jupyter-widgets/base",
            "_view_module_version": "1.2.0",
            "_view_name": "LayoutView",
            "align_content": null,
            "align_items": null,
            "align_self": null,
            "border": null,
            "bottom": null,
            "display": null,
            "flex": null,
            "flex_flow": null,
            "grid_area": null,
            "grid_auto_columns": null,
            "grid_auto_flow": null,
            "grid_auto_rows": null,
            "grid_column": null,
            "grid_gap": null,
            "grid_row": null,
            "grid_template_areas": null,
            "grid_template_columns": null,
            "grid_template_rows": null,
            "height": null,
            "justify_content": null,
            "justify_items": null,
            "left": null,
            "margin": null,
            "max_height": null,
            "max_width": null,
            "min_height": null,
            "min_width": null,
            "object_fit": null,
            "object_position": null,
            "order": null,
            "overflow": null,
            "overflow_x": null,
            "overflow_y": null,
            "padding": null,
            "right": null,
            "top": null,
            "visibility": null,
            "width": null
          }
        },
        "60929dcfc9e04a15aa1de8910b45f182": {
          "model_module": "@jupyter-widgets/base",
          "model_name": "LayoutModel",
          "model_module_version": "1.2.0",
          "state": {
            "_model_module": "@jupyter-widgets/base",
            "_model_module_version": "1.2.0",
            "_model_name": "LayoutModel",
            "_view_count": null,
            "_view_module": "@jupyter-widgets/base",
            "_view_module_version": "1.2.0",
            "_view_name": "LayoutView",
            "align_content": null,
            "align_items": null,
            "align_self": null,
            "border": null,
            "bottom": null,
            "display": null,
            "flex": null,
            "flex_flow": null,
            "grid_area": null,
            "grid_auto_columns": null,
            "grid_auto_flow": null,
            "grid_auto_rows": null,
            "grid_column": null,
            "grid_gap": null,
            "grid_row": null,
            "grid_template_areas": null,
            "grid_template_columns": null,
            "grid_template_rows": null,
            "height": null,
            "justify_content": null,
            "justify_items": null,
            "left": null,
            "margin": null,
            "max_height": null,
            "max_width": null,
            "min_height": null,
            "min_width": null,
            "object_fit": null,
            "object_position": null,
            "order": null,
            "overflow": null,
            "overflow_x": null,
            "overflow_y": null,
            "padding": null,
            "right": null,
            "top": null,
            "visibility": null,
            "width": null
          }
        },
        "4832f7fb23034d18a488638d783ff060": {
          "model_module": "@jupyter-widgets/controls",
          "model_name": "DescriptionStyleModel",
          "model_module_version": "1.5.0",
          "state": {
            "_model_module": "@jupyter-widgets/controls",
            "_model_module_version": "1.5.0",
            "_model_name": "DescriptionStyleModel",
            "_view_count": null,
            "_view_module": "@jupyter-widgets/base",
            "_view_module_version": "1.2.0",
            "_view_name": "StyleView",
            "description_width": ""
          }
        },
        "ec04340b9a4d4b4f8622377974d3525e": {
          "model_module": "@jupyter-widgets/base",
          "model_name": "LayoutModel",
          "model_module_version": "1.2.0",
          "state": {
            "_model_module": "@jupyter-widgets/base",
            "_model_module_version": "1.2.0",
            "_model_name": "LayoutModel",
            "_view_count": null,
            "_view_module": "@jupyter-widgets/base",
            "_view_module_version": "1.2.0",
            "_view_name": "LayoutView",
            "align_content": null,
            "align_items": null,
            "align_self": null,
            "border": null,
            "bottom": null,
            "display": null,
            "flex": null,
            "flex_flow": null,
            "grid_area": null,
            "grid_auto_columns": null,
            "grid_auto_flow": null,
            "grid_auto_rows": null,
            "grid_column": null,
            "grid_gap": null,
            "grid_row": null,
            "grid_template_areas": null,
            "grid_template_columns": null,
            "grid_template_rows": null,
            "height": null,
            "justify_content": null,
            "justify_items": null,
            "left": null,
            "margin": null,
            "max_height": null,
            "max_width": null,
            "min_height": null,
            "min_width": null,
            "object_fit": null,
            "object_position": null,
            "order": null,
            "overflow": null,
            "overflow_x": null,
            "overflow_y": null,
            "padding": null,
            "right": null,
            "top": null,
            "visibility": null,
            "width": null
          }
        },
        "968b9e1678f84ed79a2d280b39d12dac": {
          "model_module": "@jupyter-widgets/controls",
          "model_name": "ProgressStyleModel",
          "model_module_version": "1.5.0",
          "state": {
            "_model_module": "@jupyter-widgets/controls",
            "_model_module_version": "1.5.0",
            "_model_name": "ProgressStyleModel",
            "_view_count": null,
            "_view_module": "@jupyter-widgets/base",
            "_view_module_version": "1.2.0",
            "_view_name": "StyleView",
            "bar_color": null,
            "description_width": ""
          }
        },
        "7f2a62d968934e64a52831d88bd63e22": {
          "model_module": "@jupyter-widgets/base",
          "model_name": "LayoutModel",
          "model_module_version": "1.2.0",
          "state": {
            "_model_module": "@jupyter-widgets/base",
            "_model_module_version": "1.2.0",
            "_model_name": "LayoutModel",
            "_view_count": null,
            "_view_module": "@jupyter-widgets/base",
            "_view_module_version": "1.2.0",
            "_view_name": "LayoutView",
            "align_content": null,
            "align_items": null,
            "align_self": null,
            "border": null,
            "bottom": null,
            "display": null,
            "flex": null,
            "flex_flow": null,
            "grid_area": null,
            "grid_auto_columns": null,
            "grid_auto_flow": null,
            "grid_auto_rows": null,
            "grid_column": null,
            "grid_gap": null,
            "grid_row": null,
            "grid_template_areas": null,
            "grid_template_columns": null,
            "grid_template_rows": null,
            "height": null,
            "justify_content": null,
            "justify_items": null,
            "left": null,
            "margin": null,
            "max_height": null,
            "max_width": null,
            "min_height": null,
            "min_width": null,
            "object_fit": null,
            "object_position": null,
            "order": null,
            "overflow": null,
            "overflow_x": null,
            "overflow_y": null,
            "padding": null,
            "right": null,
            "top": null,
            "visibility": null,
            "width": null
          }
        },
        "980a02baac2d45a792162b9bfa167107": {
          "model_module": "@jupyter-widgets/controls",
          "model_name": "DescriptionStyleModel",
          "model_module_version": "1.5.0",
          "state": {
            "_model_module": "@jupyter-widgets/controls",
            "_model_module_version": "1.5.0",
            "_model_name": "DescriptionStyleModel",
            "_view_count": null,
            "_view_module": "@jupyter-widgets/base",
            "_view_module_version": "1.2.0",
            "_view_name": "StyleView",
            "description_width": ""
          }
        }
      }
    }
  },
  "cells": [
    {
      "cell_type": "markdown",
      "metadata": {
        "id": "view-in-github",
        "colab_type": "text"
      },
      "source": [
        "<a href=\"https://colab.research.google.com/github/NnekaAsuzu/Memory-Support-Chatbot-for-Pregnant-Women/blob/main/Memory_Support_Chatbot_for_Pregnant_Women.ipynb\" target=\"_parent\"><img src=\"https://colab.research.google.com/assets/colab-badge.svg\" alt=\"Open In Colab\"/></a>"
      ]
    },
    {
      "cell_type": "markdown",
      "source": [
        "#Proposal Title: Memory Support Chatbot for Pregnant Women."
      ],
      "metadata": {
        "id": "Jurq77ydFzIP"
      }
    },
    {
      "cell_type": "markdown",
      "source": [
        "Project Summary:\n",
        "The proposed project is to develop a Memory Support Chatbox for Pregnant Women using the GPT-2 language model. The chatbox aims to provide support, solutions, tips, and advice for pregnant women experiencing cognitive memory issues. The goal is to offer a personalized and accessible resource for pregnant women to manage their cognitive memory challenges effectively.\n",
        "\n",
        "\n"
      ],
      "metadata": {
        "id": "29pn9EaJGG-2"
      }
    },
    {
      "cell_type": "markdown",
      "source": [
        "Proposed Project and Reasoning:\n",
        "The project is proposed to address the lack of easily accessible and personalized support for pregnant women facing cognitive memory issues. By leveraging the capabilities of the GPT-2 language model, the chatbox can provide instant responses and guidance, complementing the advice of healthcare professionals."
      ],
      "metadata": {
        "id": "SXlTl__5GNo-"
      }
    },
    {
      "cell_type": "markdown",
      "source": [
        "*Dictionary-Based DataFrame creation method: This method reads the text files into a list of dictionaries and then creates a pandas DataFrame from these dictionaries using streamlit as the Gradio. Model is fine-tuned*"
      ],
      "metadata": {
        "id": "Y9Ik0BBfkS4Z"
      }
    },
    {
      "cell_type": "markdown",
      "source": [
        "Install Required Libraries"
      ],
      "metadata": {
        "id": "HJs_AhSQW2iy"
      }
    },
    {
      "cell_type": "code",
      "source": [
        "# Libraries\n",
        "!pip install streamlit   # Streamlit for creating interactive web apps\n",
        "!pip install pandas      # Pandas for data manipulation and analysis\n",
        "!pip install matplotlib  # Matplotlib for data visualization\n",
        "!pip install nltk        # NLTK for natural language processing tasks\n",
        "!pip install wordcloud   # Wordcloud for generating word clouds\n",
        "!pip install transformers # Transformers for accessing the GPT-2 model  #library for accessing the GPT-2 model\n",
        "\n"
      ],
      "metadata": {
        "colab": {
          "base_uri": "https://localhost:8080/"
        },
        "id": "RvGXNabAW0g6",
        "outputId": "1f64717a-5bb9-469a-e2c4-a3fab65bbe0f"
      },
      "execution_count": 1,
      "outputs": [
        {
          "output_type": "stream",
          "name": "stdout",
          "text": [
            "Collecting streamlit\n",
            "  Downloading streamlit-1.31.1-py2.py3-none-any.whl (8.4 MB)\n",
            "\u001b[2K     \u001b[90m━━━━━━━━━━━━━━━━━━━━━━━━━━━━━━━━━━━━━━━━\u001b[0m \u001b[32m8.4/8.4 MB\u001b[0m \u001b[31m20.2 MB/s\u001b[0m eta \u001b[36m0:00:00\u001b[0m\n",
            "\u001b[?25hRequirement already satisfied: altair<6,>=4.0 in /usr/local/lib/python3.10/dist-packages (from streamlit) (4.2.2)\n",
            "Requirement already satisfied: blinker<2,>=1.0.0 in /usr/lib/python3/dist-packages (from streamlit) (1.4)\n",
            "Requirement already satisfied: cachetools<6,>=4.0 in /usr/local/lib/python3.10/dist-packages (from streamlit) (5.3.3)\n",
            "Requirement already satisfied: click<9,>=7.0 in /usr/local/lib/python3.10/dist-packages (from streamlit) (8.1.7)\n",
            "Requirement already satisfied: importlib-metadata<8,>=1.4 in /usr/local/lib/python3.10/dist-packages (from streamlit) (7.0.1)\n",
            "Requirement already satisfied: numpy<2,>=1.19.3 in /usr/local/lib/python3.10/dist-packages (from streamlit) (1.25.2)\n",
            "Requirement already satisfied: packaging<24,>=16.8 in /usr/local/lib/python3.10/dist-packages (from streamlit) (23.2)\n",
            "Requirement already satisfied: pandas<3,>=1.3.0 in /usr/local/lib/python3.10/dist-packages (from streamlit) (1.5.3)\n",
            "Requirement already satisfied: pillow<11,>=7.1.0 in /usr/local/lib/python3.10/dist-packages (from streamlit) (9.4.0)\n",
            "Requirement already satisfied: protobuf<5,>=3.20 in /usr/local/lib/python3.10/dist-packages (from streamlit) (3.20.3)\n",
            "Requirement already satisfied: pyarrow>=7.0 in /usr/local/lib/python3.10/dist-packages (from streamlit) (14.0.2)\n",
            "Requirement already satisfied: python-dateutil<3,>=2.7.3 in /usr/local/lib/python3.10/dist-packages (from streamlit) (2.8.2)\n",
            "Requirement already satisfied: requests<3,>=2.27 in /usr/local/lib/python3.10/dist-packages (from streamlit) (2.31.0)\n",
            "Requirement already satisfied: rich<14,>=10.14.0 in /usr/local/lib/python3.10/dist-packages (from streamlit) (13.7.1)\n",
            "Requirement already satisfied: tenacity<9,>=8.1.0 in /usr/local/lib/python3.10/dist-packages (from streamlit) (8.2.3)\n",
            "Requirement already satisfied: toml<2,>=0.10.1 in /usr/local/lib/python3.10/dist-packages (from streamlit) (0.10.2)\n",
            "Requirement already satisfied: typing-extensions<5,>=4.3.0 in /usr/local/lib/python3.10/dist-packages (from streamlit) (4.10.0)\n",
            "Requirement already satisfied: tzlocal<6,>=1.1 in /usr/local/lib/python3.10/dist-packages (from streamlit) (5.2)\n",
            "Collecting validators<1,>=0.2 (from streamlit)\n",
            "  Downloading validators-0.22.0-py3-none-any.whl (26 kB)\n",
            "Collecting gitpython!=3.1.19,<4,>=3.0.7 (from streamlit)\n",
            "  Downloading GitPython-3.1.42-py3-none-any.whl (195 kB)\n",
            "\u001b[2K     \u001b[90m━━━━━━━━━━━━━━━━━━━━━━━━━━━━━━━━━━━━━━━━\u001b[0m \u001b[32m195.4/195.4 kB\u001b[0m \u001b[31m16.2 MB/s\u001b[0m eta \u001b[36m0:00:00\u001b[0m\n",
            "\u001b[?25hCollecting pydeck<1,>=0.8.0b4 (from streamlit)\n",
            "  Downloading pydeck-0.8.1b0-py2.py3-none-any.whl (4.8 MB)\n",
            "\u001b[2K     \u001b[90m━━━━━━━━━━━━━━━━━━━━━━━━━━━━━━━━━━━━━━━━\u001b[0m \u001b[32m4.8/4.8 MB\u001b[0m \u001b[31m44.9 MB/s\u001b[0m eta \u001b[36m0:00:00\u001b[0m\n",
            "\u001b[?25hRequirement already satisfied: tornado<7,>=6.0.3 in /usr/local/lib/python3.10/dist-packages (from streamlit) (6.3.2)\n",
            "Collecting watchdog>=2.1.5 (from streamlit)\n",
            "  Downloading watchdog-4.0.0-py3-none-manylinux2014_x86_64.whl (82 kB)\n",
            "\u001b[2K     \u001b[90m━━━━━━━━━━━━━━━━━━━━━━━━━━━━━━━━━━━━━━━━\u001b[0m \u001b[32m83.0/83.0 kB\u001b[0m \u001b[31m9.0 MB/s\u001b[0m eta \u001b[36m0:00:00\u001b[0m\n",
            "\u001b[?25hRequirement already satisfied: entrypoints in /usr/local/lib/python3.10/dist-packages (from altair<6,>=4.0->streamlit) (0.4)\n",
            "Requirement already satisfied: jinja2 in /usr/local/lib/python3.10/dist-packages (from altair<6,>=4.0->streamlit) (3.1.3)\n",
            "Requirement already satisfied: jsonschema>=3.0 in /usr/local/lib/python3.10/dist-packages (from altair<6,>=4.0->streamlit) (4.19.2)\n",
            "Requirement already satisfied: toolz in /usr/local/lib/python3.10/dist-packages (from altair<6,>=4.0->streamlit) (0.12.1)\n",
            "Collecting gitdb<5,>=4.0.1 (from gitpython!=3.1.19,<4,>=3.0.7->streamlit)\n",
            "  Downloading gitdb-4.0.11-py3-none-any.whl (62 kB)\n",
            "\u001b[2K     \u001b[90m━━━━━━━━━━━━━━━━━━━━━━━━━━━━━━━━━━━━━━━━\u001b[0m \u001b[32m62.7/62.7 kB\u001b[0m \u001b[31m6.5 MB/s\u001b[0m eta \u001b[36m0:00:00\u001b[0m\n",
            "\u001b[?25hRequirement already satisfied: zipp>=0.5 in /usr/local/lib/python3.10/dist-packages (from importlib-metadata<8,>=1.4->streamlit) (3.17.0)\n",
            "Requirement already satisfied: pytz>=2020.1 in /usr/local/lib/python3.10/dist-packages (from pandas<3,>=1.3.0->streamlit) (2023.4)\n",
            "Requirement already satisfied: six>=1.5 in /usr/local/lib/python3.10/dist-packages (from python-dateutil<3,>=2.7.3->streamlit) (1.16.0)\n",
            "Requirement already satisfied: charset-normalizer<4,>=2 in /usr/local/lib/python3.10/dist-packages (from requests<3,>=2.27->streamlit) (3.3.2)\n",
            "Requirement already satisfied: idna<4,>=2.5 in /usr/local/lib/python3.10/dist-packages (from requests<3,>=2.27->streamlit) (3.6)\n",
            "Requirement already satisfied: urllib3<3,>=1.21.1 in /usr/local/lib/python3.10/dist-packages (from requests<3,>=2.27->streamlit) (2.0.7)\n",
            "Requirement already satisfied: certifi>=2017.4.17 in /usr/local/lib/python3.10/dist-packages (from requests<3,>=2.27->streamlit) (2024.2.2)\n",
            "Requirement already satisfied: markdown-it-py>=2.2.0 in /usr/local/lib/python3.10/dist-packages (from rich<14,>=10.14.0->streamlit) (3.0.0)\n",
            "Requirement already satisfied: pygments<3.0.0,>=2.13.0 in /usr/local/lib/python3.10/dist-packages (from rich<14,>=10.14.0->streamlit) (2.16.1)\n",
            "Collecting smmap<6,>=3.0.1 (from gitdb<5,>=4.0.1->gitpython!=3.1.19,<4,>=3.0.7->streamlit)\n",
            "  Downloading smmap-5.0.1-py3-none-any.whl (24 kB)\n",
            "Requirement already satisfied: MarkupSafe>=2.0 in /usr/local/lib/python3.10/dist-packages (from jinja2->altair<6,>=4.0->streamlit) (2.1.5)\n",
            "Requirement already satisfied: attrs>=22.2.0 in /usr/local/lib/python3.10/dist-packages (from jsonschema>=3.0->altair<6,>=4.0->streamlit) (23.2.0)\n",
            "Requirement already satisfied: jsonschema-specifications>=2023.03.6 in /usr/local/lib/python3.10/dist-packages (from jsonschema>=3.0->altair<6,>=4.0->streamlit) (2023.12.1)\n",
            "Requirement already satisfied: referencing>=0.28.4 in /usr/local/lib/python3.10/dist-packages (from jsonschema>=3.0->altair<6,>=4.0->streamlit) (0.33.0)\n",
            "Requirement already satisfied: rpds-py>=0.7.1 in /usr/local/lib/python3.10/dist-packages (from jsonschema>=3.0->altair<6,>=4.0->streamlit) (0.18.0)\n",
            "Requirement already satisfied: mdurl~=0.1 in /usr/local/lib/python3.10/dist-packages (from markdown-it-py>=2.2.0->rich<14,>=10.14.0->streamlit) (0.1.2)\n",
            "Installing collected packages: watchdog, validators, smmap, pydeck, gitdb, gitpython, streamlit\n",
            "Successfully installed gitdb-4.0.11 gitpython-3.1.42 pydeck-0.8.1b0 smmap-5.0.1 streamlit-1.31.1 validators-0.22.0 watchdog-4.0.0\n",
            "Requirement already satisfied: pandas in /usr/local/lib/python3.10/dist-packages (1.5.3)\n",
            "Requirement already satisfied: python-dateutil>=2.8.1 in /usr/local/lib/python3.10/dist-packages (from pandas) (2.8.2)\n",
            "Requirement already satisfied: pytz>=2020.1 in /usr/local/lib/python3.10/dist-packages (from pandas) (2023.4)\n",
            "Requirement already satisfied: numpy>=1.21.0 in /usr/local/lib/python3.10/dist-packages (from pandas) (1.25.2)\n",
            "Requirement already satisfied: six>=1.5 in /usr/local/lib/python3.10/dist-packages (from python-dateutil>=2.8.1->pandas) (1.16.0)\n",
            "Requirement already satisfied: matplotlib in /usr/local/lib/python3.10/dist-packages (3.7.1)\n",
            "Requirement already satisfied: contourpy>=1.0.1 in /usr/local/lib/python3.10/dist-packages (from matplotlib) (1.2.0)\n",
            "Requirement already satisfied: cycler>=0.10 in /usr/local/lib/python3.10/dist-packages (from matplotlib) (0.12.1)\n",
            "Requirement already satisfied: fonttools>=4.22.0 in /usr/local/lib/python3.10/dist-packages (from matplotlib) (4.49.0)\n",
            "Requirement already satisfied: kiwisolver>=1.0.1 in /usr/local/lib/python3.10/dist-packages (from matplotlib) (1.4.5)\n",
            "Requirement already satisfied: numpy>=1.20 in /usr/local/lib/python3.10/dist-packages (from matplotlib) (1.25.2)\n",
            "Requirement already satisfied: packaging>=20.0 in /usr/local/lib/python3.10/dist-packages (from matplotlib) (23.2)\n",
            "Requirement already satisfied: pillow>=6.2.0 in /usr/local/lib/python3.10/dist-packages (from matplotlib) (9.4.0)\n",
            "Requirement already satisfied: pyparsing>=2.3.1 in /usr/local/lib/python3.10/dist-packages (from matplotlib) (3.1.1)\n",
            "Requirement already satisfied: python-dateutil>=2.7 in /usr/local/lib/python3.10/dist-packages (from matplotlib) (2.8.2)\n",
            "Requirement already satisfied: six>=1.5 in /usr/local/lib/python3.10/dist-packages (from python-dateutil>=2.7->matplotlib) (1.16.0)\n",
            "Requirement already satisfied: nltk in /usr/local/lib/python3.10/dist-packages (3.8.1)\n",
            "Requirement already satisfied: click in /usr/local/lib/python3.10/dist-packages (from nltk) (8.1.7)\n",
            "Requirement already satisfied: joblib in /usr/local/lib/python3.10/dist-packages (from nltk) (1.3.2)\n",
            "Requirement already satisfied: regex>=2021.8.3 in /usr/local/lib/python3.10/dist-packages (from nltk) (2023.12.25)\n",
            "Requirement already satisfied: tqdm in /usr/local/lib/python3.10/dist-packages (from nltk) (4.66.2)\n",
            "Requirement already satisfied: wordcloud in /usr/local/lib/python3.10/dist-packages (1.9.3)\n",
            "Requirement already satisfied: numpy>=1.6.1 in /usr/local/lib/python3.10/dist-packages (from wordcloud) (1.25.2)\n",
            "Requirement already satisfied: pillow in /usr/local/lib/python3.10/dist-packages (from wordcloud) (9.4.0)\n",
            "Requirement already satisfied: matplotlib in /usr/local/lib/python3.10/dist-packages (from wordcloud) (3.7.1)\n",
            "Requirement already satisfied: contourpy>=1.0.1 in /usr/local/lib/python3.10/dist-packages (from matplotlib->wordcloud) (1.2.0)\n",
            "Requirement already satisfied: cycler>=0.10 in /usr/local/lib/python3.10/dist-packages (from matplotlib->wordcloud) (0.12.1)\n",
            "Requirement already satisfied: fonttools>=4.22.0 in /usr/local/lib/python3.10/dist-packages (from matplotlib->wordcloud) (4.49.0)\n",
            "Requirement already satisfied: kiwisolver>=1.0.1 in /usr/local/lib/python3.10/dist-packages (from matplotlib->wordcloud) (1.4.5)\n",
            "Requirement already satisfied: packaging>=20.0 in /usr/local/lib/python3.10/dist-packages (from matplotlib->wordcloud) (23.2)\n",
            "Requirement already satisfied: pyparsing>=2.3.1 in /usr/local/lib/python3.10/dist-packages (from matplotlib->wordcloud) (3.1.1)\n",
            "Requirement already satisfied: python-dateutil>=2.7 in /usr/local/lib/python3.10/dist-packages (from matplotlib->wordcloud) (2.8.2)\n",
            "Requirement already satisfied: six>=1.5 in /usr/local/lib/python3.10/dist-packages (from python-dateutil>=2.7->matplotlib->wordcloud) (1.16.0)\n",
            "Requirement already satisfied: transformers in /usr/local/lib/python3.10/dist-packages (4.38.2)\n",
            "Requirement already satisfied: filelock in /usr/local/lib/python3.10/dist-packages (from transformers) (3.13.1)\n",
            "Requirement already satisfied: huggingface-hub<1.0,>=0.19.3 in /usr/local/lib/python3.10/dist-packages (from transformers) (0.20.3)\n",
            "Requirement already satisfied: numpy>=1.17 in /usr/local/lib/python3.10/dist-packages (from transformers) (1.25.2)\n",
            "Requirement already satisfied: packaging>=20.0 in /usr/local/lib/python3.10/dist-packages (from transformers) (23.2)\n",
            "Requirement already satisfied: pyyaml>=5.1 in /usr/local/lib/python3.10/dist-packages (from transformers) (6.0.1)\n",
            "Requirement already satisfied: regex!=2019.12.17 in /usr/local/lib/python3.10/dist-packages (from transformers) (2023.12.25)\n",
            "Requirement already satisfied: requests in /usr/local/lib/python3.10/dist-packages (from transformers) (2.31.0)\n",
            "Requirement already satisfied: tokenizers<0.19,>=0.14 in /usr/local/lib/python3.10/dist-packages (from transformers) (0.15.2)\n",
            "Requirement already satisfied: safetensors>=0.4.1 in /usr/local/lib/python3.10/dist-packages (from transformers) (0.4.2)\n",
            "Requirement already satisfied: tqdm>=4.27 in /usr/local/lib/python3.10/dist-packages (from transformers) (4.66.2)\n",
            "Requirement already satisfied: fsspec>=2023.5.0 in /usr/local/lib/python3.10/dist-packages (from huggingface-hub<1.0,>=0.19.3->transformers) (2023.6.0)\n",
            "Requirement already satisfied: typing-extensions>=3.7.4.3 in /usr/local/lib/python3.10/dist-packages (from huggingface-hub<1.0,>=0.19.3->transformers) (4.10.0)\n",
            "Requirement already satisfied: charset-normalizer<4,>=2 in /usr/local/lib/python3.10/dist-packages (from requests->transformers) (3.3.2)\n",
            "Requirement already satisfied: idna<4,>=2.5 in /usr/local/lib/python3.10/dist-packages (from requests->transformers) (3.6)\n",
            "Requirement already satisfied: urllib3<3,>=1.21.1 in /usr/local/lib/python3.10/dist-packages (from requests->transformers) (2.0.7)\n",
            "Requirement already satisfied: certifi>=2017.4.17 in /usr/local/lib/python3.10/dist-packages (from requests->transformers) (2024.2.2)\n"
          ]
        }
      ]
    },
    {
      "cell_type": "markdown",
      "source": [
        "Import Libraries"
      ],
      "metadata": {
        "id": "IzCgr3KmXT2w"
      }
    },
    {
      "cell_type": "code",
      "source": [
        "import pandas as pd                  # Pandas for data manipulation and analysis\n",
        "import nltk                          # NLTK for natural language processing tasks\n",
        "from nltk.corpus import stopwords    # Stopwords from NLTK\n",
        "from nltk.tokenize import word_tokenize   # Word tokenizer from NLTK\n",
        "import streamlit as st               # Streamlit for creating interactive web apps\n",
        "import matplotlib.pyplot as plt     # Matplotlib for data visualization\n",
        "from wordcloud import WordCloud     # Wordcloud for generating word clouds\n",
        "from transformers import GPT2Tokenizer, GPT2LMHeadModel   # GPT-2 model from Transformers\n",
        "import torch                         # PyTorch for deep learning tasks\n",
        "from torch.utils.data import DataLoader, Dataset,TensorDataset   # DataLoader and Dataset for handling data\n",
        "from transformers import GPT2Config, GPT2LMHeadModel, AdamW     # AdamW optimizer for GPT-2 model\n",
        "from transformers import AdamW, get_scheduler                    # Scheduler for optimizer\n",
        "from torch.nn.utils.rnn import pad_sequence                      # Padding sequences for model input\n",
        "from nltk.sentiment import SentimentIntensityAnalyzer            # Sentiment analysis from NLTK\n",
        "from sklearn.feature_extraction.text import TfidfVectorizer      # TF-IDF vectorizer\n",
        "from sklearn.decomposition import LatentDirichletAllocation      # LDA for topic modeling\n",
        "nltk.download('vader_lexicon')  # Download the VADER lexicon for sentiment analysis\n",
        "sia = SentimentIntensityAnalyzer()  # Initialize the SentimentIntensityAnalyzer"
      ],
      "metadata": {
        "colab": {
          "base_uri": "https://localhost:8080/"
        },
        "id": "rbRA_ZuE-m5b",
        "outputId": "bde3cc0b-9b98-41e8-e4b4-2a9b0f4dd908"
      },
      "execution_count": 42,
      "outputs": [
        {
          "output_type": "stream",
          "name": "stderr",
          "text": [
            "[nltk_data] Downloading package vader_lexicon to /root/nltk_data...\n",
            "[nltk_data]   Package vader_lexicon is already up-to-date!\n"
          ]
        }
      ]
    },
    {
      "cell_type": "code",
      "source": [
        "# # Load the pre-trained GPT-2 model and tokenizer\n",
        "tokenizer = GPT2Tokenizer.from_pretrained('gpt2')    # GPT-2 tokenizer\n",
        "model = GPT2LMHeadModel.from_pretrained('gpt2')      # GPT-2 model\n",
        "model.resize_token_embeddings(len(tokenizer))         # Resize token embeddings\n"
      ],
      "metadata": {
        "colab": {
          "base_uri": "https://localhost:8080/",
          "height": 380,
          "referenced_widgets": [
            "d533849de6bd4ab6ab1454ac9f70f744",
            "6d4c32d6189b4768a6a2cd4a6a5e741b",
            "2536fa816ceb4b03b2f93fd0291a4386",
            "924bbcee4a91400bb6f1247eccdc96ed",
            "c96d50afb4404addb7d2f83dc6398fc2",
            "803ae94887154403b9158d935aa25cd0",
            "baf7058aada94c06b9c4006ba981241f",
            "e99aaf16ae894be58325cb2e02fecedb",
            "9213f9ceff964d3fa6ce65157bc12808",
            "66986a1c9c674179b0f70f3e95b6b5e9",
            "678a346ed86e4f03b064e924e207f594",
            "9be5431800554aa68124ac23cbf997c0",
            "0d2f04917ed34820a4fa43cf0f4d02fc",
            "7c058ea196ee4734a66dd8960ca1d03c",
            "21448c5d8632488a869f671bf08a509c",
            "1c99709444264e6d82cb6559c87609fa",
            "88d62295725944b8b9a48701534edad6",
            "100893ea671345c5a230a6fc89205456",
            "9920badc373e40f3baedcf8df138d7c5",
            "7b7c1c12d7854f1dbfce2762dcc1a1af",
            "815273ba70db441fa0e91b0e36c9f8e7",
            "90a348e830d3421d899c57e762da2afa",
            "139601a4469f4387a3dd00a9e580139f",
            "231ec5a5fa044418b186eb1adc82c377",
            "5c8dc514a0c74d1e8560cae82c8686b0",
            "62e2ae3d181141999a04e0c98ffca91b",
            "7874b33f01b54bd8a0fb80cbdccec1bf",
            "23e316152d0f440a8d61a344c5b5bb02",
            "12f6252c6fe84551a195df01253c0d5b",
            "4ca169d4d6244b4ea0a89a23f077fe1b",
            "558e4a9e2da64fe4a111222a650fb9b5",
            "d5dad80984c541f38cfc3a2f05e1861e",
            "5acdbfb8f2aa4d0c80487b8ae8f6ef56",
            "b5954ea522964ca0a2884406b07cd33b",
            "202ada94537245628aed900fd4ee2011",
            "a26d1287d7e64ed88676167802690b9b",
            "dcead0f71d7b45ac8956a27158ec0d06",
            "5ff5828bdae5444aa6c8515872ad12be",
            "3ebef62b2d544c97a2d687a38ba788a0",
            "c3f14dafc7984796a4566e7edfd95467",
            "d62fdd873eef4ae488a98b39ac7fa2b4",
            "295fe331f57a46119d0ad3599722a14a",
            "0fef7f12b5a04be2bb83ded32e2a4fde",
            "061cf5ef850f42d8bf908b146169c007",
            "c977f95a9c454c45ac44381dd2fc8c64",
            "55568f5d6e6f4e8ba5b9ce2c2d95e603",
            "d54587c876bd461f8314e5a68c486351",
            "724dc3c2fd624fbfa53a54e7f62267d8",
            "0a102c0f27ac41ce83270aa13bcd45a4",
            "bb6775e8ffcc4c969a5efa93928a6c09",
            "ab819c34f5c54760a3126c9d7082de5d",
            "387939026ef34171be8f25f406863600",
            "7afa16c9cb974266b36e3c8270330b1d",
            "6b15433c775e4505ab3b958c33f8adc2",
            "e3982e839e4e4a58823da6b5dd7a0cb5",
            "5a266863c78e4e48821a66dd2559fbc0",
            "dc956d6438c54eed9cd310bc33e71e22",
            "289bf401a5b1425ea9507fb52c48bcd1",
            "4cff50aca29947398394a3a3bcb87b28",
            "2654904b7e244205baeaf9357ed80fc6",
            "44a250dfc6654e49b1d9b3e49030a69c",
            "6fd4e54dab3145a48a82b6da353efd75",
            "bf9849a520de43e29ff0ba8409c969f8",
            "b51f2dcfd75b475b96b39d5530c18025",
            "2e26d76df57b4f87b65589bed5cffd34",
            "9862181e6f304cfeafd3da1a869b870c",
            "2fc52ffbdfc64928b88e49d2f6ffc616",
            "e155d7e28d1948e5984d2214abc9dce9",
            "75c6fe3fc57643cea35849faa037c51c",
            "613915c955454324864694666c2880b8",
            "46ec01ce8f2243f4b39022a5860d08fb",
            "60929dcfc9e04a15aa1de8910b45f182",
            "4832f7fb23034d18a488638d783ff060",
            "ec04340b9a4d4b4f8622377974d3525e",
            "968b9e1678f84ed79a2d280b39d12dac",
            "7f2a62d968934e64a52831d88bd63e22",
            "980a02baac2d45a792162b9bfa167107"
          ]
        },
        "id": "n0d0AzhzeCEC",
        "outputId": "bdf8d41f-c762-4da8-df75-30269062472d"
      },
      "execution_count": 3,
      "outputs": [
        {
          "output_type": "stream",
          "name": "stderr",
          "text": [
            "/usr/local/lib/python3.10/dist-packages/huggingface_hub/utils/_token.py:88: UserWarning: \n",
            "The secret `HF_TOKEN` does not exist in your Colab secrets.\n",
            "To authenticate with the Hugging Face Hub, create a token in your settings tab (https://huggingface.co/settings/tokens), set it as secret in your Google Colab and restart your session.\n",
            "You will be able to reuse this secret in all of your notebooks.\n",
            "Please note that authentication is recommended but still optional to access public models or datasets.\n",
            "  warnings.warn(\n"
          ]
        },
        {
          "output_type": "display_data",
          "data": {
            "text/plain": [
              "tokenizer_config.json:   0%|          | 0.00/26.0 [00:00<?, ?B/s]"
            ],
            "application/vnd.jupyter.widget-view+json": {
              "version_major": 2,
              "version_minor": 0,
              "model_id": "d533849de6bd4ab6ab1454ac9f70f744"
            }
          },
          "metadata": {}
        },
        {
          "output_type": "display_data",
          "data": {
            "text/plain": [
              "vocab.json:   0%|          | 0.00/1.04M [00:00<?, ?B/s]"
            ],
            "application/vnd.jupyter.widget-view+json": {
              "version_major": 2,
              "version_minor": 0,
              "model_id": "9be5431800554aa68124ac23cbf997c0"
            }
          },
          "metadata": {}
        },
        {
          "output_type": "display_data",
          "data": {
            "text/plain": [
              "merges.txt:   0%|          | 0.00/456k [00:00<?, ?B/s]"
            ],
            "application/vnd.jupyter.widget-view+json": {
              "version_major": 2,
              "version_minor": 0,
              "model_id": "139601a4469f4387a3dd00a9e580139f"
            }
          },
          "metadata": {}
        },
        {
          "output_type": "display_data",
          "data": {
            "text/plain": [
              "tokenizer.json:   0%|          | 0.00/1.36M [00:00<?, ?B/s]"
            ],
            "application/vnd.jupyter.widget-view+json": {
              "version_major": 2,
              "version_minor": 0,
              "model_id": "b5954ea522964ca0a2884406b07cd33b"
            }
          },
          "metadata": {}
        },
        {
          "output_type": "display_data",
          "data": {
            "text/plain": [
              "config.json:   0%|          | 0.00/665 [00:00<?, ?B/s]"
            ],
            "application/vnd.jupyter.widget-view+json": {
              "version_major": 2,
              "version_minor": 0,
              "model_id": "c977f95a9c454c45ac44381dd2fc8c64"
            }
          },
          "metadata": {}
        },
        {
          "output_type": "display_data",
          "data": {
            "text/plain": [
              "model.safetensors:   0%|          | 0.00/548M [00:00<?, ?B/s]"
            ],
            "application/vnd.jupyter.widget-view+json": {
              "version_major": 2,
              "version_minor": 0,
              "model_id": "5a266863c78e4e48821a66dd2559fbc0"
            }
          },
          "metadata": {}
        },
        {
          "output_type": "display_data",
          "data": {
            "text/plain": [
              "generation_config.json:   0%|          | 0.00/124 [00:00<?, ?B/s]"
            ],
            "application/vnd.jupyter.widget-view+json": {
              "version_major": 2,
              "version_minor": 0,
              "model_id": "2fc52ffbdfc64928b88e49d2f6ffc616"
            }
          },
          "metadata": {}
        },
        {
          "output_type": "execute_result",
          "data": {
            "text/plain": [
              "Embedding(50257, 768)"
            ]
          },
          "metadata": {},
          "execution_count": 3
        }
      ]
    },
    {
      "cell_type": "markdown",
      "source": [
        "#Data Collection and Preparation: Clean the dataset by removing special characters, digits, and unnecessary whitespace"
      ],
      "metadata": {
        "id": "Tpcd0Zx760G5"
      }
    },
    {
      "cell_type": "code",
      "source": [
        "# List of file paths for the TXT files\n",
        "#Define the list of file paths for the TXT files\n",
        "txt_files = [\n",
        "    \"/content/Cognition in Pregnancy- Perceptions and Performance, 2005-2006 - Dataset - B2FIND.txt\",\n",
        "    \"/content/Frontiers | Cognitive disorder and associated factors among pregnant women attending antenatal servi.txt\",\n",
        "    \"/content/Frustrated By Brain Fog? How Pregnancy Actually Alters Yo....txt\",\n",
        "    \"/content/Is Pregnancy Brain Real?.txt\",\n",
        "    \"/content/Is ‘pregnancy brain’ real or just a myth? | Your Pregnancy Matters | UT Southwestern Medical Center.txt\",\n",
        "    \"/content/Memory and affective changes during the antepartum- A narrative review and integrative hypothesis- J.txt\",\n",
        "    \"/content/Pregnancy 'does cause memory loss' | Medical research | The Guardian.txt\",\n",
        "    \"/content/Pregnancy Brain — Forgetfulness During Pregnancy.txt\",\n",
        "    \"/content/Pregnancy brain- When it starts and what causes pregnancy brain fog | BabyCenter.txt\",\n",
        "    \"/content/Pregnancy does cause memory loss, study says - CNN.txt\",\n",
        "    \"/content/Textbook J.A. Russell, A.J. Douglas, R.J. Windle, C.D. Ingram - The Maternal Brain_ Neurobiological and Neuroendocrine Adaptation and Disorders in Pregnancy & Post Partum-Elsevier Science (2001).txt\",\n",
        "    \"/content/The effect of pregnancy on maternal cognition - PMC.txt\",\n",
        "    \"/content/This Is Your Brain on Motherhood - The New York Times.txt\",\n",
        "    \"/content/Working memory from pregnancy to postpartum.txt\",\n",
        "    \"/content/What Is Mom Brain and Is It Real?.txt\",\n",
        "    \"/content/Memory loss in Pregnancy- Myth or Fact? - International Forum for Wellbeing in Pregnancy.txt\",\n",
        "    \"/content/Memory and mood changes in pregnancy- a qualitative content analysis of women’s first-hand accounts.txt\",\n",
        "    \"/content/Is Mom Brain real? Understanding and coping with postpartum brain fog.txt\",\n",
        "    \"/content/Everyday Life Memory Deficits in Pregnant Women.txt\",\n",
        "    \"/content/Cognitive Function Decline in the Third Trimester.txt\",\n",
        "    \"/content/'Mommy brain' might be a good thing, new research suggests | CBC Radio.txt\"\n",
        "]\n"
      ],
      "metadata": {
        "id": "rM_sGqcpT8L0"
      },
      "execution_count": 4,
      "outputs": []
    },
    {
      "cell_type": "code",
      "source": [
        "#Load and read the text files into a DataFrame\n",
        "data = []\n",
        "for file_path in txt_files:\n",
        "    with open(file_path, \"r\") as file:\n",
        "        text = file.read()\n",
        "        data.append({\"text\": text})\n",
        "\n",
        "df = pd.DataFrame(data)\n",
        "\n",
        "# Display the DataFrame\n",
        "print(df)"
      ],
      "metadata": {
        "colab": {
          "base_uri": "https://localhost:8080/"
        },
        "id": "3yympX8b7waL",
        "outputId": "09b503a5-6269-4dc8-b6cf-728d6bd577d5"
      },
      "execution_count": 6,
      "outputs": [
        {
          "output_type": "stream",
          "name": "stdout",
          "text": [
            "                                                 text\n",
            "0   GO TO EUDAT WEBSITE \\nDATA CATALOGUE REPOSITOR...\n",
            "1   (Sections )(Sections )\\nArticles Research Topi...\n",
            "2   Dr. Aliabadi’s Elective DoubleMastectomy Journ...\n",
            "3   Health Conditions Discover Plan Connect SUBSCR...\n",
            "4   Find a Doctor Conditions & Treatments Location...\n",
            "5   2 \\nLog in | Register Cart\\n\\n! \\n\\n\\nHome All...\n",
            "6   Print subscriptions Search jobs \\nSupport the ...\n",
            "7   SearchSearch\\nSign Up \\ntIN THIS ARTICLE Getti...\n",
            "8   Epidural for labor painReviewed by Cheryl Axel...\n",
            "9   Health»Live TV International Edition + !!\\nSha...\n",
            "10  List of Contributors \\n\\nM. Altemus, Departmen...\n",
            "11  AnoKcialwebsiteoftheUnitedStatesgovernment \\n\\...\n",
            "12  ADVERTISEMENTPARENTINSharefullarticle 4\\nPAREN...\n",
            "13  Short Communication \\nWorking memory from preg...\n",
            "14  What Is Mom Brain and Is It Real? \\n3/5/24, 3:...\n",
            "15  Memory loss in Pregnancy: Myth or Fact? - Inte...\n",
            "16  Memory and mood changes in pregnancy: a qualit...\n",
            "17  Is Mom Brain real? \\nUnderstanding and coping ...\n",
            "18  See discussions, stats, and author profiles fo...\n",
            "19  Journal ofClinical Medicine\\nArticle \\n\\n\\nCog...\n",
            "20  'Mommy brain' might be a good thing, new resea...\n"
          ]
        }
      ]
    },
    {
      "cell_type": "markdown",
      "source": [
        "##Data Cleaning and Manipulation"
      ],
      "metadata": {
        "id": "-hEcbQD-8AEU"
      }
    },
    {
      "cell_type": "code",
      "source": [
        "# Tokenize the text\n",
        "nltk.download('punkt')  # Download the 'punkt' tokenizer models for tokenization\n",
        "df['tokens'] = df['text'].apply(word_tokenize) # Tokenize each text in the 'text' column into a list of words\n"
      ],
      "metadata": {
        "colab": {
          "base_uri": "https://localhost:8080/"
        },
        "id": "3mOqKxTb7Iso",
        "outputId": "bccf6b2f-ca6b-4718-cc70-4240a4f20941"
      },
      "execution_count": 7,
      "outputs": [
        {
          "output_type": "stream",
          "name": "stderr",
          "text": [
            "[nltk_data] Downloading package punkt to /root/nltk_data...\n",
            "[nltk_data]   Unzipping tokenizers/punkt.zip.\n"
          ]
        }
      ]
    },
    {
      "cell_type": "code",
      "source": [
        "# Remove stopwords and special characters\n",
        "nltk.download('stopwords')  # Download the stopwords corpus for English\n",
        "stop_words = set(stopwords.words('english'))  # Load the English stopwords into a set\n"
      ],
      "metadata": {
        "colab": {
          "base_uri": "https://localhost:8080/"
        },
        "id": "k_AGncCJ8Z0D",
        "outputId": "6c02aa10-d4cb-4be4-d05f-2a5b9a044774"
      },
      "execution_count": 8,
      "outputs": [
        {
          "output_type": "stream",
          "name": "stderr",
          "text": [
            "[nltk_data] Downloading package stopwords to /root/nltk_data...\n",
            "[nltk_data]   Unzipping corpora/stopwords.zip.\n"
          ]
        }
      ]
    },
    {
      "cell_type": "code",
      "source": [
        "# Apply a lambda function to each tokenized list in the 'tokens' column\n",
        "# This function converts each word to lowercase, removes non-alphanumeric characters, and filters out stopwords\n",
        "df['cleaned_text'] = df['tokens'].apply(lambda x: [word.lower() for word in x if (word.isalnum() and word.lower() not in stop_words)])\n"
      ],
      "metadata": {
        "id": "FSscUbsWqxLs"
      },
      "execution_count": 22,
      "outputs": []
    },
    {
      "cell_type": "code",
      "source": [
        "# Join tokens back into sentences\n",
        "# Apply a lambda function to join the cleaned tokens back into a single string\n",
        "df['cleaned_text'] = df['cleaned_text'].apply(lambda x: ' '.join(x))"
      ],
      "metadata": {
        "id": "2_6fes4dq9hb"
      },
      "execution_count": 23,
      "outputs": []
    },
    {
      "cell_type": "code",
      "source": [
        "# Display the cleaned text\n",
        "print(df['cleaned_text'])"
      ],
      "metadata": {
        "colab": {
          "base_uri": "https://localhost:8080/"
        },
        "id": "IXYl3NDi8aVA",
        "outputId": "b86639f0-493e-40aa-c385-f6dc5351d5ff"
      },
      "execution_count": 24,
      "outputs": [
        {
          "output_type": "stream",
          "name": "stdout",
          "text": [
            "0     go eudat website data catalogue repositories p...\n",
            "1     sections sections articles research topics edi...\n",
            "2     aliabadi elective doublemastectomy journeydo l...\n",
            "3     health conditions discover plan connect subscr...\n",
            "4     find doctor conditions treatments locations ac...\n",
            "5     2 log register cart home journals journal clin...\n",
            "6     print subscriptions search jobs support guardi...\n",
            "7     searchsearch sign tin article getting pregnant...\n",
            "8     epidural labor painreviewed cheryl axelrod lab...\n",
            "9     health live tv international edition share mix...\n",
            "10    list contributors altemus department psychiatr...\n",
            "11    anokcialwebsiteoftheunitedstatesgovernment per...\n",
            "12    advertisementparentinsharefullarticle 4 parent...\n",
            "13    short communication working memory pregnancy p...\n",
            "14    mom brain real pm search getting pregnant preg...\n",
            "15    memory loss pregnancy myth fact international ...\n",
            "16    memory mood changes pregnancy qualitative cont...\n",
            "17    mom brain real understanding coping postpartum...\n",
            "18    see discussions stats author profiles publicat...\n",
            "19    journal ofclinical medicine article cognitive ...\n",
            "20    brain might good thing new research suggests c...\n",
            "Name: cleaned_text, dtype: object\n"
          ]
        }
      ]
    },
    {
      "cell_type": "markdown",
      "source": [
        "##Exploratory Data Analysis and Visualization"
      ],
      "metadata": {
        "id": "gR6SBEajoymI"
      }
    },
    {
      "cell_type": "markdown",
      "source": [
        "*  Perform basic statistics on the dataset, such as word count, average length of articles\n",
        "\n"
      ],
      "metadata": {
        "id": "ebXKnW-7Bzty"
      }
    },
    {
      "cell_type": "code",
      "source": [
        "# Word count\n",
        "df['word_count'] = df['cleaned_text'].apply(lambda x: len(x.split()))\n",
        "\n",
        "# Average length of articles\n",
        "average_length = df['word_count'].mean()\n",
        "\n",
        "# Minimum and maximum word count\n",
        "min_word_count = df['word_count'].min()\n",
        "max_word_count = df['word_count'].max()\n",
        "\n",
        "print(f\"Average length of articles: {average_length:.2f} words\")\n",
        "print(f\"Minimum word count: {min_word_count} words\")\n",
        "print(f\"Maximum word count: {max_word_count} words\")\n",
        "\n",
        "# Display the cleaned text and word count\n",
        "print(df[['cleaned_text', 'word_count']])\n",
        "\n",
        "# Visualize the distribution of word counts\n",
        "plt.figure(figsize=(10, 6))\n",
        "plt.hist(df['word_count'], bins=20, color='brown', edgecolor='black')\n",
        "plt.xlabel('Word Count')\n",
        "plt.ylabel('Frequency')\n",
        "plt.title('Distribution of Word Counts')\n",
        "plt.show()\n"
      ],
      "metadata": {
        "colab": {
          "base_uri": "https://localhost:8080/",
          "height": 969
        },
        "id": "-fxr1oIHBb35",
        "outputId": "fdc2d570-b923-4383-ac00-0aeb67369d96"
      },
      "execution_count": 16,
      "outputs": [
        {
          "output_type": "stream",
          "name": "stdout",
          "text": [
            "Average length of articles: 7267.57 words\n",
            "Minimum word count: 408 words\n",
            "Maximum word count: 121232 words\n",
            "                                         cleaned_text  word_count\n",
            "0   go eudat website data catalogue repositories p...         591\n",
            "1   sections sections articles research topics edi...        3091\n",
            "2   aliabadi elective doublemastectomy journeydo l...        1189\n",
            "3   health conditions discover plan connect subscr...        1227\n",
            "4   find doctor conditions treatments locations ac...         611\n",
            "5   2 log register cart home journals journal clin...         481\n",
            "6   print subscriptions search jobs support guardi...         695\n",
            "7   searchsearch sign tin article getting pregnant...         556\n",
            "8   epidural labor painreviewed cheryl axelrod lab...         703\n",
            "9   health live tv international edition share mix...         408\n",
            "10  list contributors altemus department psychiatr...      121232\n",
            "11  anokcialwebsiteoftheunitedstatesgovernment per...        2605\n",
            "12  advertisementparentinsharefullarticle 4 parent...         993\n",
            "13  short communication working memory pregnancy p...        2118\n",
            "14  mom brain real pm search getting pregnant preg...         935\n",
            "15  memory loss pregnancy myth fact international ...         510\n",
            "16  memory mood changes pregnancy qualitative cont...        3103\n",
            "17  mom brain real understanding coping postpartum...        1050\n",
            "18  see discussions stats author profiles publicat...        5317\n",
            "19  journal ofclinical medicine article cognitive ...        4402\n",
            "20  brain might good thing new research suggests c...         802\n"
          ]
        },
        {
          "output_type": "display_data",
          "data": {
            "text/plain": [
              "<Figure size 1000x600 with 1 Axes>"
            ],
            "image/png": "[encoded data removed]"
          },
          "metadata": {}
        }
      ]
    },
    {
      "cell_type": "markdown",
      "source": [
        "*  Word Cloud (Display the most common words or phrases, providing a  visual representation of the main themes and topics discussed in the articles)"
      ],
      "metadata": {
        "id": "SNNeL_-TyyQY"
      }
    },
    {
      "cell_type": "code",
      "source": [
        "# Concatenate all cleaned text into a single string\n",
        "all_text = \" \".join(df[\"cleaned_text\"])\n",
        "\n",
        "# Generate the word cloud\n",
        "wordcloud = WordCloud(width=800, height=400, background_color=\"white\").generate(all_text)\n",
        "\n",
        "# Display the word cloud\n",
        "plt.figure(figsize=(10, 5))\n",
        "plt.imshow(wordcloud, interpolation=\"bilinear\")\n",
        "plt.axis(\"off\")\n",
        "plt.title('Word Cloud of Cognitive Memory Issues')\n",
        "plt.show()\n",
        "\n",
        "\n"
      ],
      "metadata": {
        "colab": {
          "base_uri": "https://localhost:8080/",
          "height": 444
        },
        "id": "8_wavidGo0qK",
        "outputId": "1d796a17-6374-45c7-ee35-75ec6297a933"
      },
      "execution_count": 13,
      "outputs": [
        {
          "output_type": "display_data",
          "data": {
            "text/plain": [
              "<Figure size 1000x500 with 1 Axes>"
            ],
            "image/png": "[encoded data removed]"
          },
          "metadata": {}
        }
      ]
    },
    {
      "cell_type": "markdown",
      "source": [
        "\n",
        "\n",
        "*  Frequency of Cognitive Memory Issues (Describes the frequency of different types of cognitive memory issues reported in the text data. It shows the number of occurrences of each type of issue, such as memory loss, difficulty concentrating, forgetfulness, brain fog, and others, providing insights into the prevalence of these issues in the dataset)\n",
        "\n"
      ],
      "metadata": {
        "id": "GXbyA8bKirGM"
      }
    },
    {
      "cell_type": "code",
      "source": [
        "def cleaned_text(text):\n",
        "    # Your cleaning logic here\n",
        "    cleaned_text = text.lower()  # Example: convert text to lowercase\n",
        "    return cleaned_text\n",
        "\n",
        "# Apply cleaning function to 'text' column and store in 'cleaned_text' column\n",
        "df[\"cleaned_text\"] = df[\"text\"].apply(cleaned_text)\n",
        "\n",
        "# Define types of cognitive memory issues\n",
        "types_of_issues = ['Memory Loss', 'Difficulty Concentrating', 'Forgetfulness', 'Brain Fog', 'Others']\n",
        "\n",
        "# Initialize frequencies dictionary\n",
        "frequencies = {issue: 0 for issue in types_of_issues}\n",
        "\n",
        "# Count frequencies of each type of issue\n",
        "for text in df[\"cleaned_text\"]:\n",
        "    for issue in types_of_issues:\n",
        "        if issue.lower() in text:  # Example: use lowercase for comparison\n",
        "            frequencies[issue] += 1\n",
        "\n",
        "# Convert frequencies to DataFrame for plotting\n",
        "df_frequencies = pd.DataFrame(list(frequencies.items()), columns=['Types of cognitive memory issues', 'Frequency'])\n",
        "\n",
        "# Plot the bar chart\n",
        "plt.figure(figsize=(10, 6))\n",
        "plt.bar(df_frequencies['Types of cognitive memory issues'], df_frequencies['Frequency'], color='skyblue')\n",
        "plt.xlabel('Types of cognitive memory issues')\n",
        "plt.ylabel('Frequency')\n",
        "plt.title('Frequency of Cognitive Memory Issues')\n",
        "plt.xticks(rotation=45)\n",
        "plt.show()\n",
        "\n",
        "# Display the cleaned text\n",
        "print(df['cleaned_text'])\n"
      ],
      "metadata": {
        "colab": {
          "base_uri": "https://localhost:8080/",
          "height": 1000
        },
        "id": "iX5HkmrchnvK",
        "outputId": "585ff928-a0fd-42ec-d487-fe1780edb39c"
      },
      "execution_count": 31,
      "outputs": [
        {
          "output_type": "display_data",
          "data": {
            "text/plain": [
              "<Figure size 1000x600 with 1 Axes>"
            ],
            "image/png": "[encoded data removed]"
          },
          "metadata": {}
        },
        {
          "output_type": "stream",
          "name": "stdout",
          "text": [
            "0     go to eudat website \\ndata catalogue repositor...\n",
            "1     (sections )(sections )\\narticles research topi...\n",
            "2     dr. aliabadi’s elective doublemastectomy journ...\n",
            "3     health conditions discover plan connect subscr...\n",
            "4     find a doctor conditions & treatments location...\n",
            "5     2 \\nlog in | register cart\\n\\n! \\n\\n\\nhome all...\n",
            "6     print subscriptions search jobs \\nsupport the ...\n",
            "7     searchsearch\\nsign up \\ntin this article getti...\n",
            "8     epidural for labor painreviewed by cheryl axel...\n",
            "9     health»live tv international edition + !!\\nsha...\n",
            "10    list of contributors \\n\\nm. altemus, departmen...\n",
            "11    anokcialwebsiteoftheunitedstatesgovernment \\n\\...\n",
            "12    advertisementparentinsharefullarticle 4\\nparen...\n",
            "13    short communication \\nworking memory from preg...\n",
            "14    what is mom brain and is it real? \\n3/5/24, 3:...\n",
            "15    memory loss in pregnancy: myth or fact? - inte...\n",
            "16    memory and mood changes in pregnancy: a qualit...\n",
            "17    is mom brain real? \\nunderstanding and coping ...\n",
            "18    see discussions, stats, and author profiles fo...\n",
            "19    journal ofclinical medicine\\narticle \\n\\n\\ncog...\n",
            "20    'mommy brain' might be a good thing, new resea...\n",
            "Name: cleaned_text, dtype: object\n"
          ]
        }
      ]
    },
    {
      "cell_type": "markdown",
      "source": [
        "**Text Mining and NLP Analysis**\n",
        "Goal is to extract key terms and topics related to cognitive memory issues during pregnancy, providing insights into the content and themes of the articles. This analysis helps identify patterns, trends, and prevalent topics in the literature, which can inform the development of the chatbox and enhance its ability to provide relevant and personalized support to pregnant women."
      ],
      "metadata": {
        "id": "5N_Rj4dC_WCv"
      }
    },
    {
      "cell_type": "code",
      "source": [
        "# Text Mining and NLP\n",
        "# TF-IDF Vectorization\n",
        "tfidf_vectorizer = TfidfVectorizer(stop_words='english')\n",
        "tfidf_matrix = tfidf_vectorizer.fit_transform(df['cleaned_text'])\n",
        "\n",
        "# Latent Dirichlet Allocation (LDA) for Topic Modeling\n",
        "lda = LatentDirichletAllocation(n_components=5, random_state=42)\n",
        "lda.fit(tfidf_matrix)\n",
        "\n",
        "# Extract key terms and topics\n",
        "terms = tfidf_vectorizer.get_feature_names_out()\n",
        "topics = [[terms[i] for i in topic.argsort()[:-6:-1]] for topic in lda.components_]\n",
        "\n",
        "# Print topics\n",
        "for i, topic in enumerate(topics):\n",
        "    print(f\"Topic {i+1}: {', '.join(topic)}\")\n"
      ],
      "metadata": {
        "colab": {
          "base_uri": "https://localhost:8080/"
        },
        "id": "2wz8Za2o_DLM",
        "outputId": "15a1ad5a-45e1-4bee-fc2b-2bff51fe64a7"
      },
      "execution_count": 32,
      "outputs": [
        {
          "output_type": "stream",
          "name": "stdout",
          "text": [
            "Topic 1: pregnancy, women, memory, pregnant, et\n",
            "Topic 2: brain, pregnancy, memory, women, mom\n",
            "Topic 3: galea, male, female, animals, typically\n",
            "Topic 4: galea, male, female, animals, typically\n",
            "Topic 5: galea, male, female, animals, typically\n"
          ]
        }
      ]
    },
    {
      "cell_type": "markdown",
      "source": [
        "**Sentiment Analysis and Comparison and Contrast:** This analysis assigns a sentiment score to each article, indicating its overall sentiment (positive, neutral, or negative). The sentiment scores can help understand the general tone and attitude of the articles towards cognitive memory issues during pregnancy."
      ],
      "metadata": {
        "id": "qBvUaOo7_4gR"
      }
    },
    {
      "cell_type": "code",
      "source": [
        "# Sentiment Analysis\n",
        "# Calculate the sentiment score for each cleaned text and store it in a new column\n",
        "df['sentiment_score'] = df['cleaned_text'].apply(lambda x: sia.polarity_scores(x)['compound'])\n",
        "\n",
        "# Explanation of sentiment scores:\n",
        "# -1 indicates extremely negative sentiment.\n",
        "# 0 indicates neutral sentiment.\n",
        "# 1 indicates extremely positive sentiment.\n",
        "\n",
        "# Comparison and Contrast\n",
        "# For simplicity, let's just plot the sentiment scores\n",
        "plt.figure(figsize=(10, 6))\n",
        "plt.hist(df['sentiment_score'], bins=20, color='green')\n",
        "plt.xlabel('Sentiment Score')\n",
        "plt.ylabel('Frequency')\n",
        "plt.title('Sentiment Analysis of Articles')\n",
        "plt.show()"
      ],
      "metadata": {
        "colab": {
          "base_uri": "https://localhost:8080/",
          "height": 552
        },
        "id": "vAx1fitHAkrs",
        "outputId": "44f8281b-707f-4d02-e081-ebeb84645999"
      },
      "execution_count": 33,
      "outputs": [
        {
          "output_type": "display_data",
          "data": {
            "text/plain": [
              "<Figure size 1000x600 with 1 Axes>"
            ],
            "image/png": "[encoded data removed]"
          },
          "metadata": {}
        }
      ]
    },
    {
      "cell_type": "markdown",
      "source": [
        "#Comparing Baseline GPT-2 Model Responses Using Raw and Cleaned Text Before Fine-Tuning"
      ],
      "metadata": {
        "id": "hQNRI03-U5rF"
      }
    },
    {
      "cell_type": "markdown",
      "source": [
        "##*For the baseline model with raw text:*"
      ],
      "metadata": {
        "id": "pdaiyZQgbvRT"
      }
    },
    {
      "cell_type": "code",
      "source": [
        "# Baseline GPT-2 Model Response before cleaning\n",
        "def baseline_generate_response(raw_text):\n",
        "    # Tokenize the raw text\n",
        "    input_ids = tokenizer(raw_text, return_tensors='pt')['input_ids']\n",
        "    # Generate output\n",
        "    output = model.generate(input_ids, max_length=100, num_return_sequences=1, pad_token_id=tokenizer.eos_token_id)\n",
        "    # Decode the output\n",
        "    response = tokenizer.decode(output[0], skip_special_tokens=True)\n",
        "    return response\n",
        "\n",
        "# Example usage\n",
        "raw_text1 = \"How does pregnancy affect memory?\"\n",
        "raw_text2 = \"What are the effects of pregnancy on cognitive function?\"\n",
        "baseline_response_raw1 = baseline_generate_response(raw_text1)\n",
        "baseline_response_raw2 = baseline_generate_response(raw_text2)\n",
        "print(\"Baseline Response (Raw Text 1):\", baseline_response_raw1.rstrip('!'))\n",
        "print(\"Baseline Response (Raw Text 2):\", baseline_response_raw2.rstrip('!'))"
      ],
      "metadata": {
        "colab": {
          "base_uri": "https://localhost:8080/"
        },
        "id": "GzK5wDvYbOCf",
        "outputId": "16156943-4c05-4b42-8fbd-570fe109a74b"
      },
      "execution_count": 34,
      "outputs": [
        {
          "output_type": "stream",
          "name": "stdout",
          "text": [
            "Baseline Response (Raw Text 1): How does pregnancy affect memory?\n",
            "\n",
            "The answer is that it does.\n",
            "\n",
            "The brain is a complex machine that is constantly changing. It is constantly changing. It is constantly changing. It is constantly changing. It is constantly changing. It is constantly changing. It is constantly changing. It is constantly changing. It is constantly changing. It is constantly changing. It is constantly changing. It is constantly changing. It is constantly changing. It is constantly changing. It is constantly changing. It is\n",
            "Baseline Response (Raw Text 2): What are the effects of pregnancy on cognitive function?\n",
            "\n",
            "The effects of pregnancy on cognitive function are not well understood. The most common cognitive deficits are memory loss, attention deficit hyperactivity disorder, and attention deficit hyperactivity disorder (ADHD).\n",
            "\n",
            "The most common cognitive deficits are memory loss, attention deficit hyperactivity disorder, and attention deficit hyperactivity disorder (ADHD). The most common cognitive deficits are memory loss, attention deficit hyperactivity disorder, and attention deficit hyperactivity disorder (ADHD\n"
          ]
        }
      ]
    },
    {
      "cell_type": "markdown",
      "source": [
        "##*For the baseline model with cleaned text:*"
      ],
      "metadata": {
        "id": "GmH4rVrLcX4P"
      }
    },
    {
      "cell_type": "code",
      "source": [
        "# Baseline GPT-2 Model Response #Generate responses using the GPT-2 model\n",
        "def baseline_generate_response(cleaned_text):\n",
        "    # Tokenize the cleaned text\n",
        "    input_ids = tokenizer.encode(cleaned_text, return_tensors='pt')\n",
        "    # Generate output\n",
        "    output = model.generate(input_ids, max_length=100, num_return_sequences=1, pad_token_id=tokenizer.eos_token_id, attention_mask=input_ids.ne(tokenizer.eos_token_id))\n",
        "    # Decode the output\n",
        "    response = tokenizer.decode(output[0], skip_special_tokens=True)\n",
        "    return response\n",
        "\n",
        "# Example usage\n",
        "cleaned_text1 = \"How does pregnancy affect memory?\"\n",
        "cleaned_text2 = \"What are the effects of pregnancy on cognitive function?\"\n",
        "baseline_response1 = baseline_generate_response(cleaned_text1)\n",
        "baseline_response2 = baseline_generate_response(cleaned_text2)\n",
        "print(\"Baseline Response 1:\", baseline_response1)\n",
        "print(\"Baseline Response 2:\", baseline_response2)\n"
      ],
      "metadata": {
        "colab": {
          "base_uri": "https://localhost:8080/"
        },
        "id": "wEnOCpZ3bYz9",
        "outputId": "1d0a8c7a-6a63-4ca9-a65c-0aa22b22f579"
      },
      "execution_count": 35,
      "outputs": [
        {
          "output_type": "stream",
          "name": "stdout",
          "text": [
            "Baseline Response 1: How does pregnancy affect memory?\n",
            "\n",
            "The answer is that it does.\n",
            "\n",
            "The brain is a complex machine that is constantly changing. It is constantly changing. It is constantly changing. It is constantly changing. It is constantly changing. It is constantly changing. It is constantly changing. It is constantly changing. It is constantly changing. It is constantly changing. It is constantly changing. It is constantly changing. It is constantly changing. It is constantly changing. It is constantly changing. It is\n",
            "Baseline Response 2: What are the effects of pregnancy on cognitive function?\n",
            "\n",
            "The effects of pregnancy on cognitive function are not well understood. The most common cognitive deficits are memory loss, attention deficit hyperactivity disorder, and attention deficit hyperactivity disorder (ADHD).\n",
            "\n",
            "The most common cognitive deficits are memory loss, attention deficit hyperactivity disorder, and attention deficit hyperactivity disorder (ADHD). The most common cognitive deficits are memory loss, attention deficit hyperactivity disorder, and attention deficit hyperactivity disorder (ADHD\n"
          ]
        }
      ]
    },
    {
      "cell_type": "markdown",
      "source": [
        "#Fine-Tuning the GPT-2 Model"
      ],
      "metadata": {
        "id": "OISvVK3WNKgw"
      }
    },
    {
      "cell_type": "markdown",
      "source": [
        "Tokenization and Padding for Fine-Tuning GPT-2 Model"
      ],
      "metadata": {
        "id": "j4bPj81Jk0UD"
      }
    },
    {
      "cell_type": "code",
      "source": [
        "# Define the maximum sequence length\n",
        "max_length = 512\n",
        "\n",
        "# Tokenize the cleaned text and truncate to max_length\n",
        "df['tokenized_text'] = df['cleaned_text'].apply(lambda x: tokenizer.encode(x[:max_length], return_tensors='pt'))\n",
        "\n",
        "# Get the padding value from the tokenizer or use a default value\n",
        "padding_value = tokenizer.pad_token_id if tokenizer.pad_token_id is not None else 0\n",
        "\n",
        "# Pad or truncate the tokenized sequences to the maximum length\n",
        "padded_sequences = pad_sequence([seq.squeeze(0)[:max_length] for seq in df['tokenized_text']], batch_first=True, padding_value=padding_value)\n",
        "\n",
        "# Concatenate the padded sequences to match the expected size\n",
        "input_ids = torch.cat(tuple(padded_sequences), dim=0)\n",
        "labels = input_ids.clone()\n",
        "\n",
        "\n"
      ],
      "metadata": {
        "id": "M2A4L32VnZF7"
      },
      "execution_count": 36,
      "outputs": []
    },
    {
      "cell_type": "markdown",
      "source": [
        "Fine-Tuning: Ready to fine-tune the GPT-2 model"
      ],
      "metadata": {
        "id": "ejux0XuclzUc"
      }
    },
    {
      "cell_type": "code",
      "source": [
        "#Check if 'input_ids' and 'labels' are defined\n",
        "if 'input_ids' in locals() and 'labels' in locals():\n",
        "    print(\"input_ids and labels are defined.\")\n",
        "else:\n",
        "    print(\"input_ids and labels are not defined.\")\n"
      ],
      "metadata": {
        "colab": {
          "base_uri": "https://localhost:8080/"
        },
        "id": "_xR3MwjdFKLT",
        "outputId": "1cc4d5fe-fb6e-4075-a89c-19899b374a85"
      },
      "execution_count": 37,
      "outputs": [
        {
          "output_type": "stream",
          "name": "stdout",
          "text": [
            "input_ids and labels are defined.\n"
          ]
        }
      ]
    },
    {
      "cell_type": "code",
      "source": [
        "# Define hyperparameters\n",
        "num_epochs = 3\n",
        "learning_rate = 5e-5  # Adjusted learning rate\n",
        "weight_decay = 0.01   # Adjusted weight decay\n",
        "warmup_steps = 500    # Adjusted warmup steps\n",
        "max_seq_length = 1024  # Maximum sequence length\n",
        "\n",
        "# Define optimizer and scheduler\n",
        "optimizer = AdamW(model.parameters(), lr=learning_rate, weight_decay=weight_decay)\n",
        "scheduler = get_scheduler(\"linear\", optimizer, num_warmup_steps=warmup_steps, num_training_steps=len(df) * num_epochs)\n"
      ],
      "metadata": {
        "colab": {
          "base_uri": "https://localhost:8080/"
        },
        "id": "LBCRWeapj_MJ",
        "outputId": "c35fefa7-ea05-4e2e-cd9c-920dce0be6fa"
      },
      "execution_count": 53,
      "outputs": [
        {
          "output_type": "stream",
          "name": "stderr",
          "text": [
            "/usr/local/lib/python3.10/dist-packages/transformers/optimization.py:429: FutureWarning: This implementation of AdamW is deprecated and will be removed in a future version. Use the PyTorch implementation torch.optim.AdamW instead, or set `no_deprecation_warning=True` to disable this warning\n",
            "  warnings.warn(\n"
          ]
        }
      ]
    },
    {
      "cell_type": "markdown",
      "source": [
        "Manual Training Loop Method: In this method, the training loop is implemented manually, without using a custom trainer class."
      ],
      "metadata": {
        "id": "UWmtyoie5DA0"
      }
    },
    {
      "cell_type": "code",
      "source": [
        "# Fine-tune the GPT-2 model\n",
        "model.train()\n",
        "for epoch in range(num_epochs):\n",
        "    total_loss = 0.0\n",
        "    for text in df['cleaned_text']:\n",
        "        input_ids = tokenizer.encode(text, return_tensors='pt', max_length=max_seq_length, truncation=True)\n",
        "        optimizer.zero_grad()\n",
        "        outputs = model(input_ids=input_ids, labels=input_ids)\n",
        "        loss = outputs.loss\n",
        "        total_loss += loss.item()\n",
        "        loss.backward()\n",
        "        optimizer.step()\n",
        "        scheduler.step()\n",
        "    average_loss = total_loss / len(df)\n",
        "    print(f\"Epoch {epoch+1}: Average Loss = {average_loss}\")\n"
      ],
      "metadata": {
        "colab": {
          "base_uri": "https://localhost:8080/"
        },
        "id": "Cgaj5NM8maeI",
        "outputId": "635e2437-0422-4571-d405-07905a9a7e72"
      },
      "execution_count": 54,
      "outputs": [
        {
          "output_type": "stream",
          "name": "stdout",
          "text": [
            "Epoch 1: Average Loss = 3.9552694729396274\n",
            "Epoch 2: Average Loss = 3.757464976537795\n",
            "Epoch 3: Average Loss = 3.6312523682912192\n"
          ]
        }
      ]
    },
    {
      "cell_type": "code",
      "source": [
        "# Save the fine-tuned model\n",
        "model.save_pretrained('fine_tuned_gpt2_model')\n"
      ],
      "metadata": {
        "id": "KvyNeCB_q223"
      },
      "execution_count": 55,
      "outputs": []
    },
    {
      "cell_type": "code",
      "source": [
        "# Load the fine-tuned model\n",
        "fine_tuned_model = GPT2LMHeadModel.from_pretrained('fine_tuned_gpt2_model')\n"
      ],
      "metadata": {
        "id": "2J20QpA4EzZO"
      },
      "execution_count": 56,
      "outputs": []
    },
    {
      "cell_type": "markdown",
      "source": [
        "Comparison of Baseline and Fine-Tuned GPT-2 Model Responses\n"
      ],
      "metadata": {
        "id": "l4ay9AOsRc-0"
      }
    },
    {
      "cell_type": "code",
      "source": [
        "# Baseline GPT-2 Model Response\n",
        "def baseline_generate_response(input_text):\n",
        "    # Tokenize the input text\n",
        "    input_ids = tokenizer.encode(input_text, return_tensors='pt')\n",
        "    # Generate output\n",
        "    output = model.generate(input_ids, max_length=100, num_return_sequences=1, pad_token_id=tokenizer.eos_token_id, attention_mask=input_ids.ne(tokenizer.eos_token_id))\n",
        "    # Decode the output\n",
        "    response = tokenizer.decode(output[0], skip_special_tokens=True)\n",
        "    return response\n",
        "\n",
        "# Fine-Tuned GPT-2 Model Response\n",
        "def fine_tuned_generate_response(input_text):\n",
        "    input_ids = tokenizer.encode(input_text, return_tensors='pt')\n",
        "    output = fine_tuned_model.generate(input_ids, max_length=100, num_return_sequences=1, pad_token_id=tokenizer.eos_token_id, attention_mask=input_ids.ne(tokenizer.eos_token_id))\n",
        "    response = tokenizer.decode(output[0], skip_special_tokens=True)\n",
        "    return response\n",
        "\n",
        "\n"
      ],
      "metadata": {
        "id": "8Tyv_61lNEZr"
      },
      "execution_count": 57,
      "outputs": []
    },
    {
      "cell_type": "code",
      "source": [
        "# Example usage\n",
        "input_text = \"How does pregnancy affect memory?\"\n",
        "\n",
        "baseline_response = baseline_generate_response(input_text)\n",
        "fine_tuned_response = fine_tuned_generate_response(input_text)\n",
        "\n",
        "print(\"Baseline Response:\", baseline_response)\n",
        "print(\"Fine-Tuned Response:\", fine_tuned_response)"
      ],
      "metadata": {
        "colab": {
          "base_uri": "https://localhost:8080/"
        },
        "id": "vRhI9UgsOR4y",
        "outputId": "de5a3872-ddf3-4292-8f73-37db7ad0173d"
      },
      "execution_count": 60,
      "outputs": [
        {
          "output_type": "stream",
          "name": "stdout",
          "text": [
            "Baseline Response: How does pregnancy affect memory?\n",
            "\n",
            "The brain is a complex system that is composed of many different parts. The brain is the brain that processes information. The brain is the brain that processes information. The brain is the brain that processes information. The brain is the brain that processes information.\n",
            "\n",
            "The brain is the brain that processes information. The brain is the brain that processes information.\n",
            "\n",
            "\n",
            "The brain is the brain that processes information. The brain is the brain that processes information.\n",
            "\n",
            "Fine-Tuned Response: How does pregnancy affect memory?\n",
            "\n",
            "The study found that women who had a history of having a miscarriage had a higher rate of memory impairment than women who had never had a miscarriage.\n",
            "\n",
            "\"We found that women who had a history of having a miscarriage had a higher rate of memory impairment than women who had never had a miscarriage,\" said study co-author Dr. Susanne K. Koehler, a professor of psychology at the University of California, San Francisco.\n",
            "\n",
            "\"We\n"
          ]
        }
      ]
    },
    {
      "cell_type": "code",
      "source": [
        "# Compare the responses\n",
        "print(\"Are the responses the same?\")\n",
        "print(baseline_response == fine_tuned_response)"
      ],
      "metadata": {
        "colab": {
          "base_uri": "https://localhost:8080/"
        },
        "id": "_3VG8iKyOSjq",
        "outputId": "43cdfba5-c822-4521-a810-3b5795a5144a"
      },
      "execution_count": 59,
      "outputs": [
        {
          "output_type": "stream",
          "name": "stdout",
          "text": [
            "Are the responses the same?\n",
            "False\n"
          ]
        }
      ]
    },
    {
      "cell_type": "markdown",
      "source": [
        "#Deployment: Chatbox Development: Define the Streamlit app interface and functionality"
      ],
      "metadata": {
        "id": "S8n4cmqSbzeT"
      }
    },
    {
      "cell_type": "code",
      "source": [
        "# Chatbox interface\n",
        "st.title(\"Memory Support Chatbox for Pregnant Women\")\n",
        "user_input = st.text_input(\"You:\", \"Enter your message here...\")\n",
        "if user_input:\n",
        "    input_ids = tokenizer.encode(user_input, return_tensors='pt')\n",
        "    reply_ids = model.generate(input_ids, max_length=100, pad_token_id=tokenizer.eos_token_id)\n",
        "    reply_text = tokenizer.decode(reply_ids[0], skip_special_tokens=True)\n",
        "    st.text_area(\"Chatbot:\", value=reply_text, height=200)\n",
        "\n",
        "\n",
        "# Text Analysis\n",
        "st.subheader(\"Text Analysis\")\n",
        "\n",
        "# Word Cloud\n",
        "st.subheader(\"Word Cloud\")\n",
        "all_text = \" \".join(df[\"cleaned_text\"])\n",
        "wordcloud = WordCloud(width=800, height=400, background_color=\"white\").generate(all_text)\n",
        "plt.figure(figsize=(10, 5))\n",
        "plt.imshow(wordcloud, interpolation=\"bilinear\")\n",
        "plt.axis(\"off\")\n",
        "st.pyplot()"
      ],
      "metadata": {
        "id": "rshA9lCTOKWn",
        "colab": {
          "base_uri": "https://localhost:8080/",
          "height": 136
        },
        "outputId": "b3302213-1a4b-419c-c00b-1fe012b41c4a"
      },
      "execution_count": 61,
      "outputs": [
        {
          "output_type": "stream",
          "name": "stderr",
          "text": [
            "2024-03-07 02:37:58.714 \n",
            "  \u001b[33m\u001b[1mWarning:\u001b[0m to view this Streamlit app on a browser, run it with the following\n",
            "  command:\n",
            "\n",
            "    streamlit run /usr/local/lib/python3.10/dist-packages/colab_kernel_launcher.py [ARGUMENTS]\n"
          ]
        },
        {
          "output_type": "execute_result",
          "data": {
            "text/plain": [
              "DeltaGenerator()"
            ]
          },
          "metadata": {},
          "execution_count": 61
        },
        {
          "output_type": "display_data",
          "data": {
            "text/plain": [
              "<Figure size 1000x500 with 0 Axes>"
            ]
          },
          "metadata": {}
        }
      ]
    },
    {
      "cell_type": "markdown",
      "source": [
        "#Model Evaluation"
      ],
      "metadata": {
        "id": "5vlLKAMiO1Ti"
      }
    },
    {
      "cell_type": "code",
      "source": [
        " #Generate sample responses from the model to ensure it provides relevant and coherent advice\n",
        "\n",
        "# Sample prompts\n",
        "sample_prompts = [\n",
        "    \"What causes pregnancy brain fog?\",\n",
        "    \"How does pregnancy affect the brain?\",\n",
        "    \"How can I improve my memory during pregnancy?\",\n",
        "    \"Can pregnancy brain fog affect my ability to work or perform daily tasks?\",\n",
        "]\n",
        "\n",
        "# Generate responses\n",
        "for prompt in sample_prompts:\n",
        "    input_ids = tokenizer.encode(prompt, return_tensors='pt')\n",
        "    output = model.generate(input_ids, max_length=100, num_return_sequences=1, pad_token_id=tokenizer.eos_token_id, attention_mask=input_ids.ne(tokenizer.eos_token_id))\n",
        "    response = tokenizer.decode(output[0], skip_special_tokens=True)\n",
        "    print(\"Response:\", response)"
      ],
      "metadata": {
        "colab": {
          "base_uri": "https://localhost:8080/"
        },
        "id": "cVAoghQVPhhO",
        "outputId": "e9e3bfb9-68d6-4746-945d-e368e3ec5fc9"
      },
      "execution_count": 62,
      "outputs": [
        {
          "output_type": "stream",
          "name": "stdout",
          "text": [
            "Response: What causes pregnancy brain fog?\n",
            "\n",
            "The brain fog is a phenomenon that occurs when the brain is exposed to a lot of light. The brain fog is caused by the brain fog, which is a phenomenon that occurs when the brain is exposed to a lot of light.\n",
            "\n",
            "The brain fog is caused by the brain fog.\n",
            "\n",
            "The brain fog is caused by the brain fog.\n",
            "\n",
            "The brain fog is caused by the brain fog.\n",
            "\n",
            "The brain fog is caused by the brain\n",
            "Response: How does pregnancy affect the brain?\n",
            "\n",
            "\n",
            "The brain is a part of the brain that processes information. The brain is the brain's place where the information is stored. It is where the information is stored. The brain is the place where the information is stored.\n",
            "\n",
            "The brain is the place where the information is stored. The brain is the place where the information is stored.\n",
            "\n",
            "The brain is the place where the information is stored.\n",
            "\n",
            "The brain is the place where the\n",
            "Response: How can I improve my memory during pregnancy?\n",
            "\n",
            "You can improve your memory during pregnancy by using the following steps:\n",
            "\n",
            "1. Open your memory and memory for a few minutes.\n",
            "\n",
            "2. Open your memory for a few minutes.\n",
            "\n",
            "3. Open your memory for a few minutes.\n",
            "4. Open your memory for a few minutes.\n",
            "\n",
            "5. Open your memory for a few minutes.\n",
            "\n",
            "6. Open your memory for a few minutes.\n",
            "\n",
            "7\n",
            "Response: Can pregnancy brain fog affect my ability to work or perform daily tasks?\n",
            "\n",
            "I am a woman and I am a woman. I am a woman. I am a woman. I am a woman. I am a woman. I am a woman. I am a woman. I am a woman. I am a woman. I am a woman. I am a woman. I am a woman. I am a woman. I am a a a a a a a a a a a a\n"
          ]
        }
      ]
    },
    {
      "cell_type": "markdown",
      "source": [
        "##Visualization of Model Responses to Sample Prompts"
      ],
      "metadata": {
        "id": "E87i3w3udLyn"
      }
    },
    {
      "cell_type": "markdown",
      "source": [
        "Can help one  understand the nature of the responses generated by the language model and\n",
        "identify common patterns or topics across the responses"
      ],
      "metadata": {
        "id": "V3AFYY3_dPwd"
      }
    },
    {
      "cell_type": "code",
      "source": [
        "#Sample prompts\n",
        "sample_prompts = [\n",
        "    \"What causes pregnancy brain fog?\",\n",
        "    \"How does pregnancy affect the brain?\",\n",
        "    \"How can I improve my memory during pregnancy?\",\n",
        "    \"Can pregnancy brain fog affect my ability to work or perform daily tasks?\",\n",
        "]\n",
        "\n",
        "# Generate responses from the model\n",
        "data = []\n",
        "for prompt in sample_prompts:\n",
        "    input_ids = tokenizer.encode(prompt, return_tensors='pt')\n",
        "    output = model.generate(input_ids, max_length=100, num_return_sequences=1, pad_token_id=tokenizer.eos_token_id, attention_mask=input_ids.ne(tokenizer.eos_token_id))\n",
        "    response = tokenizer.decode(output[0], skip_special_tokens=True)\n",
        "    data.append({\"prompt\": prompt, \"response\": response})\n",
        "\n",
        "# Create a DataFrame from the generated responses\n",
        "df = pd.DataFrame(data)\n",
        "\n",
        "# Display the DataFrame\n",
        "print(df)\n",
        "\n",
        "# Use the generated responses for visualization\n",
        "# For example, you can create a pie chart based on the responses\n",
        "# Pie chart\n",
        "plt.figure(figsize=(8, 8))\n",
        "plt.pie([len(response.split()) for response in df['response']], labels=df['prompt'], autopct='%1.1f%%', startangle=90)\n",
        "plt.title('Distribution of response lengths for sample prompts')\n",
        "plt.axis('equal')\n",
        "plt.show()\n"
      ],
      "metadata": {
        "colab": {
          "base_uri": "https://localhost:8080/",
          "height": 652
        },
        "id": "5r6yflh4bWeh",
        "outputId": "c0dda599-4494-42d6-da79-4bf00b275f1b"
      },
      "execution_count": 63,
      "outputs": [
        {
          "output_type": "stream",
          "name": "stdout",
          "text": [
            "                                              prompt  \\\n",
            "0                   What causes pregnancy brain fog?   \n",
            "1               How does pregnancy affect the brain?   \n",
            "2      How can I improve my memory during pregnancy?   \n",
            "3  Can pregnancy brain fog affect my ability to w...   \n",
            "\n",
            "                                            response  \n",
            "0  What causes pregnancy brain fog?\\n\\n\\nThe brai...  \n",
            "1  How does pregnancy affect the brain?\\n\\nThe br...  \n",
            "2  How can I improve my memory during pregnancy?\\...  \n",
            "3  Can pregnancy brain fog affect my ability to w...  \n"
          ]
        },
        {
          "output_type": "display_data",
          "data": {
            "text/plain": [
              "<Figure size 800x800 with 1 Axes>"
            ],
            "image/png": "[encoded data removed]"
          },
          "metadata": {}
        }
      ]
    }
  ]
}